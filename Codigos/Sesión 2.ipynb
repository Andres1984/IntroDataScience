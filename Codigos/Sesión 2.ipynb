{
 "cells": [
  {
   "cell_type": "markdown",
   "id": "bc23b58c",
   "metadata": {
    "ExecuteTime": {
     "end_time": "2021-11-09T20:16:03.708359Z",
     "start_time": "2021-11-09T20:16:03.379308Z"
    },
    "cell_id": "f2f4ee2c-45c6-4980-abda-1ce8b32ee7d5",
    "deepnote_cell_height": 46,
    "deepnote_cell_type": "markdown",
    "deletable": false,
    "scrolled": false
   },
   "source": [
    "<img src=\"https://upload.wikimedia.org/wikipedia/commons/f/ff/Uexternado.jpg\" width=\"240\" height=\"240\" align=\"right\"/>"
   ]
  },
  {
   "cell_type": "markdown",
   "id": "ac2dca46",
   "metadata": {
    "cell_id": "00001-004a2ea2-5181-410b-8dab-50ec92509884",
    "deepnote_cell_height": 183.609375,
    "deepnote_cell_type": "markdown"
   },
   "source": [
    "<center><h1>  Estadística Básica con Python.</header1></centre><br>"
   ]
  },
  {
   "cell_type": "markdown",
   "id": "b764c56d",
   "metadata": {
    "caption": "somecaption",
    "cell_id": "00002-6148e226-7966-40c2-ad81-2904796fa856",
    "deepnote_cell_height": 95,
    "deepnote_cell_type": "markdown",
    "deletable": false,
    "label": "fig:somelabel",
    "widefigure": true
   },
   "source": [
    "<left><h1>Sesión 2. Matrices y DataFrames</header1></centre><br>"
   ]
  },
  {
   "cell_type": "markdown",
   "id": "324c5430",
   "metadata": {
    "caption": "somecaption",
    "cell_id": "00003-60506e34-30c0-4f08-b0c2-2cd0855ecc92",
    "deepnote_cell_height": 95,
    "deepnote_cell_type": "markdown",
    "deletable": false,
    "label": "fig:somelabel",
    "widefigure": true
   },
   "source": [
    "Andrés Martínez <br>\n",
    "Mayo de 2024"
   ]
  },
  {
   "cell_type": "markdown",
   "id": "7a3f023c",
   "metadata": {
    "cell_id": "00004-1df802f3-773b-45e3-8bf7-83021a7ccc6e",
    "deepnote_cell_height": 143,
    "deepnote_cell_type": "markdown"
   },
   "source": [
    "1. Listas. Estadísticas descriptiva.\n",
    "2. Matrices\n",
    "3. DataFrames\n",
    "4. Fuentes de información: Conjuntos de datos de acceso abierto. Carga, lectura y escritura de datos. (Próxima sesión)\n",
    " \n"
   ]
  },
  {
   "cell_type": "markdown",
   "id": "f4199e1a",
   "metadata": {
    "caption": "somecaption",
    "cell_id": "00005-cb081ef0-db98-4061-9068-9025a322f1f4",
    "deepnote_cell_height": 70,
    "deepnote_cell_type": "markdown",
    "deletable": false,
    "label": "fig:somelabel",
    "widefigure": true
   },
   "source": [
    "## Listas. Estadísticas descriptiva"
   ]
  },
  {
   "cell_type": "code",
   "execution_count": null,
   "id": "e8f1986b",
   "metadata": {
    "ExecuteTime": {
     "end_time": "2022-09-11T13:15:51.272387Z",
     "start_time": "2022-09-11T13:15:51.254391Z"
    },
    "cell_id": "00006-7dc4f5e2-6484-4adb-bcc7-fbf318469032",
    "deepnote_cell_height": 79,
    "deepnote_cell_type": "code"
   },
   "outputs": [],
   "source": [
    "A=[(x, y) for x in [1,2,3] for y in [3,1,4] if x != y]\n",
    "A"
   ]
  },
  {
   "cell_type": "code",
   "execution_count": null,
   "id": "88fb6984",
   "metadata": {
    "ExecuteTime": {
     "end_time": "2022-09-11T13:17:14.154604Z",
     "start_time": "2022-09-11T13:17:14.142606Z"
    },
    "cell_id": "00007-026d32a3-ef33-471d-b6bb-01cb7bc2a27e",
    "deepnote_cell_height": 79,
    "deepnote_cell_type": "code"
   },
   "outputs": [],
   "source": [
    "vec = [-4, -2, 0, 2, 4]\n",
    "print([x*2 for x in vec],[x for x in vec if x >= 0],[abs(x) for x in vec])"
   ]
  },
  {
   "cell_type": "code",
   "execution_count": null,
   "id": "53390eee",
   "metadata": {
    "ExecuteTime": {
     "end_time": "2022-09-11T13:20:43.211174Z",
     "start_time": "2022-09-11T13:20:43.190176Z"
    },
    "cell_id": "00008-0c558c67-9be6-4135-b5fc-da87b76d3f4b",
    "deepnote_cell_height": 150,
    "deepnote_cell_type": "code"
   },
   "outputs": [],
   "source": [
    "#https://www.w3schools.com/PYTHON/module_random.asp\n",
    "import random\n",
    "random.seed(1)\n",
    "#Generate 5 random numbers between 10 and 29\n",
    "randomlist = random.sample(range(10, 30), 5)\n",
    "randomlist"
   ]
  },
  {
   "cell_type": "code",
   "execution_count": null,
   "id": "7be68c1b",
   "metadata": {
    "ExecuteTime": {
     "end_time": "2022-09-11T13:33:14.419497Z",
     "start_time": "2022-09-11T13:33:14.138500Z"
    },
    "cell_id": "00009-69ea8e58-1ff7-407e-abd2-0ec264ae0de9",
    "deepnote_cell_height": 295,
    "deepnote_cell_type": "code"
   },
   "outputs": [],
   "source": [
    "import random \n",
    "import matplotlib.pyplot as plt \n",
    "nums = [] \n",
    "miu = 100\n",
    "sigma = 50\n",
    "    \n",
    "for i in range(100): \n",
    "    temp = random.gauss(miu, sigma)\n",
    "    nums.append(temp) \n",
    "\n",
    "plt.plot(nums) \n",
    "print(nums)\n",
    "plt.show() \n"
   ]
  },
  {
   "cell_type": "code",
   "execution_count": null,
   "id": "ebe78028",
   "metadata": {
    "ExecuteTime": {
     "end_time": "2022-09-11T13:35:24.410426Z",
     "start_time": "2022-09-11T13:35:23.293277Z"
    },
    "cell_id": "00010-43704e4f-1daa-4d20-82f6-c6643b9ba39d",
    "deepnote_cell_height": 276.6875,
    "deepnote_cell_type": "code"
   },
   "outputs": [],
   "source": [
    "import random \n",
    "import matplotlib.pyplot as plt \n",
    "nums = [] \n",
    "mu = 100\n",
    "sigma = 50\n",
    "    \n",
    "for i in range(10000): \n",
    "    temp = random.gauss(mu, sigma) \n",
    "    nums.append(temp) \n",
    "        \n",
    "# plotting a graph \n",
    "plt.hist(nums, bins = 200) \n",
    "plt.show()"
   ]
  },
  {
   "cell_type": "markdown",
   "id": "7e777cbb",
   "metadata": {
    "cell_id": "00011-4d2f430c-d3e4-47d5-98a5-a48b70b122ce",
    "deepnote_cell_height": 242.203125,
    "deepnote_cell_type": "markdown"
   },
   "source": [
    "### Medidas de tendencia central, dispersión y posición\n",
    "\n",
    "+ **Tendencia central y posición**\n",
    "\n",
    "+ **Dispersión**\n"
   ]
  },
  {
   "cell_type": "code",
   "execution_count": null,
   "id": "851139e2",
   "metadata": {
    "ExecuteTime": {
     "end_time": "2022-09-11T13:40:38.064712Z",
     "start_time": "2022-09-11T13:40:38.033713Z"
    },
    "cell_id": "00012-2a04c17c-5c8c-4c41-90ee-ab64105bd5ea",
    "deepnote_cell_height": 276.6875,
    "deepnote_cell_type": "code"
   },
   "outputs": [],
   "source": [
    "#Ejemplo\n",
    "random.seed(1)\n",
    "X = random.sample(range(10, 30), 10)\n",
    "\n",
    "Z = [] \n",
    "for i in range(10): \n",
    "    temp = random.gauss(0,1) \n",
    "    Z.append(temp) \n",
    "\n",
    "Y=list(2*x+z for x, z in list(zip(X, Z)))\n",
    "\n",
    "print(X,'\\n',Z,'\\n',Y)\n"
   ]
  },
  {
   "cell_type": "code",
   "execution_count": null,
   "id": "5ff2c2d6",
   "metadata": {
    "ExecuteTime": {
     "end_time": "2022-09-11T13:46:13.219068Z",
     "start_time": "2022-09-11T13:46:13.200063Z"
    },
    "cell_id": "00013-86c16d6d-dd9f-4e5b-a371-ab97c55b46e3",
    "deepnote_cell_height": 132.703125,
    "deepnote_cell_type": "code"
   },
   "outputs": [],
   "source": [
    "import statistics as stat # https://docs.python.org/3/library/statistics.html\n",
    "print(\"Esta es la media de X: \",stat.mean(X),end='\\n')\n",
    "print(\"Esta es la desviación de X: \",stat.stdev(X),end='\\n')\n",
    "print(\"Esta es la mediana de X: \",stat.median(X),end='\\n')\n",
    "print(\"Estos son los cuartiles de X: \",stat.quantiles(X,n=4,method='inclusive'),end='\\n')"
   ]
  },
  {
   "cell_type": "code",
   "execution_count": null,
   "id": "3364ccba",
   "metadata": {
    "cell_id": "00014-2bcefa81-7e23-45f5-9472-f7e6647eab01",
    "deepnote_cell_height": 60.6875,
    "deepnote_cell_type": "code"
   },
   "outputs": [],
   "source": []
  },
  {
   "cell_type": "markdown",
   "id": "71eb0772",
   "metadata": {
    "cell_id": "00015-b7e17de2-68c6-4399-bbfd-97c73f59f584",
    "deepnote_cell_height": 376.203125,
    "deepnote_cell_type": "markdown"
   },
   "source": [
    "## Matrices con Numpy\n",
    "\n",
    "NumPy es un módulo que podemos instalar en Python y está orientado a librerías científicas. Es un paquete adecuado para cálculos numéricos eficientes y que permite manejar estructuras de datos tales como arrays multidimensionales homogéneos (Ej. matrices). Esta librería es la base de muchas de las librerías de análisis de datos y científicas que existen en Python.\n",
    "\n",
    "\n",
    "\n",
    "Llamamos NumPy con: \n",
    "\n",
    "```Python\n",
    " import numpy as np \n",
    "```\n",
    "\n",
    "Comenzaremos viendo la estructura más básica que existe dentro de numpy, los *arrays* de numpy. Esta estructura de datos es una secuencia de valores, los cuales tienen asignada una posición. Son muy parecidos a las listas de Python, pero los arrays son más rápidos y existen muchos cálculos que podemos hacer sobre todos los valores de un array de forma más rápida que con las listas en Python."
   ]
  },
  {
   "cell_type": "code",
   "execution_count": null,
   "id": "9b6c11c6",
   "metadata": {
    "ExecuteTime": {
     "end_time": "2022-09-11T14:21:12.230723Z",
     "start_time": "2022-09-11T14:21:12.196696Z"
    },
    "cell_id": "00016-cabb214a-74bb-4cf4-bcae-a65767d27308",
    "deepnote_cell_height": 240.6875,
    "deepnote_cell_type": "code"
   },
   "outputs": [],
   "source": [
    "# Creación de arrays a partir de listas:\n",
    "\n",
    "import numpy as np\n",
    "\n",
    "a = np.array([[1., 2., 3.], \n",
    "              [4., 5., 6.]\n",
    "             ])\n",
    "\n",
    "print(\"a = \", a)\n",
    "\n",
    "print(a.ndim, a.shape, a.dtype)    # dimensión, forma y tipo de los elementos"
   ]
  },
  {
   "cell_type": "code",
   "execution_count": null,
   "id": "cb25a599",
   "metadata": {
    "ExecuteTime": {
     "end_time": "2022-09-11T03:19:40.094429Z",
     "start_time": "2022-09-11T03:19:40.079430Z"
    },
    "cell_id": "00017-4b200111-deb0-4fa8-ab12-0f92671df581",
    "deepnote_cell_height": 115,
    "deepnote_cell_type": "code"
   },
   "outputs": [],
   "source": [
    "# Creación de arrays a partir de listas. Ahora forzamos el tipo de los elementos:\n",
    "\n",
    "b = np.array([[1, 2], [3, 4]], dtype=complex)\n",
    "print(b, b.dtype)"
   ]
  },
  {
   "cell_type": "code",
   "execution_count": null,
   "id": "e071733b",
   "metadata": {
    "ExecuteTime": {
     "end_time": "2022-09-11T14:28:15.000560Z",
     "start_time": "2022-09-11T14:28:14.965560Z"
    },
    "cell_id": "00018-78d1855c-beae-4ab1-bd06-d8e2330e1be8",
    "deepnote_cell_height": 403,
    "deepnote_cell_type": "code"
   },
   "outputs": [],
   "source": [
    "#Arrays grandes, definidos por rangos\n",
    "a = np.arange(12)\n",
    "print(\"a = \", a)\n",
    "b = a.reshape(3, 4)\n",
    "print(\"b = \", b)\n",
    "print(type(a), type(b))\n",
    "\n",
    "print(\"núm. de dimensiones (ejes) de a: \", a.ndim)\n",
    "print(\"núm. de dimensiones (ejes) de b: \", b.ndim)\n",
    "\n",
    "print(\"dimensiones de a: \", a.shape)\n",
    "print(\"dimensiones de b: \", b.shape)\n",
    "\n",
    "print(\"Tipo de los elementos de a: \", a.dtype.name)\n",
    "print(\"Tipo de los elementos de b: \", b.dtype.name)\n",
    "\n",
    "print(\"Número total de elementos de a: \", a.size)   # igual al producto de sus dimensiones\n",
    "print(\"Número total de elementos de b: \", b.size)\n",
    "\n",
    "print(np.arange(10000))                             # Cuando es muy largo, se abrevia automáticamente"
   ]
  },
  {
   "cell_type": "code",
   "execution_count": null,
   "id": "188ead9b",
   "metadata": {
    "ExecuteTime": {
     "end_time": "2022-09-11T14:31:08.973445Z",
     "start_time": "2022-09-11T14:31:08.954452Z"
    },
    "cell_id": "00019-400a9019-c1d2-447a-b95e-c809cf4d1869",
    "deepnote_cell_height": 330.6875,
    "deepnote_cell_type": "code"
   },
   "outputs": [],
   "source": [
    "#Creación de algunos arrays útiles\n",
    "# Todo ceros:\n",
    "b = np.zeros((3, 4))\n",
    "print(\"b = \", b)\n",
    "\n",
    "# Todo unos:\n",
    "c = np.ones((2, 3, 4), dtype=np.int16)   # El tipo también puede especificarse\n",
    "print(\"c = \", c)\n",
    "\n",
    "# Array vacío:\n",
    "d = np.empty( (2,3) )                    # Sin valores iniciales\n",
    "print(\"d = \", d)\n",
    "\n",
    "# Con elementos elegidos aleatoriamente:\n",
    "e = np.random.random((2,3))\n",
    "print(\"e = \", e)"
   ]
  },
  {
   "cell_type": "code",
   "execution_count": null,
   "id": "25774184",
   "metadata": {
    "ExecuteTime": {
     "end_time": "2022-09-11T03:25:40.203725Z",
     "start_time": "2022-09-11T03:25:40.186728Z"
    },
    "cell_id": "00020-8aab8ff5-0df4-4b50-ae5a-b79ce1cdac24",
    "deepnote_cell_height": 241,
    "deepnote_cell_type": "code"
   },
   "outputs": [],
   "source": [
    "# Secuencias de valores:\n",
    "f = np.arange( 10, 50, 5)\n",
    "print(\"f = \", f)\n",
    "\n",
    "# Secuencias, interpolando linealmente\n",
    "g = np.linspace( 0, 2, 5) \n",
    "print(\"g = \", g)\n",
    "\n",
    "from numpy import pi\n",
    "h = np.linspace(0, 2*pi, 50)\n",
    "print(h)"
   ]
  },
  {
   "cell_type": "markdown",
   "id": "d95f409b",
   "metadata": {
    "cell_id": "00021-ecd26e3a-6b32-46a1-87a6-72c9f37fd612",
    "deepnote_cell_height": 61,
    "deepnote_cell_type": "markdown"
   },
   "source": [
    "### Operaciones aritméticas básicas"
   ]
  },
  {
   "cell_type": "code",
   "execution_count": null,
   "id": "8a6b23ac",
   "metadata": {
    "ExecuteTime": {
     "end_time": "2022-09-11T14:36:15.997206Z",
     "start_time": "2022-09-11T14:36:15.980202Z"
    },
    "cell_id": "00022-21796813-2f55-4b15-9bd4-4cc49689881a",
    "deepnote_cell_height": 241,
    "deepnote_cell_type": "code"
   },
   "outputs": [],
   "source": [
    "a = np.array([[1, 2, 3], [4, 5, 6]])\n",
    "print(a)\n",
    "print(a+1)\n",
    "print(a**2)\n",
    "print(np.sin(a))\n",
    "print(a<4)\n",
    "\n",
    "b = np.array([[2, 2, 2], [3, 3, 3]])\n",
    "print(a+b)\n",
    "print(a-b)\n",
    "print(a*b) # OJO: elemento a elemento"
   ]
  },
  {
   "cell_type": "code",
   "execution_count": null,
   "id": "bbf65021",
   "metadata": {
    "ExecuteTime": {
     "end_time": "2022-09-11T14:37:11.444730Z",
     "start_time": "2022-09-11T14:37:11.433730Z"
    },
    "cell_id": "00023-137c2c2a-dc5d-487b-baea-4783d8603aff",
    "deepnote_cell_height": 150,
    "deepnote_cell_type": "code"
   },
   "outputs": [],
   "source": [
    "a = np.array([[1, 2, 3], [4, 5, 6]])\n",
    "print(a)\n",
    "\n",
    "print(a.sum(), a.prod(), a.min(), a.max())\n",
    "print(a.sum(axis=0), a.sum(axis=1))\n",
    "print(a.cumsum(axis=1))  #sumas acumuladas "
   ]
  },
  {
   "cell_type": "code",
   "execution_count": null,
   "id": "7b8d10c2",
   "metadata": {
    "ExecuteTime": {
     "end_time": "2022-09-11T03:34:05.952017Z",
     "start_time": "2022-09-11T03:34:05.939031Z"
    },
    "cell_id": "00024-1bdb7549-8a84-4b8f-91c9-d921cb18206f",
    "deepnote_cell_height": 223,
    "deepnote_cell_type": "code"
   },
   "outputs": [],
   "source": [
    "# Operaciones matemáticas con vectores:\n",
    "\n",
    "u = [1, 2, 3]\n",
    "v = [4, 5, 6]\n",
    "\n",
    "# Producto interior o escalar:\n",
    "print(\"u . v = \", np.inner(u, v))\n",
    "\n",
    "# Producto vectorial o producto cruzado:\n",
    "print(\"u x v = \", np.cross(u, v))"
   ]
  },
  {
   "cell_type": "markdown",
   "id": "9935f7ff",
   "metadata": {
    "cell_id": "00025-e160f420-267d-4cd1-878e-18a76cdc8fcf",
    "deepnote_cell_height": 61,
    "deepnote_cell_type": "markdown"
   },
   "source": [
    "### Operaciones básicas con matrices"
   ]
  },
  {
   "cell_type": "code",
   "execution_count": null,
   "id": "00d21cd2",
   "metadata": {
    "ExecuteTime": {
     "end_time": "2022-09-11T04:06:31.203892Z",
     "start_time": "2022-09-11T04:06:31.187855Z"
    },
    "cell_id": "00026-186ca03f-4e7a-4976-9e90-be7da7f03dba",
    "deepnote_cell_height": 475,
    "deepnote_cell_type": "code"
   },
   "outputs": [],
   "source": [
    "a = np.array([[2, 1, 3], [4, 5, 6], [9,7,8]])\n",
    "b = np.array([[10, 20], [30, 40], [50, 60]])\n",
    "print(a)\n",
    "print(a.T)\n",
    "print(np.linalg.inv(a))\n",
    "print(np.linalg.det(a))\n",
    "print(b)\n",
    "\n",
    "# Producto de matrices:\n",
    "\n",
    "print(a@b)\n",
    "print(a.dot(b))\n",
    "\n",
    "# Producto \"escalar\" de matrices:\n",
    "a = np.array([[1, 2], [3, 4]])\n",
    "b = np.array([[5, 6], [7, 8]])\n",
    "print(np.vdot(a, b))    # 1*5  +  2*6  +  3*7  +  4*8\n",
    "\n",
    "\n",
    "# Matriz unidad-idéntica:\n",
    "u = np.eye(2)                            # unit 2x2 matrix; \"eye\" represents \"I\"\n",
    "print(u)\n",
    "\n",
    "print(np.trace(u))                       # trace = suma de la diagonal principal"
   ]
  },
  {
   "cell_type": "markdown",
   "id": "3777301b",
   "metadata": {
    "cell_id": "00027-4ce72fe2-3f62-4237-ba4b-d6ce6dad17c0",
    "deepnote_cell_height": 204.46875,
    "deepnote_cell_type": "markdown"
   },
   "source": [
    "### Ejemplo de regresión [source]( https://tidypython.com/linear-regression-python-numpy-implementation)\n",
    "\n"
   ]
  },
  {
   "cell_type": "code",
   "execution_count": null,
   "id": "014c0e53",
   "metadata": {
    "ExecuteTime": {
     "end_time": "2022-09-11T14:46:31.292536Z",
     "start_time": "2022-09-11T14:46:31.261535Z"
    },
    "cell_id": "00028-5acf4ad3-146d-4a15-9159-d11cb61fe9dd",
    "deepnote_cell_height": 168.6875,
    "deepnote_cell_type": "code"
   },
   "outputs": [],
   "source": [
    "import numpy as np\n",
    "X_rawdata = np.array([np.ones(6),[5,6,7,8,9,10], [7,5,4,6,3,3]])\n",
    "X_matrix=X_rawdata.T\n",
    "print(\"X Matrix:\\n\", X_matrix)\n",
    "Y_rawdata = np.array([[7,6,5,5,3,4]])\n",
    "Y_vector=Y_rawdata.T\n",
    "print(\"Y Vector:\\n\",Y_vector)"
   ]
  },
  {
   "cell_type": "code",
   "execution_count": null,
   "id": "eb210bc8",
   "metadata": {
    "ExecuteTime": {
     "end_time": "2022-09-11T03:59:02.061811Z",
     "start_time": "2022-09-11T03:59:02.045777Z"
    },
    "cell_id": "00029-c5148e05-8061-440e-a779-51d27e03de6e",
    "deepnote_cell_height": 223,
    "deepnote_cell_type": "code"
   },
   "outputs": [],
   "source": [
    "# calculates X^T \n",
    "X_matrix_T=X_matrix.T #también transpose()\n",
    "print(\"X Matrix Transpose:\\n\",X_matrix_T)\n",
    "# calculates X^T X \n",
    "X_T_X=np.matmul(X_matrix_T,X_matrix)\n",
    "print(X_T_X)\n",
    "X_T_X_Inv=np.linalg.inv(X_T_X) \n",
    "print(X_T_X_Inv)\n",
    "# calculates (X^T X)^(-1) X^T Y \n",
    "X_T_X_Inv@X_matrix_T@Y_vector"
   ]
  },
  {
   "cell_type": "code",
   "execution_count": null,
   "id": "24ecc810",
   "metadata": {
    "ExecuteTime": {
     "end_time": "2022-09-11T14:49:50.435523Z",
     "start_time": "2022-09-11T14:49:50.413997Z"
    },
    "cell_id": "00030-747d76e6-2a92-4c8f-8092-53850cff3b00",
    "deepnote_cell_height": 97,
    "deepnote_cell_type": "code"
   },
   "outputs": [],
   "source": [
    "# Use numpy.linalg.lstsq to verify \n",
    "results=np.linalg.lstsq(X_matrix, Y_vector, rcond=None)[0]\n",
    "print(results)"
   ]
  },
  {
   "cell_type": "markdown",
   "id": "8d8e201f",
   "metadata": {
    "cell_id": "00031-78b96c3b-b538-416e-8a23-94cad5d7ac85",
    "deepnote_cell_height": 99,
    "deepnote_cell_type": "markdown"
   },
   "source": [
    "### Estadística descriptiva\n",
    "Funciones típicas: media, varianza, covarianza, desviación típica."
   ]
  },
  {
   "cell_type": "code",
   "execution_count": null,
   "id": "9ca39762",
   "metadata": {
    "ExecuteTime": {
     "end_time": "2022-09-11T14:52:27.115780Z",
     "start_time": "2022-09-11T14:52:27.044779Z"
    },
    "cell_id": "00032-a028f5da-e49e-4a9e-8036-a76233e0123e",
    "deepnote_cell_height": 636.6875,
    "deepnote_cell_type": "code"
   },
   "outputs": [],
   "source": [
    "# Media:\n",
    "\n",
    "a = np.array([[1, 2], [3, 4]])\n",
    "\n",
    "print(a)\n",
    "print(\"Media de una matriz:\", np.mean(a))\n",
    "print(\"   ... por columnas: \", np.mean(a, axis=0))\n",
    "print(\"   ... por filas: \", np.mean(a, axis=1))\n",
    "print(\"... mdia ponderada: \", np.average([1, 2, 3, 4], weights=[0.1, 0.3, 5.2, 1.3]))\n",
    "\n",
    "# Mediana:\n",
    "print(\"Mediana de un vector: \", np.median(np.array([4, 2, 5, 3, 7, 6, 1, 9, 8, 2, 3, 4, 6, 1], float)))\n",
    "\n",
    "# Varianza:\n",
    "print(\"Varianza de una matriz: \", np.var(a))\n",
    "\n",
    "# Desviacón típica\n",
    "print(\"Desviación típica: \", np.std(a))\n",
    "\n",
    "# Matriz de covarianzas:\n",
    "x = [-2.1, -1,  4.3]\n",
    "y = [3,  1.1,  0.12]\n",
    "\n",
    "print(\"Matriz de covarianza de x e y: \", np.cov(x, y))\n",
    "print(\"Mattriz de correlación de x e y: \", np.corrcoef(x, y))\n",
    "\n",
    "xy = np.stack((x, y), axis=0) # Combinamos ambos vectores\n",
    "print(np.cov(xy))\n",
    "\n",
    "#principales estadísticos\n",
    "from scipy import stats\n",
    "print(stats.describe(a))\n",
    "print(stats.describe(x))"
   ]
  },
  {
   "cell_type": "code",
   "execution_count": null,
   "id": "5d4ef676",
   "metadata": {
    "ExecuteTime": {
     "end_time": "2022-09-11T04:52:01.539512Z",
     "start_time": "2022-09-11T04:52:01.374513Z"
    },
    "cell_id": "00033-e87871ad-fa62-4dfb-ba97-371ea2fb6ba6",
    "deepnote_cell_height": 263.6875,
    "deepnote_cell_type": "code"
   },
   "outputs": [],
   "source": [
    "import numpy as np\n",
    "import matplotlib.pyplot as plt\n",
    "\n",
    "# Construimos un vector de 10000 elementos, generados aleatoriamente siguiendo una distribución N(2, 0.5),\n",
    "# esto es, una distribución normal con media = 2 y desviación típica = 0.5.\n",
    "\n",
    "v = np.random.normal(2, 0.5, 10000)\n",
    "\n",
    "# Ahora trazamos el histograma normalized histogram with 50 bins\n",
    "\n",
    "plt.hist(v, bins=50)       # matplotlib version (plot)\n",
    "plt.show()"
   ]
  },
  {
   "cell_type": "code",
   "execution_count": null,
   "id": "e0136e5b",
   "metadata": {
    "ExecuteTime": {
     "end_time": "2022-09-11T04:48:10.538568Z",
     "start_time": "2022-09-11T04:48:10.398569Z"
    },
    "cell_id": "00034-3a81c001-4123-489a-a3f5-ce20b0f2b70b",
    "deepnote_cell_height": 258.6875,
    "deepnote_cell_type": "code"
   },
   "outputs": [],
   "source": [
    "from scipy.stats import linregress\n",
    "import matplotlib.pyplot as plt\n",
    "x = [-2.1, -1,  4.3]\n",
    "y = [3,  1.1,  0.12]\n",
    "reg =linregress(x, y)\n",
    "print(reg)\n",
    "print(f\"R-squared: {reg.rvalue**2:.6f}\")\n",
    "\n",
    "plt.plot(x, y, 'o', label='original data')\n",
    "plt.plot(x, reg.intercept + reg.slope*np.asarray(x), 'r', label='fitted line')\n",
    "plt.legend()\n",
    "plt.show()"
   ]
  },
  {
   "cell_type": "markdown",
   "id": "cc4c93ae",
   "metadata": {
    "ExecuteTime": {
     "end_time": "2022-09-11T04:03:32.186671Z",
     "start_time": "2022-09-11T04:03:32.174674Z"
    },
    "cell_id": "00035-c1ae737b-c0bc-4f9c-a25b-3daf82bc47f6",
    "deepnote_cell_height": 244,
    "deepnote_cell_type": "markdown"
   },
   "source": [
    "## DataFrames\n",
    "\n",
    "Un dataframe es una estructura bidimensional, con filas y columnas, esto es, una tabla de datos. El `DataFrame` es el tipo de datos esencial de la librería `pandas`. \n",
    "\n",
    "*Pandas* es otro módulo cuyo objetivo principal es la manipulación y el análisis de conjuntos datos en Python. Este módulo es una extensión del módulo que hemos visto anteriormente, numpy. \n",
    "\n",
    "Dentro de *Pandas*, las **series** son una estructura de datos de una dimensión, como las listas o los arrays en numpy. Lo que diferencia a las series es que el índice de cada elemento puede ser una etiqueta personalizada."
   ]
  },
  {
   "cell_type": "code",
   "execution_count": null,
   "id": "81f00c22",
   "metadata": {
    "ExecuteTime": {
     "end_time": "2022-09-11T05:14:06.317004Z",
     "start_time": "2022-09-11T05:14:06.305004Z"
    },
    "cell_id": "00036-da4c616b-609c-4138-a543-9d6b7c1afe3f",
    "deepnote_cell_height": 96.6875,
    "deepnote_cell_type": "code"
   },
   "outputs": [],
   "source": [
    "import pandas as pd\n",
    "serie=pd.Series([1,2,3,4], index=['a','b','c','d'] )\n",
    "serie"
   ]
  },
  {
   "cell_type": "code",
   "execution_count": null,
   "id": "9e89129f",
   "metadata": {
    "ExecuteTime": {
     "end_time": "2022-09-18T10:23:06.591868Z",
     "start_time": "2022-09-18T10:23:06.565869Z"
    },
    "cell_id": "00037-760d9629-40b5-41e5-84f8-aff6ae310cf1",
    "deepnote_cell_height": 514.109375,
    "deepnote_cell_type": "code"
   },
   "outputs": [
    {
     "name": "stdout",
     "output_type": "stream",
     "text": [
      "serie1:\n",
      "a    1\n",
      "b    2\n",
      "c    3\n",
      "d    4\n",
      "dtype: int32\n",
      "serie2:\n",
      "a    1\n",
      "b    2\n",
      "c    3\n",
      "d    4\n",
      "dtype: int64\n"
     ]
    }
   ],
   "source": [
    "#se puede crear desde un numpy array o un diccionario\n",
    "import numpy as np\n",
    "import pandas as pd\n",
    "serie1=pd.Series(np.array([1,2,3,4]), index=['a','b','c','d'] )\n",
    "#print(f\"Serie 1:\\n {serie1}\")\n",
    "print(\"serie1:\")\n",
    "print(serie1)\n",
    "\n",
    "dict={'a':1,'b':2,'c':3,'d':4}\n",
    "serie2=pd.Series(dict)\n",
    "print(\"serie2:\")\n",
    "print(serie2)"
   ]
  },
  {
   "cell_type": "code",
   "execution_count": null,
   "id": "3910b517",
   "metadata": {
    "ExecuteTime": {
     "end_time": "2022-09-18T10:26:47.294059Z",
     "start_time": "2022-09-18T10:26:47.284022Z"
    },
    "cell_id": "00038-4af39579-eb83-4317-bc36-ffc2196d2c7b",
    "deepnote_cell_height": 271.0625,
    "deepnote_cell_type": "code"
   },
   "outputs": [
    {
     "name": "stdout",
     "output_type": "stream",
     "text": [
      "1\n",
      "1\n",
      "a    1\n",
      "dtype: int64\n"
     ]
    }
   ],
   "source": [
    "#Acceso\n",
    "#Por índice\n",
    "print(serie['a'])\n",
    "#Por posición\n",
    "print(serie[0])\n",
    "#Por rango\n",
    "print(serie[0:1])"
   ]
  },
  {
   "cell_type": "code",
   "execution_count": null,
   "id": "c3352b2f",
   "metadata": {
    "ExecuteTime": {
     "end_time": "2022-09-11T05:26:31.968057Z",
     "start_time": "2022-09-11T05:26:31.961080Z"
    },
    "cell_id": "00039-64b5d8eb-ff9d-4f3f-98c7-87f966e4d9a2",
    "deepnote_cell_height": 133,
    "deepnote_cell_type": "code"
   },
   "outputs": [],
   "source": [
    "# Atributos de una serie\n",
    "#1. Índices\n",
    "print(serie.index)\n",
    "#2. valores\n",
    "print(serie.values)"
   ]
  },
  {
   "cell_type": "code",
   "execution_count": null,
   "id": "5ae6f9e8",
   "metadata": {
    "ExecuteTime": {
     "end_time": "2022-09-11T05:27:56.242502Z",
     "start_time": "2022-09-11T05:27:56.234463Z"
    },
    "cell_id": "00040-5ea8050a-ab03-4526-a6f1-3c94d607b1ed",
    "deepnote_cell_height": 79,
    "deepnote_cell_type": "code"
   },
   "outputs": [],
   "source": [
    "#Estadística básica de una serie\n",
    "print(serie.describe())"
   ]
  },
  {
   "cell_type": "code",
   "execution_count": null,
   "id": "dab574ba",
   "metadata": {
    "ExecuteTime": {
     "end_time": "2022-09-18T10:18:27.662500Z",
     "start_time": "2022-09-18T10:18:27.443500Z"
    },
    "cell_id": "00041-8755cab1-f0b3-47c1-ae0a-cce4ad1b2432",
    "deepnote_cell_height": 156,
    "deepnote_cell_type": "code"
   },
   "outputs": [],
   "source": [
    "# DataFrames\n",
    "# Construcción de una DF a partir de un diccionario\n",
    "import pandas as pd\n",
    "dict={'Col1':pd.Series([1,2,3,4],index=['a','b','c','d']),'Col2':pd.Series([5,6,7,8],index=['a','b','c','d'])}\n",
    "df=pd.DataFrame(dict)\n",
    "df"
   ]
  },
  {
   "cell_type": "code",
   "execution_count": null,
   "id": "cdfdd01a",
   "metadata": {
    "ExecuteTime": {
     "end_time": "2022-09-18T10:18:31.027190Z",
     "start_time": "2022-09-18T10:18:30.914191Z"
    },
    "cell_id": "00042-96eefe77-dde5-41bd-9689-4a2de00844bc",
    "deepnote_cell_height": 168.6875,
    "deepnote_cell_type": "code"
   },
   "outputs": [],
   "source": [
    "#Información general de un DF\n",
    "print(df.info()) # inf general\n",
    "print(df.shape) # tamaño\n",
    "print(df.shape[0])  # Gives number of rows\n",
    "print(df.shape[1])  # Gives number of columns\n",
    "print(df.columns) # nombres de las columnas\n",
    "print(df.index) # valores de la columna de índices"
   ]
  },
  {
   "cell_type": "code",
   "execution_count": null,
   "id": "1675a4a6",
   "metadata": {
    "ExecuteTime": {
     "end_time": "2022-09-18T10:18:35.006140Z",
     "start_time": "2022-09-18T10:18:34.985103Z"
    },
    "cell_id": "00043-0d9a4c98-58fa-46aa-b24b-443a9971403a",
    "deepnote_cell_height": 96.6875,
    "deepnote_cell_type": "code"
   },
   "outputs": [],
   "source": [
    "#Agregar una nueva columna\n",
    "df['col3']=pd.Series([10,2,9,8], index=df.index)\n",
    "df"
   ]
  },
  {
   "cell_type": "code",
   "execution_count": null,
   "id": "1b32da4a",
   "metadata": {
    "ExecuteTime": {
     "end_time": "2022-09-18T10:18:45.559208Z",
     "start_time": "2022-09-18T10:18:45.531210Z"
    },
    "cell_id": "00044-d386ec6c-2885-4862-bd04-a1ca24fa191c",
    "deepnote_cell_height": 97,
    "deepnote_cell_type": "code"
   },
   "outputs": [],
   "source": [
    "#eliminar una nueva columna\n",
    "del df['col3'] # df = df.drop('col3', axis=1)\n",
    "df"
   ]
  },
  {
   "cell_type": "code",
   "execution_count": null,
   "id": "03a9e761",
   "metadata": {
    "ExecuteTime": {
     "end_time": "2022-09-18T10:18:57.913341Z",
     "start_time": "2022-09-18T10:18:57.872337Z"
    },
    "cell_id": "00045-e5823090-6294-4abf-9a01-3373f41e8338",
    "deepnote_cell_height": 115,
    "deepnote_cell_type": "code"
   },
   "outputs": [],
   "source": [
    "# Visualizar algunos elementos del DF\n",
    "display(df.head(2)) # dos primeros\n",
    "display(df.tail(2)) # dos últimos\n",
    "display(df.sample(2)) # una muestra de 2"
   ]
  },
  {
   "cell_type": "code",
   "execution_count": null,
   "id": "26d6cd4b",
   "metadata": {
    "ExecuteTime": {
     "end_time": "2022-09-11T05:56:05.067247Z",
     "start_time": "2022-09-11T05:56:05.045282Z"
    },
    "cell_id": "00046-f4afb68e-482d-4c37-829d-8a7e570eda80",
    "deepnote_cell_height": 114.6875,
    "deepnote_cell_type": "code"
   },
   "outputs": [],
   "source": [
    "#Seleccionar fila por etiqueta (.loc)\n",
    "df.loc['a']\n",
    "#Seleccionar fila por posición (.loc)\n",
    "df.iloc[2:4]"
   ]
  },
  {
   "cell_type": "code",
   "execution_count": null,
   "id": "0c896237",
   "metadata": {
    "ExecuteTime": {
     "end_time": "2022-09-11T05:57:20.159758Z",
     "start_time": "2022-09-11T05:57:20.145849Z"
    },
    "cell_id": "00047-f8e88200-7623-4963-a77d-4f7b0bef1ff8",
    "deepnote_cell_height": 78.6875,
    "deepnote_cell_type": "code"
   },
   "outputs": [],
   "source": [
    "#Transponer un DF\n",
    "df.T"
   ]
  },
  {
   "cell_type": "code",
   "execution_count": null,
   "id": "cfa5a25f",
   "metadata": {
    "ExecuteTime": {
     "end_time": "2022-09-18T10:20:12.458773Z",
     "start_time": "2022-09-18T10:20:12.444771Z"
    },
    "cell_id": "00048-55df1ca1-6397-42cb-99db-ecebcfcafcaf",
    "deepnote_cell_height": 115,
    "deepnote_cell_type": "code"
   },
   "outputs": [],
   "source": [
    "# Seleccionar columnas de un DF\n",
    "df['Col3']=pd.Series([10,2,9,8], index=df.index)\n",
    "display(df)\n",
    "df[['Col1', 'Col2']]"
   ]
  },
  {
   "cell_type": "code",
   "execution_count": null,
   "id": "d0b99c18",
   "metadata": {
    "ExecuteTime": {
     "end_time": "2022-09-18T10:20:15.414986Z",
     "start_time": "2022-09-18T10:20:15.393952Z"
    },
    "cell_id": "00049-fce934ad-5a15-4e35-a809-3147efad2605",
    "deepnote_cell_height": 79,
    "deepnote_cell_type": "code"
   },
   "outputs": [],
   "source": [
    "#Seleccionar DF por condicción\n",
    "df[(df.Col1 > 2) & (df.Col3>8)]"
   ]
  },
  {
   "cell_type": "code",
   "execution_count": null,
   "id": "7bb86855",
   "metadata": {
    "ExecuteTime": {
     "end_time": "2022-09-18T10:21:05.006080Z",
     "start_time": "2022-09-18T10:21:04.986068Z"
    },
    "cell_id": "00050-c188c2d6-f5c0-46d2-9e19-5e13f1446ea5",
    "deepnote_cell_height": 115,
    "deepnote_cell_type": "code"
   },
   "outputs": [],
   "source": [
    "#Ordenar por valor\n",
    "df.sort_values(by='Col3', ascending=True)#by=['col1', 'col2']\n",
    "# Ordenar por índice\n",
    "df.sort_index()"
   ]
  },
  {
   "cell_type": "code",
   "execution_count": null,
   "id": "c8b060b7",
   "metadata": {
    "ExecuteTime": {
     "end_time": "2022-09-11T06:41:39.854420Z",
     "start_time": "2022-09-11T06:41:39.824422Z"
    },
    "cell_id": "00051-b0664af6-c0a2-4032-978a-68066c51b0d3",
    "deepnote_cell_height": 462,
    "deepnote_cell_type": "code"
   },
   "outputs": [],
   "source": [
    "# Create DataFrame (https://www.machinelearningplus.com/pandas/pandas-groupby-examples/)\n",
    "import pandas as pd\n",
    "\n",
    "# Create the data of the DataFrame as a dictionary\n",
    "data_df = {'Name': ['Asha', 'Harsh', 'Sourav', 'Riya', 'Hritik',\n",
    "                    'Shivansh', 'Rohan', 'Akash', 'Soumya', 'Kartik'],\n",
    "\n",
    "           'Department': ['Administration', 'Marketing', 'Technical', 'Technical', 'Marketing',\n",
    "                          'Administration', 'Technical', 'Marketing', 'Technical', 'Administration'],\n",
    "\n",
    "           'Employment Type': ['Full-time Employee', 'Intern', 'Intern', 'Part-time Employee', 'Part-time Employee',\n",
    "                               'Full-time Employee', 'Full-time Employee', 'Intern', 'Intern', 'Full-time Employee'],\n",
    "\n",
    "           'Salary': [120000, 50000, 70000, 70000, 55000,\n",
    "                      120000, 125000, 60000, 50000, 120000],\n",
    "\n",
    "           'Years of Experience': [5, 1, 2, 3, 4,\n",
    "                                   7, 6, 2, 1, 6]}\n",
    "# Create the DataFrame\n",
    "df1 = pd.DataFrame(data_df)\n",
    "display(df1)\n",
    "pd.DataFrame(df1.groupby('Department')['Salary'].mean())\n",
    "pd.DataFrame(df1.groupby('Department')['Name'].count())"
   ]
  },
  {
   "cell_type": "code",
   "execution_count": null,
   "id": "b4c6f1a9",
   "metadata": {
    "ExecuteTime": {
     "end_time": "2022-09-11T06:56:19.558076Z",
     "start_time": "2022-09-11T06:56:19.516042Z"
    },
    "cell_id": "00052-823503ce-e507-4fb8-a2ba-86aa5622e183",
    "deepnote_cell_height": 169,
    "deepnote_cell_type": "code"
   },
   "outputs": [],
   "source": [
    "import warnings\n",
    "warnings.filterwarnings('ignore')\n",
    "gr_df1 = pd.DataFrame(df1.groupby('Department').agg(\n",
    "    {'Years of Experience':['mean', 'std'],\n",
    "     'Salary':['mean', 'std']}))\n",
    "gr_df1.columns = [\"_\".join(x) for x in gr_df1.columns.ravel()]#gr_df.columns = ['y_mean', 'y_sd',...]\n",
    "display(gr_df1)"
   ]
  },
  {
   "cell_type": "markdown",
   "id": "08eebe36",
   "metadata": {
    "cell_id": "00053-ffa83fd5-35d5-4591-9616-842b4b91e5bf",
    "deepnote_cell_height": 110,
    "deepnote_cell_type": "markdown"
   },
   "source": [
    "## Próxima sesión: Algunas fuentes de datos de acceso abierto. Carga, lectura y escritura de datos  y EDA"
   ]
  },
  {
   "cell_type": "markdown",
   "id": "8a64f474",
   "metadata": {
    "ExecuteTime": {
     "end_time": "2021-11-10T11:15:22.870387Z",
     "start_time": "2021-11-10T11:15:22.835391Z"
    },
    "cell_id": "00054-1dca34c4-b2be-482d-85e0-0822d8ab9611",
    "deepnote_cell_height": 61,
    "deepnote_cell_type": "markdown"
   },
   "source": [
    "### Datasets en Librerias de Python"
   ]
  },
  {
   "cell_type": "markdown",
   "id": "55dd9464",
   "metadata": {
    "cell_id": "00055-0ca0ed8e-d909-4f48-8862-997854a16a60",
    "deepnote_cell_height": 69,
    "deepnote_cell_type": "markdown"
   },
   "source": [
    "* En [PyDataset](https://github.com/iamaziz/PyDataset)"
   ]
  },
  {
   "cell_type": "code",
   "execution_count": null,
   "id": "9c8829be",
   "metadata": {
    "ExecuteTime": {
     "end_time": "2022-03-22T17:36:33.423977Z",
     "start_time": "2022-03-22T17:36:33.180974Z"
    },
    "cell_id": "00056-33d918fc-832a-4308-b9a0-07036dc43867",
    "deepnote_cell_height": 150,
    "deepnote_cell_type": "code"
   },
   "outputs": [],
   "source": [
    "from pydataset import data\n",
    "import pandas as pd\n",
    "pd.options.display.max_rows = None\n",
    "data()\n",
    "data('titanic', show_doc=True)\n",
    "data('titanic').head()"
   ]
  },
  {
   "cell_type": "markdown",
   "id": "81ec5eec",
   "metadata": {
    "cell_id": "00057-f8af9f14-3cc9-4b1f-ba4f-cda6f25da409",
    "deepnote_cell_height": 68.421875,
    "deepnote_cell_type": "markdown"
   },
   "source": [
    "* En [Seaborn](https://github.com/mwaskom/seaborn-data)"
   ]
  },
  {
   "cell_type": "code",
   "execution_count": null,
   "id": "cd64216e",
   "metadata": {
    "ExecuteTime": {
     "end_time": "2022-03-22T17:38:16.067611Z",
     "start_time": "2022-03-22T17:38:15.698613Z"
    },
    "cell_id": "00058-b08f8444-536a-4c4d-b0c0-6c9e70fbcc3e",
    "deepnote_cell_height": 204.6875,
    "deepnote_cell_type": "code"
   },
   "outputs": [],
   "source": [
    "# Import seaborn\n",
    "import seaborn as sns\n",
    "# Check out available datasets\n",
    "print(sns.get_dataset_names())\n",
    "\n",
    "# Load as a dataframe\n",
    "df = sns.load_dataset('iris')\n",
    "df.info()\n",
    "df.head()"
   ]
  },
  {
   "cell_type": "markdown",
   "id": "aac962c0",
   "metadata": {
    "cell_id": "00059-3a5211fb-6fa8-4dd3-8024-87e35aa36a34",
    "deepnote_cell_height": 68.421875,
    "deepnote_cell_type": "markdown"
   },
   "source": [
    "* En [Sklearn](https://scikit-learn.org/stable/datasets.html)"
   ]
  },
  {
   "cell_type": "code",
   "execution_count": null,
   "id": "f67a33ee",
   "metadata": {
    "ExecuteTime": {
     "end_time": "2022-03-22T17:38:57.565010Z",
     "start_time": "2022-03-22T17:38:57.436832Z"
    },
    "cell_id": "00060-156d06b3-8a68-42e6-98b5-cb46c90e20f7",
    "deepnote_cell_height": 168.6875,
    "deepnote_cell_type": "code"
   },
   "outputs": [],
   "source": [
    "# Import package\n",
    "from sklearn.datasets import fetch_california_housing\n",
    "# Load data (will download the data if it's the first time loading)\n",
    "housing = fetch_california_housing(as_frame=True)\n",
    "# Create a dataframe\n",
    "df = housing['data'].join(housing['target'])\n",
    "df.info()"
   ]
  },
  {
   "cell_type": "code",
   "execution_count": null,
   "id": "6c278f16",
   "metadata": {
    "ExecuteTime": {
     "end_time": "2022-03-21T23:19:08.378034Z",
     "start_time": "2022-03-21T23:19:08.370066Z"
    },
    "cell_id": "00061-963ac426-e3ff-4fd5-8f62-b3239d93a7c6",
    "deepnote_cell_height": 60.6875,
    "deepnote_cell_type": "code"
   },
   "outputs": [],
   "source": [
    "print(housing.DESCR)"
   ]
  },
  {
   "cell_type": "markdown",
   "id": "45920a85",
   "metadata": {
    "cell_id": "00062-dc1f485f-ecce-4d38-89e6-41694fd7ae4a",
    "deepnote_cell_height": 68.421875,
    "deepnote_cell_type": "markdown"
   },
   "source": [
    "* En [Statmodels](https://www.statsmodels.org/devel/datasets/index.html)"
   ]
  },
  {
   "cell_type": "code",
   "execution_count": null,
   "id": "da936f16",
   "metadata": {
    "ExecuteTime": {
     "end_time": "2022-03-21T23:20:36.270693Z",
     "start_time": "2022-03-21T23:20:35.145463Z"
    },
    "cell_id": "00063-9f47cf47-b16e-4960-afe0-ab684658b6fa",
    "deepnote_cell_height": 168.6875,
    "deepnote_cell_type": "code"
   },
   "outputs": [],
   "source": [
    "# Import package\n",
    "import statsmodels.api as sm\n",
    "# Load data as a dataframe\n",
    "df = sm.datasets.macrodata.load_pandas()['data']\n",
    "df.info()\n",
    "df1 = sm.datasets.longley.load_pandas()['data']\n",
    "df1.info()"
   ]
  },
  {
   "cell_type": "markdown",
   "id": "179a0d1d",
   "metadata": {
    "cell_id": "00064-d6572958-3f58-4eba-b189-2902d004eb5d",
    "deepnote_cell_height": 68.421875,
    "deepnote_cell_type": "markdown"
   },
   "source": [
    "* En [OpenML](https://www.openml.org/)"
   ]
  },
  {
   "cell_type": "code",
   "execution_count": null,
   "id": "f8a4e3b5",
   "metadata": {
    "ExecuteTime": {
     "end_time": "2022-03-21T23:24:17.179449Z",
     "start_time": "2022-03-21T23:24:14.995452Z"
    },
    "cell_id": "00065-008508cf-fc63-464b-919e-157f406739ca",
    "deepnote_cell_height": 169,
    "deepnote_cell_type": "code"
   },
   "outputs": [],
   "source": [
    "#! pip install openml\n",
    "import openml\n",
    "import pandas as pd\n",
    "datasets_df = openml.datasets.list_datasets(output_format=\"dataframe\")\n",
    "datasets_df.head()\n",
    "print(\"First 10 of %s datasets...\" % len(datasets_df))\n",
    "print(datasets_df[:10][['did','name','NumberOfInstances','NumberOfFeatures']])"
   ]
  },
  {
   "cell_type": "code",
   "execution_count": null,
   "id": "16108f84",
   "metadata": {
    "ExecuteTime": {
     "end_time": "2022-03-22T17:40:36.857994Z",
     "start_time": "2022-03-22T17:40:23.834406Z"
    },
    "cell_id": "00066-d3728e81-8cd7-4ac2-9f6f-1843ffa6de25",
    "deepnote_cell_height": 187,
    "deepnote_cell_type": "code"
   },
   "outputs": [],
   "source": [
    "# OpenML\n",
    "#traer en enlace de la versión csv\n",
    "import pandas as pd \n",
    "#url = \"https://www.openml.org/data/get_csv/16826755/phpMYEkMl\"\n",
    "#url=\"https://www.openml.org/data/get_csv/61/dataset_61_iris.arff\"\n",
    "url=\"https://www.openml.org/data/get_csv/4600907/BNG(credit-g).arff\"\n",
    "data = pd.read_csv(url)\n",
    "data.head()"
   ]
  },
  {
   "cell_type": "markdown",
   "id": "d20489c4",
   "metadata": {
    "ExecuteTime": {
     "end_time": "2022-03-21T23:28:23.066163Z",
     "start_time": "2022-03-21T23:28:23.046168Z"
    },
    "cell_id": "00067-54b607a3-1390-4c11-883d-6e4dd4886329",
    "deepnote_cell_height": 68.421875,
    "deepnote_cell_type": "markdown"
   },
   "source": [
    "* En [GitHub](https://github.com/)"
   ]
  },
  {
   "cell_type": "code",
   "execution_count": 55,
   "id": "b75f0fce",
   "metadata": {
    "ExecuteTime": {
     "end_time": "2022-03-22T17:41:24.303347Z",
     "start_time": "2022-03-22T17:41:23.939407Z"
    },
    "cell_id": "00068-564ba682-9da8-4728-9fa1-c6b76e90a570",
    "deepnote_cell_height": 150.6875,
    "deepnote_cell_type": "code"
   },
   "outputs": [
    {
     "data": {
      "text/html": [
       "<div>\n",
       "<style scoped>\n",
       "    .dataframe tbody tr th:only-of-type {\n",
       "        vertical-align: middle;\n",
       "    }\n",
       "\n",
       "    .dataframe tbody tr th {\n",
       "        vertical-align: top;\n",
       "    }\n",
       "\n",
       "    .dataframe thead th {\n",
       "        text-align: right;\n",
       "    }\n",
       "</style>\n",
       "<table border=\"1\" class=\"dataframe\">\n",
       "  <thead>\n",
       "    <tr style=\"text-align: right;\">\n",
       "      <th></th>\n",
       "      <th>crim</th>\n",
       "      <th>zn</th>\n",
       "      <th>indus</th>\n",
       "      <th>chas</th>\n",
       "      <th>nox</th>\n",
       "      <th>rm</th>\n",
       "      <th>age</th>\n",
       "      <th>dis</th>\n",
       "      <th>rad</th>\n",
       "      <th>tax</th>\n",
       "      <th>ptratio</th>\n",
       "      <th>b</th>\n",
       "      <th>lstat</th>\n",
       "      <th>medv</th>\n",
       "    </tr>\n",
       "  </thead>\n",
       "  <tbody>\n",
       "    <tr>\n",
       "      <th>0</th>\n",
       "      <td>0.00632</td>\n",
       "      <td>18.0</td>\n",
       "      <td>2.31</td>\n",
       "      <td>0</td>\n",
       "      <td>0.538</td>\n",
       "      <td>6.575</td>\n",
       "      <td>65.2</td>\n",
       "      <td>4.0900</td>\n",
       "      <td>1</td>\n",
       "      <td>296</td>\n",
       "      <td>15.3</td>\n",
       "      <td>396.90</td>\n",
       "      <td>4.98</td>\n",
       "      <td>24.0</td>\n",
       "    </tr>\n",
       "    <tr>\n",
       "      <th>1</th>\n",
       "      <td>0.02731</td>\n",
       "      <td>0.0</td>\n",
       "      <td>7.07</td>\n",
       "      <td>0</td>\n",
       "      <td>0.469</td>\n",
       "      <td>6.421</td>\n",
       "      <td>78.9</td>\n",
       "      <td>4.9671</td>\n",
       "      <td>2</td>\n",
       "      <td>242</td>\n",
       "      <td>17.8</td>\n",
       "      <td>396.90</td>\n",
       "      <td>9.14</td>\n",
       "      <td>21.6</td>\n",
       "    </tr>\n",
       "    <tr>\n",
       "      <th>2</th>\n",
       "      <td>0.02729</td>\n",
       "      <td>0.0</td>\n",
       "      <td>7.07</td>\n",
       "      <td>0</td>\n",
       "      <td>0.469</td>\n",
       "      <td>7.185</td>\n",
       "      <td>61.1</td>\n",
       "      <td>4.9671</td>\n",
       "      <td>2</td>\n",
       "      <td>242</td>\n",
       "      <td>17.8</td>\n",
       "      <td>392.83</td>\n",
       "      <td>4.03</td>\n",
       "      <td>34.7</td>\n",
       "    </tr>\n",
       "    <tr>\n",
       "      <th>3</th>\n",
       "      <td>0.03237</td>\n",
       "      <td>0.0</td>\n",
       "      <td>2.18</td>\n",
       "      <td>0</td>\n",
       "      <td>0.458</td>\n",
       "      <td>6.998</td>\n",
       "      <td>45.8</td>\n",
       "      <td>6.0622</td>\n",
       "      <td>3</td>\n",
       "      <td>222</td>\n",
       "      <td>18.7</td>\n",
       "      <td>394.63</td>\n",
       "      <td>2.94</td>\n",
       "      <td>33.4</td>\n",
       "    </tr>\n",
       "    <tr>\n",
       "      <th>4</th>\n",
       "      <td>0.06905</td>\n",
       "      <td>0.0</td>\n",
       "      <td>2.18</td>\n",
       "      <td>0</td>\n",
       "      <td>0.458</td>\n",
       "      <td>7.147</td>\n",
       "      <td>54.2</td>\n",
       "      <td>6.0622</td>\n",
       "      <td>3</td>\n",
       "      <td>222</td>\n",
       "      <td>18.7</td>\n",
       "      <td>396.90</td>\n",
       "      <td>5.33</td>\n",
       "      <td>36.2</td>\n",
       "    </tr>\n",
       "  </tbody>\n",
       "</table>\n",
       "</div>"
      ],
      "text/plain": [
       "      crim    zn  indus  chas    nox     rm   age     dis  rad  tax  ptratio  \\\n",
       "0  0.00632  18.0   2.31     0  0.538  6.575  65.2  4.0900    1  296     15.3   \n",
       "1  0.02731   0.0   7.07     0  0.469  6.421  78.9  4.9671    2  242     17.8   \n",
       "2  0.02729   0.0   7.07     0  0.469  7.185  61.1  4.9671    2  242     17.8   \n",
       "3  0.03237   0.0   2.18     0  0.458  6.998  45.8  6.0622    3  222     18.7   \n",
       "4  0.06905   0.0   2.18     0  0.458  7.147  54.2  6.0622    3  222     18.7   \n",
       "\n",
       "        b  lstat  medv  \n",
       "0  396.90   4.98  24.0  \n",
       "1  396.90   9.14  21.6  \n",
       "2  392.83   4.03  34.7  \n",
       "3  394.63   2.94  33.4  \n",
       "4  396.90   5.33  36.2  "
      ]
     },
     "execution_count": 55,
     "metadata": {},
     "output_type": "execute_result"
    }
   ],
   "source": [
    "#desde GitHub version raw\n",
    "import pandas as pd\n",
    "import requests\n",
    "url='https://raw.githubusercontent.com/Andres1984/Data-Analysis-with-R/master/Bases/BostonHousing.csv'\n",
    "c=pd.read_csv(url)\n",
    "c.head()"
   ]
  },
  {
   "cell_type": "code",
   "execution_count": 56,
   "id": "b917ace5",
   "metadata": {
    "ExecuteTime": {
     "end_time": "2022-03-22T17:41:33.966529Z",
     "start_time": "2022-03-22T17:41:33.684533Z"
    },
    "cell_id": "00069-5fd21fac-f573-44f9-aa37-5435df66b2aa",
    "deepnote_cell_height": 115,
    "deepnote_cell_type": "code"
   },
   "outputs": [
    {
     "data": {
      "text/html": [
       "<div>\n",
       "<style scoped>\n",
       "    .dataframe tbody tr th:only-of-type {\n",
       "        vertical-align: middle;\n",
       "    }\n",
       "\n",
       "    .dataframe tbody tr th {\n",
       "        vertical-align: top;\n",
       "    }\n",
       "\n",
       "    .dataframe thead th {\n",
       "        text-align: right;\n",
       "    }\n",
       "</style>\n",
       "<table border=\"1\" class=\"dataframe\">\n",
       "  <thead>\n",
       "    <tr style=\"text-align: right;\">\n",
       "      <th></th>\n",
       "      <th>Country</th>\n",
       "      <th>Region</th>\n",
       "      <th>Happiness Rank</th>\n",
       "      <th>Happiness Score</th>\n",
       "      <th>Lower Confidence Interval</th>\n",
       "      <th>Upper Confidence Interval</th>\n",
       "      <th>Economy (GDP per Capita)</th>\n",
       "      <th>Family</th>\n",
       "      <th>Health (Life Expectancy)</th>\n",
       "      <th>Freedom</th>\n",
       "      <th>Trust (Government Corruption)</th>\n",
       "      <th>Generosity</th>\n",
       "      <th>Dystopia Residual</th>\n",
       "    </tr>\n",
       "  </thead>\n",
       "  <tbody>\n",
       "    <tr>\n",
       "      <th>0</th>\n",
       "      <td>Denmark</td>\n",
       "      <td>Western Europe</td>\n",
       "      <td>1</td>\n",
       "      <td>7.526</td>\n",
       "      <td>7.460</td>\n",
       "      <td>7.592</td>\n",
       "      <td>1.44178</td>\n",
       "      <td>1.16374</td>\n",
       "      <td>0.79504</td>\n",
       "      <td>0.57941</td>\n",
       "      <td>0.44453</td>\n",
       "      <td>0.36171</td>\n",
       "      <td>2.73939</td>\n",
       "    </tr>\n",
       "    <tr>\n",
       "      <th>1</th>\n",
       "      <td>Switzerland</td>\n",
       "      <td>Western Europe</td>\n",
       "      <td>2</td>\n",
       "      <td>7.509</td>\n",
       "      <td>7.428</td>\n",
       "      <td>7.590</td>\n",
       "      <td>1.52733</td>\n",
       "      <td>1.14524</td>\n",
       "      <td>0.86303</td>\n",
       "      <td>0.58557</td>\n",
       "      <td>0.41203</td>\n",
       "      <td>0.28083</td>\n",
       "      <td>2.69463</td>\n",
       "    </tr>\n",
       "    <tr>\n",
       "      <th>2</th>\n",
       "      <td>Iceland</td>\n",
       "      <td>Western Europe</td>\n",
       "      <td>3</td>\n",
       "      <td>7.501</td>\n",
       "      <td>7.333</td>\n",
       "      <td>7.669</td>\n",
       "      <td>1.42666</td>\n",
       "      <td>1.18326</td>\n",
       "      <td>0.86733</td>\n",
       "      <td>0.56624</td>\n",
       "      <td>0.14975</td>\n",
       "      <td>0.47678</td>\n",
       "      <td>2.83137</td>\n",
       "    </tr>\n",
       "    <tr>\n",
       "      <th>3</th>\n",
       "      <td>Norway</td>\n",
       "      <td>Western Europe</td>\n",
       "      <td>4</td>\n",
       "      <td>7.498</td>\n",
       "      <td>7.421</td>\n",
       "      <td>7.575</td>\n",
       "      <td>1.57744</td>\n",
       "      <td>1.12690</td>\n",
       "      <td>0.79579</td>\n",
       "      <td>0.59609</td>\n",
       "      <td>0.35776</td>\n",
       "      <td>0.37895</td>\n",
       "      <td>2.66465</td>\n",
       "    </tr>\n",
       "    <tr>\n",
       "      <th>4</th>\n",
       "      <td>Finland</td>\n",
       "      <td>Western Europe</td>\n",
       "      <td>5</td>\n",
       "      <td>7.413</td>\n",
       "      <td>7.351</td>\n",
       "      <td>7.475</td>\n",
       "      <td>1.40598</td>\n",
       "      <td>1.13464</td>\n",
       "      <td>0.81091</td>\n",
       "      <td>0.57104</td>\n",
       "      <td>0.41004</td>\n",
       "      <td>0.25492</td>\n",
       "      <td>2.82596</td>\n",
       "    </tr>\n",
       "  </tbody>\n",
       "</table>\n",
       "</div>"
      ],
      "text/plain": [
       "       Country          Region  Happiness Rank  Happiness Score  \\\n",
       "0      Denmark  Western Europe               1            7.526   \n",
       "1  Switzerland  Western Europe               2            7.509   \n",
       "2      Iceland  Western Europe               3            7.501   \n",
       "3       Norway  Western Europe               4            7.498   \n",
       "4      Finland  Western Europe               5            7.413   \n",
       "\n",
       "   Lower Confidence Interval  Upper Confidence Interval  \\\n",
       "0                      7.460                      7.592   \n",
       "1                      7.428                      7.590   \n",
       "2                      7.333                      7.669   \n",
       "3                      7.421                      7.575   \n",
       "4                      7.351                      7.475   \n",
       "\n",
       "   Economy (GDP per Capita)   Family  Health (Life Expectancy)  Freedom  \\\n",
       "0                   1.44178  1.16374                   0.79504  0.57941   \n",
       "1                   1.52733  1.14524                   0.86303  0.58557   \n",
       "2                   1.42666  1.18326                   0.86733  0.56624   \n",
       "3                   1.57744  1.12690                   0.79579  0.59609   \n",
       "4                   1.40598  1.13464                   0.81091  0.57104   \n",
       "\n",
       "   Trust (Government Corruption)  Generosity  Dystopia Residual  \n",
       "0                        0.44453     0.36171            2.73939  \n",
       "1                        0.41203     0.28083            2.69463  \n",
       "2                        0.14975     0.47678            2.83137  \n",
       "3                        0.35776     0.37895            2.66465  \n",
       "4                        0.41004     0.25492            2.82596  "
      ]
     },
     "execution_count": 56,
     "metadata": {},
     "output_type": "execute_result"
    }
   ],
   "source": [
    "import pandas as pd\n",
    "url = 'https://raw.githubusercontent.com/Andres1984/Data-Analysis-with-R/master/Bases/2016.csv'\n",
    "df = pd.read_csv(url)\n",
    "df.head()"
   ]
  },
  {
   "cell_type": "markdown",
   "id": "2f22c4e2",
   "metadata": {
    "cell_id": "00070-5fc20c22-a8bf-4ef4-9bdd-44adeecb124b",
    "deepnote_cell_height": 331,
    "deepnote_cell_type": "markdown"
   },
   "source": [
    "### Fuentes de datos de acceso abierto\n",
    "\n",
    "A continuación otra pequeña muestra de fuentes de datos de acceso abierto: \n",
    "      \n",
    "+ [Kaggle](https://www.kaggle.com/datasets). Se creó para ayudar a las empresas a organizar concursos de ciencia de datos para resolver problemas complejos utilizando datos. \n",
    "+ [FiveThirtyEight](https://data.fivethirtyeight.com/). Datos de periodismo. Datos detras de las noticias de política, ciencia, cultura, deportes, entre otros. Principalmente contiene información de Estados Unidos.\n",
    "+ [Banco Mundial](https://datos.bancomundial.org/). Información de diferentes paises y aspectos que buscan ayudar a mejorar la calidad de vida a través de los datos.\n",
    "+ [Repositorio UCI ML](https://archive.ics.uci.edu/ml/datasets.php). El repositorio UCI Machine Learning alberga una colección de bases de datos y datasets que son utilizados por la comunidad para el análisis empírico de algoritmos de Machine Learning.Actualmente alberga más de 500 conjuntos de datos. Para citarlo: https://archive.ics.uci.edu/ml/citation_policy.html."
   ]
  },
  {
   "cell_type": "code",
   "execution_count": 57,
   "id": "f8abac13",
   "metadata": {
    "ExecuteTime": {
     "end_time": "2022-03-22T17:42:46.716490Z",
     "start_time": "2022-03-22T17:42:44.061907Z"
    },
    "cell_id": "00071-0509aed4-51e2-475f-9c72-8011fe47b7c1",
    "deepnote_cell_height": 510.6875,
    "deepnote_cell_type": "code"
   },
   "outputs": [
    {
     "name": "stdout",
     "output_type": "stream",
     "text": [
      "Dataset URL: https://www.kaggle.com/datasets/rashikrahmanpritom/heart-attack-analysis-prediction-dataset\n",
      "Dataset URL: https://www.kaggle.com/datasets/rashikrahmanpritom/heart-attack-analysis-prediction-dataset\n",
      "Dataset URL: https://www.kaggle.com/datasets/rashikrahmanpritom/heart-attack-analysis-prediction-dataset\n"
     ]
    },
    {
     "data": {
      "text/html": [
       "<div>\n",
       "<style scoped>\n",
       "    .dataframe tbody tr th:only-of-type {\n",
       "        vertical-align: middle;\n",
       "    }\n",
       "\n",
       "    .dataframe tbody tr th {\n",
       "        vertical-align: top;\n",
       "    }\n",
       "\n",
       "    .dataframe thead th {\n",
       "        text-align: right;\n",
       "    }\n",
       "</style>\n",
       "<table border=\"1\" class=\"dataframe\">\n",
       "  <thead>\n",
       "    <tr style=\"text-align: right;\">\n",
       "      <th></th>\n",
       "      <th>age</th>\n",
       "      <th>sex</th>\n",
       "      <th>cp</th>\n",
       "      <th>trtbps</th>\n",
       "      <th>chol</th>\n",
       "      <th>fbs</th>\n",
       "      <th>restecg</th>\n",
       "      <th>thalachh</th>\n",
       "      <th>exng</th>\n",
       "      <th>oldpeak</th>\n",
       "      <th>slp</th>\n",
       "      <th>caa</th>\n",
       "      <th>thall</th>\n",
       "      <th>output</th>\n",
       "    </tr>\n",
       "  </thead>\n",
       "  <tbody>\n",
       "    <tr>\n",
       "      <th>0</th>\n",
       "      <td>63</td>\n",
       "      <td>1</td>\n",
       "      <td>3</td>\n",
       "      <td>145</td>\n",
       "      <td>233</td>\n",
       "      <td>1</td>\n",
       "      <td>0</td>\n",
       "      <td>150</td>\n",
       "      <td>0</td>\n",
       "      <td>2.3</td>\n",
       "      <td>0</td>\n",
       "      <td>0</td>\n",
       "      <td>1</td>\n",
       "      <td>1</td>\n",
       "    </tr>\n",
       "    <tr>\n",
       "      <th>1</th>\n",
       "      <td>37</td>\n",
       "      <td>1</td>\n",
       "      <td>2</td>\n",
       "      <td>130</td>\n",
       "      <td>250</td>\n",
       "      <td>0</td>\n",
       "      <td>1</td>\n",
       "      <td>187</td>\n",
       "      <td>0</td>\n",
       "      <td>3.5</td>\n",
       "      <td>0</td>\n",
       "      <td>0</td>\n",
       "      <td>2</td>\n",
       "      <td>1</td>\n",
       "    </tr>\n",
       "    <tr>\n",
       "      <th>2</th>\n",
       "      <td>41</td>\n",
       "      <td>0</td>\n",
       "      <td>1</td>\n",
       "      <td>130</td>\n",
       "      <td>204</td>\n",
       "      <td>0</td>\n",
       "      <td>0</td>\n",
       "      <td>172</td>\n",
       "      <td>0</td>\n",
       "      <td>1.4</td>\n",
       "      <td>2</td>\n",
       "      <td>0</td>\n",
       "      <td>2</td>\n",
       "      <td>1</td>\n",
       "    </tr>\n",
       "    <tr>\n",
       "      <th>3</th>\n",
       "      <td>56</td>\n",
       "      <td>1</td>\n",
       "      <td>1</td>\n",
       "      <td>120</td>\n",
       "      <td>236</td>\n",
       "      <td>0</td>\n",
       "      <td>1</td>\n",
       "      <td>178</td>\n",
       "      <td>0</td>\n",
       "      <td>0.8</td>\n",
       "      <td>2</td>\n",
       "      <td>0</td>\n",
       "      <td>2</td>\n",
       "      <td>1</td>\n",
       "    </tr>\n",
       "    <tr>\n",
       "      <th>4</th>\n",
       "      <td>57</td>\n",
       "      <td>0</td>\n",
       "      <td>0</td>\n",
       "      <td>120</td>\n",
       "      <td>354</td>\n",
       "      <td>0</td>\n",
       "      <td>1</td>\n",
       "      <td>163</td>\n",
       "      <td>1</td>\n",
       "      <td>0.6</td>\n",
       "      <td>2</td>\n",
       "      <td>0</td>\n",
       "      <td>2</td>\n",
       "      <td>1</td>\n",
       "    </tr>\n",
       "  </tbody>\n",
       "</table>\n",
       "</div>"
      ],
      "text/plain": [
       "   age  sex  cp  trtbps  chol  fbs  restecg  thalachh  exng  oldpeak  slp  \\\n",
       "0   63    1   3     145   233    1        0       150     0      2.3    0   \n",
       "1   37    1   2     130   250    0        1       187     0      3.5    0   \n",
       "2   41    0   1     130   204    0        0       172     0      1.4    2   \n",
       "3   56    1   1     120   236    0        1       178     0      0.8    2   \n",
       "4   57    0   0     120   354    0        1       163     1      0.6    2   \n",
       "\n",
       "   caa  thall  output  \n",
       "0    0      1       1  \n",
       "1    0      2       1  \n",
       "2    0      2       1  \n",
       "3    0      2       1  \n",
       "4    0      2       1  "
      ]
     },
     "execution_count": 57,
     "metadata": {},
     "output_type": "execute_result"
    }
   ],
   "source": [
    "#https://github.com/Kaggle/kaggle-api\n",
    "#! pip install kaggle\n",
    "import os\n",
    " \n",
    "os.environ['KAGGLE_USERNAME'] = 'andres1984'\n",
    "os.environ['KAGGLE_KEY'] = '65afb330684a93e7601152c53334e4a0'\n",
    " \n",
    "from kaggle.api.kaggle_api_extended import KaggleApi\n",
    " \n",
    "dataset = 'rashikrahmanpritom/heart-attack-analysis-prediction-dataset'\n",
    "path = 'datasets/heart-attack'\n",
    " \n",
    "api = KaggleApi()\n",
    "api.authenticate()\n",
    " \n",
    "api.dataset_download_files(dataset, path)\n",
    " \n",
    "api.dataset_download_file(dataset, 'heart.csv', path)\n",
    "\n",
    "api.dataset_download_file(dataset, 'o2Saturation.csv', path)\n",
    "\n",
    "import pandas as pd\n",
    "\n",
    "df = pd.read_csv(r\"datasets/heart-attack/heart.csv\")\n",
    "\n",
    "df.head()"
   ]
  },
  {
   "cell_type": "markdown",
   "id": "390e0f48",
   "metadata": {
    "cell_id": "00072-3b424965-1545-4de2-97c9-ff31ebe27f97",
    "deepnote_cell_height": 61,
    "deepnote_cell_type": "markdown"
   },
   "source": [
    "### Función read_csv() (Próxima sesión)"
   ]
  },
  {
   "cell_type": "markdown",
   "id": "119b0ab4",
   "metadata": {
    "cell_id": "00073-ba84cb29-a156-426d-8080-fba06df2e695",
    "deepnote_cell_height": 529,
    "deepnote_cell_type": "markdown"
   },
   "source": [
    "## Ejercicios\n",
    "\n",
    "\n",
    "1. Construir una lista con 1000 número aleatorios normales con media 20 y desviación típica 3. Hallar las principales estadísticas.\n",
    "2. Halle los coeficientes de regresión lienal para [source](https://datatofish.com/multiple-linear-regression-python/):\n",
    "    + Y=index_price=[1464,1394,1357,1293,1256,1254,1234,1195,1159,1167,1130,1075,1047,965,943,958,971,949,884,866,876,822,704,719], \n",
    "    + X1=interest_rate=[2.75,2.5,2.5,2.5,2.5,2.5,2.5,2.25,2.25,2.25,2,2,2,1.75,1.75,1.75,1.75,1.75,1.75,1.75,1.75,1.75,1.75,1.75], \n",
    "    + X2=unemployment_rate=[5.3,5.3,5.3,5.3,5.4,5.6,5.5,5.5,5.5,5.6,5.7,5.9,6,5.9,5.8,6.1,6.2,6.1,6.1,6.1,5.9,6.2,6.2,6.1]\n",
    "\n",
    "3. Convierta el siguiente diccionario en DF y ordene ascendentemente por Fee', 'Discount'.\n",
    ">technologies = ({\n",
    "    'Courses':[\"Spark\",\"Hadoop\",\"pandas\",\"Oracle\",\"Java\"],\n",
    "    'Fee' :[20000,25000,26000,22000,20000],\n",
    "    'Duration':['30days','35days','40days','50days','60days'],\n",
    "    'Discount':[1000,2300,1500,1200,2500]})\n",
    "    \n",
    "4. Cee un DF  agregando por Courses con el conjunto del punto 3, hallando media, desviación estandar de Fee, Conteo de los tipos de duración y la media de Discount. "
   ]
  }
 ],
 "metadata": {
  "deepnote": {},
  "deepnote_execution_queue": [],
  "deepnote_notebook_id": "98227a43-5092-4ef9-8421-65cb488dfd42",
  "hide_input": false,
  "ipub": {
   "titlepage": {
    "affiliation": "UNIR, Spain",
    "author": "Miller Janny Ariza Garzón",
    "email": "millerjanny.ariza@unir.net",
    "institution": [
     "UNIR"
    ],
    "logo": "https://www.unir.net/wp-content/uploads/2019/11/Unir_2021_logo.svg",
    "subtitle": "Sub-Title",
    "tagline": "A tagline for the report.",
    "title": "Taller de Herramientas de Jupyter Notebook"
   }
  },
  "kernelspec": {
   "display_name": "Python 3 (ipykernel)",
   "language": "python",
   "name": "python3"
  },
  "language_info": {
   "codemirror_mode": {
    "name": "ipython",
    "version": 3
   },
   "file_extension": ".py",
   "mimetype": "text/x-python",
   "name": "python",
   "nbconvert_exporter": "python",
   "pygments_lexer": "ipython3",
   "version": "3.11.7"
  },
  "latex_envs": {
   "LaTeX_envs_menu_present": true,
   "autoclose": false,
   "autocomplete": true,
   "bibliofile": "bibliography.bib",
   "cite_by": "apalike",
   "current_citInitial": 1,
   "eqLabelWithNumbers": true,
   "eqNumInitial": 1,
   "hotkeys": {
    "equation": "Ctrl-E",
    "itemize": "Ctrl-I"
   },
   "labels_anchors": false,
   "latex_user_defs": false,
   "report_style_numbering": false,
   "user_envs_cfg": false
  },
  "latex_metadata": {
   "affiliation": "UNIR, Spain",
   "author": "Miller Janny Ariza Garzón",
   "title": "Taller de Herramientas de Jupyter Notebook"
  },
  "toc": {
   "base_numbering": 1,
   "nav_menu": {
    "height": "240px",
    "width": "208px"
   },
   "number_sections": true,
   "sideBar": true,
   "skip_h1_title": true,
   "title_cell": "Tabla de Contenido",
   "title_sidebar": "Contenido",
   "toc_cell": false,
   "toc_position": {
    "height": "148px",
    "left": "30px",
    "top": "135.2px",
    "width": "288.517px"
   },
   "toc_section_display": true,
   "toc_window_display": true
  }
 },
 "nbformat": 4,
 "nbformat_minor": 5
}

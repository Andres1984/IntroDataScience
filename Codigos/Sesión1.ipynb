{
 "cells": [
  {
   "cell_type": "markdown",
   "metadata": {
    "ExecuteTime": {
     "end_time": "2021-11-09T20:16:03.708359Z",
     "start_time": "2021-11-09T20:16:03.379308Z"
    },
    "cell_id": "35c5f05500bd479198898fac3e3e6be8",
    "deepnote_cell_height": 45.71875,
    "deepnote_cell_type": "markdown",
    "deletable": false,
    "scrolled": false
   },
   "source": [
    "<img src=\"https://upload.wikimedia.org/wikipedia/commons/f/ff/Uexternado.jpg\" width=\"240\" height=\"240\" align=\"right\"/>"
   ]
  },
  {
   "cell_type": "markdown",
   "metadata": {
    "cell_id": "271dcbba268e4c7f8f99908b93a0f418",
    "deepnote_cell_height": 183.609375,
    "deepnote_cell_type": "markdown"
   },
   "source": [
    "<center><h1>  Estadística Básica con Python. Con aplicaciones en toma de decisiones.</header1></centre><br>"
   ]
  },
  {
   "cell_type": "markdown",
   "metadata": {
    "caption": "somecaption",
    "cell_id": "49d0bd1ac90c49b6b203e2bf2c28767b",
    "deepnote_cell_height": 146.296875,
    "deepnote_cell_type": "markdown",
    "deletable": false,
    "label": "fig:somelabel",
    "widefigure": true
   },
   "source": [
    "<left><h1>Sesión 1. Introducción a Jupyter Notebook. Algunas Herramientas de Utilidad</header1></centre><br>"
   ]
  },
  {
   "cell_type": "markdown",
   "metadata": {
    "caption": "somecaption",
    "cell_id": "3b950443135849da99c5034204fc1c0e",
    "deepnote_cell_height": 94.90625,
    "deepnote_cell_type": "markdown",
    "deletable": false,
    "label": "fig:somelabel",
    "widefigure": true
   },
   "source": [
    "Miller Janny Ariza Garzón <br>\n",
    "Septiembre de 2022"
   ]
  },
  {
   "cell_type": "markdown",
   "metadata": {
    "cell_id": "10d6b1b98d474405b22f530a33fe9cb3",
    "deepnote_cell_height": 139.609375,
    "deepnote_cell_type": "markdown"
   },
   "source": [
    "1.\tPython, Jupyter notebooks. Instalación (anaconda), introducción, formato, funcionalidades principales, markdown, latex, extensiones. \n",
    "2.\tLibrerías, módulos y funciones\n",
    "3.\tTipos de objetos. Funcionalidades básicas de Python. "
   ]
  },
  {
   "cell_type": "markdown",
   "metadata": {
    "cell_id": "faba3d1d41684c848353321c5bfdd97e",
    "deepnote_cell_height": 5311.390625,
    "deepnote_cell_type": "markdown"
   },
   "source": [
    "## ¿Qué es Python?\n",
    "\n",
    "><figure><center>\n",
    "  <img src=\"https://www.python.org/static/img/python-logo@2x.png\" alt=\"jupyter.org\" width=600 height=600/>\n",
    "</center></figure> \n",
    "\n",
    "\n",
    "Python es un lenguaje que posee una licencia de código abierto, es un lenguaje de programación versátil y orientado a objetos de propósito general, como Javascript o c++, alabado por su facilidad de comprensión y su sintaxis sencilla. Introducido inicialmente en 1991, diseñado por Guido van Rossum, es el lenguaje de programación de más rápido crecimiento en todo el mundo, además de ser muy accesible para los principiantes.\n",
    "\n",
    "><figure><center>\n",
    "  <img src=\"https://perlcgi-book.com/wp-content/uploads/2020/04/guido-van-rossum-1090x613.jpg\" alt=\"jupyter.org\" width=400 height=400/>\n",
    "  <figcaption>Guido van Rossum, creador del lenguaje de programación Python.<a href=\"https://perlcgi-book.com/tag/guido-van-rossum/\"> Source</a></figcaption>\n",
    "</center></figure> \n",
    "\n",
    "\n",
    "\n",
    "Es ideal para implementar algoritmos de aprendizaje automático (ML), resolver una amplia gama de problemas en diferentes áreas, desarrollar aplicaciones de visión por ordenador y redes neuronales, extraer grandes cantidades de datos de la web y desplegar tareas de ciencia de datos en proyectos de gran magnitud.\n",
    "\n",
    "Python proporciona un amplio e impresionante conjunto de marcos y bibliotecas para la inteligencia artificial, aprendizaje automático, ciencia de los datos y el desarrollo de software. Algunas de las bibliotecas de ciencia de datos de python son:\n",
    "\n",
    "   + [NumPy](https://numpy.org/) (for scientific computing-large multidimensional vectors and matrices)\n",
    "   + [Pandas](https://pandas.pydata.org/) (Dataframes, Data Exploration, visualization and analysis)\n",
    "   + [Scikit-learn](https://scikit-learn.org/stable/) ((Machine Learning))\n",
    "   + [Statmodels](https://www.statsmodels.org/stable/index.html) (Statistical models)\n",
    "   + [Scipy](https://scipy.org/) (Scientific Python)\n",
    "   + [Matplotlib](https://matplotlib.org/) (exploration and data visualization)\n",
    "   + [Seaborn](https://seaborn.pydata.org/) (statistical data visualization)\n",
    "   + [Plotly](https://plotly.com/python/) (data visualization)\n",
    "   + [TensorFlow](https://www.tensorflow.org/learn) (Numerical computing and Machine Learning)\n",
    "   + [Keras](https://keras.io/) (RNA)   \n",
    "\n",
    "Algunas compañias que que confian Python en la gestión de su negocio:\n",
    "+ Google\n",
    "+ Industrial Light and Magic\n",
    "+ Facebook\n",
    "+ Instagram\n",
    "+ Spotify\n",
    "+ Quora\n",
    "+ Netflix\n",
    "+ Dropbox\n",
    "\n",
    "## Python vs Otras opciones\n",
    "\n",
    "><figure><center>\n",
    "  <img src=\"http://businessoverbroadway.com/wp-content/uploads/2020/06/Kaggle_Programming_2019.png\" alt=\"jupyter.org\" width=400 height=400/>\n",
    "  <figcaption>Programming languages used in 2019.<a href=\"http://businessoverbroadway.com/2020/06/29/usage-of-programming-languages-by-data-scientists-python-grows-while-r-weakens/#:~:text=Most%20Popular%20Programming%20Languages,-The%20survey%20included&text=As%20seen%20in%20Figure%201,%2C%20C%2C%20MATLAB%20and%20TypeScript.\"> Source</a></figcaption>\n",
    "</center></figure> \n",
    "\n",
    "><figure><center>\n",
    "  <img src=\"https://i0.wp.com/r4stats.com/wp-content/uploads/2019/05/Fig-1a-IndeedJobs-2019-1.png?w=650&ssl=1\" alt=\"jupyter.org\" width=400 height=400/>\n",
    "  <figcaption>Number of data science jobs for the more popular software (2019).<a href=\"https://r4stats.com/articles/popularity/\"> Source</a></figcaption>\n",
    "</center></figure> \n",
    "\n",
    "><figure><center>\n",
    "  <img src=\"https://www.glassdoor.com/research/app/uploads/sites/2/2019/10/GD_DataScienceSkills_Chart_1500pxWide_2X.jpg\" alt=\"jupyter.org\" width=400 height=400/>\n",
    "  <figcaption>The Ten Most Common Data Science Skills in Job Postings (2017).<a href=\"https://www.glassdoor.com/research/data-scientist-personas/\"> Source</a></figcaption>\n",
    "</center></figure> \n",
    "\n",
    "\n",
    "## Filosofía de Python\n",
    "\n",
    "El objetivo principal del lenguaje Python era que fuese fácil de entender, de programar, con código más legible que los lenguajes de su momento C++ y Java. Para lograr este objetivo, el desarrollador Tim Peters creó el **Zen de Python**, que define un conjunto de reglas que representan la filosofía de Python. \n",
    "\n",
    "+ Bonito es mejor que feo.\n",
    "+ Explícito es mejor que implícito.\n",
    "+ Simple es mejor que complejo.\n",
    "+ Complejo es mejor que complicado.\n",
    "+ Plano es mejor que anidado.\n",
    "+ Disperso es mejor que denso.\n",
    "+ La legibilidad cuenta.\n",
    "+ Los casos especiales no son tan especiales como para romper las reglas.\n",
    "+ Aunque la practicidad vence a la pureza.\n",
    "+ Los errores nunca deberían pasarse por alto.\n",
    "+ A menos que esté explícitamente pasado por alto.\n",
    "+ En caso de ambigüedad, rechaza la tentación de adivinar.\n",
    "+ Tendría que haber un — y preferiblemente únicamente uno — camino obvio para hacerlo.\n",
    "+ Aunque ese camino puede no ser obvio la primera vez, a menos que seas holandés.\n",
    "+ Ahora es mejor que nunca.\n",
    "+ Aunque nunca es, en algunos casos, mejor que ahora mismo.\n",
    "+ Si la implementación es difícil de explicar, es una mala idea.\n",
    "+ Si la implementación es fácil de explicar, puede que sea una buena idea.\n",
    "+ Los namespaces (espacio de nombres) son una gran idea — ¡hagamos más de estos!\n",
    "\n",
    "«import this» fue originalmente el eslogan de la Conferencia Internacional de Python (10) (International Python Conference, IPC, predecedor de PyCon). [Aquí](https://pybaq.co/blog/el-zen-de-python-explicado/), una de las explicaicones del zen de Python en español."
   ]
  },
  {
   "cell_type": "code",
   "execution_count": null,
   "metadata": {
    "ExecuteTime": {
     "end_time": "2022-09-02T08:22:35.776904Z",
     "start_time": "2022-09-02T08:22:35.763905Z"
    },
    "cell_id": "217390c008af4e50a5195fbec08272a1",
    "deepnote_cell_height": 60.6875,
    "deepnote_cell_type": "code"
   },
   "outputs": [],
   "source": [
    "import this"
   ]
  },
  {
   "cell_type": "markdown",
   "metadata": {
    "cell_id": "0357d6b6445e4586ad12117220901e9d",
    "deepnote_cell_height": 116.65625,
    "deepnote_cell_type": "markdown"
   },
   "source": [
    "Siguiendo esta filosofía propuesta en el Zen de Python, se creó una guía de estilo que se encuentra descrita en el Python Enhancement Proposal, abreviado como PEP, versión 8 ([PEP8](https://peps.python.org/pep-0008/)). En ese documento se encuentran algunas reglas de estilo que se aplicaron a la hora de desarrollar Python para que se sigan en el desarrollo de nuevas aplicaciones. Nosotros explicaremos más adelante algunas de estas reglas.\n",
    "\n"
   ]
  },
  {
   "cell_type": "markdown",
   "metadata": {
    "cell_id": "c7350e1c09ce409fbc73cce698f57c3e",
    "deepnote_cell_height": 2833.0625,
    "deepnote_cell_type": "markdown"
   },
   "source": [
    "## Anaconda\n",
    "\n",
    "><figure><center>\n",
    "  <img src=\"https://pydata.org/berlin2018/media/sponsor_files/Anaconda_stacked_RGB.png\" alt=\"jupyter.org\" width=200 height=200/>\n",
    "</center></figure> \n",
    "\n",
    "Anaconda es una Suite de código abierto que abarca una serie de aplicaciones, librerías y conceptos diseñados para el desarrollo de la Ciencia de datos (principalmente con Python).Funciona como un gestor de entorno y de paquetes (+720).\n",
    "\n",
    "\n",
    "### Instalación de nuevos modulos o librerias\n",
    "\n",
    "Aunque la distribución de Anaconda incluye funcionalidades de los módulos y paquetes básicos de Python, no están incluidos todos. Puede ser necesario instalarlos en nuestra distribución. Para instalar estos nuevos paquetes, podemos utilizar la opción de instalación que tenemos desde el símbolo del sistema: conda install nombre_paquete. \n",
    "\n",
    "Por ejemplo, vamos a instalar el módulo scikit-learn en nuestro sistema, lo hacemos con \"conda install scikit-learn\".\n",
    "\n",
    "copia este código en la terminal de tu computador\n",
    "\n",
    "\"conda install scikit-learn\""
   ]
  },
  {
   "cell_type": "markdown",
   "metadata": {
    "cell_id": "d0cf5aa30c264fe7b7ebfd1dd6d777db",
    "deepnote_cell_height": 69.6875,
    "deepnote_cell_type": "markdown"
   },
   "source": [
    "## Jupyter Notebook"
   ]
  },
  {
   "cell_type": "markdown",
   "metadata": {
    "caption": "somecaption",
    "cell_id": "f2c8846c844b48c7a37f464bc827a8dd",
    "deepnote_cell_height": 374.046875,
    "deepnote_cell_type": "markdown",
    "deletable": false,
    "label": "fig:somelabel",
    "widefigure": true
   },
   "source": [
    "<figure><center>\n",
    "  <img src=\"https://jupyter.org/assets/homepage/main-logo.svg\" alt=\"jupyter.org\" width=150 height=150/>\n",
    "  <figcaption>jupyter.org</figcaption>\n",
    "</figure><center>"
   ]
  },
  {
   "cell_type": "markdown",
   "metadata": {
    "ExecuteTime": {
     "end_time": "2021-11-03T09:27:52.438118Z",
     "start_time": "2021-11-03T09:27:52.421087Z"
    },
    "cell_id": "f2e07f61feae4ecba5f3496da141725d",
    "deepnote_cell_height": 780.515625,
    "deepnote_cell_type": "markdown"
   },
   "source": [
    "De manera simplificada **Jupyter** notebook (una evolución de Ipython Notebook) es una aplicación web de código abierto, que permite el procesamiento de código en vivo (interactivo), datos, ecuaciones, material multimedia y texto de manera estructurada. Se puede crear y procesar información con todos estos elementos, manteniendo la estética de un buen documento. Permite también el trabajo conjunto de proyectos y documentos, potenciando el trabajo colaborativo.  \n",
    "Se construyen documentos entendibles, con procesos repetibles, generando transparencia, oportunidades de reprocesos, generación de alertas, generación de informes, entre otros aspectos. Permite desarrollar documentos con la entrada y salida interactiva de códigos construidos para el proceso, depuración y la transformación de datos, el modelado, el uso de herramientas de IA, la visualización, incluyendo información y explicación de la metodología y de los pasos usados para cada proceso o tarea. En resumen, sus principales usos son:\n",
    "\n",
    "+ Data cleaning \n",
    "+ Data transformation \n",
    "+ Numerical simulation \n",
    "+ Statistical modeling \n",
    "+ Data visualization \n",
    "+ Machine learning\n",
    "+ Deep learning\n",
    "+ XAI\n",
    "\n",
    "Jupyter fue inicialmente creado para la unificación de los kernels Julia, Python y R; Jupyter (as in **Ju** (Julia) - **py** (Python) - te**R** (R)), pero hoy admite al menos 40 kernels diferentes. Nosotros utilizaremos Python.\n",
    "\n",
    "\n",
    "Algunos enlaces de interes:\n",
    "https://jupyter.org/,\n",
    "https://www.anaconda.com/.    \n",
    "[Instalación](https://jupyter.org/install), \n",
    "[Guía de instalación en Youtube](https://www.youtube.com/watch?v=LrMOrMb8-3s),\n",
    "[Instalación de kernels](https://test-jupyter.readthedocs.io/en/latest/install-kernel.html#id2),  \n",
    "[Documentación general de Jupyter Notebook](https://jupyter-notebook.readthedocs.io/en/stable/notebook.html).\n",
    "En este [enlace](https://jupyter.org/try) puede probar Jupyter sin tener que instalarlo.\n",
    "\n",
    "<p style='text-align: justify;'> \n",
    "En particular, con este notebook repasaremos los elementos básicos de Jupyter y algunas herramientas para facilitar y optimizar su uso. Entre otros elementos, revisaremos herramientas de generación de código, interacción, edición y de visualización de notebooks, buscando que queden “bien” presentados y formateados. \n",
    "</p>"
   ]
  },
  {
   "cell_type": "markdown",
   "metadata": {
    "cell_id": "265d5b2abbfe432d9a3499be624d1ba0",
    "deepnote_cell_height": 1061.421875,
    "deepnote_cell_type": "markdown"
   },
   "source": [
    "### El entorno de desarrollo Jupyter Notebook\n",
    "\n",
    "`Jupyter notebook` ofrece una herramienta de ejecución interactiva con la cual es posible dar órdenes directamente al intérprete de Python y obtener una respuesta inmediata para cada una de ellas.\n",
    "\n",
    "[Jupyter Notebook](http://jupyter.org) es una aplicación web que permite crear documentos que contienen código y  texto (entre otros elementos).  Estos documentos se visualizan con el navegador (Explorer, Chrome, Firefox, ...).\n",
    "\n"
   ]
  },
  {
   "cell_type": "markdown",
   "metadata": {
    "cell_id": "5b43d87b95a54d589f171023cb8bbe92",
    "deepnote_cell_height": 45.71875,
    "deepnote_cell_type": "markdown"
   },
   "source": [
    "---"
   ]
  },
  {
   "cell_type": "markdown",
   "metadata": {
    "cell_id": "e65da88c4cf14856b71d1696c1acde04",
    "deepnote_cell_height": 1360.140625,
    "deepnote_cell_type": "markdown"
   },
   "source": [
    "### Elementos Básicos\n",
    "\n",
    "\n",
    "Jupyter Notebook está conformado por una serie de celdas que pueden almacenar texto o código. Las celdas conforman un notebook. Las principales celdas de un Jupyter Notebook son `Markdown` y `Code`.\n",
    "\n",
    "+ Las celdas `Markdown` te permiten describir, explicar y documentar los procesos en la sintaxis Markdown o HTML.\n",
    "+ las celdas de código `Code` te permiten escribir y ejecutar código de programas como Python o R.\n",
    "\n",
    "\n",
    "\n",
    "     \n",
    "Más información sobre los tipos de celdas, la creación de nuevos documentos y otros aspectos introductorios en [este enlace](https://jupyter-notebook.readthedocs.io/en/stable/notebook.html).\n"
   ]
  },
  {
   "cell_type": "markdown",
   "metadata": {
    "cell_id": "f9fb78645e3b4a59b86f50157b8aa06b",
    "deepnote_cell_height": 125.421875,
    "deepnote_cell_type": "markdown"
   },
   "source": [
    "\n",
    "> Ejemplos:\n",
    "\n",
    "    Notebook de Jupyter se puede trabajar de manera interactiva. La manera más básica de iniciarse es similar al uso de una calculadora:"
   ]
  },
  {
   "cell_type": "code",
   "execution_count": null,
   "metadata": {
    "ExecuteTime": {
     "end_time": "2022-09-04T13:10:12.848216Z",
     "start_time": "2022-09-04T13:10:12.829225Z"
    },
    "cell_id": "96732c43fe384d86a31c4784fd8f5476",
    "deepnote_cell_height": 159.6875,
    "deepnote_cell_type": "code"
   },
   "outputs": [
    {
     "name": "stdout",
     "output_type": "stream",
     "text": [
      "8 4\n"
     ]
    }
   ],
   "source": [
    "#celda code (color verde)\n",
    "x = 3 + 5\n",
    "z = 4\n",
    "print(x,z)"
   ]
  },
  {
   "cell_type": "markdown",
   "metadata": {
    "ExecuteTime": {
     "end_time": "2022-09-03T22:38:45.628041Z",
     "start_time": "2022-09-03T22:38:45.609040Z"
    },
    "cell_id": "19f4e64090e2433a8ebf73c906e43b26",
    "deepnote_cell_height": 87.171875,
    "deepnote_cell_type": "markdown"
   },
   "source": [
    "'''#celda markdown (color azul)'''\n",
    "\n",
    "Esta es una celda markdown."
   ]
  },
  {
   "cell_type": "markdown",
   "metadata": {
    "cell_id": "0fb48ed55cee4d6697f29977e17f6873",
    "deepnote_cell_height": 45.71875,
    "deepnote_cell_type": "markdown"
   },
   "source": [
    "---"
   ]
  },
  {
   "cell_type": "markdown",
   "metadata": {
    "cell_id": "b683525a72ac44d9a1a5040abaa32801",
    "deepnote_cell_height": 307.671875,
    "deepnote_cell_type": "markdown"
   },
   "source": [
    "### Llamar módulos\n",
    "\n",
    "Existen miles de librerías de Python para resolver problemas en las áreas más diversas, tales como cálculos matemáticos, procesamiento de lenguaje natural, estadística, conexión con bases de datos, redes neuronales, procesamiento de imágenes, gráficos, web scraping, estructuras de datos, machine learning, ...\n",
    "\n",
    "> Para esto en celdas 'code' usamos: \n",
    "\n",
    "    import módulo\n",
    "\n",
    "> o con alias: \n",
    "\n",
    "    import módulo as alias"
   ]
  },
  {
   "cell_type": "code",
   "execution_count": null,
   "metadata": {
    "ExecuteTime": {
     "end_time": "2022-09-04T13:17:11.571504Z",
     "start_time": "2022-09-04T13:17:11.555507Z"
    },
    "cell_id": "573d42a60c4e451794c31cbe03204b4c",
    "deepnote_cell_height": 195.671875,
    "deepnote_cell_type": "code"
   },
   "outputs": [
    {
     "name": "stdout",
     "output_type": "stream",
     "text": [
      "0.5000000000000001\n"
     ]
    }
   ],
   "source": [
    "# Ejemplo\n",
    "# Importación del módulo math:\n",
    "import math\n",
    "\n",
    "# se usa una función (cos) y una constante (pi) definida en dicho módulo:\n",
    "print(math.cos(math.pi/3))"
   ]
  },
  {
   "cell_type": "code",
   "execution_count": null,
   "metadata": {
    "ExecuteTime": {
     "end_time": "2022-09-04T13:17:55.089635Z",
     "start_time": "2022-09-04T13:17:55.076634Z"
    },
    "cell_id": "0ee3c498f59a49f0b5a1a83e2b254855",
    "deepnote_cell_height": 159.6875,
    "deepnote_cell_type": "code"
   },
   "outputs": [
    {
     "name": "stdout",
     "output_type": "stream",
     "text": [
      "0.5000000000000001\n"
     ]
    }
   ],
   "source": [
    "# Ejemplo\n",
    "import math as mt\n",
    "\n",
    "print(mt.cos(mt.pi/3))"
   ]
  },
  {
   "cell_type": "code",
   "execution_count": null,
   "metadata": {
    "ExecuteTime": {
     "end_time": "2022-09-04T13:19:03.304813Z",
     "start_time": "2022-09-04T13:19:03.284803Z"
    },
    "cell_id": "282c843636f54befb418f50535505d44",
    "deepnote_cell_height": 177.6875,
    "deepnote_cell_type": "code"
   },
   "outputs": [
    {
     "name": "stdout",
     "output_type": "stream",
     "text": [
      "0.5000000000000001\n"
     ]
    }
   ],
   "source": [
    "#otra forma de hacerlo importando la función y la constante únicamente\n",
    "from math import cos\n",
    "from math import pi\n",
    "\n",
    "print(cos(pi/3))"
   ]
  },
  {
   "cell_type": "code",
   "execution_count": null,
   "metadata": {
    "ExecuteTime": {
     "end_time": "2022-09-03T23:05:36.789501Z",
     "start_time": "2022-09-03T23:05:36.781500Z"
    },
    "cell_id": "1a66db3b07734b849e68157aa66e0dff",
    "deepnote_cell_height": 96.6875,
    "deepnote_cell_type": "code"
   },
   "outputs": [],
   "source": [
    "#otro ejemplo\n",
    "import math\n",
    "math.sqrt(27)"
   ]
  },
  {
   "cell_type": "code",
   "execution_count": null,
   "metadata": {
    "ExecuteTime": {
     "end_time": "2022-09-04T13:19:37.611130Z",
     "start_time": "2022-09-04T13:19:37.557130Z"
    },
    "cell_id": "80872bae90fe4ec182311697fee2b66f",
    "deepnote_cell_height": 129.671875,
    "deepnote_cell_type": "code",
    "deepnote_output_heights": [
     20.109375
    ]
   },
   "outputs": [
    {
     "data": {
      "text/plain": [
       "3.0"
      ]
     },
     "execution_count": 9,
     "metadata": {},
     "output_type": "execute_result"
    }
   ],
   "source": [
    "import math as m\n",
    "m.sqrt(9)"
   ]
  },
  {
   "cell_type": "code",
   "execution_count": null,
   "metadata": {
    "ExecuteTime": {
     "end_time": "2022-09-04T13:19:48.794875Z",
     "start_time": "2022-09-04T13:19:48.773878Z"
    },
    "cell_id": "f34854b76b3e409faa83b32a51d5038b",
    "deepnote_cell_height": 129.671875,
    "deepnote_cell_type": "code",
    "deepnote_output_heights": [
     20.109375
    ]
   },
   "outputs": [
    {
     "data": {
      "text/plain": [
       "5.196152422706632"
      ]
     },
     "execution_count": 10,
     "metadata": {},
     "output_type": "execute_result"
    }
   ],
   "source": [
    "from math import sqrt\n",
    "sqrt(27)"
   ]
  },
  {
   "cell_type": "markdown",
   "metadata": {
    "ExecuteTime": {
     "end_time": "2022-09-03T23:08:20.003147Z",
     "start_time": "2022-09-03T23:08:19.992149Z"
    },
    "cell_id": "55f3036e2def4787a7f99625e433f926",
    "deepnote_cell_height": 109.515625,
    "deepnote_cell_type": "markdown"
   },
   "source": [
    "####  La función `dir`\n",
    "La función incorporada `dir` se usa para averiguar qué nombres define un módulo o librería. Devuelve una lista ordenada de cadenas:"
   ]
  },
  {
   "cell_type": "code",
   "execution_count": null,
   "metadata": {
    "ExecuteTime": {
     "end_time": "2022-09-04T13:21:01.448485Z",
     "start_time": "2022-09-04T13:21:01.422494Z"
    },
    "cell_id": "8c168abcc0634be7acc0f08760398166",
    "deepnote_cell_height": 701.5625,
    "deepnote_cell_type": "code",
    "deepnote_output_heights": [
     610
    ]
   },
   "outputs": [
    {
     "data": {
      "text/plain": [
       "['__doc__',\n",
       " '__loader__',\n",
       " '__name__',\n",
       " '__package__',\n",
       " '__spec__',\n",
       " 'acos',\n",
       " 'acosh',\n",
       " 'asin',\n",
       " 'asinh',\n",
       " 'atan',\n",
       " 'atan2',\n",
       " 'atanh',\n",
       " 'ceil',\n",
       " 'comb',\n",
       " 'copysign',\n",
       " 'cos',\n",
       " 'cosh',\n",
       " 'degrees',\n",
       " 'dist',\n",
       " 'e',\n",
       " 'erf',\n",
       " 'erfc',\n",
       " 'exp',\n",
       " 'expm1',\n",
       " 'fabs',\n",
       " 'factorial',\n",
       " 'floor',\n",
       " 'fmod',\n",
       " 'frexp',\n",
       " 'fsum',\n",
       " 'gamma',\n",
       " 'gcd',\n",
       " 'hypot',\n",
       " 'inf',\n",
       " 'isclose',\n",
       " 'isfinite',\n",
       " 'isinf',\n",
       " 'isnan',\n",
       " 'isqrt',\n",
       " 'ldexp',\n",
       " 'lgamma',\n",
       " 'log',\n",
       " 'log10',\n",
       " 'log1p',\n",
       " 'log2',\n",
       " 'modf',\n",
       " 'nan',\n",
       " 'perm',\n",
       " 'pi',\n",
       " 'pow',\n",
       " 'prod',\n",
       " 'radians',\n",
       " 'remainder',\n",
       " 'sin',\n",
       " 'sinh',\n",
       " 'sqrt',\n",
       " 'tan',\n",
       " 'tanh',\n",
       " 'tau',\n",
       " 'trunc']"
      ]
     },
     "execution_count": 11,
     "metadata": {},
     "output_type": "execute_result"
    }
   ],
   "source": [
    "dir(math)"
   ]
  },
  {
   "cell_type": "markdown",
   "metadata": {
    "ExecuteTime": {
     "end_time": "2022-09-03T23:09:46.551736Z",
     "start_time": "2022-09-03T23:09:46.540731Z"
    },
    "cell_id": "f04af6aed9ae4db38974e83009419e8b",
    "deepnote_cell_height": 87.78125,
    "deepnote_cell_type": "markdown"
   },
   "source": [
    "####  La función `help`\n",
    "La función incorporada `help` se usa para averiguar la documentación detallada de un módulo o librería."
   ]
  },
  {
   "cell_type": "code",
   "execution_count": null,
   "metadata": {
    "ExecuteTime": {
     "end_time": "2022-09-04T13:22:30.067599Z",
     "start_time": "2022-09-04T13:22:29.998240Z"
    },
    "cell_id": "f0c0e280e1194ed09977a49222e72bb4",
    "deepnote_cell_height": 695.546875,
    "deepnote_cell_type": "code"
   },
   "outputs": [
    {
     "name": "stdout",
     "output_type": "stream",
     "text": [
      "Help on built-in module math:\n",
      "\n",
      "NAME\n",
      "    math\n",
      "\n",
      "DESCRIPTION\n",
      "    This module provides access to the mathematical functions\n",
      "    defined by the C standard.\n",
      "\n",
      "FUNCTIONS\n",
      "    acos(x, /)\n",
      "        Return the arc cosine (measured in radians) of x.\n",
      "    \n",
      "    acosh(x, /)\n",
      "        Return the inverse hyperbolic cosine of x.\n",
      "    \n",
      "    asin(x, /)\n",
      "        Return the arc sine (measured in radians) of x.\n",
      "    \n",
      "    asinh(x, /)\n",
      "        Return the inverse hyperbolic sine of x.\n",
      "    \n",
      "    atan(x, /)\n",
      "        Return the arc tangent (measured in radians) of x.\n",
      "    \n",
      "    atan2(y, x, /)\n",
      "        Return the arc tangent (measured in radians) of y/x.\n",
      "        \n",
      "        Unlike atan(y/x), the signs of both x and y are considered.\n",
      "    \n",
      "    atanh(x, /)\n",
      "        Return the inverse hyperbolic tangent of x.\n",
      "    \n",
      "    ceil(x, /)\n",
      "        Return the ceiling of x as an Integral.\n",
      "        \n",
      "        This is the smallest integer >= x.\n",
      "    \n",
      "    comb(n, k, /)\n",
      "        Number of ways to choose k items from n items without repetition and without order.\n",
      "        \n",
      "        Evaluates to n! / (k! * (n - k)!) when k <= n and evaluates\n",
      "        to zero when k > n.\n",
      "        \n",
      "        Also called the binomial coefficient because it is equivalent\n",
      "        to the coefficient of k-th term in polynomial expansion of the\n",
      "        expression (1 + x)**n.\n",
      "        \n",
      "        Raises TypeError if either of the arguments are not integers.\n",
      "        Raises ValueError if either of the arguments are negative.\n",
      "    \n",
      "    copysign(x, y, /)\n",
      "        Return a float with the magnitude (absolute value) of x but the sign of y.\n",
      "        \n",
      "        On platforms that support signed zeros, copysign(1.0, -0.0)\n",
      "        returns -1.0.\n",
      "    \n",
      "    cos(x, /)\n",
      "        Return the cosine of x (measured in radians).\n",
      "    \n",
      "    cosh(x, /)\n",
      "        Return the hyperbolic cosine of x.\n",
      "    \n",
      "    degrees(x, /)\n",
      "        Convert angle x from radians to degrees.\n",
      "    \n",
      "    dist(p, q, /)\n",
      "        Return the Euclidean distance between two points p and q.\n",
      "        \n",
      "        The points should be specified as sequences (or iterables) of\n",
      "        coordinates.  Both inputs must have the same dimension.\n",
      "        \n",
      "        Roughly equivalent to:\n",
      "            sqrt(sum((px - qx) ** 2.0 for px, qx in zip(p, q)))\n",
      "    \n",
      "    erf(x, /)\n",
      "        Error function at x.\n",
      "    \n",
      "    erfc(x, /)\n",
      "        Complementary error function at x.\n",
      "    \n",
      "    exp(x, /)\n",
      "        Return e raised to the power of x.\n",
      "    \n",
      "    expm1(x, /)\n",
      "        Return exp(x)-1.\n",
      "        \n",
      "        This function avoids the loss of precision involved in the direct evaluation of exp(x)-1 for small x.\n",
      "    \n",
      "    fabs(x, /)\n",
      "        Return the absolute value of the float x.\n",
      "    \n",
      "    factorial(x, /)\n",
      "        Find x!.\n",
      "        \n",
      "        Raise a ValueError if x is negative or non-integral.\n",
      "    \n",
      "    floor(x, /)\n",
      "        Return the floor of x as an Integral.\n",
      "        \n",
      "        This is the largest integer <= x.\n",
      "    \n",
      "    fmod(x, y, /)\n",
      "        Return fmod(x, y), according to platform C.\n",
      "        \n",
      "        x % y may differ.\n",
      "    \n",
      "    frexp(x, /)\n",
      "        Return the mantissa and exponent of x, as pair (m, e).\n",
      "        \n",
      "        m is a float and e is an int, such that x = m * 2.**e.\n",
      "        If x is 0, m and e are both 0.  Else 0.5 <= abs(m) < 1.0.\n",
      "    \n",
      "    fsum(seq, /)\n",
      "        Return an accurate floating point sum of values in the iterable seq.\n",
      "        \n",
      "        Assumes IEEE-754 floating point arithmetic.\n",
      "    \n",
      "    gamma(x, /)\n",
      "        Gamma function at x.\n",
      "    \n",
      "    gcd(x, y, /)\n",
      "        greatest common divisor of x and y\n",
      "    \n",
      "    hypot(...)\n",
      "        hypot(*coordinates) -> value\n",
      "        \n",
      "        Multidimensional Euclidean distance from the origin to a point.\n",
      "        \n",
      "        Roughly equivalent to:\n",
      "            sqrt(sum(x**2 for x in coordinates))\n",
      "        \n",
      "        For a two dimensional point (x, y), gives the hypotenuse\n",
      "        using the Pythagorean theorem:  sqrt(x*x + y*y).\n",
      "        \n",
      "        For example, the hypotenuse of a 3/4/5 right triangle is:\n",
      "        \n",
      "            >>> hypot(3.0, 4.0)\n",
      "            5.0\n",
      "    \n",
      "    isclose(a, b, *, rel_tol=1e-09, abs_tol=0.0)\n",
      "        Determine whether two floating point numbers are close in value.\n",
      "        \n",
      "          rel_tol\n",
      "            maximum difference for being considered \"close\", relative to the\n",
      "            magnitude of the input values\n",
      "          abs_tol\n",
      "            maximum difference for being considered \"close\", regardless of the\n",
      "            magnitude of the input values\n",
      "        \n",
      "        Return True if a is close in value to b, and False otherwise.\n",
      "        \n",
      "        For the values to be considered close, the difference between them\n",
      "        must be smaller than at least one of the tolerances.\n",
      "        \n",
      "        -inf, inf and NaN behave similarly to the IEEE 754 Standard.  That\n",
      "        is, NaN is not close to anything, even itself.  inf and -inf are\n",
      "        only close to themselves.\n",
      "    \n",
      "    isfinite(x, /)\n",
      "        Return True if x is neither an infinity nor a NaN, and False otherwise.\n",
      "    \n",
      "    isinf(x, /)\n",
      "        Return True if x is a positive or negative infinity, and False otherwise.\n",
      "    \n",
      "    isnan(x, /)\n",
      "        Return True if x is a NaN (not a number), and False otherwise.\n",
      "    \n",
      "    isqrt(n, /)\n",
      "        Return the integer part of the square root of the input.\n",
      "    \n",
      "    ldexp(x, i, /)\n",
      "        Return x * (2**i).\n",
      "        \n",
      "        This is essentially the inverse of frexp().\n",
      "    \n",
      "    lgamma(x, /)\n",
      "        Natural logarithm of absolute value of Gamma function at x.\n",
      "    \n",
      "    log(...)\n",
      "        log(x, [base=math.e])\n",
      "        Return the logarithm of x to the given base.\n",
      "        \n",
      "        If the base not specified, returns the natural logarithm (base e) of x.\n",
      "    \n",
      "    log10(x, /)\n",
      "        Return the base 10 logarithm of x.\n",
      "    \n",
      "    log1p(x, /)\n",
      "        Return the natural logarithm of 1+x (base e).\n",
      "        \n",
      "        The result is computed in a way which is accurate for x near zero.\n",
      "    \n",
      "    log2(x, /)\n",
      "        Return the base 2 logarithm of x.\n",
      "    \n",
      "    modf(x, /)\n",
      "        Return the fractional and integer parts of x.\n",
      "        \n",
      "        Both results carry the sign of x and are floats.\n",
      "    \n",
      "    perm(n, k=None, /)\n",
      "        Number of ways to choose k items from n items without repetition and with order.\n",
      "        \n",
      "        Evaluates to n! / (n - k)! when k <= n and evaluates\n",
      "        to zero when k > n.\n",
      "        \n",
      "        If k is not specified or is None, then k defaults to n\n",
      "        and the function returns n!.\n",
      "        \n",
      "        Raises TypeError if either of the arguments are not integers.\n",
      "        Raises ValueError if either of the arguments are negative.\n",
      "    \n",
      "    pow(x, y, /)\n",
      "        Return x**y (x to the power of y).\n",
      "    \n",
      "    prod(iterable, /, *, start=1)\n",
      "        Calculate the product of all the elements in the input iterable.\n",
      "        \n",
      "        The default start value for the product is 1.\n",
      "        \n",
      "        When the iterable is empty, return the start value.  This function is\n",
      "        intended specifically for use with numeric values and may reject\n",
      "        non-numeric types.\n",
      "    \n",
      "    radians(x, /)\n",
      "        Convert angle x from degrees to radians.\n",
      "    \n",
      "    remainder(x, y, /)\n",
      "        Difference between x and the closest integer multiple of y.\n",
      "        \n",
      "        Return x - n*y where n*y is the closest integer multiple of y.\n",
      "        In the case where x is exactly halfway between two multiples of\n",
      "        y, the nearest even value of n is used. The result is always exact.\n",
      "    \n",
      "    sin(x, /)\n",
      "        Return the sine of x (measured in radians).\n",
      "    \n",
      "    sinh(x, /)\n",
      "        Return the hyperbolic sine of x.\n",
      "    \n",
      "    sqrt(x, /)\n",
      "        Return the square root of x.\n",
      "    \n",
      "    tan(x, /)\n",
      "        Return the tangent of x (measured in radians).\n",
      "    \n",
      "    tanh(x, /)\n",
      "        Return the hyperbolic tangent of x.\n",
      "    \n",
      "    trunc(x, /)\n",
      "        Truncates the Real x to the nearest Integral toward 0.\n",
      "        \n",
      "        Uses the __trunc__ magic method.\n",
      "\n",
      "DATA\n",
      "    e = 2.718281828459045\n",
      "    inf = inf\n",
      "    nan = nan\n",
      "    pi = 3.141592653589793\n",
      "    tau = 6.283185307179586\n",
      "\n",
      "FILE\n",
      "    (built-in)\n",
      "\n",
      "\n"
     ]
    }
   ],
   "source": [
    "help(math)"
   ]
  },
  {
   "cell_type": "code",
   "execution_count": null,
   "metadata": {
    "ExecuteTime": {
     "end_time": "2022-09-04T13:24:32.726603Z",
     "start_time": "2022-09-04T13:24:32.714591Z"
    },
    "cell_id": "b81157e055074b8488ed348068073885",
    "deepnote_cell_height": 183.671875,
    "deepnote_cell_type": "code",
    "deepnote_output_heights": [
     20.109375
    ]
   },
   "outputs": [
    {
     "data": {
      "text/plain": [
       "10"
      ]
     },
     "execution_count": 14,
     "metadata": {},
     "output_type": "execute_result"
    }
   ],
   "source": [
    "import math as mt\n",
    "\n",
    "mt.comb(5,3)\n",
    "\n"
   ]
  },
  {
   "cell_type": "markdown",
   "metadata": {
    "cell_id": "ec253145abed48cd8acf870616e1fc95",
    "deepnote_cell_height": 94.90625,
    "deepnote_cell_type": "markdown"
   },
   "source": [
    "Existe también `Shift + Tab`, esto le mostrará la documentación de un objeto.  Al seguir pulsando este atajo más número de veces `Shift + Tab + Tab` o `Shift + Tab + Tab + Tab`, pasa a varios modos de la documentación. También se puede usar `?` al final del objeto."
   ]
  },
  {
   "cell_type": "code",
   "execution_count": null,
   "metadata": {
    "ExecuteTime": {
     "end_time": "2022-09-04T13:25:38.781664Z",
     "start_time": "2022-09-04T13:25:38.771666Z"
    },
    "cell_id": "2432552d6c6343e8af98092c42af72c9",
    "deepnote_cell_height": 78.6875,
    "deepnote_cell_type": "code"
   },
   "outputs": [],
   "source": [
    "from math import sqrt\n",
    "sqrt?"
   ]
  },
  {
   "cell_type": "markdown",
   "metadata": {
    "cell_id": "e28708e57fa34f9fa3da03fbb076006b",
    "deepnote_cell_height": 404.4375,
    "deepnote_cell_type": "markdown"
   },
   "source": [
    "## Atajos de teclado Jupyter\n",
    "\n",
    "Todos los que hay disponibles se encuentran en `Help > Keyboard Shortcuts`. Sin embargo, algunos de los más utiles son:\n",
    "\n",
    "+ `Ctrl + Enter`Ejecuta la celda actual\n",
    "+ `Shift + Enter` Ejecuta la celda actual y se desplaza a la siguiente\n",
    "+ `Esc + D + D` Elimina la celda actual\n",
    "+ `Esc + A` Inserta una nueva celda de code arriba\n",
    "+ `Esc + B` Inserta una nueva celda de code abajo\n",
    "+ `Esc + M` Cambia el tipo de celda actual a Markdown\n",
    "+ `Esc + Y` Cambia el tipo de celda actual a Code                            \n",
    "+ `Esc + F` Buscar y reemplazar en su código pero no en las salidas.\n",
    "+ `Shift + Space`desplaza el notebook hacia arriba.\n",
    "+ `Space` desplaza el notebook hacia abajo.\n",
    "+ `Shift+mouse click` permite seleccionar y editar varias celdas a la vez.\n"
   ]
  },
  {
   "cell_type": "markdown",
   "metadata": {
    "cell_id": "a424119b626d47bf9db42d023d6478cf",
    "deepnote_cell_height": 45.71875,
    "deepnote_cell_type": "markdown"
   },
   "source": [
    "---"
   ]
  },
  {
   "cell_type": "markdown",
   "metadata": {
    "cell_id": "b4665139dcc74c58b2e48d9ac9d50840",
    "deepnote_cell_height": 129.15625,
    "deepnote_cell_type": "markdown"
   },
   "source": [
    "## Algunas herramientas de Markdown\n",
    "\n",
    "A continuación presentamos algunos de las herramientas y complementos más relevantes de Markdown en Jupyter para presentar documentos. Estas nos ayudarán a mejorar nuestra experiencia en esta herramienta y a que los Notebooks luzcan presentables."
   ]
  },
  {
   "cell_type": "markdown",
   "metadata": {
    "cell_id": "3bd6d9566a8748b4b00b4b176b318301",
    "deepnote_cell_height": 584.1875,
    "deepnote_cell_type": "markdown"
   },
   "source": [
    "### Encabezados en diferentes niveles\n",
    "\n",
    "En lenguaje de Markdown:\n",
    "\n",
    "    # Encabezado de nivel 1\n",
    "    ## Encabezado de nivel  2\n",
    "    ### Encabezado de nivel  3\n",
    "    #### Encabezado de nivel  4\n",
    "    ##### Encabezado de nivel  5\n",
    "    ###### Encabezado de nivel  6 \n",
    "    \n",
    "O en HTML:\n",
    "    \n",
    "    <h1>Header 1</h1>\n",
    "    <h2>Header 2</h2>\n",
    "    <h3>Header 3</h3>\n",
    "    <h4>Header 4</h4>\n",
    "    <h5>Header 5</h5>\n",
    "    <h6>Header 6</h6>\n",
    "    \n",
    "También se podría usar el siguiente código HTML para tener encabezados centrados:\n",
    "\n",
    "    <center><h1>Este es el encabezado 1</header1></center>\n",
    "    <center><h1>Este es el encabezado 2</header1></center>\n",
    "    <center><h1>Este es el encabezado 3</header1></center>\n",
    "    <center><h1>Este es el encabezado 4</header1></center>\n",
    "          "
   ]
  },
  {
   "cell_type": "markdown",
   "metadata": {
    "cell_id": "290cd033bc914d42bfd82b23033fef11",
    "deepnote_cell_height": 272.09375,
    "deepnote_cell_type": "markdown"
   },
   "source": [
    "### Énfasis: Cursiva y negrita\n",
    "\n",
    "Se usan los simbolos (\\-) y (\\*) de la siguiente manera:\n",
    "\n",
    ">+ *Texto en cursiva*\n",
    ">+ _Texto en cursiva_\n",
    ">+ **Texto en negrita**\n",
    ">+ __Texto en negrita__\n",
    ">+ ***Texto en cursiva y negrita***\n",
    ">+ ___Texto en cursiva y negrita___"
   ]
  },
  {
   "cell_type": "markdown",
   "metadata": {
    "cell_id": "1dc25c32f6374a50b474633a6e528d4f",
    "deepnote_cell_height": 299.140625,
    "deepnote_cell_type": "markdown"
   },
   "source": [
    "### Citas en Bloque o sangría\n",
    "\n",
    "Para marcar un trozo de texto como una cita o para aplicar sangría, se utliza el signo de mayor que (>). Se inserta al principio del texto de la cita sangrada y se marca el final de la cita agregando una línea en blanco.Se puede usar (>) la cantidad de veces que se desea aplicar sangría al texto.\n",
    "\n",
    "Ejemplo:\n",
    ">Este en un ejemplo de sangría.\n",
    ">>Este en un ejemplo de sangría.\n",
    ">>>Este en un ejemplo de sangría."
   ]
  },
  {
   "cell_type": "markdown",
   "metadata": {
    "cell_id": "48bc5eebd8894bc187ecf19caaa973c0",
    "deepnote_cell_height": 151.0625,
    "deepnote_cell_type": "markdown"
   },
   "source": [
    "### Líneas horizontales para separar secciones\n",
    "\n",
    "Se usan para la aseparación de secciones. Se crean con tres de los siguientes elementos: asteriscos(\\*), guiones(-), o guiones bajos (_). Ejemplo:\n",
    "\n",
    "> ***\n",
    "> ---\n",
    "> ___"
   ]
  },
  {
   "cell_type": "markdown",
   "metadata": {
    "cell_id": "d667bd5accb949708fd1ed82cc5013d9",
    "deepnote_cell_height": 769.875,
    "deepnote_cell_type": "markdown"
   },
   "source": [
    "### Lístas y viñetas\n",
    "Para crear una lista ordenada se suelen numerar los elementos. Para crear una lista ordenada/numerada se numeran los elementos. \n",
    "Para crear una sublista bajo un ítem se utlizae TAB y luego se comienza a numerar la sublista. A continuación un ejemplo:\n",
    "\n",
    "\n",
    ">1. Primer Item \n",
    ">2. Segundo Item \n",
    ">3. Tercer Item\n",
    ">    1. Primer item del tercer item\n",
    ">    2. Segundo item del tercer item\n",
    ">    3. Tercer item del tercer item\n",
    "    \n",
    "También se pueden crear listas no ordenadas usando los simbolos (\\*), (-) o (+):\n",
    "\n",
    ">- Primer Item \n",
    ">- Segundo Item \n",
    ">- Tercer Item\n",
    ">    * Primer item del tercer item\n",
    ">    * Segundo item del tercer item\n",
    ">    * Tercer item del tercer item\n",
    ">        + Primer ...\n",
    ">        + Segundo ...\n",
    "\n",
    "Otra manera de hacer listas:\n",
    "\n",
    "\n",
    " ><br>\n",
    "     <dl>\n",
    "     <dt>Primer Item</dt>\n",
    "     <dd>Esto corresponde al primer Item.</dd>\n",
    "     <dt>Segundo Item</dt>\n",
    "     <dd>Esto corresponde con la definición del segundo Item. </dd>\n",
    "     <dd>Otra definción del segundo Item.</dd>\n",
    "     </dl>\n",
    " "
   ]
  },
  {
   "cell_type": "markdown",
   "metadata": {
    "cell_id": "77a481f51f06411c977bc097fc4d8b82",
    "deepnote_cell_height": 150.625,
    "deepnote_cell_type": "markdown"
   },
   "source": [
    "Ejemplo de cursor multilinea (`Alt+mouse click`):\n",
    "    \n",
    "* Este es un comentario 1 \n",
    "* Este es un comentario 2 \n",
    "* Este es un comentario 3 "
   ]
  },
  {
   "cell_type": "markdown",
   "metadata": {
    "cell_id": "28c9e3b002a643f49706ffad952b9c6b",
    "deepnote_cell_height": 184.1875,
    "deepnote_cell_type": "markdown"
   },
   "source": [
    "### Texto resaltado\n",
    "\n",
    "Se puede resaltar parte del texto con HTML usando la sentencia \\<mark>texto a resaltar\\</mark>.\n",
    "\n",
    " Ejemplo: \n",
    " \n",
    "> A continuación el <mark>texto resaltado</mark>."
   ]
  },
  {
   "cell_type": "markdown",
   "metadata": {
    "cell_id": "b4a10f8962844a5786b8efbda281baa1",
    "deepnote_cell_height": 290.875,
    "deepnote_cell_type": "markdown"
   },
   "source": [
    "### Creación de cuadros explicativos o de alertas en colores\n",
    "\n",
    "Se utliza alguna de las siguientes etiquetas HTML \\<div> para mostrar el texto en un cuadro de color. El color del cuadro se determina por el tipo de alerta que se genere.\n",
    "\n",
    "    \n",
    "><div class=\"alert alert-block alert-info\">\n",
    "<b>Tip:</b> Use cajas azules para tips y notas.</div>\n",
    "\n",
    "><div class=\"alert alert-block alert-warning\">\n",
    "<b>Ejemplo:</b> Utilice los cuadros amarillos para ejemplos que no están dentro de las celdas de código. También fórmulas matemáticas importantes. O se pueden utilizar para mostrar mensajes de advertencia.</div>\n",
    "\n",
    "><div class=\"alert alert-block alert-success\">\n",
    "<b>Recuerda:</b> Este cuadro se utliza para mensajes positivos o a resaltar en el texto.</div>\n",
    "\n",
    "><div class=\"alert alert-block alert-danger\">\n",
    "<b>Atención:</b> Este cuadro indica acciones negativas o potencialmente de cuidado o erroneas.</div>\n",
    "\n"
   ]
  },
  {
   "cell_type": "markdown",
   "metadata": {
    "cell_id": "f8e51e180fcd4d35b3545ed4b4f63915",
    "deepnote_cell_height": 99.15625,
    "deepnote_cell_type": "markdown"
   },
   "source": [
    "><div class=\"alert alert-block alert-warning\">\n",
    "<b>Warning:</b> La desviación típica debe ser mayor o igual que cero</div>"
   ]
  },
  {
   "cell_type": "markdown",
   "metadata": {
    "cell_id": "47791ab9fe1b40069192a3b37498a0bf",
    "deepnote_cell_height": 800.90625,
    "deepnote_cell_type": "markdown"
   },
   "source": [
    "### Hipervínculos y enlaces\n",
    "\n",
    "+ En markdown los podemos crear utlizando `[]` corchetes, y el link correspondiente con `()` paréntesis.\n",
    "\n",
    "  Ejemplo:\n",
    "  \n",
    ">[Proyecto Jupyter](https://jupyter.org/)\n",
    "\n",
    "+ También, puedes usar enlaces como referencia. Enlazas con palabras, letras o números, y en otro lugar del mismo documento se definen y se documentan.\n",
    "Para esto se usan los símbolos `[][]`. Y en la descripción `[]:descripción`. Las referencias pueden ubicarse en cualquier parte del documento y no se muestran dentro del texto.\n",
    "\n",
    "   Ejemplo: \n",
    "\n",
    "> Este es un ejemplo de uso de enlaces como referencias en `[Jupyter][Ref 1]` [Jupyter][Ref 1]. También puedes usar  `[Jupyter][]` [Jupyter][] para usar el mismo texto referenciado como descriptor.\n",
    "\n",
    "[Ref 1]: https://jupyter.org/\n",
    "[Jupyter]: https://jupyter.org/\n",
    "\n",
    "+ También se pueden generar links directos para una url usando `<url>`, o simplemnete poniendo la url directamente en el texto.\n",
    "\n",
    "    Ejemplo: \n",
    "\n",
    "> <https://jupyter.org/> o https://jupyter.org/\n",
    "\n",
    "+ Tammbién existen los **enlaces ancla** que llevan a un lugar específico en el documento. Puede utilizarse para enlazar con cualquier sección del notebook. Si se desea un enlace ancla con una sección en especial, debemos establecer el nombre que deseemos en `[]` y añadir entre parentesis `()` el nombre del encabezado de la sección, empezando por `#`con un guión en lugar del espacio en blanco. \n",
    "\n",
    "  Ejemplo:  \n",
    "\n",
    "Deseo que este enlace me lleve a la sección `[Section 7.6](#Texto-resaltado)` [Section 7.6](#Texto-resaltado).\n",
    "\n",
    "+ Es posible crear un enlace ancla poniendo la siguiente sentencia en donde se desea que se direccione el enlace `<a id=\"id\"></a>`, con un `id` único. Luego se utliza `[nombre de ref](#id)`para utilizar el enlace.\n",
    "\n",
    "  Ejemplo:\n",
    "  \n",
    "  <a id=\"01\"></a> \n",
    "  \n",
    "> Utilizo al referencia a este mismo lugar con `[ref01](#01)` [ref01](#01).\n",
    "  \n",
    "\n",
    "\n",
    "\n",
    "\n"
   ]
  },
  {
   "cell_type": "markdown",
   "metadata": {
    "cell_id": "fcc74013b8eb409f925c756c9ac1fa16",
    "deepnote_cell_height": 51.4375,
    "deepnote_cell_type": "markdown"
   },
   "source": [
    "[CESA](https://www.cesa.edu.co/)"
   ]
  },
  {
   "cell_type": "markdown",
   "metadata": {
    "cell_id": "fa78038d6cdf4349b32c8c43ba844f85",
    "deepnote_cell_height": 709.25,
    "deepnote_cell_type": "markdown"
   },
   "source": [
    "### Insertar imágenes\n",
    "\n",
    "+ Una de las maneras es  arrastrando y soltando la imágenes en una de  las celdas de Markdown. Copiando y pegando. Pegando la imágen de una captura de pantalla. Se creará una sentencia `![imagenX.png](attachment:imagenX.png)`.\n",
    "+ Se pueden utlizar imágenes de la web utlizando la dirección url, con la misma sintaxis de hipervícunlos pero agregando el simboolo `!` al comenzar la sentencia. Se puede insertar una imagen sin conexión a la web añadiendo el nombre completo del archivo, con su ruta especificada, si esta está en un directorio diferente al de Jupyter Notebook.\n",
    "\n",
    " Ejemplos:\n",
    " \n",
    "> `![](https://jupyter.org/assets/homepage/main-logo.svg)`\n",
    "> ![](https://jupyter.org/assets/homepage/main-logo.svg)\n",
    "\n",
    " Si se desea que agregar un título flotante sobre la imágen, usar:\n",
    "\n",
    "> `![](https://jupyter.org/assets/homepage/main-logo.svg \"Logo de Jupyter\")`\n",
    "> ![](https://jupyter.org/assets/homepage/main-logo.svg \"Logo de Jupyter\")\n",
    "\n",
    " Con lenguaje HTML:\n",
    "\n",
    ">`<img src=\"https://jupyter.org/assets/homepage/main-logo.svg \"Logo de Jupyter\" title=\"Logo de Jupyter\"/>`\n",
    " \n",
    " <img src=\"https://jupyter.org/assets/homepage/main-logo.svg\" title=\"Logo de Jupyter\"/>\n",
    "\n",
    " Cambiando el tamaño y agregando un título se tiene:\n",
    "\n",
    "> `<img src=\"https://jupyter.org/assets/main-logo.svg\" alt=\"jupyter.org\" width=20 height=20/>`\n",
    "> `<center><figcaption>Logo de Jupyter</figcaption><center>`\n",
    "> <img src=\"https://jupyter.org/assets/homepage/main-logo.svg\" alt=\"Logo de Jupyter\" width=20 height=20/>\n",
    "> <center><figcaption>Logo de Jupyter</figcaption></center>"
   ]
  },
  {
   "cell_type": "markdown",
   "metadata": {
    "cell_id": "3ddd0eba53dc48ee85f0a3ff751dd959",
    "deepnote_cell_height": 364.359375,
    "deepnote_cell_type": "markdown"
   },
   "source": [
    "### Notas al pie de página\n",
    "\n",
    "Para agregar un pie de página se puede usar la siguiente sintaxis `<sup><a href=\"#nota1\">1</a></sup>`. Ejemplo: \n",
    "\n",
    "Para que aparezcan en el texto hay que añadir una linea de sintaxis en donde se quiere que se muestre la nota de pie de página: `<p id=\"nota1\"><sup>1</sup> Texto de la nota de pie de página 1.</p>`. Ejemplo:\n",
    "\n",
    "><p>Este es el pie de página<sup><a href=\"#note1\">1</a></sup> puesto como ejemplo.</p>\n",
    "\n",
    "><p><strong>Notas al pie de página:</strong></p>  <p id=\"note1\"><sup>1</sup> Un pie de página es un texto explicativo o complementario y enlazado desde la localización del número del pie de página correspondiente.</p>"
   ]
  },
  {
   "cell_type": "markdown",
   "metadata": {
    "cell_id": "4db94386f3f844f5955e2dbb70fdc711",
    "deepnote_cell_height": 403.40625,
    "deepnote_cell_type": "markdown"
   },
   "source": [
    "### Menú de Navegación\n",
    "\n",
    "Permite un conjunto de enlaces de navegación así:\n",
    "\n",
    ">````\n",
    "     <nav> \n",
    "     <a href=\"https://www.google.com\">LinkedIn</a> |\n",
    "     <a href=\"https://github.com/\">Github</a> |\n",
    "     <a href=\"https://www.unir.net/\">UNIR</a> |\n",
    "     </nav>\n",
    "\n",
    " \n",
    " \n",
    " ><nav> \n",
    " <a href=\"https://www.google.com\">LinkedIn</a> |\n",
    " <a href=\"https://github.com/\">Github</a> |\n",
    " <a href=\"https://www.unir.net/\">UNIR</a> |\n",
    " </nav>"
   ]
  },
  {
   "cell_type": "markdown",
   "metadata": {
    "cell_id": "28d390dc4e8f46ef883432d3961dc650",
    "deepnote_cell_height": 910.578125,
    "deepnote_cell_type": "markdown"
   },
   "source": [
    "### Tablas\n",
    "\n",
    "Las tablas pueden ser creadas en una celda Markdown con los simbolos (\\|) y (-). Ejemplos:\n",
    "\n",
    ">| Col1  | Col2 |\n",
    " | --- | --- |\n",
    " | A | B  |\n",
    " | C  | D  |\n",
    " \n",
    " >| Comando | Descripción |\n",
    "  | --- | --- |\n",
    "  | git status | Lista de todos los archivos nuevos o modificados              |\n",
    "  | git diff   | Muestra diferenciass de **código** entre diferentes versiones |\n",
    "  \n",
    "\n",
    "Alineación en la tabla:\n",
    "\n",
    ">| Default | Left-aligned | Center-aligned | Right-aligned |\n",
    " |---|:-|:-:|-:|\n",
    " | A | A | A | A |\n",
    " \n",
    "\n",
    "><div class=\"alert alert-block alert-warning\">\n",
    "<b>Aparece alineado a derecha:</b> Parece que la alineación no está funcionando bien desde Junio de 2020 debido a un un error en el código fuente de Jupyter en el que no se tiene en cuenta la alineación de Markdown y todo el texto aparece alineado a la derecha.</div>\n",
    "\n",
    "Para que un símbolo usado en Markdown no se reconozca como parte de la sentencia, se precede con el símbolo de barra invertida (\\\\):\n",
    "\n",
    ">| Nombre   | Caracter |\n",
    " | ---      | ---      |\n",
    " | Backtick | \\`       |\n",
    " | Pipe     | \\|       |\n",
    "\n",
    "Podemos agregar títulos a las tablas en la parte inferior agregando una fila con el texto del título en Markdown `|Título de la tabla|`:\n",
    "\n",
    ">| Column1 | Column2 |\n",
    " |---|---|\n",
    " | A | B |\n",
    " |Tabla 1. Título de la tabla|\n",
    "\n",
    "Podemos realizar saltos de linea dentro de la tabla usando `<br>`:\n",
    "\n",
    "\n",
    ">| Column 1  | Column 2 |\n",
    " | --------  | -------- |\n",
    " | data      | Texto línea 1 <br> Texto línea 2 |\n"
   ]
  },
  {
   "cell_type": "markdown",
   "metadata": {
    "cell_id": "7c848cb617644a43a68af0a45e52d211",
    "deepnote_cell_height": 1941.203125,
    "deepnote_cell_type": "markdown"
   },
   "source": [
    "### Ecuaciones y texto matemático (Latex)\n",
    "\n",
    "Este software se enriquece al permitir incluir texto matemático y científico. Para hacerlo hay que incluirlo entre los simbolos de dolar ($). Ejemplo:\n",
    "\n",
    ">$P(A)=\\frac{|A|}{|\\Omega|}$\n",
    "\n",
    "Si se desea centrar el texto matemático se usan los simbolos de ($$) para abrir y cerrar el texto. Ejemplo:\n",
    "\n",
    ">$$P(A)=\\frac{|A|}{|\\Omega|}$$\n",
    "\n",
    "La siguiente imagen muestra algunos comandos de LaTex que pueden ser utiles para escribir algunas ecuaciones básicas.\n",
    "\n",
    "><figure><center>\n",
    "  <img src=\"https://miro.medium.com/max/875/1*IWiYqQTtZxmZg0-YCejPig.png\" alt=\"latex0\" width=400 height=400/>\n",
    "  <figcaption>Ejemplos de LaTex.  Photo: Shinichi Okada. <a href=\"https://towardsdatascience.com/7-essential-tips-for-writing-with-jupyter-notebook-60972a1a8901\">Source</a></figcaption>\n",
    "</center></figure> \n",
    "\n",
    "También se pueden escribir matrices:\n",
    "\n",
    "><figure><center>\n",
    "  <img src=\"https://miro.medium.com/max/766/1*iy1NDHoaxjU9Y0I7Q8ByHA.png\" alt=\"latex\" width=400 height=400/>\n",
    "  <figcaption>Escritura de matrices en LaTex.  Photo: Shinichi Okada. <a href=\"https://towardsdatascience.com/7-essential-tips-for-writing-with-jupyter-notebook-60972a1a8901\">Source</a></figcaption>\n",
    "</center></figure> \n",
    "\n",
    "O funciones a trozos:\n",
    "\n",
    ">$$\n",
    "\\begin{align}\n",
    "\\text{Función de densidad de la distribución uniforme:}\\\\\n",
    "f(x)=\n",
    "\\begin{cases}\n",
    "\\frac{1}{b-a}&\\text{for $x\\in[a,b]$}\\\\\n",
    "0&\\text{en otro caso}\\\\\n",
    "\\end{cases}\n",
    "\\\\\n",
    "\\text{Función acumulada de probabilidad:}\\\\\n",
    "F(x)=\n",
    "\\begin{cases}\n",
    "0&\\text{for $x<a$}\\\\\n",
    "\\frac{x-a}{b-a}&\\text{for $x\\in[a,b)$}\\\\\n",
    "1&\\text{for $x\\ge b$}\\\\\n",
    "\\end{cases}\n",
    "\\end{align}\n",
    "$$\n",
    "\n",
    "En los siguientes enlaces puede encontrar algunas [herramientas adicionales de LaTex](https://www.overleaf.com/learn/latex/Integrals%2C_sums_and_limits) \n",
    "o información sobre más [símbolos](https://oeis.org/wiki/List_of_LaTeX_mathematical_symbols) frecuentemente usados. \n",
    "\n",
    "También se puede usar `\\begin{equation} y \\end{equation}` para empezar y finalizar una formula o texto matemático:\n",
    "\n",
    ">\\begin{equation}\n",
    "X \\sim \\mathcal{N}(\\mu,\\,\\sigma^{2})\n",
    "\\end{equation}"
   ]
  },
  {
   "cell_type": "markdown",
   "metadata": {
    "cell_id": "6144ab7314254a68aeb59a04e86fb5b0",
    "deepnote_cell_height": 130.640625,
    "deepnote_cell_type": "markdown"
   },
   "source": [
    "$\\alpha$\n",
    "\n",
    "\\begin{equation}\n",
    "X \\sim \\mathcal{N}(\\mu,\\,\\sigma^{2})\n",
    "\\end{equation}"
   ]
  },
  {
   "cell_type": "markdown",
   "metadata": {
    "ExecuteTime": {
     "end_time": "2021-11-10T11:21:23.105972Z",
     "start_time": "2021-11-10T11:21:23.096975Z"
    },
    "cell_id": "be151c6182f34d46af3130cf30634510",
    "deepnote_cell_height": 1639.21875,
    "deepnote_cell_type": "markdown"
   },
   "source": [
    "## Temas de Jupyter\n",
    "\n",
    "Es posible cambiar la apariencia del notebook, utlizando las diferentes opciones de temas de Jupyter Notebook. Para esto hay que tener instalado `pip install jupyterthemes` y verificar que se tiene la última versión `pip install --upgrade jupyterthemes`.\n",
    "La aparencia es personalizable a través de los temas disponibles, junto con las herramientas disponibles, las fuentes de texto y código, y otros elementos de la interfaz de usuario. \n",
    "La lista de temas disponibles se puede conocer con `!jt -l`. Cuyo resultado actual es:\n",
    "\n",
    "```\n",
    "Available Themes: \n",
    "      chesterish\n",
    "      grade3\n",
    "      gruvboxd\n",
    "      gruvboxl\n",
    "      monokai\n",
    "      oceans16\n",
    "      onedork\n",
    "      solarizedd\n",
    "      solarizedl\n",
    "```\n",
    "\n",
    "Ahora, para establecer un tema en particular se usa `!jt -t [theme name]`.\n",
    "\n",
    "Ejemplo:\n",
    "\n",
    "```\n",
    "!jt -t chesterish\n",
    "\n",
    "```\n",
    "\n",
    "Si se desea restaurar el tema al establecido por defecto se utiliza la sentencia `!jt -r`.\n",
    "\n",
    "Otros cambios que se pueden realizar sobre los tipos fuentes, tamaño de las mismas, la barra de herramientas y otros elementos, se describen en este [enlace](https://towardsdatascience.com/customize-your-jupyter-notebook-theme-in-2-lines-of-code-fc726cea1513).\n",
    "\n",
    "A continuación algunos pantallazos de los diferentes temas:\n",
    "\n",
    "><figure><center>\n",
    "  <img src=\"https://miro.medium.com/max/875/1*dgavuvvmSorth8DmmC3Rcw.png\" alt=\"jupyter.org\" width=800 height=800/>\n",
    "  <figcaption>Temas de Jupyter.  Photo: Shinichi Okada. <a href=\"https://towardsdatascience.com/7-essential-tips-for-writing-with-jupyter-notebook-60972a1a8901\">Source</a></figcaption>\n",
    "</center></figure> \n"
   ]
  },
  {
   "cell_type": "code",
   "execution_count": null,
   "metadata": {
    "ExecuteTime": {
     "end_time": "2021-11-12T10:34:29.807442Z",
     "start_time": "2021-11-12T10:34:29.802440Z"
    },
    "cell_id": "b9aacd7bb58d4799af10a13b16758fa1",
    "deepnote_cell_height": 78.6875,
    "deepnote_cell_type": "code"
   },
   "outputs": [],
   "source": [
    "#!jt -t chesterish\n",
    "#!jt -r "
   ]
  },
  {
   "cell_type": "markdown",
   "metadata": {
    "cell_id": "d7db2a606b1a4915b053a1ff6a377adf",
    "deepnote_cell_height": 449.765625,
    "deepnote_cell_type": "markdown"
   },
   "source": [
    "## Cargar una función desde otro Jupyter Notebook\n",
    "\n",
    "Es posible llamar y cargar funciones de otros notebooks que se encuentran en el misma carpeta usando la siguientes pasos:\n",
    "\n",
    "1. Instalar `ipynb` con `pip install ipynb` en la linea de comandos (cmd). Desde ANACONDA.NAVIGATOR se puede usar `CMD.exe Prompt`. \n",
    "2. Sea `archivo1.ipynb`, el archivo que tiene la función de interés `funcion`, el cuál se guarda en la misma carpeta del notebook desde donde lo vamos a llamar.\n",
    "3. Llamamos la función `funcion` desde el archivo notebook en el que estamos trabajando mediante `from ipynb.fs.full.archivo1 import funcion`.\n",
    "4. Utilizamos la función `funcion(argumentos)`\n",
    "\n",
    " Ejemplo:\n",
    " \n",
    "Hemos construido la función `factorial` y la hemos guardado  con el nombre de `funciones1` en la misma carpeta de este notebook, la llamamos con:\n",
    "\n",
    "```\n",
    "from ipynb.fs.full.funciones1 import factorial\n",
    "factorial(3)\n",
    "```"
   ]
  },
  {
   "cell_type": "code",
   "execution_count": null,
   "metadata": {
    "ExecuteTime": {
     "end_time": "2022-09-04T14:18:06.152484Z",
     "start_time": "2022-09-04T14:18:06.131493Z"
    },
    "cell_id": "372b8f1c881d41c1ab0cdc9fae85ab84",
    "deepnote_cell_height": 147.671875,
    "deepnote_cell_type": "code",
    "deepnote_output_heights": [
     20.109375
    ]
   },
   "outputs": [
    {
     "data": {
      "text/plain": [
       "6"
      ]
     },
     "execution_count": 20,
     "metadata": {},
     "output_type": "execute_result"
    }
   ],
   "source": [
    "#Ejemplo función factorial\n",
    "from ipynb.fs.full.funciones1 import factorial\n",
    "factorial(3)"
   ]
  },
  {
   "cell_type": "markdown",
   "metadata": {
    "cell_id": "ad1e50a7295a4ff99be178ded3f240b9",
    "deepnote_cell_height": 186.640625,
    "deepnote_cell_type": "markdown"
   },
   "source": [
    "## Algunas funciones \"mágicas\"\n",
    "\n",
    "Las celdas de código de Jupyter Notebook pueden contener comandos especiales que no son código de Python válido pero que pueden mejorar el desempeño del cuaderno. A estos comandos se les conoce como funciones o comandos mágicos.\n",
    "\n",
    "El comando `%lsmagic` lista los comandos mágicos disponibles. Por su parte  `%magic` los lista y describe su funcionalidad con ejemplos. Para saber lo que hace uno de estos comandos se puede usar `?` al final de este."
   ]
  },
  {
   "cell_type": "code",
   "execution_count": null,
   "metadata": {
    "ExecuteTime": {
     "end_time": "2022-03-22T17:19:18.122417Z",
     "start_time": "2022-03-22T17:19:17.978419Z"
    },
    "cell_id": "a4cfa6b17e314221bb6e0676a6b22c14",
    "deepnote_cell_height": 60.6875,
    "deepnote_cell_type": "code"
   },
   "outputs": [],
   "source": [
    "%lsmagic"
   ]
  },
  {
   "cell_type": "code",
   "execution_count": null,
   "metadata": {
    "ExecuteTime": {
     "end_time": "2022-09-03T23:40:01.810671Z",
     "start_time": "2022-09-03T23:40:01.783471Z"
    },
    "cell_id": "3c5a16f3cc774b4f9fc506fa5c2a245b",
    "deepnote_cell_height": 60.6875,
    "deepnote_cell_type": "code"
   },
   "outputs": [],
   "source": [
    "%magic"
   ]
  },
  {
   "cell_type": "code",
   "execution_count": null,
   "metadata": {
    "ExecuteTime": {
     "end_time": "2022-09-04T06:00:56.458910Z",
     "start_time": "2022-09-04T06:00:56.433912Z"
    },
    "cell_id": "95a43d2b36cb481cb58a030a486c3339",
    "deepnote_cell_height": 114.6875,
    "deepnote_cell_type": "code"
   },
   "outputs": [],
   "source": [
    "# %run seguido del nombre de un archivo Python, podemos ejecutarlo y utilizar sus funciones y objetos.\n",
    "%run funciones1.ipynb\n",
    "\n",
    "factorial(3)"
   ]
  },
  {
   "cell_type": "code",
   "execution_count": null,
   "metadata": {
    "ExecuteTime": {
     "end_time": "2022-09-04T09:37:10.066285Z",
     "start_time": "2022-09-04T09:37:10.048242Z"
    },
    "cell_id": "e3f10e5db5f6424c908850983c509ce8",
    "deepnote_cell_height": 60.6875,
    "deepnote_cell_type": "code"
   },
   "outputs": [],
   "source": [
    "%run?"
   ]
  },
  {
   "cell_type": "code",
   "execution_count": null,
   "metadata": {
    "ExecuteTime": {
     "end_time": "2022-03-21T22:41:41.727217Z",
     "start_time": "2022-03-21T22:41:41.711217Z"
    },
    "cell_id": "f30a65faea9242958c9689df0b8cafce",
    "deepnote_cell_height": 78.6875,
    "deepnote_cell_type": "code"
   },
   "outputs": [],
   "source": [
    "# %pwd para recordar el directorio actual\n",
    "%pwd"
   ]
  },
  {
   "cell_type": "code",
   "execution_count": null,
   "metadata": {
    "ExecuteTime": {
     "end_time": "2022-09-04T14:19:13.696061Z",
     "start_time": "2022-09-04T14:19:06.274869Z"
    },
    "cell_id": "e36db592fd73402088f5a51df9fade3b",
    "deepnote_cell_height": 123.671875,
    "deepnote_cell_type": "code"
   },
   "outputs": [
    {
     "name": "stdout",
     "output_type": "stream",
     "text": [
      "879 µs ± 72.7 µs per loop (mean ± std. dev. of 7 runs, 1000 loops each)\n"
     ]
    }
   ],
   "source": [
    "# %timeit devuelve el tiempo de ejecución promedio de pequeños fragmentos de código\n",
    "%timeit S = [n ** 2 for n in range(1000)]"
   ]
  },
  {
   "cell_type": "code",
   "execution_count": null,
   "metadata": {
    "ExecuteTime": {
     "end_time": "2022-03-22T17:21:21.952597Z",
     "start_time": "2022-03-22T17:21:21.916596Z"
    },
    "cell_id": "401669e9834a40a1b1dbaf4cf865b089",
    "deepnote_cell_height": 78.6875,
    "deepnote_cell_type": "code"
   },
   "outputs": [],
   "source": [
    "# %time Establece un estimativo del tiempo de ejecución.\n",
    "%time S = [n ** 2 for n in range(1000)]"
   ]
  },
  {
   "cell_type": "code",
   "execution_count": null,
   "metadata": {
    "ExecuteTime": {
     "end_time": "2022-03-21T22:44:32.172065Z",
     "start_time": "2022-03-21T22:44:32.157017Z"
    },
    "cell_id": "84e341ca704b41b2b09e07f74c2b4f40",
    "deepnote_cell_height": 101.6875,
    "deepnote_cell_type": "code"
   },
   "outputs": [],
   "source": [
    "'''%whos genera una lista de todas las variables definidas en el notebook. Incluye información extra como el tipo,\n",
    "el tamaño, entre otros.'''\n",
    "%whos"
   ]
  },
  {
   "cell_type": "code",
   "execution_count": null,
   "metadata": {
    "ExecuteTime": {
     "end_time": "2022-03-21T22:44:40.262545Z",
     "start_time": "2022-03-21T22:44:40.247547Z"
    },
    "cell_id": "8b5068a6fe71478a83ad6b2e37bbe9bb",
    "deepnote_cell_height": 78.6875,
    "deepnote_cell_type": "code"
   },
   "outputs": [],
   "source": [
    "# %who_ls solo lista las variables definidas en el notebook\n",
    "%who_ls"
   ]
  },
  {
   "cell_type": "markdown",
   "metadata": {
    "cell_id": "a2e90213a5e94547a0b06320ae49db26",
    "deepnote_cell_height": 229.828125,
    "deepnote_cell_type": "markdown"
   },
   "source": [
    "<u>Ocultar salidas o warnings:</u>  \n",
    "\n",
    "+ %%capture (al comienzo de la celda) oculta salidas o mensajes de error que resultan de las líneas de código de una celda.\n",
    "\n",
    "+ Añade ; al final de la celda para ocultar la salida de esa celda.\n",
    "\n",
    "+ Para ocultar warnings: \n",
    "\n",
    "> import warnings <br>\n",
    "> warnings.filterwarnings('ignore')"
   ]
  },
  {
   "cell_type": "markdown",
   "metadata": {
    "cell_id": "64f668341f6e4ade91f466b1d3c94c8e",
    "deepnote_cell_height": 65.421875,
    "deepnote_cell_type": "markdown"
   },
   "source": [
    "\n",
    ">> Puedes crear tus propias funciones mágicas [magics](https://ipython.readthedocs.io/en/stable/interactive/magics.html)\n"
   ]
  },
  {
   "cell_type": "markdown",
   "metadata": {
    "cell_id": "3ebd7585d24b41668fec59bc84f61c7e",
    "deepnote_cell_height": 543.328125,
    "deepnote_cell_type": "markdown"
   },
   "source": [
    "## Algunas Extensiones para Jupyter\n",
    "\n",
    "\n",
    "Las extensiones a los notebooks de Jupyter (plug-ins-Nbextensions) nos ayudan a personalizar y a trabajar con mayor fluidez en esta herramienta. Con seguridad mejora nuestra experiencia en Jupyter. Lo mejor es instalarlas,junto con las extensiones, incluyendo el `Configurador de Nbextensions de Jupyter`. Esta instalación añadirá una pestaña, donde se pueden habilitar y deshabilitar las extensiones que se deseen. Enla web encontraremos nuevas extensiones que se irán instalando y añadiendo al conjunto disponible.\n",
    "\n",
    "\n",
    "Para instalar `Nbextensions` se puede con Anaconda desde la línea de comandos con:\n",
    "\n",
    "```\n",
    "conda install -c conda-forge jupyter_contrib_nbextensions \n",
    "conda install -c conda-forge jupyter_nbextensions_configurator\n",
    "jupyter contrib nbextension install --user\n",
    "```\n",
    "O a través de `pip` con:\n",
    "```\n",
    "pip install jupyter_contrib_nbextensions\n",
    "pip install jupyter_nbextensions_configurator\n",
    "jupyter contrib nbextension install --user \n",
    "jupyter nbextensions_configurator enable --user\n",
    "```\n",
    "A continuación, se describen algunas extensiones que podrían llegar a ser útiles.\n",
    "\n",
    "Mayor información sobre la lista de extensiones disponibles en este [enlace](https://jupyter-contrib-nbextensions.readthedocs.io/en/latest/nbextensions.html)."
   ]
  },
  {
   "cell_type": "markdown",
   "metadata": {
    "cell_id": "333f067e2ffd45b6804b1b622d7ac4b2",
    "deepnote_cell_height": 160.46875,
    "deepnote_cell_type": "markdown"
   },
   "source": [
    "### Execute time\n",
    "\n",
    "Esta extensión muestra una línea en la parte inferior de tu celda de código con la fecha y la hora de la última ejecución, u asu vez, el tiempo que tardó en ejecutarse. Esta opción es una alternativa al uso de la función mágica `%Time`.\n",
    "\n"
   ]
  },
  {
   "cell_type": "markdown",
   "metadata": {
    "cell_id": "10eec9b23ca04698b3cabab3e0de188b",
    "deepnote_cell_height": 317,
    "deepnote_cell_type": "markdown"
   },
   "source": [
    "### Notify\n",
    "\n",
    "Extensión del cuaderno Jupyter para mostrar una notificación web que avise cuando el kernel queda inactivo. \n",
    "Inicialmente, se muestra en la barra de herramientas un botón [$\\checkmark$] para solicitar permisos de notificación. Una vez concedidos los permisos de notificación, este botón se sustituye por un menú desplegable con cinco opciones: Desactivado, 0, 5, 10 y 30 segundos. Se selecciona el tiempo mínimo necesario de ocupación del kernel para activar una notificación (por ejemplo, si selecciona 5, sólo se mostrará una notificación si el kernel estuvo ocupado durante más de 5 segundos). \n",
    "\n",
    "Ejemplo:\n",
    "```\n",
    "Si habilitamos 5 segundos para el código:\n",
    "S = [n ** 2 for n in range(10000)]\n",
    "```\n",
    "Tenemos un mensaje como este:\n",
    "\n"
   ]
  },
  {
   "cell_type": "code",
   "execution_count": null,
   "metadata": {
    "ExecuteTime": {
     "end_time": "2021-12-01T08:41:57.541258Z",
     "start_time": "2021-12-01T08:41:57.510729Z"
    },
    "cell_id": "95f84b29c53441958b28637de70449a8",
    "deepnote_cell_height": 79,
    "deepnote_cell_type": "code"
   },
   "outputs": [],
   "source": [
    "# Ejemplo de Execute Time y Notify\n",
    "S = [n ** 2 for n in range(10000)]"
   ]
  },
  {
   "cell_type": "markdown",
   "metadata": {
    "cell_id": "7c70c153f2914fc1a861cf4b58786be6",
    "deepnote_cell_height": 318.015625,
    "deepnote_cell_type": "markdown"
   },
   "source": [
    "### Scratchpad \n",
    "\n",
    "Permite probar código por fuera de las celdas del notebook en el que se está trabajando. \n",
    "Una vez habilitado, el `Scratchpad` actúa como un cuaderno de notas donde se puede ejecutar código sin tener que modificar el notebook. Las celdas del Bloc de notas se ejecutan usando el ícono en la parte inferior derecha de la pantalla, o el atajo de teclado `Ctrl+B`.\n",
    "\n",
    " Ejemplo:\n",
    " \n",
    " El siguiente código se ha ejecutado desde el `Scratchpad`.\n",
    " \n",
    " ![image-2.png](attachment:image-2.png)\n",
    " \n",
    " Se ejecuta una serie de sentencias sin afectar el código de las celdas de los notebooks.\n",
    " "
   ]
  },
  {
   "cell_type": "markdown",
   "metadata": {
    "cell_id": "07f4c7dd84ce45538664f416dadeb357",
    "deepnote_cell_height": 143,
    "deepnote_cell_type": "markdown"
   },
   "source": [
    "### Tabla de contenido (Table of Contents (2))\n",
    "\n",
    "Esta extensión muestra el índice de las secciones y subsecciones en una ventana flotante, por lo general en la parte superior izquierda del notebook. La extensión incluye la opción de añadir una celda de tabla de contenido en la parte superior del cuaderno. Se puede utilizar la tabla de contenido para desplazarse por el notebook, ir a secciones específicas y contraer las secciones."
   ]
  },
  {
   "cell_type": "markdown",
   "metadata": {
    "cell_id": "235d9931cb70430d814f317bbe920fa7",
    "deepnote_cell_height": 121,
    "deepnote_cell_type": "markdown"
   },
   "source": [
    "### RISE\n",
    "\n",
    "RISE permite convertir instantáneamente sus notebooks Jupyter en una presentación de diapositivas. La instalación se realiza con `pip install RISE`o `conda install -c conda-forge rise`. Más información en este [enlace](https://rise.readthedocs.io/en/stable/) o en este [enlace](https://www.blopig.com/blog/2020/10/from-jupyter-to-slides-using-rise/)."
   ]
  },
  {
   "cell_type": "markdown",
   "metadata": {
    "ExecuteTime": {
     "end_time": "2021-11-16T13:42:46.703031Z",
     "start_time": "2021-11-16T13:42:46.689988Z"
    },
    "cell_id": "7db5d93d9ef8463683395b69dfd51bfe",
    "deepnote_cell_height": 957,
    "deepnote_cell_type": "markdown"
   },
   "source": [
    "### Calico document tools\n",
    "\n",
    "Permite la inclusión de citas y referencias bibliográficas.  Para esto se puede habilitar la extensión con:\n",
    "\n",
    "```\n",
    "jupyter nbextension install https://bitbucket.org/ipre/calico/downloads/calico-document-tools-1.0.zip\n",
    "jupyter nbextension enable calico-document-tools\n",
    "```\n",
    "\n",
    "Se genera un boton de `Generate References`, que añadirá una sección de referencias al final del notebook, siempre que se hayan realizado las citas correspondientes. Se generarán enlaces que llevan de la cita a la Referencia y de la Referencia a la cita.\n",
    "\n",
    "Para citar se debe utlizar las siguiente estructura: Ej. `<a name=\"ref-1\"/>[(UNDEFINED)](#cite-nombreref)`. En donde `nombreref` es el nombre de la referencia en formato bibtex.\n",
    "\n",
    "Más información en este [enlace](https://jupyter.brynmawr.edu/services/public/dblank/jupyter.cs/Examples/Calico%20Document%20Tools%20and%20Bibtex.ipynb) o en este [enlace](https://jupyter.brynmawr.edu/services/public/dblank/Jupyter%20Notebook%20Users%20Manual.ipynb).\n",
    "\n",
    "Veamos como aparece la cita en este ejemplo <a name=\"ref-2\"/>[(P&eacute;rez and Granger, 2007)](#cite-PER-GRA:2007) o en este <a name=\"ref-3\"/>[(Kepps, 2002)](#cite-calicoww2:2).\n",
    "\n",
    "Las referencias en formato bibtex se debe incluir en alguna celda markdown del notebook. Para el ejemplo, la estructura es la siguiente:\n",
    "\n",
    "```\n",
    "<!--bibtex\n",
    "\n",
    "@Article{PER-GRA:2007,\n",
    "  Author    = {P\\'erez, Fernando and Granger, Brian E.},\n",
    "  Title     = {{IP}ython: a System for Interactive Scientific Computing},\n",
    "  Journal   = {Computing in Science and Engineering},\n",
    "  Volume    = {9},\n",
    "  Number    = {3},\n",
    "  Pages     = {21--29},\n",
    "  month     = may,\n",
    "  year      = 2007,\n",
    "  url       = \"http://ipython.org\",\n",
    "  ISSN      = \"1521-9615\",\n",
    "  doi       = {10.1109/MCSE.2007.53},\n",
    "  publisher = {IEEE Computer Society},\n",
    "}\n",
    "\n",
    "@book{calicoww2:2,\n",
    "    title = {Rebuilding Calico After Japanese Occupation},\n",
    "    author = {Kepps, Milo },\n",
    "    year = {2002},\n",
    "    publisher = {Python Books}\n",
    "}\n",
    "... Otras referencias Bibtex aquí.\n",
    "\n",
    "-->\n",
    "```"
   ]
  },
  {
   "cell_type": "markdown",
   "metadata": {
    "cell_id": "52e8f0071ee748118b5127fc9e5d90f0",
    "deepnote_cell_height": 45.71875,
    "deepnote_cell_type": "markdown"
   },
   "source": [
    "<!--bibtex\n",
    "\n",
    "@Article{PER-GRA:2007,\n",
    "  Author    = {P\\'erez, Fernando and Granger, Brian E.},\n",
    "  Title     = {{IP}ython: a System for Interactive Scientific Computing},\n",
    "  Journal   = {Computing in Science and Engineering},\n",
    "  Volume    = {9},\n",
    "  Number    = {3},\n",
    "  Pages     = {21--29},\n",
    "  month     = may,\n",
    "  year      = 2007,\n",
    "  url       = \"http://ipython.org\",\n",
    "  ISSN      = \"1521-9615\",\n",
    "  doi       = {10.1109/MCSE.2007.53},\n",
    "  publisher = {IEEE Computer Society},\n",
    "}\n",
    "\n",
    "@book{calicoww2:2,\n",
    "    title = {Rebuilding Calico After Japanese Occupation},\n",
    "    author = {Kepps, Milo },\n",
    "    year = {2002},\n",
    "    publisher = {Python Books}\n",
    "}\n",
    "... Otras referencias Bibtex aquí.\n",
    "\n",
    "-->"
   ]
  },
  {
   "cell_type": "markdown",
   "metadata": {
    "cell_id": "97e49ee8e2b7480a971e801808795ae0",
    "deepnote_cell_height": 417.390625,
    "deepnote_cell_type": "markdown"
   },
   "source": [
    "### Autopep8-Black:\n",
    "\n",
    "Existen diferentes herramientas para ayudar a dar formato automático al código. Dos de ellas son `Autopep8` y `Black`. La primera se instala con `pip install autopep8` y la segunda con `pip install nb-black`.\n",
    "\n",
    "La primera genera una extensión que debe ser habilitada: \n",
    "\n",
    " [$\\checkmark$] Autopep8.    \n",
    "\n",
    "La segunda, se habilita con `%load_ext lab_black`. \n",
    "\n",
    " Ejemplo: (Formatear el siguiente código). \n",
    "\n",
    "```\n",
    "def foo():\n",
    " return 2021\n",
    " \n",
    "Diccionario= {\"brand\": \"Ford\", \"model\": \"Mustang\", \"year\": 1964, \"brand\": \"Bmw\", \"model\": \"M3\", \"year\": 1980} `\n",
    "    "
   ]
  },
  {
   "cell_type": "code",
   "execution_count": null,
   "metadata": {
    "ExecuteTime": {
     "end_time": "2022-09-03T23:46:11.638452Z",
     "start_time": "2022-09-03T23:46:11.628453Z"
    },
    "cell_id": "c3135f9e837e4414959f10587a643566",
    "deepnote_cell_height": 191.6875,
    "deepnote_cell_type": "code"
   },
   "outputs": [],
   "source": [
    "\"\"\"\n",
    "%load_ext lab_black\n",
    "\n",
    "\n",
    "def foo():\n",
    " return 2021\n",
    "\n",
    "Diccionario= {\"brand\": \"Ford\", \"model\": \"Mustang\", \"year\": 1964, \"brand\": \"Bmw\", \"model\": \"M3\", \"year\": 1980} \"\"\""
   ]
  },
  {
   "cell_type": "markdown",
   "metadata": {
    "cell_id": "c4b3378800c64de6b8fa94f11f9f59b3",
    "deepnote_cell_height": 1083.59375,
    "deepnote_cell_type": "markdown"
   },
   "source": [
    "## Alguno tipos de Objetos\n",
    "\n",
    "\n",
    "\n",
    "\n",
    "\n",
    " Como tantos otros lenguajes de programación, Python ofrece, de entrada, los tipos de datos enteros, reales, booleanos y cadenas de caracteres. También permite el manejo de números complejos sin importar librería alguna. Veamos algunas operaciones básicas con estos tipos de datos.\n"
   ]
  },
  {
   "cell_type": "code",
   "execution_count": null,
   "metadata": {
    "ExecuteTime": {
     "end_time": "2022-09-04T06:30:01.133784Z",
     "start_time": "2022-09-04T06:30:01.118247Z"
    },
    "cell_id": "87d774d10b644b8ab448adf125358865",
    "deepnote_cell_height": 636.6875,
    "deepnote_cell_type": "code"
   },
   "outputs": [],
   "source": [
    "import pandas as pd\n",
    "\n",
    "x=\"hola\"\n",
    "print(x, type(x))\n",
    "\n",
    "x=1\n",
    "print(x, type(x))\n",
    "\n",
    "x=1.5\n",
    "print(x, type(x))\n",
    "\n",
    "x=1j\n",
    "print(x, type(x))\n",
    "\n",
    "x = [\"apple\", \"banana\", \"cherry\"]\n",
    "print(x, type(x))\n",
    "\n",
    "x = (\"apple\", \"banana\", \"cherry\")\n",
    "print(x, type(x))\n",
    "\n",
    "x = {\"name\" : \"Javier\", \"age\" : 36}\n",
    "print(x, type(x))\n",
    "\n",
    "x = {\"name\": [\"Joe\", \"Bob\", \"Harry\"],\n",
    "                 \"age\": [10,15,20] , \n",
    "                 \"city\": [\"Paris\", \"New York\", \"Tokyo\"]}\n",
    "print(pd.DataFrame(x), type(x))\n",
    "\n",
    "x = {\"apple\", \"banana\", \"cherry\"}\n",
    "print(x, type(x))\n",
    "\n",
    "x = True\n",
    "print(x, type(x))"
   ]
  },
  {
   "cell_type": "code",
   "execution_count": null,
   "metadata": {
    "ExecuteTime": {
     "end_time": "2022-09-04T14:36:52.860666Z",
     "start_time": "2022-09-04T14:36:52.836129Z"
    },
    "cell_id": "51097e9de5f443aeb5172cdb22f14645",
    "deepnote_cell_height": 123.65625,
    "deepnote_cell_type": "code"
   },
   "outputs": [
    {
     "name": "stdout",
     "output_type": "stream",
     "text": [
      "{'banana', 'apple', 'cherry'} <class 'set'>\n"
     ]
    }
   ],
   "source": [
    "x = {\"apple\", \"banana\", \"cherry\"}\n",
    "print(x, type(x))"
   ]
  },
  {
   "cell_type": "markdown",
   "metadata": {
    "cell_id": "5fcc03b8101a4484b5929027c5129a35",
    "deepnote_cell_height": 69.6875,
    "deepnote_cell_type": "markdown"
   },
   "source": [
    "## Operaciones en Python ([source](https://www.w3schools.com/python/python_operators.asp))"
   ]
  },
  {
   "cell_type": "markdown",
   "metadata": {
    "cell_id": "6de59051e57f4229be651ec6796e87e8",
    "deepnote_cell_height": 60.984375,
    "deepnote_cell_type": "markdown"
   },
   "source": [
    "### Operadores artiméticos"
   ]
  },
  {
   "cell_type": "code",
   "execution_count": null,
   "metadata": {
    "ExecuteTime": {
     "end_time": "2022-09-04T14:44:13.161563Z",
     "start_time": "2022-09-04T14:44:13.138775Z"
    },
    "cell_id": "68b8ff6da29844a7aaaa62cd4e2570f5",
    "deepnote_cell_height": 129.65625,
    "deepnote_cell_type": "code",
    "deepnote_output_heights": [
     20.109375
    ]
   },
   "outputs": [
    {
     "data": {
      "text/plain": [
       "(10, -4, 17, 35, 19)"
      ]
     },
     "execution_count": 30,
     "metadata": {},
     "output_type": "execute_result"
    }
   ],
   "source": [
    "#Ejemplo\n",
    "(3+7, 3-7, 3 + 2*7, (3+2)*7, 1 + 2 * 3**2)"
   ]
  },
  {
   "cell_type": "code",
   "execution_count": null,
   "metadata": {
    "ExecuteTime": {
     "end_time": "2022-09-04T14:45:04.852787Z",
     "start_time": "2022-09-04T14:45:04.834795Z"
    },
    "cell_id": "83362880bdca48db9cb70debd740fb2d",
    "deepnote_cell_height": 129.65625,
    "deepnote_cell_type": "code",
    "deepnote_output_heights": [
     20.109375
    ]
   },
   "outputs": [
    {
     "data": {
      "text/plain": [
       "(3.4, 3, 2)"
      ]
     },
     "execution_count": 31,
     "metadata": {},
     "output_type": "execute_result"
    }
   ],
   "source": [
    "#Ejemplo\n",
    "17 / 5, 17 // 5, 17 % 5"
   ]
  },
  {
   "cell_type": "markdown",
   "metadata": {
    "cell_id": "d366e2f9017c4e36b60af8513ddaec51",
    "deepnote_cell_height": 60.984375,
    "deepnote_cell_type": "markdown"
   },
   "source": [
    "### Operadores de asignación"
   ]
  },
  {
   "cell_type": "code",
   "execution_count": null,
   "metadata": {
    "ExecuteTime": {
     "end_time": "2022-09-04T14:47:06.168226Z",
     "start_time": "2022-09-04T14:47:06.156226Z"
    },
    "cell_id": "f7f08f2092794ed5b3d9aff9f49f0100",
    "deepnote_cell_height": 141.65625,
    "deepnote_cell_type": "code"
   },
   "outputs": [
    {
     "name": "stdout",
     "output_type": "stream",
     "text": [
      "8 <class 'int'>\n"
     ]
    }
   ],
   "source": [
    "x=2\n",
    "x**=3\n",
    "print(x, type(x))"
   ]
  },
  {
   "cell_type": "markdown",
   "metadata": {
    "cell_id": "d0c466f20da64c36932b11b288e8d661",
    "deepnote_cell_height": 100.984375,
    "deepnote_cell_type": "markdown"
   },
   "source": [
    "### Operadores de Comparación\n"
   ]
  },
  {
   "cell_type": "code",
   "execution_count": null,
   "metadata": {
    "ExecuteTime": {
     "end_time": "2022-09-04T14:49:34.261592Z",
     "start_time": "2022-09-04T14:49:34.234594Z"
    },
    "cell_id": "3bccdfd73fee4e91ba11e9d87f4f3187",
    "deepnote_cell_height": 214.78125,
    "deepnote_cell_type": "code"
   },
   "outputs": [
    {
     "name": "stdout",
     "output_type": "stream",
     "text": [
      "True\n",
      "False\n"
     ]
    }
   ],
   "source": [
    "#Ejemplo\n",
    "x=4\n",
    "print(x>3)\n",
    "\n",
    "x=3\n",
    "print(x>3)"
   ]
  },
  {
   "cell_type": "code",
   "execution_count": null,
   "metadata": {
    "ExecuteTime": {
     "end_time": "2022-09-04T14:51:42.391516Z",
     "start_time": "2022-09-04T14:51:42.368517Z"
    },
    "cell_id": "b27380e693d4498aa7294352d7f10dd2",
    "deepnote_cell_height": 435.3125,
    "deepnote_cell_type": "code"
   },
   "outputs": [
    {
     "name": "stdout",
     "output_type": "stream",
     "text": [
      "x > y is False\n",
      "x < y is True\n",
      "x == y is False\n",
      "x != y is True\n",
      "x >= y is False\n",
      "x <= y is True\n"
     ]
    }
   ],
   "source": [
    "x = 10\n",
    "y = 12\n",
    "\n",
    "print('x > y is',x>y)\n",
    "\n",
    "print('x < y is',x<y)\n",
    "\n",
    "print('x == y is',x==y)\n",
    "\n",
    "print('x != y is',x!=y)\n",
    "\n",
    "print('x >= y is',x>=y)\n",
    "\n",
    "print('x <= y is',x<=y)"
   ]
  },
  {
   "cell_type": "markdown",
   "metadata": {
    "cell_id": "6a40b2ccfc174bc8bd2cda40c2836057",
    "deepnote_cell_height": 100.984375,
    "deepnote_cell_type": "markdown"
   },
   "source": [
    "### Operadores de identidad ([source](https://www.programiz.com/python-programming/operators))\n",
    "\n"
   ]
  },
  {
   "cell_type": "code",
   "execution_count": null,
   "metadata": {
    "ExecuteTime": {
     "end_time": "2022-09-04T14:53:57.289735Z",
     "start_time": "2022-09-04T14:53:57.263178Z"
    },
    "cell_id": "1bd1fd4b2cbb41bc9745e365e0db1e92",
    "deepnote_cell_height": 341.921875,
    "deepnote_cell_type": "code"
   },
   "outputs": [
    {
     "name": "stdout",
     "output_type": "stream",
     "text": [
      "False\n",
      "True\n",
      "False\n"
     ]
    }
   ],
   "source": [
    "x1 = 5\n",
    "y1 = 5\n",
    "x2 = 'Hello'\n",
    "y2 = 'Hello'\n",
    "x3 = [1,2,3]\n",
    "y3 = [1,2,3]\n",
    "\n",
    "print(x1 is not y1)\n",
    "\n",
    "print(x2 is y2)\n",
    "\n",
    "print(x3 is y3)"
   ]
  },
  {
   "cell_type": "markdown",
   "metadata": {
    "ExecuteTime": {
     "end_time": "2022-09-04T06:54:00.232707Z",
     "start_time": "2022-09-04T06:54:00.226709Z"
    },
    "cell_id": "c4f0555d67b54b9297b688de5a76c611",
    "deepnote_cell_height": 100.984375,
    "deepnote_cell_type": "markdown"
   },
   "source": [
    "### Operadores de membresía ([source](https://www.programiz.com/python-programming/operators))\n",
    "\n"
   ]
  },
  {
   "cell_type": "code",
   "execution_count": null,
   "metadata": {
    "ExecuteTime": {
     "end_time": "2022-09-04T14:55:25.431659Z",
     "start_time": "2022-09-04T14:55:25.416653Z"
    },
    "cell_id": "e343780c8fdb4b1d896680ce46b79dda",
    "deepnote_cell_height": 325.0625,
    "deepnote_cell_type": "code"
   },
   "outputs": [
    {
     "name": "stdout",
     "output_type": "stream",
     "text": [
      "True\n",
      "True\n",
      "True\n",
      "False\n"
     ]
    }
   ],
   "source": [
    "x = 'Hello world'\n",
    "y = [1,2]\n",
    "\n",
    "print('H' in x)\n",
    "\n",
    "print('hello' not in x)\n",
    "\n",
    "print(1 in y)\n",
    "\n",
    "print('a' in y)"
   ]
  },
  {
   "cell_type": "markdown",
   "metadata": {
    "cell_id": "1dacf2d561844b229477f877c219dc50",
    "deepnote_cell_height": 121.875,
    "deepnote_cell_type": "markdown"
   },
   "source": [
    "### Operadores Lógicos ([source](https://www.programiz.com/python-programming/operators))\n",
    "\n"
   ]
  },
  {
   "cell_type": "code",
   "execution_count": null,
   "metadata": {
    "ExecuteTime": {
     "end_time": "2022-09-04T14:56:19.042236Z",
     "start_time": "2022-09-04T14:56:19.022230Z"
    },
    "cell_id": "740d7358833643bd9fb0735fb38a4919",
    "deepnote_cell_height": 269.921875,
    "deepnote_cell_type": "code"
   },
   "outputs": [
    {
     "name": "stdout",
     "output_type": "stream",
     "text": [
      "x and y is False\n",
      "x or y is True\n",
      "not x is False\n"
     ]
    }
   ],
   "source": [
    "x = True\n",
    "y = False\n",
    "\n",
    "print('x and y is',x and y)\n",
    "\n",
    "print('x or y is',x or y)\n",
    "\n",
    "print('not x is',not x)"
   ]
  },
  {
   "cell_type": "markdown",
   "metadata": {
    "cell_id": "594abaea99cb46399db367ef79c385e4",
    "deepnote_cell_height": 129.140625,
    "deepnote_cell_type": "markdown"
   },
   "source": [
    "## Transformación de tipos de datos\n",
    "\n",
    "Una utilidad muy importante en todos los lenguajes de programación es hacer transformaciones entre tipos de datos. A continuación, vamos a hacer un repaso de algunas de las transformaciones de tipos de datos permitidas en Python."
   ]
  },
  {
   "cell_type": "code",
   "execution_count": null,
   "metadata": {
    "ExecuteTime": {
     "end_time": "2022-09-04T14:57:57.446432Z",
     "start_time": "2022-09-04T14:57:57.423433Z"
    },
    "cell_id": "f1bca6045e164e729edf528f050d9d84",
    "deepnote_cell_height": 129.65625,
    "deepnote_cell_type": "code",
    "deepnote_output_heights": [
     20.109375
    ]
   },
   "outputs": [
    {
     "data": {
      "text/plain": [
       "'10'"
      ]
     },
     "execution_count": 38,
     "metadata": {},
     "output_type": "execute_result"
    }
   ],
   "source": [
    "x= 10\n",
    "str(x) # Devolverá ‘10’ cadena"
   ]
  },
  {
   "cell_type": "code",
   "execution_count": null,
   "metadata": {
    "ExecuteTime": {
     "end_time": "2022-09-04T15:02:08.459768Z",
     "start_time": "2022-09-04T15:02:08.437774Z"
    },
    "cell_id": "f425e406f3c64f85be855ce73aac1146",
    "deepnote_cell_height": 165.65625,
    "deepnote_cell_type": "code",
    "deepnote_output_heights": [
     20.109375
    ]
   },
   "outputs": [
    {
     "data": {
      "text/plain": [
       "10"
      ]
     },
     "execution_count": 41,
     "metadata": {},
     "output_type": "execute_result"
    }
   ],
   "source": [
    "x1 = 10.78\n",
    "x2 = \"Hola\"\n",
    "int(x1) # esto convierte en entero\n",
    "#int(x2) "
   ]
  },
  {
   "cell_type": "code",
   "execution_count": null,
   "metadata": {
    "ExecuteTime": {
     "end_time": "2022-09-04T15:02:45.805355Z",
     "start_time": "2022-09-04T15:02:45.790361Z"
    },
    "cell_id": "287ca5ee38ac498fb1d98a521ab42a7c",
    "deepnote_cell_height": 129.65625,
    "deepnote_cell_type": "code",
    "deepnote_output_heights": [
     20.109375
    ]
   },
   "outputs": [
    {
     "data": {
      "text/plain": [
       "30.0"
      ]
     },
     "execution_count": 42,
     "metadata": {},
     "output_type": "execute_result"
    }
   ],
   "source": [
    "valor1 = 30\n",
    "float(valor1) "
   ]
  },
  {
   "cell_type": "code",
   "execution_count": null,
   "metadata": {
    "ExecuteTime": {
     "end_time": "2022-09-04T15:03:06.786931Z",
     "start_time": "2022-09-04T15:03:06.765949Z"
    },
    "cell_id": "fbfb95bee8a945cf944ef358b9b3ee1f",
    "deepnote_cell_height": 129.65625,
    "deepnote_cell_type": "code",
    "deepnote_output_heights": [
     20.109375
    ]
   },
   "outputs": [
    {
     "data": {
      "text/plain": [
       "(10.78+0j)"
      ]
     },
     "execution_count": 43,
     "metadata": {},
     "output_type": "execute_result"
    }
   ],
   "source": [
    "valor1 = 10.78\n",
    "complex(valor1) "
   ]
  },
  {
   "cell_type": "markdown",
   "metadata": {
    "cell_id": "ef6305c72dcb4cc6a7ee32ed2b1b5585",
    "deepnote_cell_height": 230.09375,
    "deepnote_cell_type": "markdown"
   },
   "source": [
    "## Listas\n",
    "\n",
    "Las listas son las estructuras de datos más utilizadas en Python. Una lista es una estructura que nos permite tener un conjunto de objetos separados por comas. Esta estructura de datos es mutable, es decir, podemos cambiar el valor de una lista que hemos creado como, por ejemplo, cambiar el orden de los elementos, eliminar elementos, etc.\n",
    "\n",
    "En una lista pueden existir elementos de diferentes tipos, es decir, elementos con diferentes tipos de datos o, incluso, diferentes estructuras de datos. Sin embargo, lo normal es que todos los elementos de una lista sean del mismo tipo. Para declarar una lista, escribimos entre corchetes ([]) un conjunto de elementos separados por comas:"
   ]
  },
  {
   "cell_type": "code",
   "execution_count": null,
   "metadata": {
    "ExecuteTime": {
     "end_time": "2022-09-11T12:10:13.256039Z",
     "start_time": "2022-09-11T12:10:13.241034Z"
    },
    "cell_id": "25fc11e65fbf48c08d3074d3ca2b1d8d",
    "deepnote_cell_height": 60.6875,
    "deepnote_cell_type": "code"
   },
   "outputs": [],
   "source": [
    "lista = [3, 'Hello', True]"
   ]
  },
  {
   "cell_type": "code",
   "execution_count": null,
   "metadata": {
    "ExecuteTime": {
     "end_time": "2022-09-11T12:13:49.297424Z",
     "start_time": "2022-09-11T12:13:49.279423Z"
    },
    "cell_id": "13a9f269116640a3a17712d4671bebeb",
    "deepnote_cell_height": 141.65625,
    "deepnote_cell_type": "code"
   },
   "outputs": [
    {
     "name": "stdout",
     "output_type": "stream",
     "text": [
      "3 True Hello\n"
     ]
    }
   ],
   "source": [
    "#Llamar un elemento de la lista\n",
    "print(lista[0], lista[-1], lista[-2])\n"
   ]
  },
  {
   "cell_type": "code",
   "execution_count": null,
   "metadata": {
    "ExecuteTime": {
     "end_time": "2022-09-11T12:15:34.033599Z",
     "start_time": "2022-09-11T12:15:34.009630Z"
    },
    "cell_id": "199ad7a7cb984632986a62ed532dc644",
    "deepnote_cell_height": 129.65625,
    "deepnote_cell_type": "code",
    "deepnote_output_heights": [
     20.109375
    ]
   },
   "outputs": [
    {
     "data": {
      "text/plain": [
       "[3, 'Hello']"
      ]
     },
     "execution_count": 57,
     "metadata": {},
     "output_type": "execute_result"
    }
   ],
   "source": [
    "#llama elemento sin incluir el valor de la última posición\n",
    "lista[:2]"
   ]
  },
  {
   "cell_type": "code",
   "execution_count": null,
   "metadata": {
    "ExecuteTime": {
     "end_time": "2022-09-11T12:17:24.780565Z",
     "start_time": "2022-09-11T12:17:24.770569Z"
    },
    "cell_id": "eb0ec7ccc2c749e2b01ed87f78926258",
    "deepnote_cell_height": 111.640625,
    "deepnote_cell_type": "code",
    "deepnote_output_heights": [
     20.109375
    ]
   },
   "outputs": [
    {
     "data": {
      "text/plain": [
       "['Hello', True]"
      ]
     },
     "execution_count": 58,
     "metadata": {},
     "output_type": "execute_result"
    }
   ],
   "source": [
    "lista[1:]"
   ]
  },
  {
   "cell_type": "code",
   "execution_count": null,
   "metadata": {
    "ExecuteTime": {
     "end_time": "2022-09-11T12:18:58.349322Z",
     "start_time": "2022-09-11T12:18:58.330321Z"
    },
    "cell_id": "ddf3010cc1204645b0a2f1e4442586b5",
    "deepnote_cell_height": 129.65625,
    "deepnote_cell_type": "code",
    "deepnote_output_heights": [
     20.109375
    ]
   },
   "outputs": [
    {
     "data": {
      "text/plain": [
       "3"
      ]
     },
     "execution_count": 59,
     "metadata": {},
     "output_type": "execute_result"
    }
   ],
   "source": [
    "#Funciones\n",
    "len(lista)"
   ]
  },
  {
   "cell_type": "code",
   "execution_count": null,
   "metadata": {
    "ExecuteTime": {
     "end_time": "2022-09-11T12:20:08.742611Z",
     "start_time": "2022-09-11T12:20:08.727611Z"
    },
    "cell_id": "ab8edd3addc74ee69fa221a9bbca8ea8",
    "deepnote_cell_height": 111.640625,
    "deepnote_cell_type": "code",
    "deepnote_output_heights": [
     20.109375
    ]
   },
   "outputs": [
    {
     "data": {
      "text/plain": [
       "1"
      ]
     },
     "execution_count": 61,
     "metadata": {},
     "output_type": "execute_result"
    }
   ],
   "source": [
    "lista.index('Hello')"
   ]
  },
  {
   "cell_type": "code",
   "execution_count": null,
   "metadata": {
    "ExecuteTime": {
     "end_time": "2022-09-11T12:21:02.865660Z",
     "start_time": "2022-09-11T12:21:02.849663Z"
    },
    "cell_id": "3df764e699fa46f88b9cce771d148cc6",
    "deepnote_cell_height": 147.65625,
    "deepnote_cell_type": "code",
    "deepnote_output_heights": [
     20.109375
    ]
   },
   "outputs": [
    {
     "data": {
      "text/plain": [
       "[3, 'Adiós', 'Hola', True]"
      ]
     },
     "execution_count": 62,
     "metadata": {},
     "output_type": "execute_result"
    }
   ],
   "source": [
    "lista = [3, 'Hola', True]\n",
    "lista.insert(1, 'Adiós')\n",
    "lista "
   ]
  },
  {
   "cell_type": "code",
   "execution_count": null,
   "metadata": {
    "ExecuteTime": {
     "end_time": "2022-09-11T12:22:20.338625Z",
     "start_time": "2022-09-11T12:22:20.314629Z"
    },
    "cell_id": "98fd63554e134ad4aac572c9e261abc1",
    "deepnote_cell_height": 147.65625,
    "deepnote_cell_type": "code",
    "deepnote_output_heights": [
     20.109375
    ]
   },
   "outputs": [
    {
     "data": {
      "text/plain": [
       "[3, 'Hola', True, [3, 4]]"
      ]
     },
     "execution_count": 63,
     "metadata": {},
     "output_type": "execute_result"
    }
   ],
   "source": [
    "lista = [3, 'Hola', True]\n",
    "lista.append([3, 4])\n",
    "lista"
   ]
  },
  {
   "cell_type": "code",
   "execution_count": null,
   "metadata": {
    "ExecuteTime": {
     "end_time": "2022-09-11T12:22:57.976550Z",
     "start_time": "2022-09-11T12:22:57.952155Z"
    },
    "cell_id": "9c51ee7c6549422ba5c9e8ab34414b82",
    "deepnote_cell_height": 147.65625,
    "deepnote_cell_type": "code",
    "deepnote_output_heights": [
     20.109375
    ]
   },
   "outputs": [
    {
     "data": {
      "text/plain": [
       "[3, True, 'Hola']"
      ]
     },
     "execution_count": 64,
     "metadata": {},
     "output_type": "execute_result"
    }
   ],
   "source": [
    "lista = [3, 'Hola', True, 'Hola']\n",
    "lista.remove('Hola')\n",
    "lista"
   ]
  },
  {
   "cell_type": "code",
   "execution_count": null,
   "metadata": {
    "ExecuteTime": {
     "end_time": "2022-09-11T12:25:30.370853Z",
     "start_time": "2022-09-11T12:25:30.356860Z"
    },
    "cell_id": "e349a08b5fb64d0aa49de93b7848bb1f",
    "deepnote_cell_height": 183.65625,
    "deepnote_cell_type": "code",
    "deepnote_output_heights": [
     20.109375
    ]
   },
   "outputs": [
    {
     "data": {
      "text/plain": [
       "['Hola', 3, True, 'Hola']"
      ]
     },
     "execution_count": 68,
     "metadata": {},
     "output_type": "execute_result"
    }
   ],
   "source": [
    "lista = [3, 'Hola', True, 'Hola']\n",
    "lista.count('Hola')\n",
    "lista[0]=\"Hola\"\n",
    "lista[1]=3\n",
    "lista"
   ]
  },
  {
   "cell_type": "code",
   "execution_count": null,
   "metadata": {
    "ExecuteTime": {
     "end_time": "2022-09-11T12:24:02.583894Z",
     "start_time": "2022-09-11T12:24:02.567894Z"
    },
    "cell_id": "239b6e5016b4497eb9f872a897cbdc04",
    "deepnote_cell_height": 147.65625,
    "deepnote_cell_type": "code",
    "deepnote_output_heights": [
     20.109375
    ]
   },
   "outputs": [
    {
     "data": {
      "text/plain": [
       "[0, 1, 4, 5, 6, 7, 9]"
      ]
     },
     "execution_count": 66,
     "metadata": {},
     "output_type": "execute_result"
    }
   ],
   "source": [
    "lista = [6, 4, 1, 9, 7, 0, 5]\n",
    "lista.sort()\n",
    "lista"
   ]
  },
  {
   "cell_type": "code",
   "execution_count": null,
   "metadata": {
    "ExecuteTime": {
     "end_time": "2022-09-11T12:26:03.769581Z",
     "start_time": "2022-09-11T12:26:03.754578Z"
    },
    "cell_id": "a8a2fa4ddd8b4ca49d183631a6644feb",
    "deepnote_cell_height": 147.65625,
    "deepnote_cell_type": "code",
    "deepnote_output_heights": [
     20.109375
    ]
   },
   "outputs": [
    {
     "data": {
      "text/plain": [
       "[9, 7, 6, 5, 4, 1, 0]"
      ]
     },
     "execution_count": 69,
     "metadata": {},
     "output_type": "execute_result"
    }
   ],
   "source": [
    "lista = [6, 4, 1, 9, 7, 0, 5]\n",
    "lista.sort(reverse=True)\n",
    "lista"
   ]
  },
  {
   "cell_type": "code",
   "execution_count": null,
   "metadata": {
    "ExecuteTime": {
     "end_time": "2022-09-11T12:26:56.100988Z",
     "start_time": "2022-09-11T12:26:56.087986Z"
    },
    "cell_id": "95e17ac6e838489eb55c8acd7e6ab088",
    "deepnote_cell_height": 141.65625,
    "deepnote_cell_type": "code"
   },
   "outputs": [
    {
     "name": "stdout",
     "output_type": "stream",
     "text": [
      "[6, 1, 9, 7, 0, 5] 4\n"
     ]
    }
   ],
   "source": [
    "lista = [6, 4, 1, 9, 7, 0, 5]\n",
    "num=lista.pop(1) \n",
    "print(lista, num)"
   ]
  },
  {
   "cell_type": "markdown",
   "metadata": {
    "cell_id": "3cff5e3737294dadad90b7fbc59ba0a4",
    "deepnote_cell_height": 150.890625,
    "deepnote_cell_type": "markdown"
   },
   "source": [
    "## Conjuntos\n",
    "\n",
    "Los conjuntos son colecciones no ordenadas de elementos. Además, los conjuntos no contienen repetición de elementos, es decir, se eliminan todos los elementos duplicados. Para crear un conjunto podemos indicar un conjunto de objetos separados por comas y delimitados por llaves {}."
   ]
  },
  {
   "cell_type": "code",
   "execution_count": null,
   "metadata": {
    "ExecuteTime": {
     "end_time": "2022-09-11T12:30:49.366025Z",
     "start_time": "2022-09-11T12:30:49.341026Z"
    },
    "cell_id": "ed750b8842d4468ea7cda1fcb7a2d6f9",
    "deepnote_cell_height": 129.65625,
    "deepnote_cell_type": "code",
    "deepnote_output_heights": [
     20.109375
    ]
   },
   "outputs": [
    {
     "data": {
      "text/plain": [
       "{'audi', 'ferrari', 'mercedes', 'renault', 'seat'}"
      ]
     },
     "execution_count": 73,
     "metadata": {},
     "output_type": "execute_result"
    }
   ],
   "source": [
    "conjunto = {'audi', 'mercedes', 'seat', 'ferrari', 'ferrari', 'renault'}\n",
    "conjunto"
   ]
  },
  {
   "cell_type": "code",
   "execution_count": null,
   "metadata": {
    "ExecuteTime": {
     "end_time": "2022-09-11T12:31:17.287071Z",
     "start_time": "2022-09-11T12:31:17.276069Z"
    },
    "cell_id": "492933c401994f5fa11cba10fde3a932",
    "deepnote_cell_height": 129.65625,
    "deepnote_cell_type": "code",
    "deepnote_output_heights": [
     20.109375
    ]
   },
   "outputs": [
    {
     "data": {
      "text/plain": [
       "set()"
      ]
     },
     "execution_count": 74,
     "metadata": {},
     "output_type": "execute_result"
    }
   ],
   "source": [
    "vacio= set()\n",
    "vacio # Nos mostrará {}"
   ]
  },
  {
   "cell_type": "code",
   "execution_count": null,
   "metadata": {
    "ExecuteTime": {
     "end_time": "2022-09-11T12:32:04.944325Z",
     "start_time": "2022-09-11T12:32:04.917327Z"
    },
    "cell_id": "1599eb56b35d4176a170938e19c0202e",
    "deepnote_cell_height": 165.65625,
    "deepnote_cell_type": "code",
    "deepnote_output_heights": [
     20.109375
    ]
   },
   "outputs": [
    {
     "data": {
      "text/plain": [
       "{1, 2, 3, 4, 5}"
      ]
     },
     "execution_count": 75,
     "metadata": {},
     "output_type": "execute_result"
    }
   ],
   "source": [
    "#Unión\n",
    "conjunto1 = {1, 2, 3}\n",
    "conjunto2 = {3, 4, 5}\n",
    "conjunto1.union(conjunto2)"
   ]
  },
  {
   "cell_type": "code",
   "execution_count": null,
   "metadata": {
    "ExecuteTime": {
     "end_time": "2022-09-11T12:32:19.233076Z",
     "start_time": "2022-09-11T12:32:19.211076Z"
    },
    "cell_id": "bce46d736aa04866bd3cd22f1f419a2b",
    "deepnote_cell_height": 165.65625,
    "deepnote_cell_type": "code",
    "deepnote_output_heights": [
     20.109375
    ]
   },
   "outputs": [
    {
     "data": {
      "text/plain": [
       "{3}"
      ]
     },
     "execution_count": 76,
     "metadata": {},
     "output_type": "execute_result"
    }
   ],
   "source": [
    "#Intersección\n",
    "conjunto1 = {1, 2, 3}\n",
    "conjunto2 = {3, 4, 5}\n",
    "conjunto1.intersection(conjunto2)"
   ]
  },
  {
   "cell_type": "code",
   "execution_count": null,
   "metadata": {
    "ExecuteTime": {
     "end_time": "2022-09-11T12:32:41.005837Z",
     "start_time": "2022-09-11T12:32:40.994832Z"
    },
    "cell_id": "4a384e1cb79043d78e47095c79037285",
    "deepnote_cell_height": 165.65625,
    "deepnote_cell_type": "code",
    "deepnote_output_heights": [
     20.109375
    ]
   },
   "outputs": [
    {
     "data": {
      "text/plain": [
       "{1, 2}"
      ]
     },
     "execution_count": 77,
     "metadata": {},
     "output_type": "execute_result"
    }
   ],
   "source": [
    "#Diferencia\n",
    "conjunto1 = {1, 2, 3}\n",
    "conjunto2 = {3, 4, 5}\n",
    "conjunto1.difference(conjunto2)"
   ]
  },
  {
   "cell_type": "code",
   "execution_count": null,
   "metadata": {
    "ExecuteTime": {
     "end_time": "2022-09-11T12:33:13.916618Z",
     "start_time": "2022-09-11T12:33:13.895618Z"
    },
    "cell_id": "5ac794149d2b43d5855657a2a8287c76",
    "deepnote_cell_height": 165.65625,
    "deepnote_cell_type": "code",
    "deepnote_output_heights": [
     20.109375
    ]
   },
   "outputs": [
    {
     "data": {
      "text/plain": [
       "{1, 2, 4, 5}"
      ]
     },
     "execution_count": 78,
     "metadata": {},
     "output_type": "execute_result"
    }
   ],
   "source": [
    "#Diferencia simétrica\n",
    "conjunto1 = {1, 2, 3}\n",
    "conjunto2 = {3, 4, 5}\n",
    "conjunto1.symmetric_difference(conjunto2)"
   ]
  },
  {
   "cell_type": "code",
   "execution_count": null,
   "metadata": {
    "ExecuteTime": {
     "end_time": "2022-09-11T12:33:45.831376Z",
     "start_time": "2022-09-11T12:33:45.812418Z"
    },
    "cell_id": "0f6ab1a856a843bb8e8e5f2ca105c67b",
    "deepnote_cell_height": 129.65625,
    "deepnote_cell_type": "code",
    "deepnote_output_heights": [
     20.109375
    ]
   },
   "outputs": [
    {
     "data": {
      "text/plain": [
       "True"
      ]
     },
     "execution_count": 79,
     "metadata": {},
     "output_type": "execute_result"
    }
   ],
   "source": [
    "#Pertenencia\n",
    "1 in conjunto1"
   ]
  },
  {
   "cell_type": "code",
   "execution_count": null,
   "metadata": {
    "ExecuteTime": {
     "end_time": "2022-09-11T12:34:26.157450Z",
     "start_time": "2022-09-11T12:34:26.134431Z"
    },
    "cell_id": "2992d6a5a11042d99172b5783ceba519",
    "deepnote_cell_height": 147.65625,
    "deepnote_cell_type": "code",
    "deepnote_output_heights": [
     20.109375
    ]
   },
   "outputs": [
    {
     "data": {
      "text/plain": [
       "3"
      ]
     },
     "execution_count": 81,
     "metadata": {},
     "output_type": "execute_result"
    }
   ],
   "source": [
    "#cardinal de un conjunto\n",
    "conjunto1 = {1, 2, 3, 3, 3,3,3,3}\n",
    "len(conjunto1)"
   ]
  },
  {
   "cell_type": "code",
   "execution_count": null,
   "metadata": {
    "ExecuteTime": {
     "end_time": "2022-09-11T12:36:29.437448Z",
     "start_time": "2022-09-11T12:36:29.418450Z"
    },
    "cell_id": "ba5f991828794aafa6f0f79dccf90f3c",
    "deepnote_cell_height": 196.796875,
    "deepnote_cell_type": "code"
   },
   "outputs": [
    {
     "name": "stdout",
     "output_type": "stream",
     "text": [
      "A =  {'o', 'a', 'u', 'e', 'i'}\n",
      "B =  {'b', 'a', 'd', 'c', 'r'}\n"
     ]
    }
   ],
   "source": [
    "#Conjuntos por comprensión\n",
    "conj_a = {c for c in \"aeiou\"}\n",
    "conj_b = {c for c in \"abracadabra\"}\n",
    "print(\"A = \", conj_a)\n",
    "print(\"B = \", conj_b)"
   ]
  },
  {
   "cell_type": "code",
   "execution_count": null,
   "metadata": {
    "ExecuteTime": {
     "end_time": "2022-09-11T12:40:31.287626Z",
     "start_time": "2022-09-11T12:40:31.269622Z"
    },
    "cell_id": "ba1fa4d89e5d44d993a6d4cf6b7a32db",
    "deepnote_cell_height": 251.921875,
    "deepnote_cell_type": "code"
   },
   "outputs": [
    {
     "name": "stdout",
     "output_type": "stream",
     "text": [
      "[0, 1, 2, 3, 4, 5, 6, 7, 8, 9]\n",
      "[0, 1, 4, 9, 16, 25, 36, 49, 64, 81]\n",
      "C =  [0, 1, 4, 9, 16, 25, 36, 49, 64, 81]\n"
     ]
    }
   ],
   "source": [
    "#La notación por comprensión aplica a listas ([exprision for valor in coleccion if condicion])\n",
    "a = range(10)\n",
    "b = [i for i in a]\n",
    "print(b)\n",
    "c=[i**2 for i in b]\n",
    "print(c)\n",
    "print(\"C = \", c)"
   ]
  },
  {
   "cell_type": "markdown",
   "metadata": {
    "cell_id": "78c0574632ca437da3f8679547c3907d",
    "deepnote_cell_height": 323.140625,
    "deepnote_cell_type": "markdown"
   },
   "source": [
    "## Expresión if\n",
    "\n",
    "Las expresiones if nos permiten ejecutar un bloque de instrucciones únicamente si la expresión lógica que hemos puesto devuelve True. (Importante la sangría)\n",
    "\n",
    "    if (EXPRESION_LOGICA):\n",
    "        sentencia_1\n",
    "        sentencia_2\n",
    "        ...\n",
    "        else:\n",
    "        sentencia_1\n",
    "        sentencia_2\n",
    "        ..."
   ]
  },
  {
   "cell_type": "code",
   "execution_count": null,
   "metadata": {
    "ExecuteTime": {
     "end_time": "2022-09-11T12:44:03.203044Z",
     "start_time": "2022-09-11T12:44:03.181041Z"
    },
    "cell_id": "fcd9b6ce55994867bb7ed80ba5d5e2d3",
    "deepnote_cell_height": 114.6875,
    "deepnote_cell_type": "code"
   },
   "outputs": [
    {
     "name": "stdout",
     "output_type": "stream",
     "text": [
      "¡Soy mayor que 5!\n"
     ]
    }
   ],
   "source": [
    "#Ejemplo\n",
    "number=6   \n",
    "if (number > 5):\n",
    "    print(\"¡Soy mayor que 5!\")"
   ]
  },
  {
   "cell_type": "code",
   "execution_count": null,
   "metadata": {
    "ExecuteTime": {
     "end_time": "2022-09-11T12:45:02.396326Z",
     "start_time": "2022-09-11T12:45:02.381326Z"
    },
    "cell_id": "0084f94f2c434924ab790084cb3e615d",
    "deepnote_cell_height": 195.671875,
    "deepnote_cell_type": "code"
   },
   "outputs": [
    {
     "name": "stdout",
     "output_type": "stream",
     "text": [
      "Soy menor o igual que 5\n"
     ]
    }
   ],
   "source": [
    "#Ejemplo\n",
    "number=3 \n",
    "if (number > 5):\n",
    "    print(\"¡Soy mayor que 5!\")\n",
    "else:\n",
    "    print(\"Soy menor o igual que 5\")"
   ]
  },
  {
   "cell_type": "code",
   "execution_count": null,
   "metadata": {
    "ExecuteTime": {
     "end_time": "2022-09-11T12:45:52.858487Z",
     "start_time": "2022-09-11T12:45:52.842489Z"
    },
    "cell_id": "0bdde6e57adb4b46ad0e14978cea90c0",
    "deepnote_cell_height": 231.671875,
    "deepnote_cell_type": "code"
   },
   "outputs": [
    {
     "name": "stdout",
     "output_type": "stream",
     "text": [
      "Soy menor o igual que 5\n"
     ]
    }
   ],
   "source": [
    "#Ejemplo\n",
    "number=3\n",
    "if (number > 5):\n",
    "    print(\"¡Soy mayor que 5!\")\n",
    "elif (number == 5):\n",
    "    print(\"Soy el número 5\")\n",
    "else:\n",
    "    print(\"Soy menor o igual que 5\")"
   ]
  },
  {
   "cell_type": "markdown",
   "metadata": {
    "ExecuteTime": {
     "end_time": "2022-09-04T08:05:16.339072Z",
     "start_time": "2022-09-04T08:05:16.319325Z"
    },
    "cell_id": "e6de77b549e545d3bca4b15a50a6efcb",
    "deepnote_cell_height": 301.421875,
    "deepnote_cell_type": "markdown"
   },
   "source": [
    "## Expresión For\n",
    "\n",
    "Una forma de crear secuencias iterativas es con la instrucción for.\n",
    "\n",
    "    for VARIABLE in OBJETO:\n",
    "        sentencia_1\n",
    "        sentencia_2\n",
    "        ...\n",
    "    else:\n",
    "        sentencia_1\n",
    "        sentencia_2\n",
    "        ..."
   ]
  },
  {
   "cell_type": "code",
   "execution_count": null,
   "metadata": {
    "ExecuteTime": {
     "end_time": "2022-09-11T12:48:00.865047Z",
     "start_time": "2022-09-11T12:48:00.840046Z"
    },
    "cell_id": "785f2230272f464b8a16ee35878e256f",
    "deepnote_cell_height": 310.453125,
    "deepnote_cell_type": "code"
   },
   "outputs": [
    {
     "name": "stdout",
     "output_type": "stream",
     "text": [
      "5\n",
      "4\n",
      "3\n",
      "2\n",
      "1\n",
      "0\n",
      "Ya he acabado!\n"
     ]
    }
   ],
   "source": [
    "#Ejemplo\n",
    "numeros = [5, 4, 3, 2, 1, 0]\n",
    "for numero in numeros:\n",
    "    print(numero)\n",
    "else:\n",
    "    print(\"Ya he acabado!\")"
   ]
  },
  {
   "cell_type": "code",
   "execution_count": null,
   "metadata": {
    "ExecuteTime": {
     "end_time": "2022-09-11T12:49:11.634372Z",
     "start_time": "2022-09-11T12:49:11.621373Z"
    },
    "cell_id": "e3fcd5eff33040ec9c852139d95d38ed",
    "deepnote_cell_height": 96.6875,
    "deepnote_cell_type": "code"
   },
   "outputs": [
    {
     "name": "stdout",
     "output_type": "stream",
     "text": [
      "H\n",
      "o\n",
      "l\n",
      "a\n",
      " \n",
      "m\n",
      "u\n",
      "n\n",
      "d\n",
      "o\n"
     ]
    }
   ],
   "source": [
    "texto = 'Hola mundo'\n",
    "for caracter in texto:\n",
    "    print(caracter)"
   ]
  },
  {
   "cell_type": "code",
   "execution_count": null,
   "metadata": {
    "ExecuteTime": {
     "end_time": "2022-09-11T12:49:41.865980Z",
     "start_time": "2022-09-11T12:49:41.846975Z"
    },
    "cell_id": "5dc9697c760b4dfd912f91f46a70ae42",
    "deepnote_cell_height": 96.6875,
    "deepnote_cell_type": "code"
   },
   "outputs": [
    {
     "name": "stdout",
     "output_type": "stream",
     "text": [
      "texto\n",
      "5\n",
      "(23, 56)\n"
     ]
    }
   ],
   "source": [
    "lista = ['texto', 5, (23, 56)]\n",
    "for elemento in lista:\n",
    "    print(elemento)"
   ]
  },
  {
   "cell_type": "code",
   "execution_count": null,
   "metadata": {
    "ExecuteTime": {
     "end_time": "2022-09-11T12:49:55.952678Z",
     "start_time": "2022-09-11T12:49:55.945674Z"
    },
    "cell_id": "13523e7c5c1b4eb28e1a9019611489c8",
    "deepnote_cell_type": "code"
   },
   "outputs": [
    {
     "name": "stdout",
     "output_type": "stream",
     "text": [
      "H\n",
      "o\n",
      "l\n",
      "a\n",
      " \n",
      "m\n",
      "u\n",
      "n\n",
      "d\n",
      "o\n"
     ]
    }
   ],
   "source": [
    "cadena = 'Hola mundo'\n",
    "for i in range(0, len(cadena)):\n",
    "    print(cadena[i])"
   ]
  },
  {
   "cell_type": "code",
   "execution_count": null,
   "metadata": {
    "ExecuteTime": {
     "end_time": "2022-09-11T12:51:06.136119Z",
     "start_time": "2022-09-11T12:51:06.116079Z"
    },
    "cell_id": "585c34021bdc4fadbe0580b84ac8571b",
    "deepnote_cell_type": "code"
   },
   "outputs": [
    {
     "name": "stdout",
     "output_type": "stream",
     "text": [
      "0\n",
      "1\n",
      "2\n",
      "3\n",
      "4\n",
      "Rompemos el bucle!\n"
     ]
    }
   ],
   "source": [
    "numeros = list(range(10))\n",
    "for n in numeros:\n",
    "    if (n == 5):\n",
    "        print('Rompemos el bucle!')\n",
    "        break\n",
    "    print(n)"
   ]
  },
  {
   "cell_type": "markdown",
   "metadata": {
    "cell_id": "45a85081f9864c788c8ae028ed6ef11f",
    "deepnote_cell_type": "markdown"
   },
   "source": [
    "## Funciones\n",
    "\n",
    "Una función es un bloque de código organizado y reutilizable que se utiliza para realizar una tarea específica o un grupo de tareas relacionadas. A una función se le pide de entrada valores conocidos como parámetros o argumentos y devuelve,  en la mayoría de casos, objetos o valores como resultado.\n",
    "\n",
    "Las funciones se declaran con la palabra clave `def` y devuelven valores con la palabra clave `return` (veámoslo con un ejemplo):\n",
    "\n",
    "````python\n",
    "def mi_funcion(x, y, z): \n",
    "    # Multiplica/divide z por la suma de x e y en función del valor de z\n",
    "    if z > 1:\n",
    "        return z * (x + y) \n",
    "    else:\n",
    "        return z / (x + y)\n",
    "````"
   ]
  },
  {
   "cell_type": "code",
   "execution_count": null,
   "metadata": {
    "ExecuteTime": {
     "end_time": "2022-09-11T12:55:38.436658Z",
     "start_time": "2022-09-11T12:55:38.421619Z"
    },
    "cell_id": "34fdb715756e4bc6b194e3ef26c68fae",
    "deepnote_cell_type": "code"
   },
   "outputs": [],
   "source": [
    "def mi_funcion(x, y, z): \n",
    "    # Multiplica/divide z por la suma de x e y en función del valor de z\n",
    "    if z > 1:\n",
    "        return z * (x + y) \n",
    "    else:\n",
    "        return z / (x + y)"
   ]
  },
  {
   "cell_type": "code",
   "execution_count": null,
   "metadata": {
    "ExecuteTime": {
     "end_time": "2022-09-11T12:56:20.409554Z",
     "start_time": "2022-09-11T12:56:20.388548Z"
    },
    "cell_id": "4b16dca31e514222af20921b5d12f945",
    "deepnote_cell_type": "code"
   },
   "outputs": [
    {
     "data": {
      "text/plain": [
       "6"
      ]
     },
     "execution_count": 99,
     "metadata": {},
     "output_type": "execute_result"
    }
   ],
   "source": [
    "#Llamar la función\n",
    "mi_funcion(1, 2, 2)"
   ]
  },
  {
   "cell_type": "code",
   "execution_count": null,
   "metadata": {
    "ExecuteTime": {
     "end_time": "2022-09-11T12:57:46.990856Z",
     "start_time": "2022-09-11T12:57:46.974860Z"
    },
    "cell_id": "bb217b3fa5e1416e9ce9e8c42615fc77",
    "deepnote_cell_type": "code"
   },
   "outputs": [
    {
     "data": {
      "text/plain": [
       "(14.0, 4.5, -2.0)"
      ]
     },
     "execution_count": 100,
     "metadata": {},
     "output_type": "execute_result"
    }
   ],
   "source": [
    "def media(x, y):\n",
    "    return (x + y) / 2\n",
    "\n",
    "media(3,25), media(3.4,5.6), media(-1,-3)"
   ]
  },
  {
   "cell_type": "code",
   "execution_count": null,
   "metadata": {
    "ExecuteTime": {
     "end_time": "2022-09-11T12:59:29.015050Z",
     "start_time": "2022-09-11T12:59:28.992048Z"
    },
    "cell_id": "4d0e73046396465b9f08df8101ce2f87",
    "deepnote_cell_type": "code"
   },
   "outputs": [
    {
     "data": {
      "text/plain": [
       "5.075"
      ]
     },
     "execution_count": 101,
     "metadata": {},
     "output_type": "execute_result"
    }
   ],
   "source": [
    "def media_4(a1, a2, a3, a4):\n",
    "    s = 0.0\n",
    "    s = s + a1\n",
    "    s = s + a2\n",
    "    s = s + a3\n",
    "    s = s + a4\n",
    "    return s / 4\n",
    "\n",
    "media_4(1.5, 9.1, 3.0, 6.7)"
   ]
  },
  {
   "cell_type": "code",
   "execution_count": null,
   "metadata": {
    "ExecuteTime": {
     "end_time": "2022-09-11T13:02:06.286084Z",
     "start_time": "2022-09-11T13:02:06.255085Z"
    },
    "cell_id": "349391f864fd4e48a825e70f9a79b7cf",
    "deepnote_cell_type": "code"
   },
   "outputs": [
    {
     "data": {
      "text/plain": [
       "('Sobresaliente', 'Perdió', 'Perdió', 'Perdió', 'Notable', 'Aprobó')"
      ]
     },
     "execution_count": 102,
     "metadata": {},
     "output_type": "execute_result"
    }
   ],
   "source": [
    "def calificacion(num_nota):\n",
    "    \"\"\"\n",
    "    Converierte una calificación numérica en su denominación\n",
    "    \n",
    "    Parameters\n",
    "    ----------\n",
    "    num_nota : float\n",
    "        la nota numérica\n",
    "    \n",
    "    Returns\n",
    "    -------\n",
    "    str \n",
    "        la denominación de la calificación: Perdió, Aprobó, Notable, Sobresaliente\n",
    "        \n",
    "    Precondition\n",
    "    ------------\n",
    "    num_nota >= 0 and num_nota <= 10\n",
    "    \"\"\"\n",
    "    if num_nota < 5:\n",
    "        return \"Perdió\"\n",
    "    elif num_nota < 7:\n",
    "        return \"Aprobó\"\n",
    "    elif num_nota < 9:\n",
    "        return \"Notable\"\n",
    "    else:\n",
    "        return \"Sobresaliente\"\n",
    "    \n",
    "calificacion(10), calificacion(1.23), calificacion(3.45), calificacion(4.999), calificacion(7), calificacion(5)"
   ]
  },
  {
   "cell_type": "code",
   "execution_count": null,
   "metadata": {
    "ExecuteTime": {
     "end_time": "2022-09-11T13:02:49.314716Z",
     "start_time": "2022-09-11T13:02:49.292712Z"
    },
    "cell_id": "35037c51740840a08a75da5c6cc4bc5c",
    "deepnote_cell_type": "code"
   },
   "outputs": [
    {
     "name": "stdout",
     "output_type": "stream",
     "text": [
      "(1.0, 1.0)\n",
      "(1.0, 2.0)\n"
     ]
    }
   ],
   "source": [
    "def resuelve_sistema_lineal(a, b, c, d, e, f):\n",
    "    \"\"\"\n",
    "    Resuelve el sistema de ecuaciones lineales siguiente:\n",
    "         a*x + b*y = e\n",
    "         c*x + d*y = f\n",
    "    \n",
    "    Parameters\n",
    "    ----------\n",
    "    a, b, c, d, e, f : float\n",
    "        Coeficientes de las ecuaciones\n",
    "    \n",
    "    Returns\n",
    "    -------\n",
    "    (float, float)\n",
    "        Par de valores (x, y) que verifican ese sistema de ecuaciones\n",
    "    \n",
    "    Precondition\n",
    "    ------------\n",
    "      a*d - b*c != 0\n",
    "    \"\"\"\n",
    "    if a == 0:\n",
    "        y = e / b\n",
    "        x = (f - d*y) / c\n",
    "    else:\n",
    "        y = (a*f - c*e)/(a*d - c*b)\n",
    "        x = (e - b*y) / a \n",
    "    return x, y\n",
    "\n",
    "print(resuelve_sistema_lineal(1.0, 1.0, 0.0, 1.0, 2.0, 1.0))\n",
    "print(resuelve_sistema_lineal(7.0, 2.0, 5.0, -1.0, 11.0, 3.0))"
   ]
  },
  {
   "cell_type": "code",
   "execution_count": null,
   "metadata": {
    "ExecuteTime": {
     "end_time": "2022-09-04T08:51:33.456202Z",
     "start_time": "2022-09-04T08:51:33.443202Z"
    },
    "cell_id": "fec73a5f253d4a5781a20beb88a03bdc",
    "deepnote_cell_type": "code"
   },
   "outputs": [],
   "source": [
    "def max_min(x, y):\n",
    "    if x < y :\n",
    "        max = y\n",
    "        min = x\n",
    "    else:\n",
    "        max = x\n",
    "        min = y\n",
    "    return max, min\n",
    "\n",
    "print(max_min(2, 3), max_min(3, 2))"
   ]
  },
  {
   "cell_type": "markdown",
   "metadata": {
    "cell_id": "d232b2975ffc441fafddc181eb3d5064",
    "deepnote_cell_type": "markdown"
   },
   "source": [
    "### Documentación de funciones\n",
    "\n",
    "Una de la tareas más importantes en el trabajo con datos es la **documentación**, lo que debe hacerse también en el caso de las funciones. \n",
    "Debemos indicar lo que hace la función, los tipos y restricciones que deben tener los parámetros de entrada, y los valores devueltos.\n",
    "\n",
    "Para esto se sugiere seguir la suigiente esttructura:\n",
    "\n",
    ">```` \n",
    "def function(Parámetros)\n",
    "     '''\n",
    "     Descripción de lo que hace la función\n",
    "     Parameters\n",
    "     ----------\n",
    "     Parámetros 1: tipo\n",
    "                   Decripción\n",
    "     Parámetros 2: tipo\n",
    "                   Decripción\n",
    "     ...\n",
    "     Return\n",
    "     ------\n",
    "     Tipo\n",
    "         Desripción     \n",
    "     Precondiciones (o restricciones)\n",
    "     --------------\n",
    "     Desripción    \n",
    "     Example\n",
    "     -------\n",
    "     '>>>function(Parámetros)\n",
    "     Result\n",
    "     '''\n",
    "     Construcción de la función\n",
    "     return resultados(s))\n",
    "\n",
    "Ejemplo:            \n"
   ]
  },
  {
   "cell_type": "code",
   "execution_count": null,
   "metadata": {
    "ExecuteTime": {
     "end_time": "2022-09-11T13:06:29.941792Z",
     "start_time": "2022-09-11T13:06:29.912797Z"
    },
    "cell_id": "4209ecc67e14480ab068e091d2b9ddf2",
    "deepnote_cell_type": "code"
   },
   "outputs": [
    {
     "name": "stdout",
     "output_type": "stream",
     "text": [
      "6\n",
      "Help on function sum_n_naturales in module __main__:\n",
      "\n",
      "sum_n_naturales(n)\n",
      "    Esta función suma los primeros n números naturales\n",
      "    Parameters\n",
      "    ----------\n",
      "    n : int\n",
      "    Corresponde al número natural n al que le debemos calcular la suma\n",
      "    \n",
      "    Return\n",
      "    ------\n",
      "    int\n",
      "    devuelve la suma de los primeros n números naturales\n",
      "    \n",
      "    Precondition\n",
      "    ------------\n",
      "    n > 0\n",
      "    Example\n",
      "    -------\n",
      "    >>>sum_n_naturales(3)\n",
      "    6\n",
      "\n"
     ]
    }
   ],
   "source": [
    "def sum_n_naturales(n):\n",
    "    \"\"\"\n",
    "    Esta función suma los primeros n números naturales\n",
    "    Parameters\n",
    "    ----------\n",
    "    n : int\n",
    "    Corresponde al número natural n al que le debemos calcular la suma\n",
    "    \n",
    "    Return\n",
    "    ------\n",
    "    int\n",
    "    devuelve la suma de los primeros n números naturales\n",
    "    \n",
    "    Precondition\n",
    "    ------------\n",
    "    n > 0\n",
    "    Example\n",
    "    -------\n",
    "    >>>sum_n_naturales(3)\n",
    "    6\n",
    "    \"\"\"\n",
    "    ntriag = (n * (n +1)) // 2\n",
    "    return ntriag\n",
    "\n",
    "print(sum_n_naturales(3))\n",
    "help(sum_n_naturales)"
   ]
  },
  {
   "cell_type": "markdown",
   "metadata": {
    "cell_id": "7fef56a47ac94a82988ed2851753ee87",
    "deepnote_cell_type": "markdown"
   },
   "source": [
    "## Ejercicios\n",
    "\n",
    "\n",
    "1. Construir una función documentada que calcule el factorial de un número.\n",
    "2. Construya una función que calcule la función básica de probabilidad de una distribución uniforme discreta entre 0 y 9.\n",
    "3. Construya una función que calcule la función acumulada de probabilidad de una distribución uniforme discreta entre 0 y 9 para cualquier número.\n",
    "4. Construya una función que devuelva, la media, el máximo, el mínimo y la suma de una lista de números. (Puede usar las funciones min(), max(), sum(), import numpy as np y usar std() o mean()) \n",
    "5. Un país tiene monedas de 1 U, 5 U y 25 U. Si tenemos una cierta cantidad de dinero en una variable, diseña una función para dar el cambio óptimo en las monedas descritas. (Ejemplo: Dinero=537, 21 monedas de 25, 2 monedas de 5 y una moneda de 1) \n",
    "6. En un Jupyter notebook incluir la explicación de una temática (muy corta) que contenga: Encabezados a diferentes niveles, imágenes, refrencias, pies de página, tablas, latex, cuadros explicativos, celdas `code` y tabla de contenido.\n",
    "\n"
   ]
  },
  {
   "cell_type": "markdown",
   "metadata": {
    "cell_id": "57591939e08c4f10b6992743c298018e",
    "deepnote_cell_type": "markdown"
   },
   "source": [
    "# References\n",
    "\n",
    "<a name=\"cite-PER-GRA:2007\"/><sup>[^](#ref-2) </sup>P&eacute;rez, Fernando and Granger, Brian E.. 2007. _IPython: a System for Interactive Scientific Computing_. [URL](http://ipython.org)\n",
    "\n",
    "<a name=\"cite-calicoww2:2\"/><sup>[^](#ref-3) </sup>Kepps, Milo . 2002. _Rebuilding Calico After Japanese Occupation_.\n",
    "\n"
   ]
  }
 ],
 "metadata": {
  "deepnote_execution_queue": [],
  "deepnote_notebook_id": "c23baf2cbc5a40579db3846f717bee1d",
  "kernelspec": {
   "display_name": "Python 3 (ipykernel)",
   "language": "python",
   "name": "python3"
  },
  "language_info": {
   "codemirror_mode": {
    "name": "ipython",
    "version": 3
   },
   "file_extension": ".py",
   "mimetype": "text/x-python",
   "name": "python",
   "nbconvert_exporter": "python",
   "pygments_lexer": "ipython3",
   "version": "3.11.7"
  }
 },
 "nbformat": 4,
 "nbformat_minor": 4
}

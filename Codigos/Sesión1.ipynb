{
 "cells": [
  {
   "cell_type": "markdown",
   "metadata": {
    "ExecuteTime": {
     "end_time": "2021-11-09T20:16:03.708359Z",
     "start_time": "2021-11-09T20:16:03.379308Z"
    },
    "cell_id": "35c5f05500bd479198898fac3e3e6be8",
    "deepnote_cell_height": 45.71875,
    "deepnote_cell_type": "markdown",
    "deletable": false,
    "scrolled": false
   },
   "source": [
    "<img src=\"https://upload.wikimedia.org/wikipedia/commons/f/ff/Uexternado.jpg\" width=\"240\" height=\"240\" align=\"right\"/>"
   ]
  },
  {
   "cell_type": "markdown",
   "metadata": {
    "cell_id": "271dcbba268e4c7f8f99908b93a0f418",
    "deepnote_cell_height": 183.609375,
    "deepnote_cell_type": "markdown"
   },
   "source": [
    "<center><h1>  Estadística Básica con Python. Con aplicaciones en toma de decisiones.</header1></centre><br>"
   ]
  },
  {
   "cell_type": "markdown",
   "metadata": {
    "caption": "somecaption",
    "cell_id": "49d0bd1ac90c49b6b203e2bf2c28767b",
    "deepnote_cell_height": 146.296875,
    "deepnote_cell_type": "markdown",
    "deletable": false,
    "label": "fig:somelabel",
    "widefigure": true
   },
   "source": [
    "<left><h1>Sesión 1. Introducción a Jupyter Notebook. Algunas Herramientas de Utilidad</header1></centre><br>"
   ]
  },
  {
   "cell_type": "markdown",
   "metadata": {
    "caption": "somecaption",
    "cell_id": "3b950443135849da99c5034204fc1c0e",
    "deepnote_cell_height": 94.90625,
    "deepnote_cell_type": "markdown",
    "deletable": false,
    "label": "fig:somelabel",
    "widefigure": true
   },
   "source": [
    "Andrés Martínez<br>\n",
    "Mayo 2024"
   ]
  },
  {
   "cell_type": "markdown",
   "metadata": {
    "cell_id": "10d6b1b98d474405b22f530a33fe9cb3",
    "deepnote_cell_height": 139.609375,
    "deepnote_cell_type": "markdown"
   },
   "source": [
    "1.\tPython, Jupyter notebooks. Instalación (anaconda), introducción, formato, funcionalidades principales, markdown, latex, extensiones. \n",
    "2.\tLibrerías, módulos y funciones\n",
    "3.\tTipos de objetos. Funcionalidades básicas de Python. "
   ]
  },
  {
   "cell_type": "markdown",
   "metadata": {
    "cell_id": "faba3d1d41684c848353321c5bfdd97e",
    "deepnote_cell_height": 5311.390625,
    "deepnote_cell_type": "markdown"
   },
   "source": [
    "## ¿Qué es Python?\n",
    "\n",
    "><figure><center>\n",
    "  <img src=\"https://www.python.org/static/img/python-logo@2x.png\" alt=\"jupyter.org\" width=600 height=600/>\n",
    "</center></figure> \n",
    "\n",
    "\n",
    "Python es un lenguaje que posee una licencia de código abierto, es un lenguaje de programación versátil y orientado a objetos de propósito general, como Javascript o c++, alabado por su facilidad de comprensión y su sintaxis sencilla. Introducido inicialmente en 1991, diseñado por Guido van Rossum, es el lenguaje de programación de más rápido crecimiento en todo el mundo, además de ser muy accesible para los principiantes.\n",
    "\n",
    "><figure><center>\n",
    "  <img src=\"https://perlcgi-book.com/wp-content/uploads/2020/04/guido-van-rossum-1090x613.jpg\" alt=\"jupyter.org\" width=400 height=400/>\n",
    "  <figcaption>Guido van Rossum, creador del lenguaje de programación Python.<a href=\"https://perlcgi-book.com/tag/guido-van-rossum/\"> Source</a></figcaption>\n",
    "</center></figure> \n",
    "\n",
    "\n",
    "\n",
    "Es ideal para implementar algoritmos de aprendizaje automático (ML), resolver una amplia gama de problemas en diferentes áreas, desarrollar aplicaciones de visión por ordenador y redes neuronales, extraer grandes cantidades de datos de la web y desplegar tareas de ciencia de datos en proyectos de gran magnitud.\n",
    "\n",
    "Python proporciona un amplio e impresionante conjunto de marcos y bibliotecas para la inteligencia artificial, aprendizaje automático, ciencia de los datos y el desarrollo de software. Algunas de las bibliotecas de ciencia de datos de python son:\n",
    "\n",
    "   + [NumPy](https://numpy.org/) (for scientific computing-large multidimensional vectors and matrices)\n",
    "   + [Pandas](https://pandas.pydata.org/) (Dataframes, Data Exploration, visualization and analysis)\n",
    "   + [Scikit-learn](https://scikit-learn.org/stable/) ((Machine Learning))\n",
    "   + [Statmodels](https://www.statsmodels.org/stable/index.html) (Statistical models)\n",
    "   + [Scipy](https://scipy.org/) (Scientific Python)\n",
    "   + [Matplotlib](https://matplotlib.org/) (exploration and data visualization)\n",
    "   + [Seaborn](https://seaborn.pydata.org/) (statistical data visualization)\n",
    "   + [Plotly](https://plotly.com/python/) (data visualization)\n",
    "   + [TensorFlow](https://www.tensorflow.org/learn) (Numerical computing and Machine Learning)\n",
    "   + [Keras](https://keras.io/) (RNA)   \n",
    "\n",
    "Algunas compañias que que confian Python en la gestión de su negocio:\n",
    "+ Google\n",
    "+ Industrial Light and Magic\n",
    "+ Facebook\n",
    "+ Instagram\n",
    "+ Spotify\n",
    "+ Quora\n",
    "+ Netflix\n",
    "+ Dropbox\n",
    "\n",
    "## Python vs Otras opciones\n",
    "\n",
    "\n",
    "\n",
    "><figure><center>\n",
    "  <img src=\"https://i0.wp.com/r4stats.com/wp-content/uploads/2019/05/Fig-1a-IndeedJobs-2019-1.png?w=650&ssl=1\" alt=\"jupyter.org\" width=400 height=400/>\n",
    "  <figcaption>Number of data science jobs for the more popular software (2019).<a href=\"https://r4stats.com/articles/popularity/\"> Source</a></figcaption>\n",
    "</center></figure> \n",
    "\n",
    "><figure><center>\n",
    "  <img src=\"https://www.glassdoor.com/research/app/uploads/sites/2/2019/10/GD_DataScienceSkills_Chart_1500pxWide_2X.jpg\" alt=\"jupyter.org\" width=400 height=400/>\n",
    "  <figcaption>The Ten Most Common Data Science Skills in Job Postings (2017).<a href=\"https://www.glassdoor.com/research/data-scientist-personas/\"> Source</a></figcaption>\n",
    "</center></figure> \n",
    "\n",
    "\n",
    "## Filosofía de Python\n",
    "\n",
    "El objetivo principal del lenguaje Python era que fuese fácil de entender, de programar, con código más legible que los lenguajes de su momento C++ y Java. Para lograr este objetivo, el desarrollador Tim Peters creó el **Zen de Python**, que define un conjunto de reglas que representan la filosofía de Python. \n",
    "\n",
    "+ Bonito es mejor que feo.\n",
    "+ Explícito es mejor que implícito.\n",
    "+ Simple es mejor que complejo.\n",
    "+ Complejo es mejor que complicado.\n",
    "+ Plano es mejor que anidado.\n",
    "+ Disperso es mejor que denso.\n",
    "+ La legibilidad cuenta.\n",
    "+ Los casos especiales no son tan especiales como para romper las reglas.\n",
    "+ Aunque la practicidad vence a la pureza.\n",
    "+ Los errores nunca deberían pasarse por alto.\n",
    "+ A menos que esté explícitamente pasado por alto.\n",
    "+ En caso de ambigüedad, rechaza la tentación de adivinar.\n",
    "+ Tendría que haber un — y preferiblemente únicamente uno — camino obvio para hacerlo.\n",
    "+ Aunque ese camino puede no ser obvio la primera vez, a menos que seas holandés.\n",
    "+ Ahora es mejor que nunca.\n",
    "+ Aunque nunca es, en algunos casos, mejor que ahora mismo.\n",
    "+ Si la implementación es difícil de explicar, es una mala idea.\n",
    "+ Si la implementación es fácil de explicar, puede que sea una buena idea.\n",
    "+ Los namespaces (espacio de nombres) son una gran idea — ¡hagamos más de estos!\n",
    "\n",
    "«import this» fue originalmente el eslogan de la Conferencia Internacional de Python (10) (International Python Conference, IPC, predecedor de PyCon). [Aquí](https://pybaq.co/blog/el-zen-de-python-explicado/), una de las explicaicones del zen de Python en español."
   ]
  },
  {
   "cell_type": "code",
   "execution_count": 1,
   "metadata": {
    "ExecuteTime": {
     "end_time": "2022-09-02T08:22:35.776904Z",
     "start_time": "2022-09-02T08:22:35.763905Z"
    },
    "cell_id": "217390c008af4e50a5195fbec08272a1",
    "deepnote_cell_height": 60.6875,
    "deepnote_cell_type": "code"
   },
   "outputs": [
    {
     "name": "stdout",
     "output_type": "stream",
     "text": [
      "The Zen of Python, by Tim Peters\n",
      "\n",
      "Beautiful is better than ugly.\n",
      "Explicit is better than implicit.\n",
      "Simple is better than complex.\n",
      "Complex is better than complicated.\n",
      "Flat is better than nested.\n",
      "Sparse is better than dense.\n",
      "Readability counts.\n",
      "Special cases aren't special enough to break the rules.\n",
      "Although practicality beats purity.\n",
      "Errors should never pass silently.\n",
      "Unless explicitly silenced.\n",
      "In the face of ambiguity, refuse the temptation to guess.\n",
      "There should be one-- and preferably only one --obvious way to do it.\n",
      "Although that way may not be obvious at first unless you're Dutch.\n",
      "Now is better than never.\n",
      "Although never is often better than *right* now.\n",
      "If the implementation is hard to explain, it's a bad idea.\n",
      "If the implementation is easy to explain, it may be a good idea.\n",
      "Namespaces are one honking great idea -- let's do more of those!\n"
     ]
    }
   ],
   "source": [
    "import this"
   ]
  },
  {
   "cell_type": "markdown",
   "metadata": {
    "cell_id": "0357d6b6445e4586ad12117220901e9d",
    "deepnote_cell_height": 116.65625,
    "deepnote_cell_type": "markdown"
   },
   "source": [
    "Siguiendo esta filosofía propuesta en el Zen de Python, se creó una guía de estilo que se encuentra descrita en el Python Enhancement Proposal, abreviado como PEP, versión 8 ([PEP8](https://peps.python.org/pep-0008/)). En ese documento se encuentran algunas reglas de estilo que se aplicaron a la hora de desarrollar Python para que se sigan en el desarrollo de nuevas aplicaciones. Nosotros explicaremos más adelante algunas de estas reglas.\n",
    "\n"
   ]
  },
  {
   "cell_type": "markdown",
   "metadata": {
    "cell_id": "c7350e1c09ce409fbc73cce698f57c3e",
    "deepnote_cell_height": 2833.0625,
    "deepnote_cell_type": "markdown"
   },
   "source": [
    "## Anaconda\n",
    "\n",
    "><figure><center>\n",
    "  <img src=\"https://pydata.org/berlin2018/media/sponsor_files/Anaconda_stacked_RGB.png\" alt=\"jupyter.org\" width=200 height=200/>\n",
    "</center></figure> \n",
    "\n",
    "Anaconda es una Suite de código abierto que abarca una serie de aplicaciones, librerías y conceptos diseñados para el desarrollo de la Ciencia de datos (principalmente con Python).Funciona como un gestor de entorno y de paquetes (+720).\n",
    "\n",
    "\n",
    "### Instalación de nuevos modulos o librerias\n",
    "\n",
    "Aunque la distribución de Anaconda incluye funcionalidades de los módulos y paquetes básicos de Python, no están incluidos todos. Puede ser necesario instalarlos en nuestra distribución. Para instalar estos nuevos paquetes, podemos utilizar la opción de instalación que tenemos desde el símbolo del sistema: conda install nombre_paquete. \n",
    "\n",
    "Por ejemplo, vamos a instalar el módulo scikit-learn en nuestro sistema, lo hacemos con \"conda install scikit-learn\".\n",
    "\n",
    "copia este código en la terminal de tu computador\n",
    "\n",
    "\"conda install scikit-learn\""
   ]
  },
  {
   "cell_type": "markdown",
   "metadata": {
    "cell_id": "d0cf5aa30c264fe7b7ebfd1dd6d777db",
    "deepnote_cell_height": 69.6875,
    "deepnote_cell_type": "markdown"
   },
   "source": [
    "## Jupyter Notebook"
   ]
  },
  {
   "cell_type": "markdown",
   "metadata": {
    "caption": "somecaption",
    "cell_id": "f2c8846c844b48c7a37f464bc827a8dd",
    "deepnote_cell_height": 374.046875,
    "deepnote_cell_type": "markdown",
    "deletable": false,
    "label": "fig:somelabel",
    "widefigure": true
   },
   "source": [
    "<figure><center>\n",
    "  <img src=\"https://jupyter.org/assets/homepage/main-logo.svg\" alt=\"jupyter.org\" width=150 height=150/>\n",
    "  <figcaption>jupyter.org</figcaption>\n",
    "</figure><center>"
   ]
  },
  {
   "cell_type": "markdown",
   "metadata": {
    "ExecuteTime": {
     "end_time": "2021-11-03T09:27:52.438118Z",
     "start_time": "2021-11-03T09:27:52.421087Z"
    },
    "cell_id": "f2e07f61feae4ecba5f3496da141725d",
    "deepnote_cell_height": 780.515625,
    "deepnote_cell_type": "markdown"
   },
   "source": [
    "De manera simplificada **Jupyter** notebook (una evolución de Ipython Notebook) es una aplicación web de código abierto, que permite el procesamiento de código en vivo (interactivo), datos, ecuaciones, material multimedia y texto de manera estructurada. Se puede crear y procesar información con todos estos elementos, manteniendo la estética de un buen documento. Permite también el trabajo conjunto de proyectos y documentos, potenciando el trabajo colaborativo.  \n",
    "Se construyen documentos entendibles, con procesos repetibles, generando transparencia, oportunidades de reprocesos, generación de alertas, generación de informes, entre otros aspectos. Permite desarrollar documentos con la entrada y salida interactiva de códigos construidos para el proceso, depuración y la transformación de datos, el modelado, el uso de herramientas de IA, la visualización, incluyendo información y explicación de la metodología y de los pasos usados para cada proceso o tarea. En resumen, sus principales usos son:\n",
    "\n",
    "+ Data cleaning \n",
    "+ Data transformation \n",
    "+ Numerical simulation \n",
    "+ Statistical modeling \n",
    "+ Data visualization \n",
    "+ Machine learning\n",
    "+ Deep learning\n",
    "+ XAI\n",
    "\n",
    "Jupyter fue inicialmente creado para la unificación de los kernels Julia, Python y R; Jupyter (as in **Ju** (Julia) - **py** (Python) - te**R** (R)), pero hoy admite al menos 40 kernels diferentes. Nosotros utilizaremos Python.\n",
    "\n",
    "\n",
    "Algunos enlaces de interes:\n",
    "https://jupyter.org/,\n",
    "https://www.anaconda.com/.    \n",
    "[Instalación](https://jupyter.org/install), \n",
    "[Guía de instalación en Youtube](https://www.youtube.com/watch?v=LrMOrMb8-3s),\n",
    "[Instalación de kernels](https://test-jupyter.readthedocs.io/en/latest/install-kernel.html#id2),  \n",
    "[Documentación general de Jupyter Notebook](https://jupyter-notebook.readthedocs.io/en/stable/notebook.html).\n",
    "En este [enlace](https://jupyter.org/try) puede probar Jupyter sin tener que instalarlo.\n",
    "\n",
    "<p style='text-align: justify;'> \n",
    "En particular, con este notebook repasaremos los elementos básicos de Jupyter y algunas herramientas para facilitar y optimizar su uso. Entre otros elementos, revisaremos herramientas de generación de código, interacción, edición y de visualización de notebooks, buscando que queden “bien” presentados y formateados. \n",
    "</p>"
   ]
  },
  {
   "cell_type": "markdown",
   "metadata": {
    "cell_id": "265d5b2abbfe432d9a3499be624d1ba0",
    "deepnote_cell_height": 1061.421875,
    "deepnote_cell_type": "markdown"
   },
   "source": [
    "### El entorno de desarrollo Jupyter Notebook\n",
    "\n",
    "`Jupyter notebook` ofrece una herramienta de ejecución interactiva con la cual es posible dar órdenes directamente al intérprete de Python y obtener una respuesta inmediata para cada una de ellas.\n",
    "\n",
    "[Jupyter Notebook](http://jupyter.org) es una aplicación web que permite crear documentos que contienen código y  texto (entre otros elementos).  Estos documentos se visualizan con el navegador (Explorer, Chrome, Firefox, ...).\n",
    "\n"
   ]
  },
  {
   "cell_type": "markdown",
   "metadata": {
    "cell_id": "5b43d87b95a54d589f171023cb8bbe92",
    "deepnote_cell_height": 45.71875,
    "deepnote_cell_type": "markdown"
   },
   "source": [
    "---"
   ]
  },
  {
   "cell_type": "markdown",
   "metadata": {
    "cell_id": "e65da88c4cf14856b71d1696c1acde04",
    "deepnote_cell_height": 1360.140625,
    "deepnote_cell_type": "markdown"
   },
   "source": [
    "### Elementos Básicos\n",
    "\n",
    "\n",
    "Jupyter Notebook está conformado por una serie de celdas que pueden almacenar texto o código. Las celdas conforman un notebook. Las principales celdas de un Jupyter Notebook son `Markdown` y `Code`.\n",
    "\n",
    "+ Las celdas `Markdown` te permiten describir, explicar y documentar los procesos en la sintaxis Markdown o HTML.\n",
    "+ las celdas de código `Code` te permiten escribir y ejecutar código de programas como Python o R.\n",
    "\n",
    "\n",
    "\n",
    "     \n",
    "Más información sobre los tipos de celdas, la creación de nuevos documentos y otros aspectos introductorios en [este enlace](https://jupyter-notebook.readthedocs.io/en/stable/notebook.html).\n"
   ]
  },
  {
   "cell_type": "markdown",
   "metadata": {
    "cell_id": "f9fb78645e3b4a59b86f50157b8aa06b",
    "deepnote_cell_height": 125.421875,
    "deepnote_cell_type": "markdown"
   },
   "source": [
    "\n",
    "> Ejemplos:\n",
    "\n",
    "    Notebook de Jupyter se puede trabajar de manera interactiva. La manera más básica de iniciarse es similar al uso de una calculadora:"
   ]
  },
  {
   "cell_type": "code",
   "execution_count": 2,
   "metadata": {
    "ExecuteTime": {
     "end_time": "2022-09-04T13:10:12.848216Z",
     "start_time": "2022-09-04T13:10:12.829225Z"
    },
    "cell_id": "96732c43fe384d86a31c4784fd8f5476",
    "deepnote_cell_height": 159.6875,
    "deepnote_cell_type": "code"
   },
   "outputs": [
    {
     "name": "stdout",
     "output_type": "stream",
     "text": [
      "8 4\n"
     ]
    }
   ],
   "source": [
    "#celda code (color verde)\n",
    "x = 3 + 5\n",
    "z = 4\n",
    "print(x,z)"
   ]
  },
  {
   "cell_type": "markdown",
   "metadata": {
    "ExecuteTime": {
     "end_time": "2022-09-03T22:38:45.628041Z",
     "start_time": "2022-09-03T22:38:45.609040Z"
    },
    "cell_id": "19f4e64090e2433a8ebf73c906e43b26",
    "deepnote_cell_height": 87.171875,
    "deepnote_cell_type": "markdown"
   },
   "source": [
    "'''#celda markdown (color azul)'''\n",
    "\n",
    "Esta es una celda markdown."
   ]
  },
  {
   "cell_type": "markdown",
   "metadata": {
    "cell_id": "0fb48ed55cee4d6697f29977e17f6873",
    "deepnote_cell_height": 45.71875,
    "deepnote_cell_type": "markdown"
   },
   "source": [
    "---"
   ]
  },
  {
   "cell_type": "markdown",
   "metadata": {
    "cell_id": "b683525a72ac44d9a1a5040abaa32801",
    "deepnote_cell_height": 307.671875,
    "deepnote_cell_type": "markdown"
   },
   "source": [
    "### Llamar módulos\n",
    "\n",
    "Existen miles de librerías de Python para resolver problemas en las áreas más diversas, tales como cálculos matemáticos, procesamiento de lenguaje natural, estadística, conexión con bases de datos, redes neuronales, procesamiento de imágenes, gráficos, web scraping, estructuras de datos, machine learning, ...\n",
    "\n",
    "> Para esto en celdas 'code' usamos: \n",
    "\n",
    "    import módulo\n",
    "\n",
    "> o con alias: \n",
    "\n",
    "    import módulo as alias"
   ]
  },
  {
   "cell_type": "code",
   "execution_count": 3,
   "metadata": {
    "ExecuteTime": {
     "end_time": "2022-09-04T13:17:11.571504Z",
     "start_time": "2022-09-04T13:17:11.555507Z"
    },
    "cell_id": "573d42a60c4e451794c31cbe03204b4c",
    "deepnote_cell_height": 195.671875,
    "deepnote_cell_type": "code"
   },
   "outputs": [
    {
     "name": "stdout",
     "output_type": "stream",
     "text": [
      "0.5000000000000001\n"
     ]
    }
   ],
   "source": [
    "# Ejemplo\n",
    "# Importación del módulo math:\n",
    "import math\n",
    "\n",
    "# se usa una función (cos) y una constante (pi) definida en dicho módulo:\n",
    "print(math.cos(math.pi/3))"
   ]
  },
  {
   "cell_type": "code",
   "execution_count": 4,
   "metadata": {
    "ExecuteTime": {
     "end_time": "2022-09-04T13:17:55.089635Z",
     "start_time": "2022-09-04T13:17:55.076634Z"
    },
    "cell_id": "0ee3c498f59a49f0b5a1a83e2b254855",
    "deepnote_cell_height": 159.6875,
    "deepnote_cell_type": "code"
   },
   "outputs": [
    {
     "name": "stdout",
     "output_type": "stream",
     "text": [
      "0.5000000000000001\n"
     ]
    }
   ],
   "source": [
    "# Ejemplo\n",
    "import math as mt\n",
    "\n",
    "print(mt.cos(mt.pi/3))"
   ]
  },
  {
   "cell_type": "code",
   "execution_count": 5,
   "metadata": {
    "ExecuteTime": {
     "end_time": "2022-09-04T13:19:03.304813Z",
     "start_time": "2022-09-04T13:19:03.284803Z"
    },
    "cell_id": "282c843636f54befb418f50535505d44",
    "deepnote_cell_height": 177.6875,
    "deepnote_cell_type": "code"
   },
   "outputs": [
    {
     "name": "stdout",
     "output_type": "stream",
     "text": [
      "0.5000000000000001\n"
     ]
    }
   ],
   "source": [
    "#otra forma de hacerlo importando la función y la constante únicamente\n",
    "from math import cos\n",
    "from math import pi\n",
    "\n",
    "print(cos(pi/3))"
   ]
  },
  {
   "cell_type": "code",
   "execution_count": 6,
   "metadata": {
    "ExecuteTime": {
     "end_time": "2022-09-03T23:05:36.789501Z",
     "start_time": "2022-09-03T23:05:36.781500Z"
    },
    "cell_id": "1a66db3b07734b849e68157aa66e0dff",
    "deepnote_cell_height": 96.6875,
    "deepnote_cell_type": "code"
   },
   "outputs": [
    {
     "data": {
      "text/plain": [
       "5.196152422706632"
      ]
     },
     "execution_count": 6,
     "metadata": {},
     "output_type": "execute_result"
    }
   ],
   "source": [
    "#otro ejemplo\n",
    "import math\n",
    "math.sqrt(27)"
   ]
  },
  {
   "cell_type": "code",
   "execution_count": 7,
   "metadata": {
    "ExecuteTime": {
     "end_time": "2022-09-04T13:19:37.611130Z",
     "start_time": "2022-09-04T13:19:37.557130Z"
    },
    "cell_id": "80872bae90fe4ec182311697fee2b66f",
    "deepnote_cell_height": 129.671875,
    "deepnote_cell_type": "code",
    "deepnote_output_heights": [
     20.109375
    ]
   },
   "outputs": [
    {
     "data": {
      "text/plain": [
       "3.0"
      ]
     },
     "execution_count": 7,
     "metadata": {},
     "output_type": "execute_result"
    }
   ],
   "source": [
    "import math as m\n",
    "m.sqrt(9)"
   ]
  },
  {
   "cell_type": "code",
   "execution_count": 8,
   "metadata": {
    "ExecuteTime": {
     "end_time": "2022-09-04T13:19:48.794875Z",
     "start_time": "2022-09-04T13:19:48.773878Z"
    },
    "cell_id": "f34854b76b3e409faa83b32a51d5038b",
    "deepnote_cell_height": 129.671875,
    "deepnote_cell_type": "code",
    "deepnote_output_heights": [
     20.109375
    ]
   },
   "outputs": [
    {
     "data": {
      "text/plain": [
       "5.196152422706632"
      ]
     },
     "execution_count": 8,
     "metadata": {},
     "output_type": "execute_result"
    }
   ],
   "source": [
    "from math import sqrt\n",
    "sqrt(27)"
   ]
  },
  {
   "cell_type": "markdown",
   "metadata": {
    "ExecuteTime": {
     "end_time": "2022-09-03T23:08:20.003147Z",
     "start_time": "2022-09-03T23:08:19.992149Z"
    },
    "cell_id": "55f3036e2def4787a7f99625e433f926",
    "deepnote_cell_height": 109.515625,
    "deepnote_cell_type": "markdown"
   },
   "source": [
    "####  La función `dir`\n",
    "La función incorporada `dir` se usa para averiguar qué nombres define un módulo o librería. Devuelve una lista ordenada de cadenas:"
   ]
  },
  {
   "cell_type": "code",
   "execution_count": 9,
   "metadata": {
    "ExecuteTime": {
     "end_time": "2022-09-04T13:21:01.448485Z",
     "start_time": "2022-09-04T13:21:01.422494Z"
    },
    "cell_id": "8c168abcc0634be7acc0f08760398166",
    "deepnote_cell_height": 701.5625,
    "deepnote_cell_type": "code",
    "deepnote_output_heights": [
     610
    ]
   },
   "outputs": [
    {
     "data": {
      "text/plain": [
       "['__doc__',\n",
       " '__loader__',\n",
       " '__name__',\n",
       " '__package__',\n",
       " '__spec__',\n",
       " 'acos',\n",
       " 'acosh',\n",
       " 'asin',\n",
       " 'asinh',\n",
       " 'atan',\n",
       " 'atan2',\n",
       " 'atanh',\n",
       " 'ceil',\n",
       " 'comb',\n",
       " 'copysign',\n",
       " 'cos',\n",
       " 'cosh',\n",
       " 'degrees',\n",
       " 'dist',\n",
       " 'e',\n",
       " 'erf',\n",
       " 'erfc',\n",
       " 'exp',\n",
       " 'expm1',\n",
       " 'fabs',\n",
       " 'factorial',\n",
       " 'floor',\n",
       " 'fmod',\n",
       " 'frexp',\n",
       " 'fsum',\n",
       " 'gamma',\n",
       " 'gcd',\n",
       " 'hypot',\n",
       " 'inf',\n",
       " 'isclose',\n",
       " 'isfinite',\n",
       " 'isinf',\n",
       " 'isnan',\n",
       " 'isqrt',\n",
       " 'ldexp',\n",
       " 'lgamma',\n",
       " 'log',\n",
       " 'log10',\n",
       " 'log1p',\n",
       " 'log2',\n",
       " 'modf',\n",
       " 'nan',\n",
       " 'perm',\n",
       " 'pi',\n",
       " 'pow',\n",
       " 'prod',\n",
       " 'radians',\n",
       " 'remainder',\n",
       " 'sin',\n",
       " 'sinh',\n",
       " 'sqrt',\n",
       " 'tan',\n",
       " 'tanh',\n",
       " 'tau',\n",
       " 'trunc']"
      ]
     },
     "execution_count": 9,
     "metadata": {},
     "output_type": "execute_result"
    }
   ],
   "source": [
    "dir(math)"
   ]
  },
  {
   "cell_type": "markdown",
   "metadata": {
    "ExecuteTime": {
     "end_time": "2022-09-03T23:09:46.551736Z",
     "start_time": "2022-09-03T23:09:46.540731Z"
    },
    "cell_id": "f04af6aed9ae4db38974e83009419e8b",
    "deepnote_cell_height": 87.78125,
    "deepnote_cell_type": "markdown"
   },
   "source": [
    "####  La función `help`\n",
    "La función incorporada `help` se usa para averiguar la documentación detallada de un módulo o librería."
   ]
  },
  {
   "cell_type": "code",
   "execution_count": 10,
   "metadata": {
    "ExecuteTime": {
     "end_time": "2022-09-04T13:22:30.067599Z",
     "start_time": "2022-09-04T13:22:29.998240Z"
    },
    "cell_id": "f0c0e280e1194ed09977a49222e72bb4",
    "deepnote_cell_height": 695.546875,
    "deepnote_cell_type": "code"
   },
   "outputs": [
    {
     "name": "stdout",
     "output_type": "stream",
     "text": [
      "Help on built-in module math:\n",
      "\n",
      "NAME\n",
      "    math\n",
      "\n",
      "DESCRIPTION\n",
      "    This module provides access to the mathematical functions\n",
      "    defined by the C standard.\n",
      "\n",
      "FUNCTIONS\n",
      "    acos(x, /)\n",
      "        Return the arc cosine (measured in radians) of x.\n",
      "    \n",
      "    acosh(x, /)\n",
      "        Return the inverse hyperbolic cosine of x.\n",
      "    \n",
      "    asin(x, /)\n",
      "        Return the arc sine (measured in radians) of x.\n",
      "    \n",
      "    asinh(x, /)\n",
      "        Return the inverse hyperbolic sine of x.\n",
      "    \n",
      "    atan(x, /)\n",
      "        Return the arc tangent (measured in radians) of x.\n",
      "    \n",
      "    atan2(y, x, /)\n",
      "        Return the arc tangent (measured in radians) of y/x.\n",
      "        \n",
      "        Unlike atan(y/x), the signs of both x and y are considered.\n",
      "    \n",
      "    atanh(x, /)\n",
      "        Return the inverse hyperbolic tangent of x.\n",
      "    \n",
      "    ceil(x, /)\n",
      "        Return the ceiling of x as an Integral.\n",
      "        \n",
      "        This is the smallest integer >= x.\n",
      "    \n",
      "    comb(n, k, /)\n",
      "        Number of ways to choose k items from n items without repetition and without order.\n",
      "        \n",
      "        Evaluates to n! / (k! * (n - k)!) when k <= n and evaluates\n",
      "        to zero when k > n.\n",
      "        \n",
      "        Also called the binomial coefficient because it is equivalent\n",
      "        to the coefficient of k-th term in polynomial expansion of the\n",
      "        expression (1 + x)**n.\n",
      "        \n",
      "        Raises TypeError if either of the arguments are not integers.\n",
      "        Raises ValueError if either of the arguments are negative.\n",
      "    \n",
      "    copysign(x, y, /)\n",
      "        Return a float with the magnitude (absolute value) of x but the sign of y.\n",
      "        \n",
      "        On platforms that support signed zeros, copysign(1.0, -0.0)\n",
      "        returns -1.0.\n",
      "    \n",
      "    cos(x, /)\n",
      "        Return the cosine of x (measured in radians).\n",
      "    \n",
      "    cosh(x, /)\n",
      "        Return the hyperbolic cosine of x.\n",
      "    \n",
      "    degrees(x, /)\n",
      "        Convert angle x from radians to degrees.\n",
      "    \n",
      "    dist(p, q, /)\n",
      "        Return the Euclidean distance between two points p and q.\n",
      "        \n",
      "        The points should be specified as sequences (or iterables) of\n",
      "        coordinates.  Both inputs must have the same dimension.\n",
      "        \n",
      "        Roughly equivalent to:\n",
      "            sqrt(sum((px - qx) ** 2.0 for px, qx in zip(p, q)))\n",
      "    \n",
      "    erf(x, /)\n",
      "        Error function at x.\n",
      "    \n",
      "    erfc(x, /)\n",
      "        Complementary error function at x.\n",
      "    \n",
      "    exp(x, /)\n",
      "        Return e raised to the power of x.\n",
      "    \n",
      "    expm1(x, /)\n",
      "        Return exp(x)-1.\n",
      "        \n",
      "        This function avoids the loss of precision involved in the direct evaluation of exp(x)-1 for small x.\n",
      "    \n",
      "    fabs(x, /)\n",
      "        Return the absolute value of the float x.\n",
      "    \n",
      "    factorial(x, /)\n",
      "        Find x!.\n",
      "        \n",
      "        Raise a ValueError if x is negative or non-integral.\n",
      "    \n",
      "    floor(x, /)\n",
      "        Return the floor of x as an Integral.\n",
      "        \n",
      "        This is the largest integer <= x.\n",
      "    \n",
      "    fmod(x, y, /)\n",
      "        Return fmod(x, y), according to platform C.\n",
      "        \n",
      "        x % y may differ.\n",
      "    \n",
      "    frexp(x, /)\n",
      "        Return the mantissa and exponent of x, as pair (m, e).\n",
      "        \n",
      "        m is a float and e is an int, such that x = m * 2.**e.\n",
      "        If x is 0, m and e are both 0.  Else 0.5 <= abs(m) < 1.0.\n",
      "    \n",
      "    fsum(seq, /)\n",
      "        Return an accurate floating point sum of values in the iterable seq.\n",
      "        \n",
      "        Assumes IEEE-754 floating point arithmetic.\n",
      "    \n",
      "    gamma(x, /)\n",
      "        Gamma function at x.\n",
      "    \n",
      "    gcd(x, y, /)\n",
      "        greatest common divisor of x and y\n",
      "    \n",
      "    hypot(...)\n",
      "        hypot(*coordinates) -> value\n",
      "        \n",
      "        Multidimensional Euclidean distance from the origin to a point.\n",
      "        \n",
      "        Roughly equivalent to:\n",
      "            sqrt(sum(x**2 for x in coordinates))\n",
      "        \n",
      "        For a two dimensional point (x, y), gives the hypotenuse\n",
      "        using the Pythagorean theorem:  sqrt(x*x + y*y).\n",
      "        \n",
      "        For example, the hypotenuse of a 3/4/5 right triangle is:\n",
      "        \n",
      "            >>> hypot(3.0, 4.0)\n",
      "            5.0\n",
      "    \n",
      "    isclose(a, b, *, rel_tol=1e-09, abs_tol=0.0)\n",
      "        Determine whether two floating point numbers are close in value.\n",
      "        \n",
      "          rel_tol\n",
      "            maximum difference for being considered \"close\", relative to the\n",
      "            magnitude of the input values\n",
      "          abs_tol\n",
      "            maximum difference for being considered \"close\", regardless of the\n",
      "            magnitude of the input values\n",
      "        \n",
      "        Return True if a is close in value to b, and False otherwise.\n",
      "        \n",
      "        For the values to be considered close, the difference between them\n",
      "        must be smaller than at least one of the tolerances.\n",
      "        \n",
      "        -inf, inf and NaN behave similarly to the IEEE 754 Standard.  That\n",
      "        is, NaN is not close to anything, even itself.  inf and -inf are\n",
      "        only close to themselves.\n",
      "    \n",
      "    isfinite(x, /)\n",
      "        Return True if x is neither an infinity nor a NaN, and False otherwise.\n",
      "    \n",
      "    isinf(x, /)\n",
      "        Return True if x is a positive or negative infinity, and False otherwise.\n",
      "    \n",
      "    isnan(x, /)\n",
      "        Return True if x is a NaN (not a number), and False otherwise.\n",
      "    \n",
      "    isqrt(n, /)\n",
      "        Return the integer part of the square root of the input.\n",
      "    \n",
      "    ldexp(x, i, /)\n",
      "        Return x * (2**i).\n",
      "        \n",
      "        This is essentially the inverse of frexp().\n",
      "    \n",
      "    lgamma(x, /)\n",
      "        Natural logarithm of absolute value of Gamma function at x.\n",
      "    \n",
      "    log(...)\n",
      "        log(x, [base=math.e])\n",
      "        Return the logarithm of x to the given base.\n",
      "        \n",
      "        If the base not specified, returns the natural logarithm (base e) of x.\n",
      "    \n",
      "    log10(x, /)\n",
      "        Return the base 10 logarithm of x.\n",
      "    \n",
      "    log1p(x, /)\n",
      "        Return the natural logarithm of 1+x (base e).\n",
      "        \n",
      "        The result is computed in a way which is accurate for x near zero.\n",
      "    \n",
      "    log2(x, /)\n",
      "        Return the base 2 logarithm of x.\n",
      "    \n",
      "    modf(x, /)\n",
      "        Return the fractional and integer parts of x.\n",
      "        \n",
      "        Both results carry the sign of x and are floats.\n",
      "    \n",
      "    perm(n, k=None, /)\n",
      "        Number of ways to choose k items from n items without repetition and with order.\n",
      "        \n",
      "        Evaluates to n! / (n - k)! when k <= n and evaluates\n",
      "        to zero when k > n.\n",
      "        \n",
      "        If k is not specified or is None, then k defaults to n\n",
      "        and the function returns n!.\n",
      "        \n",
      "        Raises TypeError if either of the arguments are not integers.\n",
      "        Raises ValueError if either of the arguments are negative.\n",
      "    \n",
      "    pow(x, y, /)\n",
      "        Return x**y (x to the power of y).\n",
      "    \n",
      "    prod(iterable, /, *, start=1)\n",
      "        Calculate the product of all the elements in the input iterable.\n",
      "        \n",
      "        The default start value for the product is 1.\n",
      "        \n",
      "        When the iterable is empty, return the start value.  This function is\n",
      "        intended specifically for use with numeric values and may reject\n",
      "        non-numeric types.\n",
      "    \n",
      "    radians(x, /)\n",
      "        Convert angle x from degrees to radians.\n",
      "    \n",
      "    remainder(x, y, /)\n",
      "        Difference between x and the closest integer multiple of y.\n",
      "        \n",
      "        Return x - n*y where n*y is the closest integer multiple of y.\n",
      "        In the case where x is exactly halfway between two multiples of\n",
      "        y, the nearest even value of n is used. The result is always exact.\n",
      "    \n",
      "    sin(x, /)\n",
      "        Return the sine of x (measured in radians).\n",
      "    \n",
      "    sinh(x, /)\n",
      "        Return the hyperbolic sine of x.\n",
      "    \n",
      "    sqrt(x, /)\n",
      "        Return the square root of x.\n",
      "    \n",
      "    tan(x, /)\n",
      "        Return the tangent of x (measured in radians).\n",
      "    \n",
      "    tanh(x, /)\n",
      "        Return the hyperbolic tangent of x.\n",
      "    \n",
      "    trunc(x, /)\n",
      "        Truncates the Real x to the nearest Integral toward 0.\n",
      "        \n",
      "        Uses the __trunc__ magic method.\n",
      "\n",
      "DATA\n",
      "    e = 2.718281828459045\n",
      "    inf = inf\n",
      "    nan = nan\n",
      "    pi = 3.141592653589793\n",
      "    tau = 6.283185307179586\n",
      "\n",
      "FILE\n",
      "    (built-in)\n",
      "\n",
      "\n"
     ]
    }
   ],
   "source": [
    "help(math)"
   ]
  },
  {
   "cell_type": "code",
   "execution_count": 11,
   "metadata": {
    "ExecuteTime": {
     "end_time": "2022-09-04T13:24:32.726603Z",
     "start_time": "2022-09-04T13:24:32.714591Z"
    },
    "cell_id": "b81157e055074b8488ed348068073885",
    "deepnote_cell_height": 183.671875,
    "deepnote_cell_type": "code",
    "deepnote_output_heights": [
     20.109375
    ]
   },
   "outputs": [
    {
     "data": {
      "text/plain": [
       "10"
      ]
     },
     "execution_count": 11,
     "metadata": {},
     "output_type": "execute_result"
    }
   ],
   "source": [
    "import math as mt\n",
    "\n",
    "mt.comb(5,3)\n",
    "\n"
   ]
  },
  {
   "cell_type": "markdown",
   "metadata": {
    "cell_id": "ec253145abed48cd8acf870616e1fc95",
    "deepnote_cell_height": 94.90625,
    "deepnote_cell_type": "markdown"
   },
   "source": [
    "Existe también `Shift + Tab`, esto le mostrará la documentación de un objeto.  Al seguir pulsando este atajo más número de veces `Shift + Tab + Tab` o `Shift + Tab + Tab + Tab`, pasa a varios modos de la documentación. También se puede usar `?` al final del objeto."
   ]
  },
  {
   "cell_type": "code",
   "execution_count": 12,
   "metadata": {
    "ExecuteTime": {
     "end_time": "2022-09-04T13:25:38.781664Z",
     "start_time": "2022-09-04T13:25:38.771666Z"
    },
    "cell_id": "2432552d6c6343e8af98092c42af72c9",
    "deepnote_cell_height": 78.6875,
    "deepnote_cell_type": "code"
   },
   "outputs": [
    {
     "data": {
      "text/plain": [
       "\u001b[0;31mSignature:\u001b[0m \u001b[0msqrt\u001b[0m\u001b[0;34m(\u001b[0m\u001b[0mx\u001b[0m\u001b[0;34m,\u001b[0m \u001b[0;34m/\u001b[0m\u001b[0;34m)\u001b[0m\u001b[0;34m\u001b[0m\u001b[0;34m\u001b[0m\u001b[0m\n",
       "\u001b[0;31mDocstring:\u001b[0m Return the square root of x.\n",
       "\u001b[0;31mType:\u001b[0m      builtin_function_or_method"
      ]
     },
     "metadata": {},
     "output_type": "display_data"
    }
   ],
   "source": [
    "from math import sqrt\n",
    "sqrt?"
   ]
  },
  {
   "cell_type": "markdown",
   "metadata": {
    "cell_id": "e28708e57fa34f9fa3da03fbb076006b",
    "deepnote_cell_height": 404.4375,
    "deepnote_cell_type": "markdown"
   },
   "source": [
    "## Atajos de teclado Jupyter\n",
    "\n",
    "Todos los que hay disponibles se encuentran en `Help > Keyboard Shortcuts`. Sin embargo, algunos de los más utiles son:\n",
    "\n",
    "+ `Ctrl + Enter`Ejecuta la celda actual\n",
    "+ `Shift + Enter` Ejecuta la celda actual y se desplaza a la siguiente\n",
    "+ `Esc + D + D` Elimina la celda actual\n",
    "+ `Esc + A` Inserta una nueva celda de code arriba\n",
    "+ `Esc + B` Inserta una nueva celda de code abajo\n",
    "+ `Esc + M` Cambia el tipo de celda actual a Markdown\n",
    "+ `Esc + Y` Cambia el tipo de celda actual a Code                            \n",
    "+ `Esc + F` Buscar y reemplazar en su código pero no en las salidas.\n",
    "+ `Shift + Space`desplaza el notebook hacia arriba.\n",
    "+ `Space` desplaza el notebook hacia abajo.\n",
    "+ `Shift+mouse click` permite seleccionar y editar varias celdas a la vez.\n"
   ]
  },
  {
   "cell_type": "markdown",
   "metadata": {
    "cell_id": "a424119b626d47bf9db42d023d6478cf",
    "deepnote_cell_height": 45.71875,
    "deepnote_cell_type": "markdown"
   },
   "source": [
    "---"
   ]
  },
  {
   "cell_type": "markdown",
   "metadata": {
    "cell_id": "b4665139dcc74c58b2e48d9ac9d50840",
    "deepnote_cell_height": 129.15625,
    "deepnote_cell_type": "markdown"
   },
   "source": [
    "## Algunas herramientas de Markdown\n",
    "\n",
    "A continuación presentamos algunos de las herramientas y complementos más relevantes de Markdown en Jupyter para presentar documentos. Estas nos ayudarán a mejorar nuestra experiencia en esta herramienta y a que los Notebooks luzcan presentables."
   ]
  },
  {
   "cell_type": "markdown",
   "metadata": {
    "cell_id": "3bd6d9566a8748b4b00b4b176b318301",
    "deepnote_cell_height": 584.1875,
    "deepnote_cell_type": "markdown"
   },
   "source": [
    "### Encabezados en diferentes niveles\n",
    "\n",
    "En lenguaje de Markdown:\n",
    "\n",
    "    # Encabezado de nivel 1\n",
    "    ## Encabezado de nivel  2\n",
    "    ### Encabezado de nivel  3\n",
    "    #### Encabezado de nivel  4\n",
    "    ##### Encabezado de nivel  5\n",
    "    ###### Encabezado de nivel  6 \n",
    "    \n",
    "O en HTML:\n",
    "    \n",
    "    <h1>Header 1</h1>\n",
    "    <h2>Header 2</h2>\n",
    "    <h3>Header 3</h3>\n",
    "    <h4>Header 4</h4>\n",
    "    <h5>Header 5</h5>\n",
    "    <h6>Header 6</h6>\n",
    "    \n",
    "También se podría usar el siguiente código HTML para tener encabezados centrados:\n",
    "\n",
    "    <center><h1>Este es el encabezado 1</header1></center>\n",
    "    <center><h1>Este es el encabezado 2</header1></center>\n",
    "    <center><h1>Este es el encabezado 3</header1></center>\n",
    "    <center><h1>Este es el encabezado 4</header1></center>\n",
    "          "
   ]
  },
  {
   "cell_type": "markdown",
   "metadata": {
    "cell_id": "290cd033bc914d42bfd82b23033fef11",
    "deepnote_cell_height": 272.09375,
    "deepnote_cell_type": "markdown"
   },
   "source": [
    "### Énfasis: Cursiva y negrita\n",
    "\n",
    "Se usan los simbolos (\\-) y (\\*) de la siguiente manera:\n",
    "\n",
    ">+ *Texto en cursiva*\n",
    ">+ _Texto en cursiva_\n",
    ">+ **Texto en negrita**\n",
    ">+ __Texto en negrita__\n",
    ">+ ***Texto en cursiva y negrita***\n",
    ">+ ___Texto en cursiva y negrita___"
   ]
  },
  {
   "cell_type": "markdown",
   "metadata": {
    "cell_id": "1dc25c32f6374a50b474633a6e528d4f",
    "deepnote_cell_height": 299.140625,
    "deepnote_cell_type": "markdown"
   },
   "source": [
    "### Citas en Bloque o sangría\n",
    "\n",
    "Para marcar un trozo de texto como una cita o para aplicar sangría, se utliza el signo de mayor que (>). Se inserta al principio del texto de la cita sangrada y se marca el final de la cita agregando una línea en blanco.Se puede usar (>) la cantidad de veces que se desea aplicar sangría al texto.\n",
    "\n",
    "Ejemplo:\n",
    ">Este en un ejemplo de sangría.\n",
    ">>Este en un ejemplo de sangría.\n",
    ">>>Este en un ejemplo de sangría."
   ]
  },
  {
   "cell_type": "markdown",
   "metadata": {
    "cell_id": "48bc5eebd8894bc187ecf19caaa973c0",
    "deepnote_cell_height": 151.0625,
    "deepnote_cell_type": "markdown"
   },
   "source": [
    "### Líneas horizontales para separar secciones\n",
    "\n",
    "Se usan para la aseparación de secciones. Se crean con tres de los siguientes elementos: asteriscos(\\*), guiones(-), o guiones bajos (_). Ejemplo:\n",
    "\n",
    "> ***\n",
    "> ---\n",
    "> ___"
   ]
  },
  {
   "cell_type": "markdown",
   "metadata": {
    "cell_id": "d667bd5accb949708fd1ed82cc5013d9",
    "deepnote_cell_height": 769.875,
    "deepnote_cell_type": "markdown"
   },
   "source": [
    "### Lístas y viñetas\n",
    "Para crear una lista ordenada se suelen numerar los elementos. Para crear una lista ordenada/numerada se numeran los elementos. \n",
    "Para crear una sublista bajo un ítem se utlizae TAB y luego se comienza a numerar la sublista. A continuación un ejemplo:\n",
    "\n",
    "\n",
    ">1. Primer Item \n",
    ">2. Segundo Item \n",
    ">3. Tercer Item\n",
    ">    1. Primer item del tercer item\n",
    ">    2. Segundo item del tercer item\n",
    ">    3. Tercer item del tercer item\n",
    "    \n",
    "También se pueden crear listas no ordenadas usando los simbolos (\\*), (-) o (+):\n",
    "\n",
    ">- Primer Item \n",
    ">- Segundo Item \n",
    ">- Tercer Item\n",
    ">    * Primer item del tercer item\n",
    ">    * Segundo item del tercer item\n",
    ">    * Tercer item del tercer item\n",
    ">        + Primer ...\n",
    ">        + Segundo ...\n",
    "\n",
    "Otra manera de hacer listas:\n",
    "\n",
    "\n",
    " ><br>\n",
    "     <dl>\n",
    "     <dt>Primer Item</dt>\n",
    "     <dd>Esto corresponde al primer Item.</dd>\n",
    "     <dt>Segundo Item</dt>\n",
    "     <dd>Esto corresponde con la definición del segundo Item. </dd>\n",
    "     <dd>Otra definción del segundo Item.</dd>\n",
    "     </dl>\n",
    " "
   ]
  },
  {
   "cell_type": "markdown",
   "metadata": {
    "cell_id": "77a481f51f06411c977bc097fc4d8b82",
    "deepnote_cell_height": 150.625,
    "deepnote_cell_type": "markdown"
   },
   "source": [
    "Ejemplo de cursor multilinea (`Alt+mouse click`):\n",
    "    \n",
    "* Este es un comentario 1 \n",
    "* Este es un comentario 2 \n",
    "* Este es un comentario 3 "
   ]
  },
  {
   "cell_type": "markdown",
   "metadata": {
    "cell_id": "28c9e3b002a643f49706ffad952b9c6b",
    "deepnote_cell_height": 184.1875,
    "deepnote_cell_type": "markdown"
   },
   "source": [
    "### Texto resaltado\n",
    "\n",
    "Se puede resaltar parte del texto con HTML usando la sentencia \\<mark>texto a resaltar\\</mark>.\n",
    "\n",
    " Ejemplo: \n",
    " \n",
    "> A continuación el <mark>texto resaltado</mark>."
   ]
  },
  {
   "cell_type": "markdown",
   "metadata": {
    "cell_id": "b4a10f8962844a5786b8efbda281baa1",
    "deepnote_cell_height": 290.875,
    "deepnote_cell_type": "markdown"
   },
   "source": [
    "### Creación de cuadros explicativos o de alertas en colores\n",
    "\n",
    "Se utliza alguna de las siguientes etiquetas HTML \\<div> para mostrar el texto en un cuadro de color. El color del cuadro se determina por el tipo de alerta que se genere.\n",
    "\n",
    "    \n",
    "><div class=\"alert alert-block alert-info\">\n",
    "<b>Tip:</b> Use cajas azules para tips y notas.</div>\n",
    "\n",
    "><div class=\"alert alert-block alert-warning\">\n",
    "<b>Ejemplo:</b> Utilice los cuadros amarillos para ejemplos que no están dentro de las celdas de código. También fórmulas matemáticas importantes. O se pueden utilizar para mostrar mensajes de advertencia.</div>\n",
    "\n",
    "><div class=\"alert alert-block alert-success\">\n",
    "<b>Recuerda:</b> Este cuadro se utliza para mensajes positivos o a resaltar en el texto.</div>\n",
    "\n",
    "><div class=\"alert alert-block alert-danger\">\n",
    "<b>Atención:</b> Este cuadro indica acciones negativas o potencialmente de cuidado o erroneas.</div>\n",
    "\n"
   ]
  },
  {
   "cell_type": "markdown",
   "metadata": {
    "cell_id": "f8e51e180fcd4d35b3545ed4b4f63915",
    "deepnote_cell_height": 99.15625,
    "deepnote_cell_type": "markdown"
   },
   "source": [
    "><div class=\"alert alert-block alert-warning\">\n",
    "<b>Warning:</b> La desviación típica debe ser mayor o igual que cero</div>"
   ]
  },
  {
   "cell_type": "markdown",
   "metadata": {
    "cell_id": "47791ab9fe1b40069192a3b37498a0bf",
    "deepnote_cell_height": 800.90625,
    "deepnote_cell_type": "markdown"
   },
   "source": [
    "### Hipervínculos y enlaces\n",
    "\n",
    "+ En markdown los podemos crear utlizando `[]` corchetes, y el link correspondiente con `()` paréntesis.\n",
    "\n",
    "  Ejemplo:\n",
    "  \n",
    ">[Proyecto Jupyter](https://jupyter.org/)\n",
    "\n",
    "+ También, puedes usar enlaces como referencia. Enlazas con palabras, letras o números, y en otro lugar del mismo documento se definen y se documentan.\n",
    "Para esto se usan los símbolos `[][]`. Y en la descripción `[]:descripción`. Las referencias pueden ubicarse en cualquier parte del documento y no se muestran dentro del texto.\n",
    "\n",
    "   Ejemplo: \n",
    "\n",
    "> Este es un ejemplo de uso de enlaces como referencias en `[Jupyter][Ref 1]` [Jupyter][Ref 1]. También puedes usar  `[Jupyter][]` [Jupyter][] para usar el mismo texto referenciado como descriptor.\n",
    "\n",
    "[Ref 1]: https://jupyter.org/\n",
    "[Jupyter]: https://jupyter.org/\n",
    "\n",
    "+ También se pueden generar links directos para una url usando `<url>`, o simplemnete poniendo la url directamente en el texto.\n",
    "\n",
    "    Ejemplo: \n",
    "\n",
    "> <https://jupyter.org/> o https://jupyter.org/\n",
    "\n",
    "+ Tammbién existen los **enlaces ancla** que llevan a un lugar específico en el documento. Puede utilizarse para enlazar con cualquier sección del notebook. Si se desea un enlace ancla con una sección en especial, debemos establecer el nombre que deseemos en `[]` y añadir entre parentesis `()` el nombre del encabezado de la sección, empezando por `#`con un guión en lugar del espacio en blanco. \n",
    "\n",
    "  Ejemplo:  \n",
    "\n",
    "Deseo que este enlace me lleve a la sección `[Section 7.6](#Texto-resaltado)` [Section 7.6](#Texto-resaltado).\n",
    "\n",
    "+ Es posible crear un enlace ancla poniendo la siguiente sentencia en donde se desea que se direccione el enlace `<a id=\"id\"></a>`, con un `id` único. Luego se utliza `[nombre de ref](#id)`para utilizar el enlace.\n",
    "\n",
    "  Ejemplo:\n",
    "  \n",
    "  <a id=\"01\"></a> \n",
    "  \n",
    "> Utilizo al referencia a este mismo lugar con `[ref01](#01)` [ref01](#01).\n",
    "  \n",
    "\n",
    "\n",
    "\n",
    "\n"
   ]
  },
  {
   "cell_type": "markdown",
   "metadata": {
    "cell_id": "fa78038d6cdf4349b32c8c43ba844f85",
    "deepnote_cell_height": 709.25,
    "deepnote_cell_type": "markdown"
   },
   "source": [
    "### Insertar imágenes\n",
    "\n",
    "+ Una de las maneras es  arrastrando y soltando la imágenes en una de  las celdas de Markdown. Copiando y pegando. Pegando la imágen de una captura de pantalla. Se creará una sentencia `![imagenX.png](attachment:imagenX.png)`.\n",
    "+ Se pueden utlizar imágenes de la web utlizando la dirección url, con la misma sintaxis de hipervícunlos pero agregando el simboolo `!` al comenzar la sentencia. Se puede insertar una imagen sin conexión a la web añadiendo el nombre completo del archivo, con su ruta especificada, si esta está en un directorio diferente al de Jupyter Notebook.\n",
    "\n",
    " Ejemplos:\n",
    " \n",
    "> `![](https://jupyter.org/assets/homepage/main-logo.svg)`\n",
    "> ![](https://jupyter.org/assets/homepage/main-logo.svg)\n",
    "\n",
    " Si se desea que agregar un título flotante sobre la imágen, usar:\n",
    "\n",
    "> `![](https://jupyter.org/assets/homepage/main-logo.svg \"Logo de Jupyter\")`\n",
    "> ![](https://jupyter.org/assets/homepage/main-logo.svg \"Logo de Jupyter\")\n",
    "\n",
    " Con lenguaje HTML:\n",
    "\n",
    ">`<img src=\"https://jupyter.org/assets/homepage/main-logo.svg \"Logo de Jupyter\" title=\"Logo de Jupyter\"/>`\n",
    " \n",
    " <img src=\"https://jupyter.org/assets/homepage/main-logo.svg\" title=\"Logo de Jupyter\"/>\n",
    "\n",
    " Cambiando el tamaño y agregando un título se tiene:\n",
    "\n",
    "> `<img src=\"https://jupyter.org/assets/main-logo.svg\" alt=\"jupyter.org\" width=20 height=20/>`\n",
    "> `<center><figcaption>Logo de Jupyter</figcaption><center>`\n",
    "> <img src=\"https://jupyter.org/assets/homepage/main-logo.svg\" alt=\"Logo de Jupyter\" width=20 height=20/>\n",
    "> <center><figcaption>Logo de Jupyter</figcaption></center>"
   ]
  },
  {
   "cell_type": "markdown",
   "metadata": {
    "cell_id": "3ddd0eba53dc48ee85f0a3ff751dd959",
    "deepnote_cell_height": 364.359375,
    "deepnote_cell_type": "markdown"
   },
   "source": [
    "### Notas al pie de página\n",
    "\n",
    "Para agregar un pie de página se puede usar la siguiente sintaxis `<sup><a href=\"#nota1\">1</a></sup>`. Ejemplo: \n",
    "\n",
    "Para que aparezcan en el texto hay que añadir una linea de sintaxis en donde se quiere que se muestre la nota de pie de página: `<p id=\"nota1\"><sup>1</sup> Texto de la nota de pie de página 1.</p>`. Ejemplo:\n",
    "\n",
    "><p>Este es el pie de página<sup><a href=\"#note1\">1</a></sup> puesto como ejemplo.</p>\n",
    "\n",
    "><p><strong>Notas al pie de página:</strong></p>  <p id=\"note1\"><sup>1</sup> Un pie de página es un texto explicativo o complementario y enlazado desde la localización del número del pie de página correspondiente.</p>"
   ]
  },
  {
   "cell_type": "markdown",
   "metadata": {
    "cell_id": "4db94386f3f844f5955e2dbb70fdc711",
    "deepnote_cell_height": 403.40625,
    "deepnote_cell_type": "markdown"
   },
   "source": [
    "### Menú de Navegación\n",
    "\n",
    "Permite un conjunto de enlaces de navegación así:\n",
    "\n",
    ">````\n",
    "     <nav> \n",
    "     <a href=\"https://www.google.com\">LinkedIn</a> |\n",
    "     <a href=\"https://github.com/\">Github</a> |\n",
    "     <a href=\"https://www.unir.net/\">UNIR</a> |\n",
    "     </nav>\n",
    "\n",
    " \n",
    " \n",
    " ><nav> \n",
    " <a href=\"https://www.google.com\">Google</a> |\n",
    " <a href=\"https://github.com/\">Github</a> |\n",
    " <a href=\"https://www.uexternado.edu.co/departamento-de-matematicas/\">Uexternado</a> |\n",
    " </nav>"
   ]
  },
  {
   "cell_type": "markdown",
   "metadata": {
    "cell_id": "28d390dc4e8f46ef883432d3961dc650",
    "deepnote_cell_height": 910.578125,
    "deepnote_cell_type": "markdown"
   },
   "source": [
    "### Tablas\n",
    "\n",
    "Las tablas pueden ser creadas en una celda Markdown con los simbolos (\\|) y (-). Ejemplos:\n",
    "\n",
    ">| Col1  | Col2 |\n",
    " | --- | --- |\n",
    " | A | B  |\n",
    " | C  | D  |\n",
    " \n",
    " >| Comando | Descripción |\n",
    "  | --- | --- |\n",
    "  | git status | Lista de todos los archivos nuevos o modificados              |\n",
    "  | git diff   | Muestra diferenciass de **código** entre diferentes versiones |\n",
    "  \n",
    "\n",
    "Alineación en la tabla:\n",
    "\n",
    ">| Default | Left-aligned | Center-aligned | Right-aligned |\n",
    " |---|:-|:-:|-:|\n",
    " | A | A | A | A |\n",
    " \n",
    "\n",
    "><div class=\"alert alert-block alert-warning\">\n",
    "<b>Aparece alineado a derecha:</b> Parece que la alineación no está funcionando bien desde Junio de 2020 debido a un un error en el código fuente de Jupyter en el que no se tiene en cuenta la alineación de Markdown y todo el texto aparece alineado a la derecha.</div>\n",
    "\n",
    "Para que un símbolo usado en Markdown no se reconozca como parte de la sentencia, se precede con el símbolo de barra invertida (\\\\):\n",
    "\n",
    ">| Nombre   | Caracter |\n",
    " | ---      | ---      |\n",
    " | Backtick | \\`       |\n",
    " | Pipe     | \\|       |\n",
    "\n",
    "Podemos agregar títulos a las tablas en la parte inferior agregando una fila con el texto del título en Markdown `|Título de la tabla|`:\n",
    "\n",
    ">| Column1 | Column2 |\n",
    " |---|---|\n",
    " | A | B |\n",
    " |Tabla 1. Título de la tabla|\n",
    "\n",
    "Podemos realizar saltos de linea dentro de la tabla usando `<br>`:\n",
    "\n",
    "\n",
    ">| Column 1  | Column 2 |\n",
    " | --------  | -------- |\n",
    " | data      | Texto línea 1 <br> Texto línea 2 |\n"
   ]
  },
  {
   "cell_type": "markdown",
   "metadata": {
    "cell_id": "7c848cb617644a43a68af0a45e52d211",
    "deepnote_cell_height": 1941.203125,
    "deepnote_cell_type": "markdown"
   },
   "source": [
    "### Ecuaciones y texto matemático (Latex)\n",
    "\n",
    "Este software se enriquece al permitir incluir texto matemático y científico. Para hacerlo hay que incluirlo entre los simbolos de dolar ($). Ejemplo:\n",
    "\n",
    ">$P(A)=\\frac{|A|}{|\\Omega|}$\n",
    "\n",
    "Si se desea centrar el texto matemático se usan los simbolos de ($$) para abrir y cerrar el texto. Ejemplo:\n",
    "\n",
    ">$$P(A)=\\frac{|A|}{|\\Omega|}$$\n",
    "\n",
    "La siguiente imagen muestra algunos comandos de LaTex que pueden ser utiles para escribir algunas ecuaciones básicas.\n",
    "\n",
    "><figure><center>\n",
    "  <img src=\"https://miro.medium.com/max/875/1*IWiYqQTtZxmZg0-YCejPig.png\" alt=\"latex0\" width=400 height=400/>\n",
    "  <figcaption>Ejemplos de LaTex.  Photo: Shinichi Okada. <a href=\"https://towardsdatascience.com/7-essential-tips-for-writing-with-jupyter-notebook-60972a1a8901\">Source</a></figcaption>\n",
    "</center></figure> \n",
    "\n",
    "También se pueden escribir matrices:\n",
    "\n",
    "><figure><center>\n",
    "  <img src=\"https://miro.medium.com/max/766/1*iy1NDHoaxjU9Y0I7Q8ByHA.png\" alt=\"latex\" width=400 height=400/>\n",
    "  <figcaption>Escritura de matrices en LaTex.  Photo: Shinichi Okada. <a href=\"https://towardsdatascience.com/7-essential-tips-for-writing-with-jupyter-notebook-60972a1a8901\">Source</a></figcaption>\n",
    "</center></figure> \n",
    "\n",
    "O funciones a trozos:\n",
    "\n",
    ">$$\n",
    "\\begin{align}\n",
    "\\text{Función de densidad de la distribución uniforme:}\\\\\n",
    "f(x)=\n",
    "\\begin{cases}\n",
    "\\frac{1}{b-a}&\\text{for $x\\in[a,b]$}\\\\\n",
    "0&\\text{en otro caso}\\\\\n",
    "\\end{cases}\n",
    "\\\\\n",
    "\\text{Función acumulada de probabilidad:}\\\\\n",
    "F(x)=\n",
    "\\begin{cases}\n",
    "0&\\text{for $x<a$}\\\\\n",
    "\\frac{x-a}{b-a}&\\text{for $x\\in[a,b)$}\\\\\n",
    "1&\\text{for $x\\ge b$}\\\\\n",
    "\\end{cases}\n",
    "\\end{align}\n",
    "$$\n",
    "\n",
    "En los siguientes enlaces puede encontrar algunas [herramientas adicionales de LaTex](https://www.overleaf.com/learn/latex/Integrals%2C_sums_and_limits) \n",
    "o información sobre más [símbolos](https://oeis.org/wiki/List_of_LaTeX_mathematical_symbols) frecuentemente usados. \n",
    "\n",
    "También se puede usar `\\begin{equation} y \\end{equation}` para empezar y finalizar una formula o texto matemático:\n",
    "\n",
    ">\\begin{equation}\n",
    "X \\sim \\mathcal{N}(\\mu,\\,\\sigma^{2})\n",
    "\\end{equation}"
   ]
  },
  {
   "cell_type": "markdown",
   "metadata": {
    "cell_id": "6144ab7314254a68aeb59a04e86fb5b0",
    "deepnote_cell_height": 130.640625,
    "deepnote_cell_type": "markdown"
   },
   "source": [
    "$\\alpha$\n",
    "\n",
    "\\begin{equation}\n",
    "X \\sim \\mathcal{N}(\\mu,\\,\\sigma^{2})\n",
    "\\end{equation}"
   ]
  },
  {
   "cell_type": "markdown",
   "metadata": {
    "cell_id": "d7db2a606b1a4915b053a1ff6a377adf",
    "deepnote_cell_height": 449.765625,
    "deepnote_cell_type": "markdown"
   },
   "source": [
    "## Cargar una función desde otro Jupyter Notebook\n",
    "\n",
    "Es posible llamar y cargar funciones de otros notebooks que se encuentran en el misma carpeta usando la siguientes pasos:\n",
    "\n",
    "1. Instalar `ipynb` con `pip install ipynb` en la linea de comandos (cmd). Desde ANACONDA.NAVIGATOR se puede usar `CMD.exe Prompt`. \n",
    "2. Sea `archivo1.ipynb`, el archivo que tiene la función de interés `funcion`, el cuál se guarda en la misma carpeta del notebook desde donde lo vamos a llamar.\n",
    "3. Llamamos la función `funcion` desde el archivo notebook en el que estamos trabajando mediante `from ipynb.fs.full.archivo1 import funcion`.\n",
    "4. Utilizamos la función `funcion(argumentos)`\n",
    "\n",
    " Ejemplo:\n",
    " \n",
    "Hemos construido la función `factorial` y la hemos guardado  con el nombre de `funciones1` en la misma carpeta de este notebook, la llamamos con:\n",
    "\n",
    "```\n",
    "from ipynb.fs.full.funciones1 import factorial\n",
    "factorial(3)\n",
    "```"
   ]
  },
  {
   "cell_type": "code",
   "execution_count": 17,
   "metadata": {},
   "outputs": [
    {
     "name": "stdout",
     "output_type": "stream",
     "text": [
      "/usr/bin/pip3:6: DeprecationWarning: pkg_resources is deprecated as an API. See https://setuptools.pypa.io/en/latest/pkg_resources.html\n",
      "  from pkg_resources import load_entry_point\n",
      "Collecting ipynb\n",
      "  Downloading ipynb-0.5.1-py3-none-any.whl (6.9 kB)\n",
      "Installing collected packages: ipynb\n",
      "Successfully installed ipynb-0.5.1\n"
     ]
    }
   ],
   "source": [
    "!pip3 install ipynb"
   ]
  },
  {
   "cell_type": "code",
   "execution_count": 18,
   "metadata": {
    "ExecuteTime": {
     "end_time": "2022-09-04T14:18:06.152484Z",
     "start_time": "2022-09-04T14:18:06.131493Z"
    },
    "cell_id": "372b8f1c881d41c1ab0cdc9fae85ab84",
    "deepnote_cell_height": 147.671875,
    "deepnote_cell_type": "code",
    "deepnote_output_heights": [
     20.109375
    ]
   },
   "outputs": [
    {
     "data": {
      "text/plain": [
       "6"
      ]
     },
     "execution_count": 18,
     "metadata": {},
     "output_type": "execute_result"
    }
   ],
   "source": [
    "#Ejemplo función factorial\n",
    "from ipynb.fs.full.funciones1 import factorial\n",
    "factorial(3)"
   ]
  },
  {
   "cell_type": "markdown",
   "metadata": {
    "cell_id": "ad1e50a7295a4ff99be178ded3f240b9",
    "deepnote_cell_height": 186.640625,
    "deepnote_cell_type": "markdown"
   },
   "source": [
    "## Algunas funciones \"mágicas\"\n",
    "\n",
    "Las celdas de código de Jupyter Notebook pueden contener comandos especiales que no son código de Python válido pero que pueden mejorar el desempeño del cuaderno. A estos comandos se les conoce como funciones o comandos mágicos.\n",
    "\n",
    "El comando `%lsmagic` lista los comandos mágicos disponibles. Por su parte  `%magic` los lista y describe su funcionalidad con ejemplos. Para saber lo que hace uno de estos comandos se puede usar `?` al final de este."
   ]
  },
  {
   "cell_type": "code",
   "execution_count": 19,
   "metadata": {
    "ExecuteTime": {
     "end_time": "2022-03-22T17:19:18.122417Z",
     "start_time": "2022-03-22T17:19:17.978419Z"
    },
    "cell_id": "a4cfa6b17e314221bb6e0676a6b22c14",
    "deepnote_cell_height": 60.6875,
    "deepnote_cell_type": "code"
   },
   "outputs": [
    {
     "data": {
      "application/json": {
       "cell": {
        "!": "OSMagics",
        "HTML": "Other",
        "SVG": "Other",
        "bash": "Other",
        "capture": "ExecutionMagics",
        "debug": "ExecutionMagics",
        "file": "Other",
        "html": "DisplayMagics",
        "javascript": "DisplayMagics",
        "js": "DisplayMagics",
        "latex": "DisplayMagics",
        "markdown": "DisplayMagics",
        "perl": "Other",
        "prun": "ExecutionMagics",
        "pypy": "Other",
        "python": "Other",
        "python2": "Other",
        "python3": "Other",
        "ruby": "Other",
        "script": "ScriptMagics",
        "sh": "Other",
        "svg": "DisplayMagics",
        "sx": "OSMagics",
        "system": "OSMagics",
        "time": "ExecutionMagics",
        "timeit": "ExecutionMagics",
        "writefile": "OSMagics"
       },
       "line": {
        "alias": "OSMagics",
        "alias_magic": "BasicMagics",
        "autoawait": "AsyncMagics",
        "autocall": "AutoMagics",
        "automagic": "AutoMagics",
        "autosave": "KernelMagics",
        "bookmark": "OSMagics",
        "cat": "Other",
        "cd": "OSMagics",
        "clear": "KernelMagics",
        "colors": "BasicMagics",
        "conda": "PackagingMagics",
        "config": "ConfigMagics",
        "connect_info": "KernelMagics",
        "cp": "Other",
        "debug": "ExecutionMagics",
        "dhist": "OSMagics",
        "dirs": "OSMagics",
        "doctest_mode": "BasicMagics",
        "ed": "Other",
        "edit": "KernelMagics",
        "env": "OSMagics",
        "gui": "BasicMagics",
        "hist": "Other",
        "history": "HistoryMagics",
        "killbgscripts": "ScriptMagics",
        "ldir": "Other",
        "less": "KernelMagics",
        "lf": "Other",
        "lk": "Other",
        "ll": "Other",
        "load": "CodeMagics",
        "load_ext": "ExtensionMagics",
        "loadpy": "CodeMagics",
        "logoff": "LoggingMagics",
        "logon": "LoggingMagics",
        "logstart": "LoggingMagics",
        "logstate": "LoggingMagics",
        "logstop": "LoggingMagics",
        "ls": "Other",
        "lsmagic": "BasicMagics",
        "lx": "Other",
        "macro": "ExecutionMagics",
        "magic": "BasicMagics",
        "man": "KernelMagics",
        "matplotlib": "PylabMagics",
        "mkdir": "Other",
        "more": "KernelMagics",
        "mv": "Other",
        "notebook": "BasicMagics",
        "page": "BasicMagics",
        "pastebin": "CodeMagics",
        "pdb": "ExecutionMagics",
        "pdef": "NamespaceMagics",
        "pdoc": "NamespaceMagics",
        "pfile": "NamespaceMagics",
        "pinfo": "NamespaceMagics",
        "pinfo2": "NamespaceMagics",
        "pip": "PackagingMagics",
        "popd": "OSMagics",
        "pprint": "BasicMagics",
        "precision": "BasicMagics",
        "prun": "ExecutionMagics",
        "psearch": "NamespaceMagics",
        "psource": "NamespaceMagics",
        "pushd": "OSMagics",
        "pwd": "OSMagics",
        "pycat": "OSMagics",
        "pylab": "PylabMagics",
        "qtconsole": "KernelMagics",
        "quickref": "BasicMagics",
        "recall": "HistoryMagics",
        "rehashx": "OSMagics",
        "reload_ext": "ExtensionMagics",
        "rep": "Other",
        "rerun": "HistoryMagics",
        "reset": "NamespaceMagics",
        "reset_selective": "NamespaceMagics",
        "rm": "Other",
        "rmdir": "Other",
        "run": "ExecutionMagics",
        "save": "CodeMagics",
        "sc": "OSMagics",
        "set_env": "OSMagics",
        "store": "StoreMagics",
        "sx": "OSMagics",
        "system": "OSMagics",
        "tb": "ExecutionMagics",
        "time": "ExecutionMagics",
        "timeit": "ExecutionMagics",
        "unalias": "OSMagics",
        "unload_ext": "ExtensionMagics",
        "who": "NamespaceMagics",
        "who_ls": "NamespaceMagics",
        "whos": "NamespaceMagics",
        "xdel": "NamespaceMagics",
        "xmode": "BasicMagics"
       }
      },
      "text/plain": [
       "Available line magics:\n",
       "%alias  %alias_magic  %autoawait  %autocall  %automagic  %autosave  %bookmark  %cat  %cd  %clear  %colors  %conda  %config  %connect_info  %cp  %debug  %dhist  %dirs  %doctest_mode  %ed  %edit  %env  %gui  %hist  %history  %killbgscripts  %ldir  %less  %lf  %lk  %ll  %load  %load_ext  %loadpy  %logoff  %logon  %logstart  %logstate  %logstop  %ls  %lsmagic  %lx  %macro  %magic  %man  %matplotlib  %mkdir  %more  %mv  %notebook  %page  %pastebin  %pdb  %pdef  %pdoc  %pfile  %pinfo  %pinfo2  %pip  %popd  %pprint  %precision  %prun  %psearch  %psource  %pushd  %pwd  %pycat  %pylab  %qtconsole  %quickref  %recall  %rehashx  %reload_ext  %rep  %rerun  %reset  %reset_selective  %rm  %rmdir  %run  %save  %sc  %set_env  %store  %sx  %system  %tb  %time  %timeit  %unalias  %unload_ext  %who  %who_ls  %whos  %xdel  %xmode\n",
       "\n",
       "Available cell magics:\n",
       "%%!  %%HTML  %%SVG  %%bash  %%capture  %%debug  %%file  %%html  %%javascript  %%js  %%latex  %%markdown  %%perl  %%prun  %%pypy  %%python  %%python2  %%python3  %%ruby  %%script  %%sh  %%svg  %%sx  %%system  %%time  %%timeit  %%writefile\n",
       "\n",
       "Automagic is ON, % prefix IS NOT needed for line magics."
      ]
     },
     "execution_count": 19,
     "metadata": {},
     "output_type": "execute_result"
    }
   ],
   "source": [
    "%lsmagic"
   ]
  },
  {
   "cell_type": "code",
   "execution_count": 20,
   "metadata": {
    "ExecuteTime": {
     "end_time": "2022-09-03T23:40:01.810671Z",
     "start_time": "2022-09-03T23:40:01.783471Z"
    },
    "cell_id": "3c5a16f3cc774b4f9fc506fa5c2a245b",
    "deepnote_cell_height": 60.6875,
    "deepnote_cell_type": "code"
   },
   "outputs": [
    {
     "data": {
      "text/plain": [
       "\n",
       "IPython's 'magic' functions\n",
       "===========================\n",
       "\n",
       "The magic function system provides a series of functions which allow you to\n",
       "control the behavior of IPython itself, plus a lot of system-type\n",
       "features. There are two kinds of magics, line-oriented and cell-oriented.\n",
       "\n",
       "Line magics are prefixed with the % character and work much like OS\n",
       "command-line calls: they get as an argument the rest of the line, where\n",
       "arguments are passed without parentheses or quotes.  For example, this will\n",
       "time the given statement::\n",
       "\n",
       "        %timeit range(1000)\n",
       "\n",
       "Cell magics are prefixed with a double %%, and they are functions that get as\n",
       "an argument not only the rest of the line, but also the lines below it in a\n",
       "separate argument.  These magics are called with two arguments: the rest of the\n",
       "call line and the body of the cell, consisting of the lines below the first.\n",
       "For example::\n",
       "\n",
       "        %%timeit x = numpy.random.randn((100, 100))\n",
       "        numpy.linalg.svd(x)\n",
       "\n",
       "will time the execution of the numpy svd routine, running the assignment of x\n",
       "as part of the setup phase, which is not timed.\n",
       "\n",
       "In a line-oriented client (the terminal or Qt console IPython), starting a new\n",
       "input with %% will automatically enter cell mode, and IPython will continue\n",
       "reading input until a blank line is given.  In the notebook, simply type the\n",
       "whole cell as one entity, but keep in mind that the %% escape can only be at\n",
       "the very start of the cell.\n",
       "\n",
       "NOTE: If you have 'automagic' enabled (via the command line option or with the\n",
       "%automagic function), you don't need to type in the % explicitly for line\n",
       "magics; cell magics always require an explicit '%%' escape.  By default,\n",
       "IPython ships with automagic on, so you should only rarely need the % escape.\n",
       "\n",
       "Example: typing '%cd mydir' (without the quotes) changes your working directory\n",
       "to 'mydir', if it exists.\n",
       "\n",
       "For a list of the available magic functions, use %lsmagic. For a description\n",
       "of any of them, type %magic_name?, e.g. '%cd?'.\n",
       "\n",
       "Currently the magic system has the following functions:\n",
       "%alias:\n",
       "    Define an alias for a system command.\n",
       "    \n",
       "    '%alias alias_name cmd' defines 'alias_name' as an alias for 'cmd'\n",
       "    \n",
       "    Then, typing 'alias_name params' will execute the system command 'cmd\n",
       "    params' (from your underlying operating system).\n",
       "    \n",
       "    Aliases have lower precedence than magic functions and Python normal\n",
       "    variables, so if 'foo' is both a Python variable and an alias, the\n",
       "    alias can not be executed until 'del foo' removes the Python variable.\n",
       "    \n",
       "    You can use the %l specifier in an alias definition to represent the\n",
       "    whole line when the alias is called.  For example::\n",
       "    \n",
       "      In [2]: alias bracket echo \"Input in brackets: <%l>\"\n",
       "      In [3]: bracket hello world\n",
       "      Input in brackets: <hello world>\n",
       "    \n",
       "    You can also define aliases with parameters using %s specifiers (one\n",
       "    per parameter)::\n",
       "    \n",
       "      In [1]: alias parts echo first %s second %s\n",
       "      In [2]: %parts A B\n",
       "      first A second B\n",
       "      In [3]: %parts A\n",
       "      Incorrect number of arguments: 2 expected.\n",
       "      parts is an alias to: 'echo first %s second %s'\n",
       "    \n",
       "    Note that %l and %s are mutually exclusive.  You can only use one or\n",
       "    the other in your aliases.\n",
       "    \n",
       "    Aliases expand Python variables just like system calls using ! or !!\n",
       "    do: all expressions prefixed with '$' get expanded.  For details of\n",
       "    the semantic rules, see PEP-215:\n",
       "    https://peps.python.org/pep-0215/.  This is the library used by\n",
       "    IPython for variable expansion.  If you want to access a true shell\n",
       "    variable, an extra $ is necessary to prevent its expansion by\n",
       "    IPython::\n",
       "    \n",
       "      In [6]: alias show echo\n",
       "      In [7]: PATH='A Python string'\n",
       "      In [8]: show $PATH\n",
       "      A Python string\n",
       "      In [9]: show $$PATH\n",
       "      /usr/local/lf9560/bin:/usr/local/intel/compiler70/ia32/bin:...\n",
       "    \n",
       "    You can use the alias facility to access all of $PATH.  See the %rehashx\n",
       "    function, which automatically creates aliases for the contents of your\n",
       "    $PATH.\n",
       "    \n",
       "    If called with no parameters, %alias prints the current alias table\n",
       "    for your system.  For posix systems, the default aliases are 'cat',\n",
       "    'cp', 'mv', 'rm', 'rmdir', and 'mkdir', and other platform-specific\n",
       "    aliases are added.  For windows-based systems, the default aliases are\n",
       "    'copy', 'ddir', 'echo', 'ls', 'ldir', 'mkdir', 'ren', and 'rmdir'.\n",
       "    \n",
       "    You can see the definition of alias by adding a question mark in the\n",
       "    end::\n",
       "    \n",
       "      In [1]: cat?\n",
       "      Repr: <alias cat for 'cat'>\n",
       "%alias_magic:\n",
       "    ::\n",
       "    \n",
       "      %alias_magic [-l] [-c] [-p PARAMS] name target\n",
       "    \n",
       "    Create an alias for an existing line or cell magic.\n",
       "    \n",
       "    Examples\n",
       "    --------\n",
       "    ::\n",
       "    \n",
       "      In [1]: %alias_magic t timeit\n",
       "      Created `%t` as an alias for `%timeit`.\n",
       "      Created `%%t` as an alias for `%%timeit`.\n",
       "    \n",
       "      In [2]: %t -n1 pass\n",
       "      1 loops, best of 3: 954 ns per loop\n",
       "    \n",
       "      In [3]: %%t -n1\n",
       "         ...: pass\n",
       "         ...:\n",
       "      1 loops, best of 3: 954 ns per loop\n",
       "    \n",
       "      In [4]: %alias_magic --cell whereami pwd\n",
       "      UsageError: Cell magic function `%%pwd` not found.\n",
       "      In [5]: %alias_magic --line whereami pwd\n",
       "      Created `%whereami` as an alias for `%pwd`.\n",
       "    \n",
       "      In [6]: %whereami\n",
       "      Out[6]: u'/home/testuser'\n",
       "    \n",
       "      In [7]: %alias_magic h history \"-p -l 30\" --line\n",
       "      Created `%h` as an alias for `%history -l 30`.\n",
       "    \n",
       "    positional arguments:\n",
       "      name                  Name of the magic to be created.\n",
       "      target                Name of the existing line or cell magic.\n",
       "    \n",
       "    optional arguments:\n",
       "      -l, --line            Create a line magic alias.\n",
       "      -c, --cell            Create a cell magic alias.\n",
       "      -p PARAMS, --params PARAMS\n",
       "                            Parameters passed to the magic function.\n",
       "%autoawait:\n",
       "    \n",
       "    Allow to change the status of the autoawait option.\n",
       "    \n",
       "    This allow you to set a specific asynchronous code runner.\n",
       "    \n",
       "    If no value is passed, print the currently used asynchronous integration\n",
       "    and whether it is activated.\n",
       "    \n",
       "    It can take a number of value evaluated in the following order:\n",
       "    \n",
       "    - False/false/off deactivate autoawait integration\n",
       "    - True/true/on activate autoawait integration using configured default\n",
       "      loop\n",
       "    - asyncio/curio/trio activate autoawait integration and use integration\n",
       "      with said library.\n",
       "    \n",
       "    - `sync` turn on the pseudo-sync integration (mostly used for\n",
       "      `IPython.embed()` which does not run IPython with a real eventloop and\n",
       "      deactivate running asynchronous code. Turning on Asynchronous code with\n",
       "      the pseudo sync loop is undefined behavior and may lead IPython to crash.\n",
       "    \n",
       "    If the passed parameter does not match any of the above and is a python\n",
       "    identifier, get said object from user namespace and set it as the\n",
       "    runner, and activate autoawait.\n",
       "    \n",
       "    If the object is a fully qualified object name, attempt to import it and\n",
       "    set it as the runner, and activate autoawait.\n",
       "    \n",
       "    The exact behavior of autoawait is experimental and subject to change\n",
       "    across version of IPython and Python.\n",
       "%autocall:\n",
       "    Make functions callable without having to type parentheses.\n",
       "    \n",
       "    Usage:\n",
       "    \n",
       "       %autocall [mode]\n",
       "    \n",
       "    The mode can be one of: 0->Off, 1->Smart, 2->Full.  If not given, the\n",
       "    value is toggled on and off (remembering the previous state).\n",
       "    \n",
       "    In more detail, these values mean:\n",
       "    \n",
       "    0 -> fully disabled\n",
       "    \n",
       "    1 -> active, but do not apply if there are no arguments on the line.\n",
       "    \n",
       "    In this mode, you get::\n",
       "    \n",
       "      In [1]: callable\n",
       "      Out[1]: <built-in function callable>\n",
       "    \n",
       "      In [2]: callable 'hello'\n",
       "      ------> callable('hello')\n",
       "      Out[2]: False\n",
       "    \n",
       "    2 -> Active always.  Even if no arguments are present, the callable\n",
       "    object is called::\n",
       "    \n",
       "      In [2]: float\n",
       "      ------> float()\n",
       "      Out[2]: 0.0\n",
       "    \n",
       "    Note that even with autocall off, you can still use '/' at the start of\n",
       "    a line to treat the first argument on the command line as a function\n",
       "    and add parentheses to it::\n",
       "    \n",
       "      In [8]: /str 43\n",
       "      ------> str(43)\n",
       "      Out[8]: '43'\n",
       "    \n",
       "    # all-random (note for auto-testing)\n",
       "%automagic:\n",
       "    Make magic functions callable without having to type the initial %.\n",
       "    \n",
       "    Without arguments toggles on/off (when off, you must call it as\n",
       "    %automagic, of course).  With arguments it sets the value, and you can\n",
       "    use any of (case insensitive):\n",
       "    \n",
       "     - on, 1, True: to activate\n",
       "    \n",
       "     - off, 0, False: to deactivate.\n",
       "    \n",
       "    Note that magic functions have lowest priority, so if there's a\n",
       "    variable whose name collides with that of a magic fn, automagic won't\n",
       "    work for that function (you get the variable instead). However, if you\n",
       "    delete the variable (del var), the previously shadowed magic function\n",
       "    becomes visible to automagic again.\n",
       "%autosave:\n",
       "    Set the autosave interval in the notebook (in seconds).\n",
       "    \n",
       "    The default value is 120, or two minutes.\n",
       "    ``%autosave 0`` will disable autosave.\n",
       "    \n",
       "    This magic only has an effect when called from the notebook interface.\n",
       "    It has no effect when called in a startup file.\n",
       "%bookmark:\n",
       "    Manage IPython's bookmark system.\n",
       "    \n",
       "    %bookmark <name>       - set bookmark to current dir\n",
       "    %bookmark <name> <dir> - set bookmark to <dir>\n",
       "    %bookmark -l           - list all bookmarks\n",
       "    %bookmark -d <name>    - remove bookmark\n",
       "    %bookmark -r           - remove all bookmarks\n",
       "    \n",
       "    You can later on access a bookmarked folder with::\n",
       "    \n",
       "      %cd -b <name>\n",
       "    \n",
       "    or simply '%cd <name>' if there is no directory called <name> AND\n",
       "    there is such a bookmark defined.\n",
       "    \n",
       "    Your bookmarks persist through IPython sessions, but they are\n",
       "    associated with each profile.\n",
       "%cat:\n",
       "    Alias for `!cat`\n",
       "%cd:\n",
       "    Change the current working directory.\n",
       "    \n",
       "    This command automatically maintains an internal list of directories\n",
       "    you visit during your IPython session, in the variable ``_dh``. The\n",
       "    command :magic:`%dhist` shows this history nicely formatted. You can\n",
       "    also do ``cd -<tab>`` to see directory history conveniently.\n",
       "    Usage:\n",
       "    \n",
       "      - ``cd 'dir'``: changes to directory 'dir'.\n",
       "      - ``cd -``: changes to the last visited directory.\n",
       "      - ``cd -<n>``: changes to the n-th directory in the directory history.\n",
       "      - ``cd --foo``: change to directory that matches 'foo' in history\n",
       "      - ``cd -b <bookmark_name>``: jump to a bookmark set by %bookmark\n",
       "      - Hitting a tab key after ``cd -b`` allows you to tab-complete\n",
       "        bookmark names.\n",
       "    \n",
       "      .. note::\n",
       "        ``cd <bookmark_name>`` is enough if there is no directory\n",
       "        ``<bookmark_name>``, but a bookmark with the name exists.\n",
       "    \n",
       "    Options:\n",
       "    \n",
       "    -q               Be quiet. Do not print the working directory after the\n",
       "                     cd command is executed. By default IPython's cd\n",
       "                     command does print this directory, since the default\n",
       "                     prompts do not display path information.\n",
       "    \n",
       "    .. note::\n",
       "       Note that ``!cd`` doesn't work for this purpose because the shell\n",
       "       where ``!command`` runs is immediately discarded after executing\n",
       "       'command'.\n",
       "    \n",
       "    Examples\n",
       "    --------\n",
       "    ::\n",
       "    \n",
       "      In [10]: cd parent/child\n",
       "      /home/tsuser/parent/child\n",
       "%clear:\n",
       "    Clear the terminal.\n",
       "%colors:\n",
       "    Switch color scheme for prompts, info system and exception handlers.\n",
       "    \n",
       "    Currently implemented schemes: NoColor, Linux, LightBG.\n",
       "    \n",
       "    Color scheme names are not case-sensitive.\n",
       "    \n",
       "    Examples\n",
       "    --------\n",
       "    To get a plain black and white terminal::\n",
       "    \n",
       "      %colors nocolor\n",
       "%conda:\n",
       "    Run the conda package manager within the current kernel.\n",
       "    \n",
       "    Usage:\n",
       "      %conda install [pkgs]\n",
       "%config:\n",
       "    configure IPython\n",
       "    \n",
       "        %config Class[.trait=value]\n",
       "    \n",
       "    This magic exposes most of the IPython config system. Any\n",
       "    Configurable class should be able to be configured with the simple\n",
       "    line::\n",
       "    \n",
       "        %config Class.trait=value\n",
       "    \n",
       "    Where `value` will be resolved in the user's namespace, if it is an\n",
       "    expression or variable name.\n",
       "    \n",
       "    Examples\n",
       "    --------\n",
       "    \n",
       "    To see what classes are available for config, pass no arguments::\n",
       "    \n",
       "        In [1]: %config\n",
       "        Available objects for config:\n",
       "            AliasManager\n",
       "            DisplayFormatter\n",
       "            HistoryManager\n",
       "            IPCompleter\n",
       "            LoggingMagics\n",
       "            MagicsManager\n",
       "            OSMagics\n",
       "            PrefilterManager\n",
       "            ScriptMagics\n",
       "            TerminalInteractiveShell\n",
       "    \n",
       "    To view what is configurable on a given class, just pass the class\n",
       "    name::\n",
       "    \n",
       "        In [2]: %config LoggingMagics\n",
       "        LoggingMagics(Magics) options\n",
       "        ---------------------------\n",
       "        LoggingMagics.quiet=<Bool>\n",
       "            Suppress output of log state when logging is enabled\n",
       "            Current: False\n",
       "    \n",
       "    but the real use is in setting values::\n",
       "    \n",
       "        In [3]: %config LoggingMagics.quiet = True\n",
       "    \n",
       "    and these values are read from the user_ns if they are variables::\n",
       "    \n",
       "        In [4]: feeling_quiet=False\n",
       "    \n",
       "        In [5]: %config LoggingMagics.quiet = feeling_quiet\n",
       "%connect_info:\n",
       "    Print information for connecting other clients to this kernel\n",
       "    \n",
       "    It will print the contents of this session's connection file, as well as\n",
       "    shortcuts for local clients.\n",
       "    \n",
       "    In the simplest case, when called from the most recently launched kernel,\n",
       "    secondary clients can be connected, simply with:\n",
       "    \n",
       "    $> jupyter <app> --existing\n",
       "%cp:\n",
       "    Alias for `!cp`\n",
       "%debug:\n",
       "    ::\n",
       "    \n",
       "      %debug [--breakpoint FILE:LINE] [statement [statement ...]]\n",
       "    \n",
       "    Activate the interactive debugger.\n",
       "    \n",
       "    This magic command support two ways of activating debugger.\n",
       "    One is to activate debugger before executing code.  This way, you\n",
       "    can set a break point, to step through the code from the point.\n",
       "    You can use this mode by giving statements to execute and optionally\n",
       "    a breakpoint.\n",
       "    \n",
       "    The other one is to activate debugger in post-mortem mode.  You can\n",
       "    activate this mode simply running %debug without any argument.\n",
       "    If an exception has just occurred, this lets you inspect its stack\n",
       "    frames interactively.  Note that this will always work only on the last\n",
       "    traceback that occurred, so you must call this quickly after an\n",
       "    exception that you wish to inspect has fired, because if another one\n",
       "    occurs, it clobbers the previous one.\n",
       "    \n",
       "    If you want IPython to automatically do this on every exception, see\n",
       "    the %pdb magic for more details.\n",
       "    \n",
       "    .. versionchanged:: 7.3\n",
       "        When running code, user variables are no longer expanded,\n",
       "        the magic line is always left unmodified.\n",
       "    \n",
       "    positional arguments:\n",
       "      statement             Code to run in debugger. You can omit this in cell\n",
       "                            magic mode.\n",
       "    \n",
       "    optional arguments:\n",
       "      --breakpoint <FILE:LINE>, -b <FILE:LINE>\n",
       "                            Set break point at LINE in FILE.\n",
       "%dhist:\n",
       "    Print your history of visited directories.\n",
       "    \n",
       "    %dhist       -> print full history\n",
       "    %dhist n     -> print last n entries only\n",
       "    %dhist n1 n2 -> print entries between n1 and n2 (n2 not included)\n",
       "    \n",
       "    This history is automatically maintained by the %cd command, and\n",
       "    always available as the global list variable _dh. You can use %cd -<n>\n",
       "    to go to directory number <n>.\n",
       "    \n",
       "    Note that most of time, you should view directory history by entering\n",
       "    cd -<TAB>.\n",
       "%dirs:\n",
       "    Return the current directory stack.\n",
       "%doctest_mode:\n",
       "    Toggle doctest mode on and off.\n",
       "    \n",
       "    This mode is intended to make IPython behave as much as possible like a\n",
       "    plain Python shell, from the perspective of how its prompts, exceptions\n",
       "    and output look.  This makes it easy to copy and paste parts of a\n",
       "    session into doctests.  It does so by:\n",
       "    \n",
       "    - Changing the prompts to the classic ``>>>`` ones.\n",
       "    - Changing the exception reporting mode to 'Plain'.\n",
       "    - Disabling pretty-printing of output.\n",
       "    \n",
       "    Note that IPython also supports the pasting of code snippets that have\n",
       "    leading '>>>' and '...' prompts in them.  This means that you can paste\n",
       "    doctests from files or docstrings (even if they have leading\n",
       "    whitespace), and the code will execute correctly.  You can then use\n",
       "    '%history -t' to see the translated history; this will give you the\n",
       "    input after removal of all the leading prompts and whitespace, which\n",
       "    can be pasted back into an editor.\n",
       "    \n",
       "    With these features, you can switch into this mode easily whenever you\n",
       "    need to do testing and changes to doctests, without having to leave\n",
       "    your existing IPython session.\n",
       "%ed:\n",
       "    Alias for `%edit`.\n",
       "%edit:\n",
       "    Bring up an editor and execute the resulting code.\n",
       "    \n",
       "    Usage:\n",
       "      %edit [options] [args]\n",
       "    \n",
       "    %edit runs an external text editor. You will need to set the command for\n",
       "    this editor via the ``TerminalInteractiveShell.editor`` option in your\n",
       "    configuration file before it will work.\n",
       "    \n",
       "    This command allows you to conveniently edit multi-line code right in\n",
       "    your IPython session.\n",
       "    \n",
       "    If called without arguments, %edit opens up an empty editor with a\n",
       "    temporary file and will execute the contents of this file when you\n",
       "    close it (don't forget to save it!).\n",
       "    \n",
       "    Options:\n",
       "    \n",
       "    -n <number>\n",
       "      Open the editor at a specified line number. By default, the IPython\n",
       "      editor hook uses the unix syntax 'editor +N filename', but you can\n",
       "      configure this by providing your own modified hook if your favorite\n",
       "      editor supports line-number specifications with a different syntax.\n",
       "    \n",
       "    -p\n",
       "      Call the editor with the same data as the previous time it was used,\n",
       "      regardless of how long ago (in your current session) it was.\n",
       "    \n",
       "    -r\n",
       "      Use 'raw' input. This option only applies to input taken from the\n",
       "      user's history.  By default, the 'processed' history is used, so that\n",
       "      magics are loaded in their transformed version to valid Python.  If\n",
       "      this option is given, the raw input as typed as the command line is\n",
       "      used instead.  When you exit the editor, it will be executed by\n",
       "      IPython's own processor.\n",
       "    \n",
       "    Arguments:\n",
       "    \n",
       "    If arguments are given, the following possibilities exist:\n",
       "    \n",
       "    - The arguments are numbers or pairs of colon-separated numbers (like\n",
       "      1 4:8 9). These are interpreted as lines of previous input to be\n",
       "      loaded into the editor. The syntax is the same of the %macro command.\n",
       "    \n",
       "    - If the argument doesn't start with a number, it is evaluated as a\n",
       "      variable and its contents loaded into the editor. You can thus edit\n",
       "      any string which contains python code (including the result of\n",
       "      previous edits).\n",
       "    \n",
       "    - If the argument is the name of an object (other than a string),\n",
       "      IPython will try to locate the file where it was defined and open the\n",
       "      editor at the point where it is defined. You can use ``%edit function``\n",
       "      to load an editor exactly at the point where 'function' is defined,\n",
       "      edit it and have the file be executed automatically.\n",
       "    \n",
       "      If the object is a macro (see %macro for details), this opens up your\n",
       "      specified editor with a temporary file containing the macro's data.\n",
       "      Upon exit, the macro is reloaded with the contents of the file.\n",
       "    \n",
       "      Note: opening at an exact line is only supported under Unix, and some\n",
       "      editors (like kedit and gedit up to Gnome 2.8) do not understand the\n",
       "      '+NUMBER' parameter necessary for this feature. Good editors like\n",
       "      (X)Emacs, vi, jed, pico and joe all do.\n",
       "    \n",
       "    - If the argument is not found as a variable, IPython will look for a\n",
       "      file with that name (adding .py if necessary) and load it into the\n",
       "      editor. It will execute its contents with execfile() when you exit,\n",
       "      loading any code in the file into your interactive namespace.\n",
       "    \n",
       "    Unlike in the terminal, this is designed to use a GUI editor, and we do\n",
       "    not know when it has closed. So the file you edit will not be\n",
       "    automatically executed or printed.\n",
       "    \n",
       "    Note that %edit is also available through the alias %ed.\n",
       "%env:\n",
       "    Get, set, or list environment variables.\n",
       "    \n",
       "    Usage:\n",
       "    \n",
       "      :``%env``: lists all environment variables/values\n",
       "      :``%env var``: get value for var\n",
       "      :``%env var val``: set value for var\n",
       "      :``%env var=val``: set value for var\n",
       "      :``%env var=$val``: set value for var, using python expansion if possible\n",
       "%gui:\n",
       "    Enable or disable IPython GUI event loop integration.\n",
       "    \n",
       "    %gui [GUINAME]\n",
       "    \n",
       "    This magic replaces IPython's threaded shells that were activated\n",
       "    using the (pylab/wthread/etc.) command line flags.  GUI toolkits\n",
       "    can now be enabled at runtime and keyboard\n",
       "    interrupts should work without any problems.  The following toolkits\n",
       "    are supported:  wxPython, PyQt4, PyGTK, Tk and Cocoa (OSX)::\n",
       "    \n",
       "        %gui wx      # enable wxPython event loop integration\n",
       "        %gui qt      # enable PyQt/PySide event loop integration\n",
       "                     # with the latest version available.\n",
       "        %gui qt6     # enable PyQt6/PySide6 event loop integration\n",
       "        %gui qt5     # enable PyQt5/PySide2 event loop integration\n",
       "        %gui gtk     # enable PyGTK event loop integration\n",
       "        %gui gtk3    # enable Gtk3 event loop integration\n",
       "        %gui gtk4    # enable Gtk4 event loop integration\n",
       "        %gui tk      # enable Tk event loop integration\n",
       "        %gui osx     # enable Cocoa event loop integration\n",
       "                     # (requires %matplotlib 1.1)\n",
       "        %gui         # disable all event loop integration\n",
       "    \n",
       "    WARNING:  after any of these has been called you can simply create\n",
       "    an application object, but DO NOT start the event loop yourself, as\n",
       "    we have already handled that.\n",
       "%hist:\n",
       "    Alias for `%history`.\n",
       "%history:\n",
       "    ::\n",
       "    \n",
       "      %history [-n] [-o] [-p] [-t] [-f FILENAME] [-g [PATTERN [PATTERN ...]]]\n",
       "                   [-l [LIMIT]] [-u]\n",
       "                   [range [range ...]]\n",
       "    \n",
       "    Print input history (_i<n> variables), with most recent last.\n",
       "    \n",
       "    By default, input history is printed without line numbers so it can be\n",
       "    directly pasted into an editor. Use -n to show them.\n",
       "    \n",
       "    By default, all input history from the current session is displayed.\n",
       "    Ranges of history can be indicated using the syntax:\n",
       "    \n",
       "    ``4``\n",
       "        Line 4, current session\n",
       "    ``4-6``\n",
       "        Lines 4-6, current session\n",
       "    ``243/1-5``\n",
       "        Lines 1-5, session 243\n",
       "    ``~2/7``\n",
       "        Line 7, session 2 before current\n",
       "    ``~8/1-~6/5``\n",
       "        From the first line of 8 sessions ago, to the fifth line of 6\n",
       "        sessions ago.\n",
       "    \n",
       "    Multiple ranges can be entered, separated by spaces\n",
       "    \n",
       "    The same syntax is used by %macro, %save, %edit, %rerun\n",
       "    \n",
       "    Examples\n",
       "    --------\n",
       "    ::\n",
       "    \n",
       "      In [6]: %history -n 4-6\n",
       "      4:a = 12\n",
       "      5:print a**2\n",
       "      6:%history -n 4-6\n",
       "    \n",
       "    positional arguments:\n",
       "      range\n",
       "    \n",
       "    optional arguments:\n",
       "      -n                    print line numbers for each input. This feature is\n",
       "                            only available if numbered prompts are in use.\n",
       "      -o                    also print outputs for each input.\n",
       "      -p                    print classic '>>>' python prompts before each input.\n",
       "                            This is useful for making documentation, and in\n",
       "                            conjunction with -o, for producing doctest-ready\n",
       "                            output.\n",
       "      -t                    print the 'translated' history, as IPython understands\n",
       "                            it. IPython filters your input and converts it all\n",
       "                            into valid Python source before executing it (things\n",
       "                            like magics or aliases are turned into function calls,\n",
       "                            for example). With this option, you'll see the native\n",
       "                            history instead of the user-entered version: '%cd /'\n",
       "                            will be seen as 'get_ipython().run_line_magic(\"cd\",\n",
       "                            \"/\")' instead of '%cd /'.\n",
       "      -f FILENAME           FILENAME: instead of printing the output to the\n",
       "                            screen, redirect it to the given file. The file is\n",
       "                            always overwritten, though *when it can*, IPython asks\n",
       "                            for confirmation first. In particular, running the\n",
       "                            command 'history -f FILENAME' from the IPython\n",
       "                            Notebook interface will replace FILENAME even if it\n",
       "                            already exists *without* confirmation.\n",
       "      -g <[PATTERN [PATTERN ...]]>\n",
       "                            treat the arg as a glob pattern to search for in\n",
       "                            (full) history. This includes the saved history\n",
       "                            (almost all commands ever written). The pattern may\n",
       "                            contain '?' to match one unknown character and '*' to\n",
       "                            match any number of unknown characters. Use '%hist -g'\n",
       "                            to show full saved history (may be very long).\n",
       "      -l <[LIMIT]>          get the last n lines from all sessions. Specify n as a\n",
       "                            single arg, or the default is the last 10 lines.\n",
       "      -u                    when searching history using `-g`, show only unique\n",
       "                            history.\n",
       "%killbgscripts:\n",
       "    Kill all BG processes started by %%script and its family.\n",
       "%ldir:\n",
       "    Alias for `!ls -F -o --color %l | grep /$`\n",
       "%less:\n",
       "    Show a file through the pager.\n",
       "    \n",
       "    Files ending in .py are syntax-highlighted.\n",
       "%lf:\n",
       "    Alias for `!ls -F -o --color %l | grep ^-`\n",
       "%lk:\n",
       "    Alias for `!ls -F -o --color %l | grep ^l`\n",
       "%ll:\n",
       "    Alias for `!ls -F -o --color`\n",
       "%load:\n",
       "    Load code into the current frontend.\n",
       "    \n",
       "    Usage:\n",
       "      %load [options] source\n",
       "    \n",
       "      where source can be a filename, URL, input history range, macro, or\n",
       "      element in the user namespace\n",
       "    \n",
       "    If no arguments are given, loads the history of this session up to this\n",
       "    point.\n",
       "    \n",
       "    Options:\n",
       "    \n",
       "      -r <lines>: Specify lines or ranges of lines to load from the source.\n",
       "      Ranges could be specified as x-y (x..y) or in python-style x:y \n",
       "      (x..(y-1)). Both limits x and y can be left blank (meaning the \n",
       "      beginning and end of the file, respectively).\n",
       "    \n",
       "      -s <symbols>: Specify function or classes to load from python source. \n",
       "    \n",
       "      -y : Don't ask confirmation for loading source above 200 000 characters.\n",
       "    \n",
       "      -n : Include the user's namespace when searching for source code.\n",
       "    \n",
       "    This magic command can either take a local filename, a URL, an history\n",
       "    range (see %history) or a macro as argument, it will prompt for\n",
       "    confirmation before loading source with more than 200 000 characters, unless\n",
       "    -y flag is passed or if the frontend does not support raw_input::\n",
       "    \n",
       "    %load\n",
       "    %load myscript.py\n",
       "    %load 7-27\n",
       "    %load myMacro\n",
       "    %load http://www.example.com/myscript.py\n",
       "    %load -r 5-10 myscript.py\n",
       "    %load -r 10-20,30,40: foo.py\n",
       "    %load -s MyClass,wonder_function myscript.py\n",
       "    %load -n MyClass\n",
       "    %load -n my_module.wonder_function\n",
       "%load_ext:\n",
       "    Load an IPython extension by its module name.\n",
       "%loadpy:\n",
       "    Alias of `%load`\n",
       "    \n",
       "    `%loadpy` has gained some flexibility and dropped the requirement of a `.py`\n",
       "    extension. So it has been renamed simply into %load. You can look at\n",
       "    `%load`'s docstring for more info.\n",
       "%logoff:\n",
       "    Temporarily stop logging.\n",
       "    \n",
       "    You must have previously started logging.\n",
       "%logon:\n",
       "    Restart logging.\n",
       "    \n",
       "    This function is for restarting logging which you've temporarily\n",
       "    stopped with %logoff. For starting logging for the first time, you\n",
       "    must use the %logstart function, which allows you to specify an\n",
       "    optional log filename.\n",
       "%logstart:\n",
       "    Start logging anywhere in a session.\n",
       "    \n",
       "    %logstart [-o|-r|-t|-q] [log_name [log_mode]]\n",
       "    \n",
       "    If no name is given, it defaults to a file named 'ipython_log.py' in your\n",
       "    current directory, in 'rotate' mode (see below).\n",
       "    \n",
       "    '%logstart name' saves to file 'name' in 'backup' mode.  It saves your\n",
       "    history up to that point and then continues logging.\n",
       "    \n",
       "    %logstart takes a second optional parameter: logging mode. This can be one\n",
       "    of (note that the modes are given unquoted):\n",
       "    \n",
       "    append\n",
       "        Keep logging at the end of any existing file.\n",
       "    \n",
       "    backup\n",
       "        Rename any existing file to name~ and start name.\n",
       "    \n",
       "    global\n",
       "        Append to  a single logfile in your home directory.\n",
       "    \n",
       "    over\n",
       "        Overwrite any existing log.\n",
       "    \n",
       "    rotate\n",
       "        Create rotating logs: name.1~, name.2~, etc.\n",
       "    \n",
       "    Options:\n",
       "    \n",
       "      -o\n",
       "        log also IPython's output. In this mode, all commands which\n",
       "        generate an Out[NN] prompt are recorded to the logfile, right after\n",
       "        their corresponding input line. The output lines are always\n",
       "        prepended with a '#[Out]# ' marker, so that the log remains valid\n",
       "        Python code.\n",
       "    \n",
       "      Since this marker is always the same, filtering only the output from\n",
       "      a log is very easy, using for example a simple awk call::\n",
       "    \n",
       "        awk -F'#\\[Out\\]# ' '{if($2) {print $2}}' ipython_log.py\n",
       "    \n",
       "      -r\n",
       "        log 'raw' input.  Normally, IPython's logs contain the processed\n",
       "        input, so that user lines are logged in their final form, converted\n",
       "        into valid Python.  For example, %Exit is logged as\n",
       "        _ip.magic(\"Exit\").  If the -r flag is given, all input is logged\n",
       "        exactly as typed, with no transformations applied.\n",
       "    \n",
       "      -t\n",
       "        put timestamps before each input line logged (these are put in\n",
       "        comments).\n",
       "    \n",
       "      -q \n",
       "        suppress output of logstate message when logging is invoked\n",
       "%logstate:\n",
       "    Print the status of the logging system.\n",
       "%logstop:\n",
       "    Fully stop logging and close log file.\n",
       "    \n",
       "    In order to start logging again, a new %logstart call needs to be made,\n",
       "    possibly (though not necessarily) with a new filename, mode and other\n",
       "    options.\n",
       "%ls:\n",
       "    Alias for `!ls -F --color`\n",
       "%lsmagic:\n",
       "    List currently available magic functions.\n",
       "%lx:\n",
       "    Alias for `!ls -F -o --color %l | grep ^-..x`\n",
       "%macro:\n",
       "    Define a macro for future re-execution. It accepts ranges of history,\n",
       "    filenames or string objects.\n",
       "    \n",
       "    Usage:\n",
       "      %macro [options] name n1-n2 n3-n4 ... n5 .. n6 ...\n",
       "    \n",
       "    Options:\n",
       "    \n",
       "      -r: use 'raw' input.  By default, the 'processed' history is used,\n",
       "      so that magics are loaded in their transformed version to valid\n",
       "      Python.  If this option is given, the raw input as typed at the\n",
       "      command line is used instead.\n",
       "    \n",
       "      -q: quiet macro definition.  By default, a tag line is printed \n",
       "      to indicate the macro has been created, and then the contents of \n",
       "      the macro are printed.  If this option is given, then no printout\n",
       "      is produced once the macro is created.\n",
       "    \n",
       "    This will define a global variable called `name` which is a string\n",
       "    made of joining the slices and lines you specify (n1,n2,... numbers\n",
       "    above) from your input history into a single string. This variable\n",
       "    acts like an automatic function which re-executes those lines as if\n",
       "    you had typed them. You just type 'name' at the prompt and the code\n",
       "    executes.\n",
       "    \n",
       "    The syntax for indicating input ranges is described in %history.\n",
       "    \n",
       "    Note: as a 'hidden' feature, you can also use traditional python slice\n",
       "    notation, where N:M means numbers N through M-1.\n",
       "    \n",
       "    For example, if your history contains (print using %hist -n )::\n",
       "    \n",
       "      44: x=1\n",
       "      45: y=3\n",
       "      46: z=x+y\n",
       "      47: print x\n",
       "      48: a=5\n",
       "      49: print 'x',x,'y',y\n",
       "    \n",
       "    you can create a macro with lines 44 through 47 (included) and line 49\n",
       "    called my_macro with::\n",
       "    \n",
       "      In [55]: %macro my_macro 44-47 49\n",
       "    \n",
       "    Now, typing `my_macro` (without quotes) will re-execute all this code\n",
       "    in one pass.\n",
       "    \n",
       "    You don't need to give the line-numbers in order, and any given line\n",
       "    number can appear multiple times. You can assemble macros with any\n",
       "    lines from your input history in any order.\n",
       "    \n",
       "    The macro is a simple object which holds its value in an attribute,\n",
       "    but IPython's display system checks for macros and executes them as\n",
       "    code instead of printing them when you type their name.\n",
       "    \n",
       "    You can view a macro's contents by explicitly printing it with::\n",
       "    \n",
       "      print macro_name\n",
       "%magic:\n",
       "    Print information about the magic function system.\n",
       "    \n",
       "    Supported formats: -latex, -brief, -rest\n",
       "%man:\n",
       "    Find the man page for the given command and display in pager.\n",
       "%matplotlib:\n",
       "    ::\n",
       "    \n",
       "      %matplotlib [-l] [gui]\n",
       "    \n",
       "    Set up matplotlib to work interactively.\n",
       "    \n",
       "    This function lets you activate matplotlib interactive support\n",
       "    at any point during an IPython session. It does not import anything\n",
       "    into the interactive namespace.\n",
       "    \n",
       "    If you are using the inline matplotlib backend in the IPython Notebook\n",
       "    you can set which figure formats are enabled using the following::\n",
       "    \n",
       "        In [1]: from matplotlib_inline.backend_inline import set_matplotlib_formats\n",
       "    \n",
       "        In [2]: set_matplotlib_formats('pdf', 'svg')\n",
       "    \n",
       "    The default for inline figures sets `bbox_inches` to 'tight'. This can\n",
       "    cause discrepancies between the displayed image and the identical\n",
       "    image created using `savefig`. This behavior can be disabled using the\n",
       "    `%config` magic::\n",
       "    \n",
       "        In [3]: %config InlineBackend.print_figure_kwargs = {'bbox_inches':None}\n",
       "    \n",
       "    In addition, see the docstrings of\n",
       "    `matplotlib_inline.backend_inline.set_matplotlib_formats` and\n",
       "    `matplotlib_inline.backend_inline.set_matplotlib_close` for more information on\n",
       "    changing additional behaviors of the inline backend.\n",
       "    \n",
       "    Examples\n",
       "    --------\n",
       "    To enable the inline backend for usage with the IPython Notebook::\n",
       "    \n",
       "        In [1]: %matplotlib inline\n",
       "    \n",
       "    In this case, where the matplotlib default is TkAgg::\n",
       "    \n",
       "        In [2]: %matplotlib\n",
       "        Using matplotlib backend: TkAgg\n",
       "    \n",
       "    But you can explicitly request a different GUI backend::\n",
       "    \n",
       "        In [3]: %matplotlib qt\n",
       "    \n",
       "    You can list the available backends using the -l/--list option::\n",
       "    \n",
       "       In [4]: %matplotlib --list\n",
       "       Available matplotlib backends: ['osx', 'qt4', 'qt5', 'gtk3', 'gtk4', 'notebook', 'wx', 'qt', 'nbagg',\n",
       "       'gtk', 'tk', 'inline']\n",
       "    \n",
       "    positional arguments:\n",
       "      gui         Name of the matplotlib backend to use ('agg', 'gtk', 'gtk3',\n",
       "                  'gtk4', 'inline', 'ipympl', 'nbagg', 'notebook', 'osx', 'pdf',\n",
       "                  'ps', 'qt', 'qt4', 'qt5', 'qt6', 'svg', 'tk', 'webagg',\n",
       "                  'widget', 'wx'). If given, the corresponding matplotlib backend\n",
       "                  is used, otherwise it will be matplotlib's default (which you\n",
       "                  can set in your matplotlib config file).\n",
       "    \n",
       "    optional arguments:\n",
       "      -l, --list  Show available matplotlib backends\n",
       "%mkdir:\n",
       "    Alias for `!mkdir`\n",
       "%more:\n",
       "    Show a file through the pager.\n",
       "    \n",
       "    Files ending in .py are syntax-highlighted.\n",
       "%mv:\n",
       "    Alias for `!mv`\n",
       "%notebook:\n",
       "    ::\n",
       "    \n",
       "      %notebook filename\n",
       "    \n",
       "    Export and convert IPython notebooks.\n",
       "    \n",
       "    This function can export the current IPython history to a notebook file.\n",
       "    For example, to export the history to \"foo.ipynb\" do \"%notebook foo.ipynb\".\n",
       "    \n",
       "    positional arguments:\n",
       "      filename  Notebook name or filename\n",
       "%page:\n",
       "    Pretty print the object and display it through a pager.\n",
       "    \n",
       "    %page [options] OBJECT\n",
       "    \n",
       "    If no object is given, use _ (last output).\n",
       "    \n",
       "    Options:\n",
       "    \n",
       "      -r: page str(object), don't pretty-print it.\n",
       "%pastebin:\n",
       "    Upload code to dpaste.com, returning the URL.\n",
       "    \n",
       "    Usage:\n",
       "      %pastebin [-d \"Custom description\"][-e 24] 1-7\n",
       "    \n",
       "    The argument can be an input history range, a filename, or the name of a\n",
       "    string or macro.\n",
       "    \n",
       "    If no arguments are given, uploads the history of this session up to\n",
       "    this point.\n",
       "    \n",
       "    Options:\n",
       "    \n",
       "      -d: Pass a custom description. The default will say\n",
       "          \"Pasted from IPython\".\n",
       "      -e: Pass number of days for the link to be expired.\n",
       "          The default will be 7 days.\n",
       "%pdb:\n",
       "    Control the automatic calling of the pdb interactive debugger.\n",
       "    \n",
       "    Call as '%pdb on', '%pdb 1', '%pdb off' or '%pdb 0'. If called without\n",
       "    argument it works as a toggle.\n",
       "    \n",
       "    When an exception is triggered, IPython can optionally call the\n",
       "    interactive pdb debugger after the traceback printout. %pdb toggles\n",
       "    this feature on and off.\n",
       "    \n",
       "    The initial state of this feature is set in your configuration\n",
       "    file (the option is ``InteractiveShell.pdb``).\n",
       "    \n",
       "    If you want to just activate the debugger AFTER an exception has fired,\n",
       "    without having to type '%pdb on' and rerunning your code, you can use\n",
       "    the %debug magic.\n",
       "%pdef:\n",
       "    Print the call signature for any callable object.\n",
       "    \n",
       "    If the object is a class, print the constructor information.\n",
       "    \n",
       "    Examples\n",
       "    --------\n",
       "    ::\n",
       "    \n",
       "      In [3]: %pdef urllib.urlopen\n",
       "      urllib.urlopen(url, data=None, proxies=None)\n",
       "%pdoc:\n",
       "    Print the docstring for an object.\n",
       "    \n",
       "    If the given object is a class, it will print both the class and the\n",
       "    constructor docstrings.\n",
       "%pfile:\n",
       "    Print (or run through pager) the file where an object is defined.\n",
       "    \n",
       "    The file opens at the line where the object definition begins. IPython\n",
       "    will honor the environment variable PAGER if set, and otherwise will\n",
       "    do its best to print the file in a convenient form.\n",
       "    \n",
       "    If the given argument is not an object currently defined, IPython will\n",
       "    try to interpret it as a filename (automatically adding a .py extension\n",
       "    if needed). You can thus use %pfile as a syntax highlighting code\n",
       "    viewer.\n",
       "%pinfo:\n",
       "    Provide detailed information about an object.\n",
       "    \n",
       "    '%pinfo object' is just a synonym for object? or ?object.\n",
       "%pinfo2:\n",
       "    Provide extra detailed information about an object.\n",
       "    \n",
       "    '%pinfo2 object' is just a synonym for object?? or ??object.\n",
       "%pip:\n",
       "    Run the pip package manager within the current kernel.\n",
       "    \n",
       "    Usage:\n",
       "      %pip install [pkgs]\n",
       "%popd:\n",
       "    Change to directory popped off the top of the stack.\n",
       "%pprint:\n",
       "    Toggle pretty printing on/off.\n",
       "%precision:\n",
       "    Set floating point precision for pretty printing.\n",
       "    \n",
       "    Can set either integer precision or a format string.\n",
       "    \n",
       "    If numpy has been imported and precision is an int,\n",
       "    numpy display precision will also be set, via ``numpy.set_printoptions``.\n",
       "    \n",
       "    If no argument is given, defaults will be restored.\n",
       "    \n",
       "    Examples\n",
       "    --------\n",
       "    ::\n",
       "    \n",
       "        In [1]: from math import pi\n",
       "    \n",
       "        In [2]: %precision 3\n",
       "        Out[2]: u'%.3f'\n",
       "    \n",
       "        In [3]: pi\n",
       "        Out[3]: 3.142\n",
       "    \n",
       "        In [4]: %precision %i\n",
       "        Out[4]: u'%i'\n",
       "    \n",
       "        In [5]: pi\n",
       "        Out[5]: 3\n",
       "    \n",
       "        In [6]: %precision %e\n",
       "        Out[6]: u'%e'\n",
       "    \n",
       "        In [7]: pi**10\n",
       "        Out[7]: 9.364805e+04\n",
       "    \n",
       "        In [8]: %precision\n",
       "        Out[8]: u'%r'\n",
       "    \n",
       "        In [9]: pi**10\n",
       "        Out[9]: 93648.047476082982\n",
       "%prun:\n",
       "    Run a statement through the python code profiler.\n",
       "    \n",
       "    Usage, in line mode:\n",
       "      %prun [options] statement\n",
       "    \n",
       "    Usage, in cell mode:\n",
       "      %%prun [options] [statement]\n",
       "      code...\n",
       "      code...\n",
       "    \n",
       "    In cell mode, the additional code lines are appended to the (possibly\n",
       "    empty) statement in the first line.  Cell mode allows you to easily\n",
       "    profile multiline blocks without having to put them in a separate\n",
       "    function.\n",
       "    \n",
       "    The given statement (which doesn't require quote marks) is run via the\n",
       "    python profiler in a manner similar to the profile.run() function.\n",
       "    Namespaces are internally managed to work correctly; profile.run\n",
       "    cannot be used in IPython because it makes certain assumptions about\n",
       "    namespaces which do not hold under IPython.\n",
       "    \n",
       "    Options:\n",
       "    \n",
       "    -l <limit>\n",
       "      you can place restrictions on what or how much of the\n",
       "      profile gets printed. The limit value can be:\n",
       "    \n",
       "         * A string: only information for function names containing this string\n",
       "           is printed.\n",
       "    \n",
       "         * An integer: only these many lines are printed.\n",
       "    \n",
       "         * A float (between 0 and 1): this fraction of the report is printed\n",
       "           (for example, use a limit of 0.4 to see the topmost 40% only).\n",
       "    \n",
       "      You can combine several limits with repeated use of the option. For\n",
       "      example, ``-l __init__ -l 5`` will print only the topmost 5 lines of\n",
       "      information about class constructors.\n",
       "    \n",
       "    -r\n",
       "      return the pstats.Stats object generated by the profiling. This\n",
       "      object has all the information about the profile in it, and you can\n",
       "      later use it for further analysis or in other functions.\n",
       "    \n",
       "    -s <key>\n",
       "      sort profile by given key. You can provide more than one key\n",
       "      by using the option several times: '-s key1 -s key2 -s key3...'. The\n",
       "      default sorting key is 'time'.\n",
       "    \n",
       "      The following is copied verbatim from the profile documentation\n",
       "      referenced below:\n",
       "    \n",
       "      When more than one key is provided, additional keys are used as\n",
       "      secondary criteria when the there is equality in all keys selected\n",
       "      before them.\n",
       "    \n",
       "      Abbreviations can be used for any key names, as long as the\n",
       "      abbreviation is unambiguous.  The following are the keys currently\n",
       "      defined:\n",
       "    \n",
       "      ============  =====================\n",
       "      Valid Arg     Meaning\n",
       "      ============  =====================\n",
       "      \"calls\"       call count\n",
       "      \"cumulative\"  cumulative time\n",
       "      \"file\"        file name\n",
       "      \"module\"      file name\n",
       "      \"pcalls\"      primitive call count\n",
       "      \"line\"        line number\n",
       "      \"name\"        function name\n",
       "      \"nfl\"         name/file/line\n",
       "      \"stdname\"     standard name\n",
       "      \"time\"        internal time\n",
       "      ============  =====================\n",
       "    \n",
       "      Note that all sorts on statistics are in descending order (placing\n",
       "      most time consuming items first), where as name, file, and line number\n",
       "      searches are in ascending order (i.e., alphabetical). The subtle\n",
       "      distinction between \"nfl\" and \"stdname\" is that the standard name is a\n",
       "      sort of the name as printed, which means that the embedded line\n",
       "      numbers get compared in an odd way.  For example, lines 3, 20, and 40\n",
       "      would (if the file names were the same) appear in the string order\n",
       "      \"20\" \"3\" and \"40\".  In contrast, \"nfl\" does a numeric compare of the\n",
       "      line numbers.  In fact, sort_stats(\"nfl\") is the same as\n",
       "      sort_stats(\"name\", \"file\", \"line\").\n",
       "    \n",
       "    -T <filename>\n",
       "      save profile results as shown on screen to a text\n",
       "      file. The profile is still shown on screen.\n",
       "    \n",
       "    -D <filename>\n",
       "      save (via dump_stats) profile statistics to given\n",
       "      filename. This data is in a format understood by the pstats module, and\n",
       "      is generated by a call to the dump_stats() method of profile\n",
       "      objects. The profile is still shown on screen.\n",
       "    \n",
       "    -q\n",
       "      suppress output to the pager.  Best used with -T and/or -D above.\n",
       "    \n",
       "    If you want to run complete programs under the profiler's control, use\n",
       "    ``%run -p [prof_opts] filename.py [args to program]`` where prof_opts\n",
       "    contains profiler specific options as described here.\n",
       "    \n",
       "    You can read the complete documentation for the profile module with::\n",
       "    \n",
       "      In [1]: import profile; profile.help()\n",
       "    \n",
       "    .. versionchanged:: 7.3\n",
       "        User variables are no longer expanded,\n",
       "        the magic line is always left unmodified.\n",
       "%psearch:\n",
       "    Search for object in namespaces by wildcard.\n",
       "    \n",
       "    %psearch [options] PATTERN [OBJECT TYPE]\n",
       "    \n",
       "    Note: ? can be used as a synonym for %psearch, at the beginning or at\n",
       "    the end: both a*? and ?a* are equivalent to '%psearch a*'.  Still, the\n",
       "    rest of the command line must be unchanged (options come first), so\n",
       "    for example the following forms are equivalent\n",
       "    \n",
       "    %psearch -i a* function\n",
       "    -i a* function?\n",
       "    ?-i a* function\n",
       "    \n",
       "    Arguments:\n",
       "    \n",
       "      PATTERN\n",
       "    \n",
       "      where PATTERN is a string containing * as a wildcard similar to its\n",
       "      use in a shell.  The pattern is matched in all namespaces on the\n",
       "      search path. By default objects starting with a single _ are not\n",
       "      matched, many IPython generated objects have a single\n",
       "      underscore. The default is case insensitive matching. Matching is\n",
       "      also done on the attributes of objects and not only on the objects\n",
       "      in a module.\n",
       "    \n",
       "      [OBJECT TYPE]\n",
       "    \n",
       "      Is the name of a python type from the types module. The name is\n",
       "      given in lowercase without the ending type, ex. StringType is\n",
       "      written string. By adding a type here only objects matching the\n",
       "      given type are matched. Using all here makes the pattern match all\n",
       "      types (this is the default).\n",
       "    \n",
       "    Options:\n",
       "    \n",
       "      -a: makes the pattern match even objects whose names start with a\n",
       "      single underscore.  These names are normally omitted from the\n",
       "      search.\n",
       "    \n",
       "      -i/-c: make the pattern case insensitive/sensitive.  If neither of\n",
       "      these options are given, the default is read from your configuration\n",
       "      file, with the option ``InteractiveShell.wildcards_case_sensitive``.\n",
       "      If this option is not specified in your configuration file, IPython's\n",
       "      internal default is to do a case sensitive search.\n",
       "    \n",
       "      -e/-s NAMESPACE: exclude/search a given namespace.  The pattern you\n",
       "      specify can be searched in any of the following namespaces:\n",
       "      'builtin', 'user', 'user_global','internal', 'alias', where\n",
       "      'builtin' and 'user' are the search defaults.  Note that you should\n",
       "      not use quotes when specifying namespaces.\n",
       "    \n",
       "      -l: List all available object types for object matching. This function\n",
       "      can be used without arguments.\n",
       "    \n",
       "      'Builtin' contains the python module builtin, 'user' contains all\n",
       "      user data, 'alias' only contain the shell aliases and no python\n",
       "      objects, 'internal' contains objects used by IPython.  The\n",
       "      'user_global' namespace is only used by embedded IPython instances,\n",
       "      and it contains module-level globals.  You can add namespaces to the\n",
       "      search with -s or exclude them with -e (these options can be given\n",
       "      more than once).\n",
       "    \n",
       "    Examples\n",
       "    --------\n",
       "    ::\n",
       "    \n",
       "      %psearch a*            -> objects beginning with an a\n",
       "      %psearch -e builtin a* -> objects NOT in the builtin space starting in a\n",
       "      %psearch a* function   -> all functions beginning with an a\n",
       "      %psearch re.e*         -> objects beginning with an e in module re\n",
       "      %psearch r*.e*         -> objects that start with e in modules starting in r\n",
       "      %psearch r*.* string   -> all strings in modules beginning with r\n",
       "    \n",
       "    Case sensitive search::\n",
       "    \n",
       "      %psearch -c a*         list all object beginning with lower case a\n",
       "    \n",
       "    Show objects beginning with a single _::\n",
       "    \n",
       "      %psearch -a _*         list objects beginning with a single underscore\n",
       "    \n",
       "    List available objects::\n",
       "    \n",
       "      %psearch -l            list all available object types\n",
       "%psource:\n",
       "    Print (or run through pager) the source code for an object.\n",
       "%pushd:\n",
       "    Place the current dir on stack and change directory.\n",
       "    \n",
       "    Usage:\n",
       "      %pushd ['dirname']\n",
       "%pwd:\n",
       "    Return the current working directory path.\n",
       "    \n",
       "    Examples\n",
       "    --------\n",
       "    ::\n",
       "    \n",
       "      In [9]: pwd\n",
       "      Out[9]: '/home/tsuser/sprint/ipython'\n",
       "%pycat:\n",
       "    Show a syntax-highlighted file through a pager.\n",
       "    \n",
       "    This magic is similar to the cat utility, but it will assume the file\n",
       "    to be Python source and will show it with syntax highlighting.\n",
       "    \n",
       "    This magic command can either take a local filename, an url,\n",
       "    an history range (see %history) or a macro as argument.\n",
       "    \n",
       "    If no parameter is given, prints out history of current session up to\n",
       "    this point. ::\n",
       "    \n",
       "    %pycat myscript.py\n",
       "    %pycat 7-27\n",
       "    %pycat myMacro\n",
       "    %pycat http://www.example.com/myscript.py\n",
       "%pylab:\n",
       "    ::\n",
       "    \n",
       "      %pylab [--no-import-all] [gui]\n",
       "    \n",
       "    Load numpy and matplotlib to work interactively.\n",
       "    \n",
       "    This function lets you activate pylab (matplotlib, numpy and\n",
       "    interactive support) at any point during an IPython session.\n",
       "    \n",
       "    %pylab makes the following imports::\n",
       "    \n",
       "        import numpy\n",
       "        import matplotlib\n",
       "        from matplotlib import pylab, mlab, pyplot\n",
       "        np = numpy\n",
       "        plt = pyplot\n",
       "    \n",
       "        from IPython.display import display\n",
       "        from IPython.core.pylabtools import figsize, getfigs\n",
       "    \n",
       "        from pylab import *\n",
       "        from numpy import *\n",
       "    \n",
       "    If you pass `--no-import-all`, the last two `*` imports will be excluded.\n",
       "    \n",
       "    See the %matplotlib magic for more details about activating matplotlib\n",
       "    without affecting the interactive namespace.\n",
       "    \n",
       "    positional arguments:\n",
       "      gui              Name of the matplotlib backend to use ('agg', 'gtk',\n",
       "                       'gtk3', 'gtk4', 'inline', 'ipympl', 'nbagg', 'notebook',\n",
       "                       'osx', 'pdf', 'ps', 'qt', 'qt4', 'qt5', 'qt6', 'svg', 'tk',\n",
       "                       'webagg', 'widget', 'wx'). If given, the corresponding\n",
       "                       matplotlib backend is used, otherwise it will be\n",
       "                       matplotlib's default (which you can set in your matplotlib\n",
       "                       config file).\n",
       "    \n",
       "    optional arguments:\n",
       "      --no-import-all  Prevent IPython from performing ``import *`` into the\n",
       "                       interactive namespace. You can govern the default behavior\n",
       "                       of this flag with the InteractiveShellApp.pylab_import_all\n",
       "                       configurable.\n",
       "%qtconsole:\n",
       "    Open a qtconsole connected to this kernel.\n",
       "    \n",
       "    Useful for connecting a qtconsole to running notebooks, for better\n",
       "    debugging.\n",
       "%quickref:\n",
       "    Show a quick reference sheet\n",
       "%recall:\n",
       "    Repeat a command, or get command to input line for editing.\n",
       "    \n",
       "    %recall and %rep are equivalent.\n",
       "    \n",
       "    - %recall (no arguments):\n",
       "    \n",
       "    Place a string version of last computation result (stored in the\n",
       "    special '_' variable) to the next input prompt. Allows you to create\n",
       "    elaborate command lines without using copy-paste::\n",
       "    \n",
       "         In[1]: l = [\"hei\", \"vaan\"]\n",
       "         In[2]: \"\".join(l)\n",
       "        Out[2]: heivaan\n",
       "         In[3]: %recall\n",
       "         In[4]: heivaan_ <== cursor blinking\n",
       "    \n",
       "    %recall 45\n",
       "    \n",
       "    Place history line 45 on the next input prompt. Use %hist to find\n",
       "    out the number.\n",
       "    \n",
       "    %recall 1-4\n",
       "    \n",
       "    Combine the specified lines into one cell, and place it on the next\n",
       "    input prompt. See %history for the slice syntax.\n",
       "    \n",
       "    %recall foo+bar\n",
       "    \n",
       "    If foo+bar can be evaluated in the user namespace, the result is\n",
       "    placed at the next input prompt. Otherwise, the history is searched\n",
       "    for lines which contain that substring, and the most recent one is\n",
       "    placed at the next input prompt.\n",
       "%rehashx:\n",
       "    Update the alias table with all executable files in $PATH.\n",
       "    \n",
       "    rehashx explicitly checks that every entry in $PATH is a file\n",
       "    with execute access (os.X_OK).\n",
       "    \n",
       "    Under Windows, it checks executability as a match against a\n",
       "    '|'-separated string of extensions, stored in the IPython config\n",
       "    variable win_exec_ext.  This defaults to 'exe|com|bat'.\n",
       "    \n",
       "    This function also resets the root module cache of module completer,\n",
       "    used on slow filesystems.\n",
       "%reload_ext:\n",
       "    Reload an IPython extension by its module name.\n",
       "%rep:\n",
       "    Alias for `%recall`.\n",
       "%rerun:\n",
       "    Re-run previous input\n",
       "    \n",
       "    By default, you can specify ranges of input history to be repeated\n",
       "    (as with %history). With no arguments, it will repeat the last line.\n",
       "    \n",
       "    Options:\n",
       "    \n",
       "      -l <n> : Repeat the last n lines of input, not including the\n",
       "      current command.\n",
       "    \n",
       "      -g foo : Repeat the most recent line which contains foo\n",
       "%reset:\n",
       "    Resets the namespace by removing all names defined by the user, if\n",
       "    called without arguments, or by removing some types of objects, such\n",
       "    as everything currently in IPython's In[] and Out[] containers (see\n",
       "    the parameters for details).\n",
       "    \n",
       "    Parameters\n",
       "    ----------\n",
       "    -f\n",
       "        force reset without asking for confirmation.\n",
       "    -s\n",
       "        'Soft' reset: Only clears your namespace, leaving history intact.\n",
       "        References to objects may be kept. By default (without this option),\n",
       "        we do a 'hard' reset, giving you a new session and removing all\n",
       "        references to objects from the current session.\n",
       "    --aggressive\n",
       "        Try to aggressively remove modules from sys.modules ; this\n",
       "        may allow you to reimport Python modules that have been updated and\n",
       "        pick up changes, but can have unintended consequences.\n",
       "    \n",
       "    in\n",
       "        reset input history\n",
       "    out\n",
       "        reset output history\n",
       "    dhist\n",
       "        reset directory history\n",
       "    array\n",
       "        reset only variables that are NumPy arrays\n",
       "    \n",
       "    See Also\n",
       "    --------\n",
       "    reset_selective : invoked as ``%reset_selective``\n",
       "    \n",
       "    Examples\n",
       "    --------\n",
       "    ::\n",
       "    \n",
       "      In [6]: a = 1\n",
       "    \n",
       "      In [7]: a\n",
       "      Out[7]: 1\n",
       "    \n",
       "      In [8]: 'a' in get_ipython().user_ns\n",
       "      Out[8]: True\n",
       "    \n",
       "      In [9]: %reset -f\n",
       "    \n",
       "      In [1]: 'a' in get_ipython().user_ns\n",
       "      Out[1]: False\n",
       "    \n",
       "      In [2]: %reset -f in\n",
       "      Flushing input history\n",
       "    \n",
       "      In [3]: %reset -f dhist in\n",
       "      Flushing directory history\n",
       "      Flushing input history\n",
       "    \n",
       "    Notes\n",
       "    -----\n",
       "    Calling this magic from clients that do not implement standard input,\n",
       "    such as the ipython notebook interface, will reset the namespace\n",
       "    without confirmation.\n",
       "%reset_selective:\n",
       "    Resets the namespace by removing names defined by the user.\n",
       "    \n",
       "    Input/Output history are left around in case you need them.\n",
       "    \n",
       "    %reset_selective [-f] regex\n",
       "    \n",
       "    No action is taken if regex is not included\n",
       "    \n",
       "    Options\n",
       "      -f : force reset without asking for confirmation.\n",
       "    \n",
       "    See Also\n",
       "    --------\n",
       "    reset : invoked as ``%reset``\n",
       "    \n",
       "    Examples\n",
       "    --------\n",
       "    We first fully reset the namespace so your output looks identical to\n",
       "    this example for pedagogical reasons; in practice you do not need a\n",
       "    full reset::\n",
       "    \n",
       "      In [1]: %reset -f\n",
       "    \n",
       "    Now, with a clean namespace we can make a few variables and use\n",
       "    ``%reset_selective`` to only delete names that match our regexp::\n",
       "    \n",
       "      In [2]: a=1; b=2; c=3; b1m=4; b2m=5; b3m=6; b4m=7; b2s=8\n",
       "    \n",
       "      In [3]: who_ls\n",
       "      Out[3]: ['a', 'b', 'b1m', 'b2m', 'b2s', 'b3m', 'b4m', 'c']\n",
       "    \n",
       "      In [4]: %reset_selective -f b[2-3]m\n",
       "    \n",
       "      In [5]: who_ls\n",
       "      Out[5]: ['a', 'b', 'b1m', 'b2s', 'b4m', 'c']\n",
       "    \n",
       "      In [6]: %reset_selective -f d\n",
       "    \n",
       "      In [7]: who_ls\n",
       "      Out[7]: ['a', 'b', 'b1m', 'b2s', 'b4m', 'c']\n",
       "    \n",
       "      In [8]: %reset_selective -f c\n",
       "    \n",
       "      In [9]: who_ls\n",
       "      Out[9]: ['a', 'b', 'b1m', 'b2s', 'b4m']\n",
       "    \n",
       "      In [10]: %reset_selective -f b\n",
       "    \n",
       "      In [11]: who_ls\n",
       "      Out[11]: ['a']\n",
       "    \n",
       "    Notes\n",
       "    -----\n",
       "    Calling this magic from clients that do not implement standard input,\n",
       "    such as the ipython notebook interface, will reset the namespace\n",
       "    without confirmation.\n",
       "%rm:\n",
       "    Alias for `!rm`\n",
       "%rmdir:\n",
       "    Alias for `!rmdir`\n",
       "%run:\n",
       "    Run the named file inside IPython as a program.\n",
       "    \n",
       "    Usage::\n",
       "    \n",
       "      %run [-n -i -e -G]\n",
       "           [( -t [-N<N>] | -d [-b<N>] | -p [profile options] )]\n",
       "           ( -m mod | filename ) [args]\n",
       "    \n",
       "    The filename argument should be either a pure Python script (with\n",
       "    extension ``.py``), or a file with custom IPython syntax (such as\n",
       "    magics). If the latter, the file can be either a script with ``.ipy``\n",
       "    extension, or a Jupyter notebook with ``.ipynb`` extension. When running\n",
       "    a Jupyter notebook, the output from print statements and other\n",
       "    displayed objects will appear in the terminal (even matplotlib figures\n",
       "    will open, if a terminal-compliant backend is being used). Note that,\n",
       "    at the system command line, the ``jupyter run`` command offers similar\n",
       "    functionality for executing notebooks (albeit currently with some\n",
       "    differences in supported options).\n",
       "    \n",
       "    Parameters after the filename are passed as command-line arguments to\n",
       "    the program (put in sys.argv). Then, control returns to IPython's\n",
       "    prompt.\n",
       "    \n",
       "    This is similar to running at a system prompt ``python file args``,\n",
       "    but with the advantage of giving you IPython's tracebacks, and of\n",
       "    loading all variables into your interactive namespace for further use\n",
       "    (unless -p is used, see below).\n",
       "    \n",
       "    The file is executed in a namespace initially consisting only of\n",
       "    ``__name__=='__main__'`` and sys.argv constructed as indicated. It thus\n",
       "    sees its environment as if it were being run as a stand-alone program\n",
       "    (except for sharing global objects such as previously imported\n",
       "    modules). But after execution, the IPython interactive namespace gets\n",
       "    updated with all variables defined in the program (except for __name__\n",
       "    and sys.argv). This allows for very convenient loading of code for\n",
       "    interactive work, while giving each program a 'clean sheet' to run in.\n",
       "    \n",
       "    Arguments are expanded using shell-like glob match.  Patterns\n",
       "    '*', '?', '[seq]' and '[!seq]' can be used.  Additionally,\n",
       "    tilde '~' will be expanded into user's home directory.  Unlike\n",
       "    real shells, quotation does not suppress expansions.  Use\n",
       "    *two* back slashes (e.g. ``\\\\*``) to suppress expansions.\n",
       "    To completely disable these expansions, you can use -G flag.\n",
       "    \n",
       "    On Windows systems, the use of single quotes `'` when specifying\n",
       "    a file is not supported. Use double quotes `\"`.\n",
       "    \n",
       "    Options:\n",
       "    \n",
       "    -n\n",
       "      __name__ is NOT set to '__main__', but to the running file's name\n",
       "      without extension (as python does under import).  This allows running\n",
       "      scripts and reloading the definitions in them without calling code\n",
       "      protected by an ``if __name__ == \"__main__\"`` clause.\n",
       "    \n",
       "    -i\n",
       "      run the file in IPython's namespace instead of an empty one. This\n",
       "      is useful if you are experimenting with code written in a text editor\n",
       "      which depends on variables defined interactively.\n",
       "    \n",
       "    -e\n",
       "      ignore sys.exit() calls or SystemExit exceptions in the script\n",
       "      being run.  This is particularly useful if IPython is being used to\n",
       "      run unittests, which always exit with a sys.exit() call.  In such\n",
       "      cases you are interested in the output of the test results, not in\n",
       "      seeing a traceback of the unittest module.\n",
       "    \n",
       "    -t\n",
       "      print timing information at the end of the run.  IPython will give\n",
       "      you an estimated CPU time consumption for your script, which under\n",
       "      Unix uses the resource module to avoid the wraparound problems of\n",
       "      time.clock().  Under Unix, an estimate of time spent on system tasks\n",
       "      is also given (for Windows platforms this is reported as 0.0).\n",
       "    \n",
       "    If -t is given, an additional ``-N<N>`` option can be given, where <N>\n",
       "    must be an integer indicating how many times you want the script to\n",
       "    run.  The final timing report will include total and per run results.\n",
       "    \n",
       "    For example (testing the script uniq_stable.py)::\n",
       "    \n",
       "        In [1]: run -t uniq_stable\n",
       "    \n",
       "        IPython CPU timings (estimated):\n",
       "          User  :    0.19597 s.\n",
       "          System:        0.0 s.\n",
       "    \n",
       "        In [2]: run -t -N5 uniq_stable\n",
       "    \n",
       "        IPython CPU timings (estimated):\n",
       "        Total runs performed: 5\n",
       "          Times :      Total       Per run\n",
       "          User  :   0.910862 s,  0.1821724 s.\n",
       "          System:        0.0 s,        0.0 s.\n",
       "    \n",
       "    -d\n",
       "      run your program under the control of pdb, the Python debugger.\n",
       "      This allows you to execute your program step by step, watch variables,\n",
       "      etc.  Internally, what IPython does is similar to calling::\n",
       "    \n",
       "          pdb.run('execfile(\"YOURFILENAME\")')\n",
       "    \n",
       "      with a breakpoint set on line 1 of your file.  You can change the line\n",
       "      number for this automatic breakpoint to be <N> by using the -bN option\n",
       "      (where N must be an integer). For example::\n",
       "    \n",
       "          %run -d -b40 myscript\n",
       "    \n",
       "      will set the first breakpoint at line 40 in myscript.py.  Note that\n",
       "      the first breakpoint must be set on a line which actually does\n",
       "      something (not a comment or docstring) for it to stop execution.\n",
       "    \n",
       "      Or you can specify a breakpoint in a different file::\n",
       "    \n",
       "          %run -d -b myotherfile.py:20 myscript\n",
       "    \n",
       "      When the pdb debugger starts, you will see a (Pdb) prompt.  You must\n",
       "      first enter 'c' (without quotes) to start execution up to the first\n",
       "      breakpoint.\n",
       "    \n",
       "      Entering 'help' gives information about the use of the debugger.  You\n",
       "      can easily see pdb's full documentation with \"import pdb;pdb.help()\"\n",
       "      at a prompt.\n",
       "    \n",
       "    -p\n",
       "      run program under the control of the Python profiler module (which\n",
       "      prints a detailed report of execution times, function calls, etc).\n",
       "    \n",
       "      You can pass other options after -p which affect the behavior of the\n",
       "      profiler itself. See the docs for %prun for details.\n",
       "    \n",
       "      In this mode, the program's variables do NOT propagate back to the\n",
       "      IPython interactive namespace (because they remain in the namespace\n",
       "      where the profiler executes them).\n",
       "    \n",
       "      Internally this triggers a call to %prun, see its documentation for\n",
       "      details on the options available specifically for profiling.\n",
       "    \n",
       "    There is one special usage for which the text above doesn't apply:\n",
       "    if the filename ends with .ipy[nb], the file is run as ipython script,\n",
       "    just as if the commands were written on IPython prompt.\n",
       "    \n",
       "    -m\n",
       "      specify module name to load instead of script path. Similar to\n",
       "      the -m option for the python interpreter. Use this option last if you\n",
       "      want to combine with other %run options. Unlike the python interpreter\n",
       "      only source modules are allowed no .pyc or .pyo files.\n",
       "      For example::\n",
       "    \n",
       "          %run -m example\n",
       "    \n",
       "      will run the example module.\n",
       "    \n",
       "    -G\n",
       "      disable shell-like glob expansion of arguments.\n",
       "%save:\n",
       "    Save a set of lines or a macro to a given filename.\n",
       "    \n",
       "    Usage:\n",
       "      %save [options] filename [history]\n",
       "    \n",
       "    Options:\n",
       "    \n",
       "      -r: use 'raw' input.  By default, the 'processed' history is used,\n",
       "      so that magics are loaded in their transformed version to valid\n",
       "      Python.  If this option is given, the raw input as typed as the\n",
       "      command line is used instead.\n",
       "    \n",
       "      -f: force overwrite.  If file exists, %save will prompt for overwrite\n",
       "      unless -f is given.\n",
       "    \n",
       "      -a: append to the file instead of overwriting it.\n",
       "    \n",
       "    The history argument uses the same syntax as %history for input ranges,\n",
       "    then saves the lines to the filename you specify.\n",
       "    \n",
       "    If no ranges are specified, saves history of the current session up to\n",
       "    this point.\n",
       "    \n",
       "    It adds a '.py' extension to the file if you don't do so yourself, and\n",
       "    it asks for confirmation before overwriting existing files.\n",
       "    \n",
       "    If `-r` option is used, the default extension is `.ipy`.\n",
       "%sc:\n",
       "    Shell capture - run shell command and capture output (DEPRECATED use !).\n",
       "    \n",
       "    DEPRECATED. Suboptimal, retained for backwards compatibility.\n",
       "    \n",
       "    You should use the form 'var = !command' instead. Example:\n",
       "    \n",
       "     \"%sc -l myfiles = ls ~\" should now be written as\n",
       "    \n",
       "     \"myfiles = !ls ~\"\n",
       "    \n",
       "    myfiles.s, myfiles.l and myfiles.n still apply as documented\n",
       "    below.\n",
       "    \n",
       "    --\n",
       "    %sc [options] varname=command\n",
       "    \n",
       "    IPython will run the given command using commands.getoutput(), and\n",
       "    will then update the user's interactive namespace with a variable\n",
       "    called varname, containing the value of the call.  Your command can\n",
       "    contain shell wildcards, pipes, etc.\n",
       "    \n",
       "    The '=' sign in the syntax is mandatory, and the variable name you\n",
       "    supply must follow Python's standard conventions for valid names.\n",
       "    \n",
       "    (A special format without variable name exists for internal use)\n",
       "    \n",
       "    Options:\n",
       "    \n",
       "      -l: list output.  Split the output on newlines into a list before\n",
       "      assigning it to the given variable.  By default the output is stored\n",
       "      as a single string.\n",
       "    \n",
       "      -v: verbose.  Print the contents of the variable.\n",
       "    \n",
       "    In most cases you should not need to split as a list, because the\n",
       "    returned value is a special type of string which can automatically\n",
       "    provide its contents either as a list (split on newlines) or as a\n",
       "    space-separated string.  These are convenient, respectively, either\n",
       "    for sequential processing or to be passed to a shell command.\n",
       "    \n",
       "    For example::\n",
       "    \n",
       "        # Capture into variable a\n",
       "        In [1]: sc a=ls *py\n",
       "    \n",
       "        # a is a string with embedded newlines\n",
       "        In [2]: a\n",
       "        Out[2]: 'setup.py\\nwin32_manual_post_install.py'\n",
       "    \n",
       "        # which can be seen as a list:\n",
       "        In [3]: a.l\n",
       "        Out[3]: ['setup.py', 'win32_manual_post_install.py']\n",
       "    \n",
       "        # or as a whitespace-separated string:\n",
       "        In [4]: a.s\n",
       "        Out[4]: 'setup.py win32_manual_post_install.py'\n",
       "    \n",
       "        # a.s is useful to pass as a single command line:\n",
       "        In [5]: !wc -l $a.s\n",
       "          146 setup.py\n",
       "          130 win32_manual_post_install.py\n",
       "          276 total\n",
       "    \n",
       "        # while the list form is useful to loop over:\n",
       "        In [6]: for f in a.l:\n",
       "           ...:      !wc -l $f\n",
       "           ...:\n",
       "        146 setup.py\n",
       "        130 win32_manual_post_install.py\n",
       "    \n",
       "    Similarly, the lists returned by the -l option are also special, in\n",
       "    the sense that you can equally invoke the .s attribute on them to\n",
       "    automatically get a whitespace-separated string from their contents::\n",
       "    \n",
       "        In [7]: sc -l b=ls *py\n",
       "    \n",
       "        In [8]: b\n",
       "        Out[8]: ['setup.py', 'win32_manual_post_install.py']\n",
       "    \n",
       "        In [9]: b.s\n",
       "        Out[9]: 'setup.py win32_manual_post_install.py'\n",
       "    \n",
       "    In summary, both the lists and strings used for output capture have\n",
       "    the following special attributes::\n",
       "    \n",
       "        .l (or .list) : value as list.\n",
       "        .n (or .nlstr): value as newline-separated string.\n",
       "        .s (or .spstr): value as space-separated string.\n",
       "%set_env:\n",
       "    Set environment variables.  Assumptions are that either \"val\" is a\n",
       "    name in the user namespace, or val is something that evaluates to a\n",
       "    string.\n",
       "    \n",
       "    Usage:\n",
       "      :``%set_env var val``: set value for var\n",
       "      :``%set_env var=val``: set value for var\n",
       "      :``%set_env var=$val``: set value for var, using python expansion if possible\n",
       "%store:\n",
       "    Lightweight persistence for python variables.\n",
       "    \n",
       "    Example::\n",
       "    \n",
       "      In [1]: l = ['hello',10,'world']\n",
       "      In [2]: %store l\n",
       "      Stored 'l' (list)\n",
       "      In [3]: exit\n",
       "    \n",
       "      (IPython session is closed and started again...)\n",
       "    \n",
       "      ville@badger:~$ ipython\n",
       "      In [1]: l\n",
       "      NameError: name 'l' is not defined\n",
       "      In [2]: %store -r\n",
       "      In [3]: l\n",
       "      Out[3]: ['hello', 10, 'world']\n",
       "    \n",
       "    Usage:\n",
       "    \n",
       "    * ``%store``          - Show list of all variables and their current\n",
       "                            values\n",
       "    * ``%store spam bar`` - Store the *current* value of the variables spam\n",
       "                            and bar to disk\n",
       "    * ``%store -d spam``  - Remove the variable and its value from storage\n",
       "    * ``%store -z``       - Remove all variables from storage\n",
       "    * ``%store -r``       - Refresh all variables, aliases and directory history\n",
       "                            from store (overwrite current vals)\n",
       "    * ``%store -r spam bar`` - Refresh specified variables and aliases from store\n",
       "                               (delete current val)\n",
       "    * ``%store foo >a.txt``  - Store value of foo to new file a.txt\n",
       "    * ``%store foo >>a.txt`` - Append value of foo to file a.txt\n",
       "    \n",
       "    It should be noted that if you change the value of a variable, you\n",
       "    need to %store it again if you want to persist the new value.\n",
       "    \n",
       "    Note also that the variables will need to be pickleable; most basic\n",
       "    python types can be safely %store'd.\n",
       "    \n",
       "    Also aliases can be %store'd across sessions.\n",
       "    To remove an alias from the storage, use the %unalias magic.\n",
       "%sx:\n",
       "    Shell execute - run shell command and capture output (!! is short-hand).\n",
       "    \n",
       "    %sx command\n",
       "    \n",
       "    IPython will run the given command using commands.getoutput(), and\n",
       "    return the result formatted as a list (split on '\\n').  Since the\n",
       "    output is _returned_, it will be stored in ipython's regular output\n",
       "    cache Out[N] and in the '_N' automatic variables.\n",
       "    \n",
       "    Notes:\n",
       "    \n",
       "    1) If an input line begins with '!!', then %sx is automatically\n",
       "    invoked.  That is, while::\n",
       "    \n",
       "      !ls\n",
       "    \n",
       "    causes ipython to simply issue system('ls'), typing::\n",
       "    \n",
       "      !!ls\n",
       "    \n",
       "    is a shorthand equivalent to::\n",
       "    \n",
       "      %sx ls\n",
       "    \n",
       "    2) %sx differs from %sc in that %sx automatically splits into a list,\n",
       "    like '%sc -l'.  The reason for this is to make it as easy as possible\n",
       "    to process line-oriented shell output via further python commands.\n",
       "    %sc is meant to provide much finer control, but requires more\n",
       "    typing.\n",
       "    \n",
       "    3) Just like %sc -l, this is a list with special attributes:\n",
       "    ::\n",
       "    \n",
       "      .l (or .list) : value as list.\n",
       "      .n (or .nlstr): value as newline-separated string.\n",
       "      .s (or .spstr): value as whitespace-separated string.\n",
       "    \n",
       "    This is very useful when trying to use such lists as arguments to\n",
       "    system commands.\n",
       "%system:\n",
       "    Shell execute - run shell command and capture output (!! is short-hand).\n",
       "    \n",
       "    %sx command\n",
       "    \n",
       "    IPython will run the given command using commands.getoutput(), and\n",
       "    return the result formatted as a list (split on '\\n').  Since the\n",
       "    output is _returned_, it will be stored in ipython's regular output\n",
       "    cache Out[N] and in the '_N' automatic variables.\n",
       "    \n",
       "    Notes:\n",
       "    \n",
       "    1) If an input line begins with '!!', then %sx is automatically\n",
       "    invoked.  That is, while::\n",
       "    \n",
       "      !ls\n",
       "    \n",
       "    causes ipython to simply issue system('ls'), typing::\n",
       "    \n",
       "      !!ls\n",
       "    \n",
       "    is a shorthand equivalent to::\n",
       "    \n",
       "      %sx ls\n",
       "    \n",
       "    2) %sx differs from %sc in that %sx automatically splits into a list,\n",
       "    like '%sc -l'.  The reason for this is to make it as easy as possible\n",
       "    to process line-oriented shell output via further python commands.\n",
       "    %sc is meant to provide much finer control, but requires more\n",
       "    typing.\n",
       "    \n",
       "    3) Just like %sc -l, this is a list with special attributes:\n",
       "    ::\n",
       "    \n",
       "      .l (or .list) : value as list.\n",
       "      .n (or .nlstr): value as newline-separated string.\n",
       "      .s (or .spstr): value as whitespace-separated string.\n",
       "    \n",
       "    This is very useful when trying to use such lists as arguments to\n",
       "    system commands.\n",
       "%tb:\n",
       "    Print the last traceback.\n",
       "    \n",
       "    Optionally, specify an exception reporting mode, tuning the\n",
       "    verbosity of the traceback. By default the currently-active exception\n",
       "    mode is used. See %xmode for changing exception reporting modes.\n",
       "    \n",
       "    Valid modes: Plain, Context, Verbose, and Minimal.\n",
       "%time:\n",
       "    Time execution of a Python statement or expression.\n",
       "    \n",
       "    The CPU and wall clock times are printed, and the value of the\n",
       "    expression (if any) is returned.  Note that under Win32, system time\n",
       "    is always reported as 0, since it can not be measured.\n",
       "    \n",
       "    This function can be used both as a line and cell magic:\n",
       "    \n",
       "    - In line mode you can time a single-line statement (though multiple\n",
       "      ones can be chained with using semicolons).\n",
       "    \n",
       "    - In cell mode, you can time the cell body (a directly\n",
       "      following statement raises an error).\n",
       "    \n",
       "    This function provides very basic timing functionality.  Use the timeit\n",
       "    magic for more control over the measurement.\n",
       "    \n",
       "    .. versionchanged:: 7.3\n",
       "        User variables are no longer expanded,\n",
       "        the magic line is always left unmodified.\n",
       "    \n",
       "    Examples\n",
       "    --------\n",
       "    ::\n",
       "    \n",
       "      In [1]: %time 2**128\n",
       "      CPU times: user 0.00 s, sys: 0.00 s, total: 0.00 s\n",
       "      Wall time: 0.00\n",
       "      Out[1]: 340282366920938463463374607431768211456L\n",
       "    \n",
       "      In [2]: n = 1000000\n",
       "    \n",
       "      In [3]: %time sum(range(n))\n",
       "      CPU times: user 1.20 s, sys: 0.05 s, total: 1.25 s\n",
       "      Wall time: 1.37\n",
       "      Out[3]: 499999500000L\n",
       "    \n",
       "      In [4]: %time print 'hello world'\n",
       "      hello world\n",
       "      CPU times: user 0.00 s, sys: 0.00 s, total: 0.00 s\n",
       "      Wall time: 0.00\n",
       "    \n",
       "    .. note::\n",
       "        The time needed by Python to compile the given expression will be\n",
       "        reported if it is more than 0.1s.\n",
       "    \n",
       "        In the example below, the actual exponentiation is done by Python\n",
       "        at compilation time, so while the expression can take a noticeable\n",
       "        amount of time to compute, that time is purely due to the\n",
       "        compilation::\n",
       "    \n",
       "            In [5]: %time 3**9999;\n",
       "            CPU times: user 0.00 s, sys: 0.00 s, total: 0.00 s\n",
       "            Wall time: 0.00 s\n",
       "    \n",
       "            In [6]: %time 3**999999;\n",
       "            CPU times: user 0.00 s, sys: 0.00 s, total: 0.00 s\n",
       "            Wall time: 0.00 s\n",
       "            Compiler : 0.78 s\n",
       "%timeit:\n",
       "    Time execution of a Python statement or expression\n",
       "    \n",
       "    Usage, in line mode:\n",
       "      %timeit [-n<N> -r<R> [-t|-c] -q -p<P> -o] statement\n",
       "    or in cell mode:\n",
       "      %%timeit [-n<N> -r<R> [-t|-c] -q -p<P> -o] setup_code\n",
       "      code\n",
       "      code...\n",
       "    \n",
       "    Time execution of a Python statement or expression using the timeit\n",
       "    module.  This function can be used both as a line and cell magic:\n",
       "    \n",
       "    - In line mode you can time a single-line statement (though multiple\n",
       "      ones can be chained with using semicolons).\n",
       "    \n",
       "    - In cell mode, the statement in the first line is used as setup code\n",
       "      (executed but not timed) and the body of the cell is timed.  The cell\n",
       "      body has access to any variables created in the setup code.\n",
       "    \n",
       "    Options:\n",
       "    -n<N>: execute the given statement <N> times in a loop. If <N> is not\n",
       "    provided, <N> is determined so as to get sufficient accuracy.\n",
       "    \n",
       "    -r<R>: number of repeats <R>, each consisting of <N> loops, and take the\n",
       "    best result.\n",
       "    Default: 7\n",
       "    \n",
       "    -t: use time.time to measure the time, which is the default on Unix.\n",
       "    This function measures wall time.\n",
       "    \n",
       "    -c: use time.clock to measure the time, which is the default on\n",
       "    Windows and measures wall time. On Unix, resource.getrusage is used\n",
       "    instead and returns the CPU user time.\n",
       "    \n",
       "    -p<P>: use a precision of <P> digits to display the timing result.\n",
       "    Default: 3\n",
       "    \n",
       "    -q: Quiet, do not print result.\n",
       "    \n",
       "    -o: return a TimeitResult that can be stored in a variable to inspect\n",
       "        the result in more details.\n",
       "    \n",
       "    .. versionchanged:: 7.3\n",
       "        User variables are no longer expanded,\n",
       "        the magic line is always left unmodified.\n",
       "    \n",
       "    Examples\n",
       "    --------\n",
       "    ::\n",
       "    \n",
       "      In [1]: %timeit pass\n",
       "      8.26 ns ± 0.12 ns per loop (mean ± std. dev. of 7 runs, 100000000 loops each)\n",
       "    \n",
       "      In [2]: u = None\n",
       "    \n",
       "      In [3]: %timeit u is None\n",
       "      29.9 ns ± 0.643 ns per loop (mean ± std. dev. of 7 runs, 10000000 loops each)\n",
       "    \n",
       "      In [4]: %timeit -r 4 u == None\n",
       "    \n",
       "      In [5]: import time\n",
       "    \n",
       "      In [6]: %timeit -n1 time.sleep(2)\n",
       "    \n",
       "    The times reported by %timeit will be slightly higher than those\n",
       "    reported by the timeit.py script when variables are accessed. This is\n",
       "    due to the fact that %timeit executes the statement in the namespace\n",
       "    of the shell, compared with timeit.py, which uses a single setup\n",
       "    statement to import function or create variables. Generally, the bias\n",
       "    does not matter as long as results from timeit.py are not mixed with\n",
       "    those from %timeit.\n",
       "%unalias:\n",
       "    Remove an alias\n",
       "%unload_ext:\n",
       "    Unload an IPython extension by its module name.\n",
       "    \n",
       "    Not all extensions can be unloaded, only those which define an\n",
       "    ``unload_ipython_extension`` function.\n",
       "%who:\n",
       "    Print all interactive variables, with some minimal formatting.\n",
       "    \n",
       "    If any arguments are given, only variables whose type matches one of\n",
       "    these are printed.  For example::\n",
       "    \n",
       "      %who function str\n",
       "    \n",
       "    will only list functions and strings, excluding all other types of\n",
       "    variables.  To find the proper type names, simply use type(var) at a\n",
       "    command line to see how python prints type names.  For example:\n",
       "    \n",
       "    ::\n",
       "    \n",
       "      In [1]: type('hello')\n",
       "      Out[1]: <type 'str'>\n",
       "    \n",
       "    indicates that the type name for strings is 'str'.\n",
       "    \n",
       "    ``%who`` always excludes executed names loaded through your configuration\n",
       "    file and things which are internal to IPython.\n",
       "    \n",
       "    This is deliberate, as typically you may load many modules and the\n",
       "    purpose of %who is to show you only what you've manually defined.\n",
       "    \n",
       "    Examples\n",
       "    --------\n",
       "    \n",
       "    Define two variables and list them with who::\n",
       "    \n",
       "      In [1]: alpha = 123\n",
       "    \n",
       "      In [2]: beta = 'test'\n",
       "    \n",
       "      In [3]: %who\n",
       "      alpha   beta\n",
       "    \n",
       "      In [4]: %who int\n",
       "      alpha\n",
       "    \n",
       "      In [5]: %who str\n",
       "      beta\n",
       "%who_ls:\n",
       "    Return a sorted list of all interactive variables.\n",
       "    \n",
       "    If arguments are given, only variables of types matching these\n",
       "    arguments are returned.\n",
       "    \n",
       "    Examples\n",
       "    --------\n",
       "    Define two variables and list them with who_ls::\n",
       "    \n",
       "      In [1]: alpha = 123\n",
       "    \n",
       "      In [2]: beta = 'test'\n",
       "    \n",
       "      In [3]: %who_ls\n",
       "      Out[3]: ['alpha', 'beta']\n",
       "    \n",
       "      In [4]: %who_ls int\n",
       "      Out[4]: ['alpha']\n",
       "    \n",
       "      In [5]: %who_ls str\n",
       "      Out[5]: ['beta']\n",
       "%whos:\n",
       "    Like %who, but gives some extra information about each variable.\n",
       "    \n",
       "    The same type filtering of %who can be applied here.\n",
       "    \n",
       "    For all variables, the type is printed. Additionally it prints:\n",
       "    \n",
       "      - For {},[],(): their length.\n",
       "    \n",
       "      - For numpy arrays, a summary with shape, number of\n",
       "        elements, typecode and size in memory.\n",
       "    \n",
       "      - Everything else: a string representation, snipping their middle if\n",
       "        too long.\n",
       "    \n",
       "    Examples\n",
       "    --------\n",
       "    Define two variables and list them with whos::\n",
       "    \n",
       "      In [1]: alpha = 123\n",
       "    \n",
       "      In [2]: beta = 'test'\n",
       "    \n",
       "      In [3]: %whos\n",
       "      Variable   Type        Data/Info\n",
       "      --------------------------------\n",
       "      alpha      int         123\n",
       "      beta       str         test\n",
       "%xdel:\n",
       "    Delete a variable, trying to clear it from anywhere that\n",
       "    IPython's machinery has references to it. By default, this uses\n",
       "    the identity of the named object in the user namespace to remove\n",
       "    references held under other names. The object is also removed\n",
       "    from the output history.\n",
       "    \n",
       "    Options\n",
       "      -n : Delete the specified name from all namespaces, without\n",
       "      checking their identity.\n",
       "%xmode:\n",
       "    Switch modes for the exception handlers.\n",
       "    \n",
       "    Valid modes: Plain, Context, Verbose, and Minimal.\n",
       "    \n",
       "    If called without arguments, acts as a toggle.\n",
       "    \n",
       "    When in verbose mode the value `--show` (and `--hide`)\n",
       "    will respectively show (or hide) frames with ``__tracebackhide__ =\n",
       "    True`` value set.\n",
       "%%!:\n",
       "    Shell execute - run shell command and capture output (!! is short-hand).\n",
       "    \n",
       "    %sx command\n",
       "    \n",
       "    IPython will run the given command using commands.getoutput(), and\n",
       "    return the result formatted as a list (split on '\\n').  Since the\n",
       "    output is _returned_, it will be stored in ipython's regular output\n",
       "    cache Out[N] and in the '_N' automatic variables.\n",
       "    \n",
       "    Notes:\n",
       "    \n",
       "    1) If an input line begins with '!!', then %sx is automatically\n",
       "    invoked.  That is, while::\n",
       "    \n",
       "      !ls\n",
       "    \n",
       "    causes ipython to simply issue system('ls'), typing::\n",
       "    \n",
       "      !!ls\n",
       "    \n",
       "    is a shorthand equivalent to::\n",
       "    \n",
       "      %sx ls\n",
       "    \n",
       "    2) %sx differs from %sc in that %sx automatically splits into a list,\n",
       "    like '%sc -l'.  The reason for this is to make it as easy as possible\n",
       "    to process line-oriented shell output via further python commands.\n",
       "    %sc is meant to provide much finer control, but requires more\n",
       "    typing.\n",
       "    \n",
       "    3) Just like %sc -l, this is a list with special attributes:\n",
       "    ::\n",
       "    \n",
       "      .l (or .list) : value as list.\n",
       "      .n (or .nlstr): value as newline-separated string.\n",
       "      .s (or .spstr): value as whitespace-separated string.\n",
       "    \n",
       "    This is very useful when trying to use such lists as arguments to\n",
       "    system commands.\n",
       "%%HTML:\n",
       "    Alias for `%%html`.\n",
       "%%SVG:\n",
       "    Alias for `%%svg`.\n",
       "%%bash:\n",
       "    %%bash script magic\n",
       "    \n",
       "    Run cells with bash in a subprocess.\n",
       "    \n",
       "    This is a shortcut for `%%script bash`\n",
       "%%capture:\n",
       "    ::\n",
       "    \n",
       "      %capture [--no-stderr] [--no-stdout] [--no-display] [output]\n",
       "    \n",
       "    run the cell, capturing stdout, stderr, and IPython's rich display() calls.\n",
       "    \n",
       "    positional arguments:\n",
       "      output        The name of the variable in which to store output. This is a\n",
       "                    utils.io.CapturedIO object with stdout/err attributes for the\n",
       "                    text of the captured output. CapturedOutput also has a show()\n",
       "                    method for displaying the output, and __call__ as well, so you\n",
       "                    can use that to quickly display the output. If unspecified,\n",
       "                    captured output is discarded.\n",
       "    \n",
       "    optional arguments:\n",
       "      --no-stderr   Don't capture stderr.\n",
       "      --no-stdout   Don't capture stdout.\n",
       "      --no-display  Don't capture IPython's rich display.\n",
       "%%debug:\n",
       "    ::\n",
       "    \n",
       "      %debug [--breakpoint FILE:LINE] [statement [statement ...]]\n",
       "    \n",
       "    Activate the interactive debugger.\n",
       "    \n",
       "    This magic command support two ways of activating debugger.\n",
       "    One is to activate debugger before executing code.  This way, you\n",
       "    can set a break point, to step through the code from the point.\n",
       "    You can use this mode by giving statements to execute and optionally\n",
       "    a breakpoint.\n",
       "    \n",
       "    The other one is to activate debugger in post-mortem mode.  You can\n",
       "    activate this mode simply running %debug without any argument.\n",
       "    If an exception has just occurred, this lets you inspect its stack\n",
       "    frames interactively.  Note that this will always work only on the last\n",
       "    traceback that occurred, so you must call this quickly after an\n",
       "    exception that you wish to inspect has fired, because if another one\n",
       "    occurs, it clobbers the previous one.\n",
       "    \n",
       "    If you want IPython to automatically do this on every exception, see\n",
       "    the %pdb magic for more details.\n",
       "    \n",
       "    .. versionchanged:: 7.3\n",
       "        When running code, user variables are no longer expanded,\n",
       "        the magic line is always left unmodified.\n",
       "    \n",
       "    positional arguments:\n",
       "      statement             Code to run in debugger. You can omit this in cell\n",
       "                            magic mode.\n",
       "    \n",
       "    optional arguments:\n",
       "      --breakpoint <FILE:LINE>, -b <FILE:LINE>\n",
       "                            Set break point at LINE in FILE.\n",
       "%%file:\n",
       "    Alias for `%%writefile`.\n",
       "%%html:\n",
       "    ::\n",
       "    \n",
       "      %html [--isolated]\n",
       "    \n",
       "    Render the cell as a block of HTML\n",
       "    \n",
       "    optional arguments:\n",
       "      --isolated  Annotate the cell as 'isolated'. Isolated cells are rendered\n",
       "                  inside their own <iframe> tag\n",
       "%%javascript:\n",
       "    Run the cell block of Javascript code\n",
       "    \n",
       "    Starting with IPython 8.0 %%javascript is pending deprecation to be replaced\n",
       "    by a more flexible system\n",
       "    \n",
       "    Please See https://github.com/ipython/ipython/issues/13376\n",
       "%%js:\n",
       "    Run the cell block of Javascript code\n",
       "    \n",
       "    Alias of `%%javascript`\n",
       "    \n",
       "    Starting with IPython 8.0 %%javascript is pending deprecation to be replaced\n",
       "    by a more flexible system\n",
       "    \n",
       "    Please See https://github.com/ipython/ipython/issues/13376\n",
       "%%latex:\n",
       "    Render the cell as a block of LaTeX\n",
       "    \n",
       "    The subset of LaTeX which is supported depends on the implementation in\n",
       "    the client.  In the Jupyter Notebook, this magic only renders the subset\n",
       "    of LaTeX defined by MathJax\n",
       "    [here](https://docs.mathjax.org/en/v2.5-latest/tex.html).\n",
       "%%markdown:\n",
       "    Render the cell as Markdown text block\n",
       "%%perl:\n",
       "    %%perl script magic\n",
       "    \n",
       "    Run cells with perl in a subprocess.\n",
       "    \n",
       "    This is a shortcut for `%%script perl`\n",
       "%%prun:\n",
       "    Run a statement through the python code profiler.\n",
       "    \n",
       "    Usage, in line mode:\n",
       "      %prun [options] statement\n",
       "    \n",
       "    Usage, in cell mode:\n",
       "      %%prun [options] [statement]\n",
       "      code...\n",
       "      code...\n",
       "    \n",
       "    In cell mode, the additional code lines are appended to the (possibly\n",
       "    empty) statement in the first line.  Cell mode allows you to easily\n",
       "    profile multiline blocks without having to put them in a separate\n",
       "    function.\n",
       "    \n",
       "    The given statement (which doesn't require quote marks) is run via the\n",
       "    python profiler in a manner similar to the profile.run() function.\n",
       "    Namespaces are internally managed to work correctly; profile.run\n",
       "    cannot be used in IPython because it makes certain assumptions about\n",
       "    namespaces which do not hold under IPython.\n",
       "    \n",
       "    Options:\n",
       "    \n",
       "    -l <limit>\n",
       "      you can place restrictions on what or how much of the\n",
       "      profile gets printed. The limit value can be:\n",
       "    \n",
       "         * A string: only information for function names containing this string\n",
       "           is printed.\n",
       "    \n",
       "         * An integer: only these many lines are printed.\n",
       "    \n",
       "         * A float (between 0 and 1): this fraction of the report is printed\n",
       "           (for example, use a limit of 0.4 to see the topmost 40% only).\n",
       "    \n",
       "      You can combine several limits with repeated use of the option. For\n",
       "      example, ``-l __init__ -l 5`` will print only the topmost 5 lines of\n",
       "      information about class constructors.\n",
       "    \n",
       "    -r\n",
       "      return the pstats.Stats object generated by the profiling. This\n",
       "      object has all the information about the profile in it, and you can\n",
       "      later use it for further analysis or in other functions.\n",
       "    \n",
       "    -s <key>\n",
       "      sort profile by given key. You can provide more than one key\n",
       "      by using the option several times: '-s key1 -s key2 -s key3...'. The\n",
       "      default sorting key is 'time'.\n",
       "    \n",
       "      The following is copied verbatim from the profile documentation\n",
       "      referenced below:\n",
       "    \n",
       "      When more than one key is provided, additional keys are used as\n",
       "      secondary criteria when the there is equality in all keys selected\n",
       "      before them.\n",
       "    \n",
       "      Abbreviations can be used for any key names, as long as the\n",
       "      abbreviation is unambiguous.  The following are the keys currently\n",
       "      defined:\n",
       "    \n",
       "      ============  =====================\n",
       "      Valid Arg     Meaning\n",
       "      ============  =====================\n",
       "      \"calls\"       call count\n",
       "      \"cumulative\"  cumulative time\n",
       "      \"file\"        file name\n",
       "      \"module\"      file name\n",
       "      \"pcalls\"      primitive call count\n",
       "      \"line\"        line number\n",
       "      \"name\"        function name\n",
       "      \"nfl\"         name/file/line\n",
       "      \"stdname\"     standard name\n",
       "      \"time\"        internal time\n",
       "      ============  =====================\n",
       "    \n",
       "      Note that all sorts on statistics are in descending order (placing\n",
       "      most time consuming items first), where as name, file, and line number\n",
       "      searches are in ascending order (i.e., alphabetical). The subtle\n",
       "      distinction between \"nfl\" and \"stdname\" is that the standard name is a\n",
       "      sort of the name as printed, which means that the embedded line\n",
       "      numbers get compared in an odd way.  For example, lines 3, 20, and 40\n",
       "      would (if the file names were the same) appear in the string order\n",
       "      \"20\" \"3\" and \"40\".  In contrast, \"nfl\" does a numeric compare of the\n",
       "      line numbers.  In fact, sort_stats(\"nfl\") is the same as\n",
       "      sort_stats(\"name\", \"file\", \"line\").\n",
       "    \n",
       "    -T <filename>\n",
       "      save profile results as shown on screen to a text\n",
       "      file. The profile is still shown on screen.\n",
       "    \n",
       "    -D <filename>\n",
       "      save (via dump_stats) profile statistics to given\n",
       "      filename. This data is in a format understood by the pstats module, and\n",
       "      is generated by a call to the dump_stats() method of profile\n",
       "      objects. The profile is still shown on screen.\n",
       "    \n",
       "    -q\n",
       "      suppress output to the pager.  Best used with -T and/or -D above.\n",
       "    \n",
       "    If you want to run complete programs under the profiler's control, use\n",
       "    ``%run -p [prof_opts] filename.py [args to program]`` where prof_opts\n",
       "    contains profiler specific options as described here.\n",
       "    \n",
       "    You can read the complete documentation for the profile module with::\n",
       "    \n",
       "      In [1]: import profile; profile.help()\n",
       "    \n",
       "    .. versionchanged:: 7.3\n",
       "        User variables are no longer expanded,\n",
       "        the magic line is always left unmodified.\n",
       "%%pypy:\n",
       "    %%pypy script magic\n",
       "    \n",
       "    Run cells with pypy in a subprocess.\n",
       "    \n",
       "    This is a shortcut for `%%script pypy`\n",
       "%%python:\n",
       "    %%python script magic\n",
       "    \n",
       "    Run cells with python in a subprocess.\n",
       "    \n",
       "    This is a shortcut for `%%script python`\n",
       "%%python2:\n",
       "    %%python2 script magic\n",
       "    \n",
       "    Run cells with python2 in a subprocess.\n",
       "    \n",
       "    This is a shortcut for `%%script python2`\n",
       "%%python3:\n",
       "    %%python3 script magic\n",
       "    \n",
       "    Run cells with python3 in a subprocess.\n",
       "    \n",
       "    This is a shortcut for `%%script python3`\n",
       "%%ruby:\n",
       "    %%ruby script magic\n",
       "    \n",
       "    Run cells with ruby in a subprocess.\n",
       "    \n",
       "    This is a shortcut for `%%script ruby`\n",
       "%%script:\n",
       "    ::\n",
       "    \n",
       "      %shebang [--no-raise-error] [--proc PROC] [--bg] [--err ERR] [--out OUT]\n",
       "    \n",
       "    Run a cell via a shell command\n",
       "    \n",
       "    The `%%script` line is like the #! line of script,\n",
       "    specifying a program (bash, perl, ruby, etc.) with which to run.\n",
       "    \n",
       "    The rest of the cell is run by that program.\n",
       "    \n",
       "    Examples\n",
       "    --------\n",
       "    ::\n",
       "    \n",
       "        In [1]: %%script bash\n",
       "           ...: for i in 1 2 3; do\n",
       "           ...:   echo $i\n",
       "           ...: done\n",
       "        1\n",
       "        2\n",
       "        3\n",
       "    \n",
       "    optional arguments:\n",
       "      --no-raise-error  Whether you should raise an error message in addition to a\n",
       "                        stream on stderr if you get a nonzero exit code.\n",
       "      --proc PROC       The variable in which to store Popen instance. This is\n",
       "                        used only when --bg option is given.\n",
       "      --bg              Whether to run the script in the background. If given, the\n",
       "                        only way to see the output of the command is with\n",
       "                        --out/err.\n",
       "      --err ERR         The variable in which to store stderr from the script. If\n",
       "                        the script is backgrounded, this will be the stderr\n",
       "                        *pipe*, instead of the stderr text itself and will not be\n",
       "                        autoclosed.\n",
       "      --out OUT         The variable in which to store stdout from the script. If\n",
       "                        the script is backgrounded, this will be the stdout\n",
       "                        *pipe*, instead of the stderr text itself and will not be\n",
       "                        auto closed.\n",
       "%%sh:\n",
       "    %%sh script magic\n",
       "    \n",
       "    Run cells with sh in a subprocess.\n",
       "    \n",
       "    This is a shortcut for `%%script sh`\n",
       "%%svg:\n",
       "    Render the cell as an SVG literal\n",
       "%%sx:\n",
       "    Shell execute - run shell command and capture output (!! is short-hand).\n",
       "    \n",
       "    %sx command\n",
       "    \n",
       "    IPython will run the given command using commands.getoutput(), and\n",
       "    return the result formatted as a list (split on '\\n').  Since the\n",
       "    output is _returned_, it will be stored in ipython's regular output\n",
       "    cache Out[N] and in the '_N' automatic variables.\n",
       "    \n",
       "    Notes:\n",
       "    \n",
       "    1) If an input line begins with '!!', then %sx is automatically\n",
       "    invoked.  That is, while::\n",
       "    \n",
       "      !ls\n",
       "    \n",
       "    causes ipython to simply issue system('ls'), typing::\n",
       "    \n",
       "      !!ls\n",
       "    \n",
       "    is a shorthand equivalent to::\n",
       "    \n",
       "      %sx ls\n",
       "    \n",
       "    2) %sx differs from %sc in that %sx automatically splits into a list,\n",
       "    like '%sc -l'.  The reason for this is to make it as easy as possible\n",
       "    to process line-oriented shell output via further python commands.\n",
       "    %sc is meant to provide much finer control, but requires more\n",
       "    typing.\n",
       "    \n",
       "    3) Just like %sc -l, this is a list with special attributes:\n",
       "    ::\n",
       "    \n",
       "      .l (or .list) : value as list.\n",
       "      .n (or .nlstr): value as newline-separated string.\n",
       "      .s (or .spstr): value as whitespace-separated string.\n",
       "    \n",
       "    This is very useful when trying to use such lists as arguments to\n",
       "    system commands.\n",
       "%%system:\n",
       "    Shell execute - run shell command and capture output (!! is short-hand).\n",
       "    \n",
       "    %sx command\n",
       "    \n",
       "    IPython will run the given command using commands.getoutput(), and\n",
       "    return the result formatted as a list (split on '\\n').  Since the\n",
       "    output is _returned_, it will be stored in ipython's regular output\n",
       "    cache Out[N] and in the '_N' automatic variables.\n",
       "    \n",
       "    Notes:\n",
       "    \n",
       "    1) If an input line begins with '!!', then %sx is automatically\n",
       "    invoked.  That is, while::\n",
       "    \n",
       "      !ls\n",
       "    \n",
       "    causes ipython to simply issue system('ls'), typing::\n",
       "    \n",
       "      !!ls\n",
       "    \n",
       "    is a shorthand equivalent to::\n",
       "    \n",
       "      %sx ls\n",
       "    \n",
       "    2) %sx differs from %sc in that %sx automatically splits into a list,\n",
       "    like '%sc -l'.  The reason for this is to make it as easy as possible\n",
       "    to process line-oriented shell output via further python commands.\n",
       "    %sc is meant to provide much finer control, but requires more\n",
       "    typing.\n",
       "    \n",
       "    3) Just like %sc -l, this is a list with special attributes:\n",
       "    ::\n",
       "    \n",
       "      .l (or .list) : value as list.\n",
       "      .n (or .nlstr): value as newline-separated string.\n",
       "      .s (or .spstr): value as whitespace-separated string.\n",
       "    \n",
       "    This is very useful when trying to use such lists as arguments to\n",
       "    system commands.\n",
       "%%time:\n",
       "    Time execution of a Python statement or expression.\n",
       "    \n",
       "    The CPU and wall clock times are printed, and the value of the\n",
       "    expression (if any) is returned.  Note that under Win32, system time\n",
       "    is always reported as 0, since it can not be measured.\n",
       "    \n",
       "    This function can be used both as a line and cell magic:\n",
       "    \n",
       "    - In line mode you can time a single-line statement (though multiple\n",
       "      ones can be chained with using semicolons).\n",
       "    \n",
       "    - In cell mode, you can time the cell body (a directly\n",
       "      following statement raises an error).\n",
       "    \n",
       "    This function provides very basic timing functionality.  Use the timeit\n",
       "    magic for more control over the measurement.\n",
       "    \n",
       "    .. versionchanged:: 7.3\n",
       "        User variables are no longer expanded,\n",
       "        the magic line is always left unmodified.\n",
       "    \n",
       "    Examples\n",
       "    --------\n",
       "    ::\n",
       "    \n",
       "      In [1]: %time 2**128\n",
       "      CPU times: user 0.00 s, sys: 0.00 s, total: 0.00 s\n",
       "      Wall time: 0.00\n",
       "      Out[1]: 340282366920938463463374607431768211456L\n",
       "    \n",
       "      In [2]: n = 1000000\n",
       "    \n",
       "      In [3]: %time sum(range(n))\n",
       "      CPU times: user 1.20 s, sys: 0.05 s, total: 1.25 s\n",
       "      Wall time: 1.37\n",
       "      Out[3]: 499999500000L\n",
       "    \n",
       "      In [4]: %time print 'hello world'\n",
       "      hello world\n",
       "      CPU times: user 0.00 s, sys: 0.00 s, total: 0.00 s\n",
       "      Wall time: 0.00\n",
       "    \n",
       "    .. note::\n",
       "        The time needed by Python to compile the given expression will be\n",
       "        reported if it is more than 0.1s.\n",
       "    \n",
       "        In the example below, the actual exponentiation is done by Python\n",
       "        at compilation time, so while the expression can take a noticeable\n",
       "        amount of time to compute, that time is purely due to the\n",
       "        compilation::\n",
       "    \n",
       "            In [5]: %time 3**9999;\n",
       "            CPU times: user 0.00 s, sys: 0.00 s, total: 0.00 s\n",
       "            Wall time: 0.00 s\n",
       "    \n",
       "            In [6]: %time 3**999999;\n",
       "            CPU times: user 0.00 s, sys: 0.00 s, total: 0.00 s\n",
       "            Wall time: 0.00 s\n",
       "            Compiler : 0.78 s\n",
       "%%timeit:\n",
       "    Time execution of a Python statement or expression\n",
       "    \n",
       "    Usage, in line mode:\n",
       "      %timeit [-n<N> -r<R> [-t|-c] -q -p<P> -o] statement\n",
       "    or in cell mode:\n",
       "      %%timeit [-n<N> -r<R> [-t|-c] -q -p<P> -o] setup_code\n",
       "      code\n",
       "      code...\n",
       "    \n",
       "    Time execution of a Python statement or expression using the timeit\n",
       "    module.  This function can be used both as a line and cell magic:\n",
       "    \n",
       "    - In line mode you can time a single-line statement (though multiple\n",
       "      ones can be chained with using semicolons).\n",
       "    \n",
       "    - In cell mode, the statement in the first line is used as setup code\n",
       "      (executed but not timed) and the body of the cell is timed.  The cell\n",
       "      body has access to any variables created in the setup code.\n",
       "    \n",
       "    Options:\n",
       "    -n<N>: execute the given statement <N> times in a loop. If <N> is not\n",
       "    provided, <N> is determined so as to get sufficient accuracy.\n",
       "    \n",
       "    -r<R>: number of repeats <R>, each consisting of <N> loops, and take the\n",
       "    best result.\n",
       "    Default: 7\n",
       "    \n",
       "    -t: use time.time to measure the time, which is the default on Unix.\n",
       "    This function measures wall time.\n",
       "    \n",
       "    -c: use time.clock to measure the time, which is the default on\n",
       "    Windows and measures wall time. On Unix, resource.getrusage is used\n",
       "    instead and returns the CPU user time.\n",
       "    \n",
       "    -p<P>: use a precision of <P> digits to display the timing result.\n",
       "    Default: 3\n",
       "    \n",
       "    -q: Quiet, do not print result.\n",
       "    \n",
       "    -o: return a TimeitResult that can be stored in a variable to inspect\n",
       "        the result in more details.\n",
       "    \n",
       "    .. versionchanged:: 7.3\n",
       "        User variables are no longer expanded,\n",
       "        the magic line is always left unmodified.\n",
       "    \n",
       "    Examples\n",
       "    --------\n",
       "    ::\n",
       "    \n",
       "      In [1]: %timeit pass\n",
       "      8.26 ns ± 0.12 ns per loop (mean ± std. dev. of 7 runs, 100000000 loops each)\n",
       "    \n",
       "      In [2]: u = None\n",
       "    \n",
       "      In [3]: %timeit u is None\n",
       "      29.9 ns ± 0.643 ns per loop (mean ± std. dev. of 7 runs, 10000000 loops each)\n",
       "    \n",
       "      In [4]: %timeit -r 4 u == None\n",
       "    \n",
       "      In [5]: import time\n",
       "    \n",
       "      In [6]: %timeit -n1 time.sleep(2)\n",
       "    \n",
       "    The times reported by %timeit will be slightly higher than those\n",
       "    reported by the timeit.py script when variables are accessed. This is\n",
       "    due to the fact that %timeit executes the statement in the namespace\n",
       "    of the shell, compared with timeit.py, which uses a single setup\n",
       "    statement to import function or create variables. Generally, the bias\n",
       "    does not matter as long as results from timeit.py are not mixed with\n",
       "    those from %timeit.\n",
       "%%writefile:\n",
       "    ::\n",
       "    \n",
       "      %writefile [-a] filename\n",
       "    \n",
       "    Write the contents of the cell to a file.\n",
       "    \n",
       "    The file will be overwritten unless the -a (--append) flag is specified.\n",
       "    \n",
       "    positional arguments:\n",
       "      filename      file to write\n",
       "    \n",
       "    optional arguments:\n",
       "      -a, --append  Append contents of the cell to an existing file. The file will\n",
       "                    be created if it does not exist.\n",
       "\n",
       "Summary of magic functions (from %lsmagic):\n",
       "Available line magics:\n",
       "%alias  %alias_magic  %autoawait  %autocall  %automagic  %autosave  %bookmark  %cat  %cd  %clear  %colors  %conda  %config  %connect_info  %cp  %debug  %dhist  %dirs  %doctest_mode  %ed  %edit  %env  %gui  %hist  %history  %killbgscripts  %ldir  %less  %lf  %lk  %ll  %load  %load_ext  %loadpy  %logoff  %logon  %logstart  %logstate  %logstop  %ls  %lsmagic  %lx  %macro  %magic  %man  %matplotlib  %mkdir  %more  %mv  %notebook  %page  %pastebin  %pdb  %pdef  %pdoc  %pfile  %pinfo  %pinfo2  %pip  %popd  %pprint  %precision  %prun  %psearch  %psource  %pushd  %pwd  %pycat  %pylab  %qtconsole  %quickref  %recall  %rehashx  %reload_ext  %rep  %rerun  %reset  %reset_selective  %rm  %rmdir  %run  %save  %sc  %set_env  %store  %sx  %system  %tb  %time  %timeit  %unalias  %unload_ext  %who  %who_ls  %whos  %xdel  %xmode\n",
       "\n",
       "Available cell magics:\n",
       "%%!  %%HTML  %%SVG  %%bash  %%capture  %%debug  %%file  %%html  %%javascript  %%js  %%latex  %%markdown  %%perl  %%prun  %%pypy  %%python  %%python2  %%python3  %%ruby  %%script  %%sh  %%svg  %%sx  %%system  %%time  %%timeit  %%writefile\n",
       "\n",
       "Automagic is ON, % prefix IS NOT needed for line magics."
      ]
     },
     "metadata": {},
     "output_type": "display_data"
    }
   ],
   "source": [
    "%magic"
   ]
  },
  {
   "cell_type": "code",
   "execution_count": 21,
   "metadata": {
    "ExecuteTime": {
     "end_time": "2022-09-04T06:00:56.458910Z",
     "start_time": "2022-09-04T06:00:56.433912Z"
    },
    "cell_id": "95a43d2b36cb481cb58a030a486c3339",
    "deepnote_cell_height": 114.6875,
    "deepnote_cell_type": "code"
   },
   "outputs": [
    {
     "name": "stderr",
     "output_type": "stream",
     "text": [
      "/usr/local/lib/python3.8/dist-packages/nbformat/__init__.py:93: MissingIDFieldWarning: Code cell is missing an id field, this will become a hard error in future nbformat versions. You may want to use `normalize()` on your notebooks before validations (available since nbformat 5.1.4). Previous versions of nbformat are fixing this issue transparently, and will stop doing so in the future.\n",
      "  validate(nb)\n"
     ]
    },
    {
     "data": {
      "text/plain": [
       "6"
      ]
     },
     "execution_count": 21,
     "metadata": {},
     "output_type": "execute_result"
    }
   ],
   "source": [
    "# %run seguido del nombre de un archivo Python, podemos ejecutarlo y utilizar sus funciones y objetos.\n",
    "%run funciones1.ipynb\n",
    "\n",
    "factorial(3)"
   ]
  },
  {
   "cell_type": "code",
   "execution_count": 22,
   "metadata": {
    "ExecuteTime": {
     "end_time": "2022-09-04T09:37:10.066285Z",
     "start_time": "2022-09-04T09:37:10.048242Z"
    },
    "cell_id": "e3f10e5db5f6424c908850983c509ce8",
    "deepnote_cell_height": 60.6875,
    "deepnote_cell_type": "code"
   },
   "outputs": [
    {
     "data": {
      "text/plain": [
       "\u001b[0;31mDocstring:\u001b[0m\n",
       "Run the named file inside IPython as a program.\n",
       "\n",
       "Usage::\n",
       "\n",
       "  %run [-n -i -e -G]\n",
       "       [( -t [-N<N>] | -d [-b<N>] | -p [profile options] )]\n",
       "       ( -m mod | filename ) [args]\n",
       "\n",
       "The filename argument should be either a pure Python script (with\n",
       "extension ``.py``), or a file with custom IPython syntax (such as\n",
       "magics). If the latter, the file can be either a script with ``.ipy``\n",
       "extension, or a Jupyter notebook with ``.ipynb`` extension. When running\n",
       "a Jupyter notebook, the output from print statements and other\n",
       "displayed objects will appear in the terminal (even matplotlib figures\n",
       "will open, if a terminal-compliant backend is being used). Note that,\n",
       "at the system command line, the ``jupyter run`` command offers similar\n",
       "functionality for executing notebooks (albeit currently with some\n",
       "differences in supported options).\n",
       "\n",
       "Parameters after the filename are passed as command-line arguments to\n",
       "the program (put in sys.argv). Then, control returns to IPython's\n",
       "prompt.\n",
       "\n",
       "This is similar to running at a system prompt ``python file args``,\n",
       "but with the advantage of giving you IPython's tracebacks, and of\n",
       "loading all variables into your interactive namespace for further use\n",
       "(unless -p is used, see below).\n",
       "\n",
       "The file is executed in a namespace initially consisting only of\n",
       "``__name__=='__main__'`` and sys.argv constructed as indicated. It thus\n",
       "sees its environment as if it were being run as a stand-alone program\n",
       "(except for sharing global objects such as previously imported\n",
       "modules). But after execution, the IPython interactive namespace gets\n",
       "updated with all variables defined in the program (except for __name__\n",
       "and sys.argv). This allows for very convenient loading of code for\n",
       "interactive work, while giving each program a 'clean sheet' to run in.\n",
       "\n",
       "Arguments are expanded using shell-like glob match.  Patterns\n",
       "'*', '?', '[seq]' and '[!seq]' can be used.  Additionally,\n",
       "tilde '~' will be expanded into user's home directory.  Unlike\n",
       "real shells, quotation does not suppress expansions.  Use\n",
       "*two* back slashes (e.g. ``\\\\*``) to suppress expansions.\n",
       "To completely disable these expansions, you can use -G flag.\n",
       "\n",
       "On Windows systems, the use of single quotes `'` when specifying\n",
       "a file is not supported. Use double quotes `\"`.\n",
       "\n",
       "Options:\n",
       "\n",
       "-n\n",
       "  __name__ is NOT set to '__main__', but to the running file's name\n",
       "  without extension (as python does under import).  This allows running\n",
       "  scripts and reloading the definitions in them without calling code\n",
       "  protected by an ``if __name__ == \"__main__\"`` clause.\n",
       "\n",
       "-i\n",
       "  run the file in IPython's namespace instead of an empty one. This\n",
       "  is useful if you are experimenting with code written in a text editor\n",
       "  which depends on variables defined interactively.\n",
       "\n",
       "-e\n",
       "  ignore sys.exit() calls or SystemExit exceptions in the script\n",
       "  being run.  This is particularly useful if IPython is being used to\n",
       "  run unittests, which always exit with a sys.exit() call.  In such\n",
       "  cases you are interested in the output of the test results, not in\n",
       "  seeing a traceback of the unittest module.\n",
       "\n",
       "-t\n",
       "  print timing information at the end of the run.  IPython will give\n",
       "  you an estimated CPU time consumption for your script, which under\n",
       "  Unix uses the resource module to avoid the wraparound problems of\n",
       "  time.clock().  Under Unix, an estimate of time spent on system tasks\n",
       "  is also given (for Windows platforms this is reported as 0.0).\n",
       "\n",
       "If -t is given, an additional ``-N<N>`` option can be given, where <N>\n",
       "must be an integer indicating how many times you want the script to\n",
       "run.  The final timing report will include total and per run results.\n",
       "\n",
       "For example (testing the script uniq_stable.py)::\n",
       "\n",
       "    In [1]: run -t uniq_stable\n",
       "\n",
       "    IPython CPU timings (estimated):\n",
       "      User  :    0.19597 s.\n",
       "      System:        0.0 s.\n",
       "\n",
       "    In [2]: run -t -N5 uniq_stable\n",
       "\n",
       "    IPython CPU timings (estimated):\n",
       "    Total runs performed: 5\n",
       "      Times :      Total       Per run\n",
       "      User  :   0.910862 s,  0.1821724 s.\n",
       "      System:        0.0 s,        0.0 s.\n",
       "\n",
       "-d\n",
       "  run your program under the control of pdb, the Python debugger.\n",
       "  This allows you to execute your program step by step, watch variables,\n",
       "  etc.  Internally, what IPython does is similar to calling::\n",
       "\n",
       "      pdb.run('execfile(\"YOURFILENAME\")')\n",
       "\n",
       "  with a breakpoint set on line 1 of your file.  You can change the line\n",
       "  number for this automatic breakpoint to be <N> by using the -bN option\n",
       "  (where N must be an integer). For example::\n",
       "\n",
       "      %run -d -b40 myscript\n",
       "\n",
       "  will set the first breakpoint at line 40 in myscript.py.  Note that\n",
       "  the first breakpoint must be set on a line which actually does\n",
       "  something (not a comment or docstring) for it to stop execution.\n",
       "\n",
       "  Or you can specify a breakpoint in a different file::\n",
       "\n",
       "      %run -d -b myotherfile.py:20 myscript\n",
       "\n",
       "  When the pdb debugger starts, you will see a (Pdb) prompt.  You must\n",
       "  first enter 'c' (without quotes) to start execution up to the first\n",
       "  breakpoint.\n",
       "\n",
       "  Entering 'help' gives information about the use of the debugger.  You\n",
       "  can easily see pdb's full documentation with \"import pdb;pdb.help()\"\n",
       "  at a prompt.\n",
       "\n",
       "-p\n",
       "  run program under the control of the Python profiler module (which\n",
       "  prints a detailed report of execution times, function calls, etc).\n",
       "\n",
       "  You can pass other options after -p which affect the behavior of the\n",
       "  profiler itself. See the docs for %prun for details.\n",
       "\n",
       "  In this mode, the program's variables do NOT propagate back to the\n",
       "  IPython interactive namespace (because they remain in the namespace\n",
       "  where the profiler executes them).\n",
       "\n",
       "  Internally this triggers a call to %prun, see its documentation for\n",
       "  details on the options available specifically for profiling.\n",
       "\n",
       "There is one special usage for which the text above doesn't apply:\n",
       "if the filename ends with .ipy[nb], the file is run as ipython script,\n",
       "just as if the commands were written on IPython prompt.\n",
       "\n",
       "-m\n",
       "  specify module name to load instead of script path. Similar to\n",
       "  the -m option for the python interpreter. Use this option last if you\n",
       "  want to combine with other %run options. Unlike the python interpreter\n",
       "  only source modules are allowed no .pyc or .pyo files.\n",
       "  For example::\n",
       "\n",
       "      %run -m example\n",
       "\n",
       "  will run the example module.\n",
       "\n",
       "-G\n",
       "  disable shell-like glob expansion of arguments.\n",
       "\u001b[0;31mFile:\u001b[0m      /usr/local/lib/python3.8/dist-packages/IPython/core/magics/execution.py"
      ]
     },
     "metadata": {},
     "output_type": "display_data"
    }
   ],
   "source": [
    "%run?"
   ]
  },
  {
   "cell_type": "code",
   "execution_count": 23,
   "metadata": {
    "ExecuteTime": {
     "end_time": "2022-03-21T22:41:41.727217Z",
     "start_time": "2022-03-21T22:41:41.711217Z"
    },
    "cell_id": "f30a65faea9242958c9689df0b8cafce",
    "deepnote_cell_height": 78.6875,
    "deepnote_cell_type": "code"
   },
   "outputs": [
    {
     "data": {
      "text/plain": [
       "'/home/andres/Dropbox/UExternado/IntroCienciadedatos/Sesión 1/Sesión 1'"
      ]
     },
     "execution_count": 23,
     "metadata": {},
     "output_type": "execute_result"
    }
   ],
   "source": [
    "# %pwd para recordar el directorio actual\n",
    "%pwd"
   ]
  },
  {
   "cell_type": "code",
   "execution_count": 24,
   "metadata": {
    "ExecuteTime": {
     "end_time": "2022-09-04T14:19:13.696061Z",
     "start_time": "2022-09-04T14:19:06.274869Z"
    },
    "cell_id": "e36db592fd73402088f5a51df9fade3b",
    "deepnote_cell_height": 123.671875,
    "deepnote_cell_type": "code"
   },
   "outputs": [
    {
     "name": "stdout",
     "output_type": "stream",
     "text": [
      "208 µs ± 2.24 µs per loop (mean ± std. dev. of 7 runs, 1,000 loops each)\n"
     ]
    }
   ],
   "source": [
    "# %timeit devuelve el tiempo de ejecución promedio de pequeños fragmentos de código\n",
    "%timeit S = [n ** 2 for n in range(1000)]"
   ]
  },
  {
   "cell_type": "code",
   "execution_count": 25,
   "metadata": {
    "ExecuteTime": {
     "end_time": "2022-03-22T17:21:21.952597Z",
     "start_time": "2022-03-22T17:21:21.916596Z"
    },
    "cell_id": "401669e9834a40a1b1dbaf4cf865b089",
    "deepnote_cell_height": 78.6875,
    "deepnote_cell_type": "code"
   },
   "outputs": [
    {
     "name": "stdout",
     "output_type": "stream",
     "text": [
      "CPU times: user 499 µs, sys: 28 µs, total: 527 µs\n",
      "Wall time: 533 µs\n"
     ]
    }
   ],
   "source": [
    "# %time Establece un estimativo del tiempo de ejecución.\n",
    "%time S = [n ** 2 for n in range(1000)]"
   ]
  },
  {
   "cell_type": "code",
   "execution_count": 26,
   "metadata": {
    "ExecuteTime": {
     "end_time": "2022-03-21T22:44:32.172065Z",
     "start_time": "2022-03-21T22:44:32.157017Z"
    },
    "cell_id": "84e341ca704b41b2b09e07f74c2b4f40",
    "deepnote_cell_height": 101.6875,
    "deepnote_cell_type": "code"
   },
   "outputs": [
    {
     "name": "stdout",
     "output_type": "stream",
     "text": [
      "Variable    Type                          Data/Info\n",
      "---------------------------------------------------\n",
      "S           list                          n=1000\n",
      "cos         builtin_function_or_method    <built-in function cos>\n",
      "factorial   function                      <function factorial at 0x7f7c8c61b8b0>\n",
      "m           module                        <module 'math' (built-in)>\n",
      "math        module                        <module 'math' (built-in)>\n",
      "mt          module                        <module 'math' (built-in)>\n",
      "pi          float                         3.141592653589793\n",
      "sqrt        builtin_function_or_method    <built-in function sqrt>\n",
      "this        module                        <module 'this' from '/usr/lib/python3.8/this.py'>\n",
      "x           int                           8\n",
      "z           int                           4\n"
     ]
    }
   ],
   "source": [
    "'''%whos genera una lista de todas las variables definidas en el notebook. Incluye información extra como el tipo,\n",
    "el tamaño, entre otros.'''\n",
    "%whos"
   ]
  },
  {
   "cell_type": "code",
   "execution_count": 27,
   "metadata": {
    "ExecuteTime": {
     "end_time": "2022-03-21T22:44:40.262545Z",
     "start_time": "2022-03-21T22:44:40.247547Z"
    },
    "cell_id": "8b5068a6fe71478a83ad6b2e37bbe9bb",
    "deepnote_cell_height": 78.6875,
    "deepnote_cell_type": "code"
   },
   "outputs": [
    {
     "data": {
      "text/plain": [
       "['S', 'cos', 'factorial', 'm', 'math', 'mt', 'pi', 'sqrt', 'this', 'x', 'z']"
      ]
     },
     "execution_count": 27,
     "metadata": {},
     "output_type": "execute_result"
    }
   ],
   "source": [
    "# %who_ls solo lista las variables definidas en el notebook\n",
    "%who_ls"
   ]
  },
  {
   "cell_type": "markdown",
   "metadata": {
    "cell_id": "a2e90213a5e94547a0b06320ae49db26",
    "deepnote_cell_height": 229.828125,
    "deepnote_cell_type": "markdown"
   },
   "source": [
    "<u>Ocultar salidas o warnings:</u>  \n",
    "\n",
    "+ %%capture (al comienzo de la celda) oculta salidas o mensajes de error que resultan de las líneas de código de una celda.\n",
    "\n",
    "+ Añade ; al final de la celda para ocultar la salida de esa celda.\n",
    "\n",
    "+ Para ocultar warnings: \n",
    "\n",
    "> import warnings <br>\n",
    "> warnings.filterwarnings('ignore')"
   ]
  },
  {
   "cell_type": "markdown",
   "metadata": {
    "cell_id": "64f668341f6e4ade91f466b1d3c94c8e",
    "deepnote_cell_height": 65.421875,
    "deepnote_cell_type": "markdown"
   },
   "source": [
    "\n",
    ">> Puedes crear tus propias funciones mágicas [magics](https://ipython.readthedocs.io/en/stable/interactive/magics.html)\n"
   ]
  },
  {
   "cell_type": "markdown",
   "metadata": {
    "cell_id": "3ebd7585d24b41668fec59bc84f61c7e",
    "deepnote_cell_height": 543.328125,
    "deepnote_cell_type": "markdown"
   },
   "source": [
    "## Algunas Extensiones para Jupyter\n",
    "\n",
    "\n",
    "Las extensiones a los notebooks de Jupyter (plug-ins-Nbextensions) nos ayudan a personalizar y a trabajar con mayor fluidez en esta herramienta. Con seguridad mejora nuestra experiencia en Jupyter. Lo mejor es instalarlas,junto con las extensiones, incluyendo el `Configurador de Nbextensions de Jupyter`. Esta instalación añadirá una pestaña, donde se pueden habilitar y deshabilitar las extensiones que se deseen. Enla web encontraremos nuevas extensiones que se irán instalando y añadiendo al conjunto disponible.\n",
    "\n",
    "\n",
    "Para instalar `Nbextensions` se puede con Anaconda desde la línea de comandos con:\n",
    "\n",
    "```\n",
    "conda install -c conda-forge jupyter_contrib_nbextensions \n",
    "conda install -c conda-forge jupyter_nbextensions_configurator\n",
    "jupyter contrib nbextension install --user\n",
    "```\n",
    "O a través de `pip` con:\n",
    "```\n",
    "pip install jupyter_contrib_nbextensions\n",
    "pip install jupyter_nbextensions_configurator\n",
    "jupyter contrib nbextension install --user \n",
    "jupyter nbextensions_configurator enable --user\n",
    "```\n",
    "A continuación, se describen algunas extensiones que podrían llegar a ser útiles.\n",
    "\n",
    "Mayor información sobre la lista de extensiones disponibles en este [enlace](https://jupyter-contrib-nbextensions.readthedocs.io/en/latest/nbextensions.html)."
   ]
  },
  {
   "cell_type": "markdown",
   "metadata": {
    "cell_id": "333f067e2ffd45b6804b1b622d7ac4b2",
    "deepnote_cell_height": 160.46875,
    "deepnote_cell_type": "markdown"
   },
   "source": [
    "### Execute time\n",
    "\n",
    "Esta extensión muestra una línea en la parte inferior de tu celda de código con la fecha y la hora de la última ejecución, u asu vez, el tiempo que tardó en ejecutarse. Esta opción es una alternativa al uso de la función mágica `%Time`.\n",
    "\n"
   ]
  },
  {
   "cell_type": "markdown",
   "metadata": {
    "cell_id": "10eec9b23ca04698b3cabab3e0de188b",
    "deepnote_cell_height": 317,
    "deepnote_cell_type": "markdown"
   },
   "source": [
    "### Notify\n",
    "\n",
    "Extensión del cuaderno Jupyter para mostrar una notificación web que avise cuando el kernel queda inactivo. \n",
    "Inicialmente, se muestra en la barra de herramientas un botón [$\\checkmark$] para solicitar permisos de notificación. Una vez concedidos los permisos de notificación, este botón se sustituye por un menú desplegable con cinco opciones: Desactivado, 0, 5, 10 y 30 segundos. Se selecciona el tiempo mínimo necesario de ocupación del kernel para activar una notificación (por ejemplo, si selecciona 5, sólo se mostrará una notificación si el kernel estuvo ocupado durante más de 5 segundos). \n",
    "\n",
    "Ejemplo:\n",
    "```\n",
    "Si habilitamos 5 segundos para el código:\n",
    "S = [n ** 2 for n in range(10000)]\n",
    "```\n",
    "Tenemos un mensaje como este:\n",
    "\n"
   ]
  },
  {
   "cell_type": "code",
   "execution_count": 28,
   "metadata": {
    "ExecuteTime": {
     "end_time": "2021-12-01T08:41:57.541258Z",
     "start_time": "2021-12-01T08:41:57.510729Z"
    },
    "cell_id": "95f84b29c53441958b28637de70449a8",
    "deepnote_cell_height": 79,
    "deepnote_cell_type": "code"
   },
   "outputs": [],
   "source": [
    "# Ejemplo de Execute Time y Notify\n",
    "S = [n ** 2 for n in range(10000)]"
   ]
  },
  {
   "cell_type": "markdown",
   "metadata": {
    "cell_id": "7c70c153f2914fc1a861cf4b58786be6",
    "deepnote_cell_height": 318.015625,
    "deepnote_cell_type": "markdown"
   },
   "source": [
    "### Scratchpad \n",
    "\n",
    "Permite probar código por fuera de las celdas del notebook en el que se está trabajando. \n",
    "Una vez habilitado, el `Scratchpad` actúa como un cuaderno de notas donde se puede ejecutar código sin tener que modificar el notebook. Las celdas del Bloc de notas se ejecutan usando el ícono en la parte inferior derecha de la pantalla, o el atajo de teclado `Ctrl+B`.\n",
    "\n",
    " Ejemplo:\n",
    " \n",
    " El siguiente código se ha ejecutado desde el `Scratchpad`.\n",
    " \n",
    "\n",
    " \n",
    " Se ejecuta una serie de sentencias sin afectar el código de las celdas de los notebooks.\n",
    " "
   ]
  },
  {
   "cell_type": "markdown",
   "metadata": {
    "cell_id": "07f4c7dd84ce45538664f416dadeb357",
    "deepnote_cell_height": 143,
    "deepnote_cell_type": "markdown"
   },
   "source": [
    "### Tabla de contenido (Table of Contents (2))\n",
    "\n",
    "Esta extensión muestra el índice de las secciones y subsecciones en una ventana flotante, por lo general en la parte superior izquierda del notebook. La extensión incluye la opción de añadir una celda de tabla de contenido en la parte superior del cuaderno. Se puede utilizar la tabla de contenido para desplazarse por el notebook, ir a secciones específicas y contraer las secciones."
   ]
  },
  {
   "cell_type": "markdown",
   "metadata": {
    "cell_id": "235d9931cb70430d814f317bbe920fa7",
    "deepnote_cell_height": 121,
    "deepnote_cell_type": "markdown"
   },
   "source": [
    "### RISE\n",
    "\n",
    "RISE permite convertir instantáneamente sus notebooks Jupyter en una presentación de diapositivas. La instalación se realiza con `pip install RISE`o `conda install -c conda-forge rise`. Más información en este [enlace](https://rise.readthedocs.io/en/stable/) o en este [enlace](https://www.blopig.com/blog/2020/10/from-jupyter-to-slides-using-rise/)."
   ]
  },
  {
   "cell_type": "markdown",
   "metadata": {
    "ExecuteTime": {
     "end_time": "2021-11-16T13:42:46.703031Z",
     "start_time": "2021-11-16T13:42:46.689988Z"
    },
    "cell_id": "7db5d93d9ef8463683395b69dfd51bfe",
    "deepnote_cell_height": 957,
    "deepnote_cell_type": "markdown"
   },
   "source": [
    "### Calico document tools\n",
    "\n",
    "Permite la inclusión de citas y referencias bibliográficas.  Para esto se puede habilitar la extensión con:\n",
    "\n",
    "```\n",
    "jupyter nbextension install https://bitbucket.org/ipre/calico/downloads/calico-document-tools-1.0.zip\n",
    "jupyter nbextension enable calico-document-tools\n",
    "```\n",
    "\n",
    "Se genera un boton de `Generate References`, que añadirá una sección de referencias al final del notebook, siempre que se hayan realizado las citas correspondientes. Se generarán enlaces que llevan de la cita a la Referencia y de la Referencia a la cita.\n",
    "\n",
    "Para citar se debe utlizar las siguiente estructura: Ej. `<a name=\"ref-1\"/>[(UNDEFINED)](#cite-nombreref)`. En donde `nombreref` es el nombre de la referencia en formato bibtex.\n",
    "\n",
    "Más información en este [enlace](https://jupyter.brynmawr.edu/services/public/dblank/jupyter.cs/Examples/Calico%20Document%20Tools%20and%20Bibtex.ipynb) o en este [enlace](https://jupyter.brynmawr.edu/services/public/dblank/Jupyter%20Notebook%20Users%20Manual.ipynb).\n",
    "\n",
    "Veamos como aparece la cita en este ejemplo <a name=\"ref-2\"/>[(P&eacute;rez and Granger, 2007)](#cite-PER-GRA:2007) o en este <a name=\"ref-3\"/>[(Kepps, 2002)](#cite-calicoww2:2).\n",
    "\n",
    "Las referencias en formato bibtex se debe incluir en alguna celda markdown del notebook. Para el ejemplo, la estructura es la siguiente:\n",
    "\n",
    "```\n",
    "<!--bibtex\n",
    "\n",
    "@Article{PER-GRA:2007,\n",
    "  Author    = {P\\'erez, Fernando and Granger, Brian E.},\n",
    "  Title     = {{IP}ython: a System for Interactive Scientific Computing},\n",
    "  Journal   = {Computing in Science and Engineering},\n",
    "  Volume    = {9},\n",
    "  Number    = {3},\n",
    "  Pages     = {21--29},\n",
    "  month     = may,\n",
    "  year      = 2007,\n",
    "  url       = \"http://ipython.org\",\n",
    "  ISSN      = \"1521-9615\",\n",
    "  doi       = {10.1109/MCSE.2007.53},\n",
    "  publisher = {IEEE Computer Society},\n",
    "}\n",
    "\n",
    "@book{calicoww2:2,\n",
    "    title = {Rebuilding Calico After Japanese Occupation},\n",
    "    author = {Kepps, Milo },\n",
    "    year = {2002},\n",
    "    publisher = {Python Books}\n",
    "}\n",
    "... Otras referencias Bibtex aquí.\n",
    "\n",
    "-->\n",
    "```"
   ]
  },
  {
   "cell_type": "markdown",
   "metadata": {
    "cell_id": "52e8f0071ee748118b5127fc9e5d90f0",
    "deepnote_cell_height": 45.71875,
    "deepnote_cell_type": "markdown"
   },
   "source": [
    "<!--bibtex\n",
    "\n",
    "@Article{PER-GRA:2007,\n",
    "  Author    = {P\\'erez, Fernando and Granger, Brian E.},\n",
    "  Title     = {{IP}ython: a System for Interactive Scientific Computing},\n",
    "  Journal   = {Computing in Science and Engineering},\n",
    "  Volume    = {9},\n",
    "  Number    = {3},\n",
    "  Pages     = {21--29},\n",
    "  month     = may,\n",
    "  year      = 2007,\n",
    "  url       = \"http://ipython.org\",\n",
    "  ISSN      = \"1521-9615\",\n",
    "  doi       = {10.1109/MCSE.2007.53},\n",
    "  publisher = {IEEE Computer Society},\n",
    "}\n",
    "\n",
    "@book{calicoww2:2,\n",
    "    title = {Rebuilding Calico After Japanese Occupation},\n",
    "    author = {Kepps, Milo },\n",
    "    year = {2002},\n",
    "    publisher = {Python Books}\n",
    "}\n",
    "... Otras referencias Bibtex aquí.\n",
    "\n",
    "-->"
   ]
  },
  {
   "cell_type": "markdown",
   "metadata": {
    "cell_id": "97e49ee8e2b7480a971e801808795ae0",
    "deepnote_cell_height": 417.390625,
    "deepnote_cell_type": "markdown"
   },
   "source": [
    "### Autopep8-Black:\n",
    "\n",
    "Existen diferentes herramientas para ayudar a dar formato automático al código. Dos de ellas son `Autopep8` y `Black`. La primera se instala con `pip install autopep8` y la segunda con `pip install nb-black`.\n",
    "\n",
    "La primera genera una extensión que debe ser habilitada: \n",
    "\n",
    " [$\\checkmark$] Autopep8.    \n",
    "\n",
    "La segunda, se habilita con `%load_ext lab_black`. \n",
    "\n",
    " Ejemplo: (Formatear el siguiente código). \n",
    "\n",
    "```\n",
    "def foo():\n",
    " return 2021\n",
    " \n",
    "Diccionario= {\"brand\": \"Ford\", \"model\": \"Mustang\", \"year\": 1964, \"brand\": \"Bmw\", \"model\": \"M3\", \"year\": 1980} `\n",
    "    "
   ]
  },
  {
   "cell_type": "code",
   "execution_count": null,
   "metadata": {
    "ExecuteTime": {
     "end_time": "2022-09-03T23:46:11.638452Z",
     "start_time": "2022-09-03T23:46:11.628453Z"
    },
    "cell_id": "c3135f9e837e4414959f10587a643566",
    "deepnote_cell_height": 191.6875,
    "deepnote_cell_type": "code"
   },
   "outputs": [],
   "source": [
    "\"\"\"\n",
    "%load_ext lab_black\n",
    "\n",
    "\n",
    "def foo():\n",
    " return 2021\n",
    "\n",
    "Diccionario= {\"brand\": \"Ford\", \"model\": \"Mustang\", \"year\": 1964, \"brand\": \"Bmw\", \"model\": \"M3\", \"year\": 1980} \"\"\""
   ]
  },
  {
   "cell_type": "markdown",
   "metadata": {
    "cell_id": "c4b3378800c64de6b8fa94f11f9f59b3",
    "deepnote_cell_height": 1083.59375,
    "deepnote_cell_type": "markdown"
   },
   "source": [
    "## Alguno tipos de Objetos\n",
    "\n",
    "\n",
    "\n",
    "\n",
    "\n",
    " Como tantos otros lenguajes de programación, Python ofrece, de entrada, los tipos de datos enteros, reales, booleanos y cadenas de caracteres. También permite el manejo de números complejos sin importar librería alguna. Veamos algunas operaciones básicas con estos tipos de datos.\n"
   ]
  },
  {
   "cell_type": "code",
   "execution_count": null,
   "metadata": {
    "ExecuteTime": {
     "end_time": "2022-09-04T06:30:01.133784Z",
     "start_time": "2022-09-04T06:30:01.118247Z"
    },
    "cell_id": "87d774d10b644b8ab448adf125358865",
    "deepnote_cell_height": 636.6875,
    "deepnote_cell_type": "code"
   },
   "outputs": [],
   "source": [
    "import pandas as pd\n",
    "\n",
    "x=\"hola\"\n",
    "print(x, type(x))\n",
    "\n",
    "x=1\n",
    "print(x, type(x))\n",
    "\n",
    "x=1.5\n",
    "print(x, type(x))\n",
    "\n",
    "x=1j\n",
    "print(x, type(x))\n",
    "\n",
    "x = [\"apple\", \"banana\", \"cherry\"]\n",
    "print(x, type(x))\n",
    "\n",
    "x = (\"apple\", \"banana\", \"cherry\")\n",
    "print(x, type(x))\n",
    "\n",
    "x = {\"name\" : \"Javier\", \"age\" : 36}\n",
    "print(x, type(x))\n",
    "\n",
    "x = {\"name\": [\"Joe\", \"Bob\", \"Harry\"],\n",
    "                 \"age\": [10,15,20] , \n",
    "                 \"city\": [\"Paris\", \"New York\", \"Tokyo\"]}\n",
    "print(pd.DataFrame(x), type(x))\n",
    "\n",
    "x = {\"apple\", \"banana\", \"cherry\"}\n",
    "print(x, type(x))\n",
    "\n",
    "x = True\n",
    "print(x, type(x))"
   ]
  },
  {
   "cell_type": "code",
   "execution_count": null,
   "metadata": {
    "ExecuteTime": {
     "end_time": "2022-09-04T14:36:52.860666Z",
     "start_time": "2022-09-04T14:36:52.836129Z"
    },
    "cell_id": "51097e9de5f443aeb5172cdb22f14645",
    "deepnote_cell_height": 123.65625,
    "deepnote_cell_type": "code"
   },
   "outputs": [
    {
     "name": "stdout",
     "output_type": "stream",
     "text": [
      "{'banana', 'apple', 'cherry'} <class 'set'>\n"
     ]
    }
   ],
   "source": [
    "x = {\"apple\", \"banana\", \"cherry\"}\n",
    "print(x, type(x))"
   ]
  },
  {
   "cell_type": "markdown",
   "metadata": {
    "cell_id": "5fcc03b8101a4484b5929027c5129a35",
    "deepnote_cell_height": 69.6875,
    "deepnote_cell_type": "markdown"
   },
   "source": [
    "## Operaciones en Python ([source](https://www.w3schools.com/python/python_operators.asp))"
   ]
  },
  {
   "cell_type": "markdown",
   "metadata": {
    "cell_id": "6de59051e57f4229be651ec6796e87e8",
    "deepnote_cell_height": 60.984375,
    "deepnote_cell_type": "markdown"
   },
   "source": [
    "### Operadores artiméticos"
   ]
  },
  {
   "cell_type": "code",
   "execution_count": null,
   "metadata": {
    "ExecuteTime": {
     "end_time": "2022-09-04T14:44:13.161563Z",
     "start_time": "2022-09-04T14:44:13.138775Z"
    },
    "cell_id": "68b8ff6da29844a7aaaa62cd4e2570f5",
    "deepnote_cell_height": 129.65625,
    "deepnote_cell_type": "code",
    "deepnote_output_heights": [
     20.109375
    ]
   },
   "outputs": [
    {
     "data": {
      "text/plain": [
       "(10, -4, 17, 35, 19)"
      ]
     },
     "execution_count": 30,
     "metadata": {},
     "output_type": "execute_result"
    }
   ],
   "source": [
    "#Ejemplo\n",
    "(3+7, 3-7, 3 + 2*7, (3+2)*7, 1 + 2 * 3**2)"
   ]
  },
  {
   "cell_type": "code",
   "execution_count": null,
   "metadata": {
    "ExecuteTime": {
     "end_time": "2022-09-04T14:45:04.852787Z",
     "start_time": "2022-09-04T14:45:04.834795Z"
    },
    "cell_id": "83362880bdca48db9cb70debd740fb2d",
    "deepnote_cell_height": 129.65625,
    "deepnote_cell_type": "code",
    "deepnote_output_heights": [
     20.109375
    ]
   },
   "outputs": [
    {
     "data": {
      "text/plain": [
       "(3.4, 3, 2)"
      ]
     },
     "execution_count": 31,
     "metadata": {},
     "output_type": "execute_result"
    }
   ],
   "source": [
    "#Ejemplo\n",
    "17 / 5, 17 // 5, 17 % 5"
   ]
  },
  {
   "cell_type": "markdown",
   "metadata": {
    "cell_id": "d366e2f9017c4e36b60af8513ddaec51",
    "deepnote_cell_height": 60.984375,
    "deepnote_cell_type": "markdown"
   },
   "source": [
    "### Operadores de asignación"
   ]
  },
  {
   "cell_type": "code",
   "execution_count": null,
   "metadata": {
    "ExecuteTime": {
     "end_time": "2022-09-04T14:47:06.168226Z",
     "start_time": "2022-09-04T14:47:06.156226Z"
    },
    "cell_id": "f7f08f2092794ed5b3d9aff9f49f0100",
    "deepnote_cell_height": 141.65625,
    "deepnote_cell_type": "code"
   },
   "outputs": [
    {
     "name": "stdout",
     "output_type": "stream",
     "text": [
      "8 <class 'int'>\n"
     ]
    }
   ],
   "source": [
    "x=2\n",
    "x**=3\n",
    "print(x, type(x))"
   ]
  },
  {
   "cell_type": "markdown",
   "metadata": {
    "cell_id": "d0c466f20da64c36932b11b288e8d661",
    "deepnote_cell_height": 100.984375,
    "deepnote_cell_type": "markdown"
   },
   "source": [
    "### Operadores de Comparación\n"
   ]
  },
  {
   "cell_type": "code",
   "execution_count": null,
   "metadata": {
    "ExecuteTime": {
     "end_time": "2022-09-04T14:49:34.261592Z",
     "start_time": "2022-09-04T14:49:34.234594Z"
    },
    "cell_id": "3bccdfd73fee4e91ba11e9d87f4f3187",
    "deepnote_cell_height": 214.78125,
    "deepnote_cell_type": "code"
   },
   "outputs": [
    {
     "name": "stdout",
     "output_type": "stream",
     "text": [
      "True\n",
      "False\n"
     ]
    }
   ],
   "source": [
    "#Ejemplo\n",
    "x=4\n",
    "print(x>3)\n",
    "\n",
    "x=3\n",
    "print(x>3)"
   ]
  },
  {
   "cell_type": "code",
   "execution_count": null,
   "metadata": {
    "ExecuteTime": {
     "end_time": "2022-09-04T14:51:42.391516Z",
     "start_time": "2022-09-04T14:51:42.368517Z"
    },
    "cell_id": "b27380e693d4498aa7294352d7f10dd2",
    "deepnote_cell_height": 435.3125,
    "deepnote_cell_type": "code"
   },
   "outputs": [
    {
     "name": "stdout",
     "output_type": "stream",
     "text": [
      "x > y is False\n",
      "x < y is True\n",
      "x == y is False\n",
      "x != y is True\n",
      "x >= y is False\n",
      "x <= y is True\n"
     ]
    }
   ],
   "source": [
    "x = 10\n",
    "y = 12\n",
    "\n",
    "print('x > y is',x>y)\n",
    "\n",
    "print('x < y is',x<y)\n",
    "\n",
    "print('x == y is',x==y)\n",
    "\n",
    "print('x != y is',x!=y)\n",
    "\n",
    "print('x >= y is',x>=y)\n",
    "\n",
    "print('x <= y is',x<=y)"
   ]
  },
  {
   "cell_type": "markdown",
   "metadata": {
    "cell_id": "6a40b2ccfc174bc8bd2cda40c2836057",
    "deepnote_cell_height": 100.984375,
    "deepnote_cell_type": "markdown"
   },
   "source": [
    "### Operadores de identidad ([source](https://www.programiz.com/python-programming/operators))\n",
    "\n"
   ]
  },
  {
   "cell_type": "code",
   "execution_count": null,
   "metadata": {
    "ExecuteTime": {
     "end_time": "2022-09-04T14:53:57.289735Z",
     "start_time": "2022-09-04T14:53:57.263178Z"
    },
    "cell_id": "1bd1fd4b2cbb41bc9745e365e0db1e92",
    "deepnote_cell_height": 341.921875,
    "deepnote_cell_type": "code"
   },
   "outputs": [
    {
     "name": "stdout",
     "output_type": "stream",
     "text": [
      "False\n",
      "True\n",
      "False\n"
     ]
    }
   ],
   "source": [
    "x1 = 5\n",
    "y1 = 5\n",
    "x2 = 'Hello'\n",
    "y2 = 'Hello'\n",
    "x3 = [1,2,3]\n",
    "y3 = [1,2,3]\n",
    "\n",
    "print(x1 is not y1)\n",
    "\n",
    "print(x2 is y2)\n",
    "\n",
    "print(x3 is y3)"
   ]
  },
  {
   "cell_type": "markdown",
   "metadata": {
    "ExecuteTime": {
     "end_time": "2022-09-04T06:54:00.232707Z",
     "start_time": "2022-09-04T06:54:00.226709Z"
    },
    "cell_id": "c4f0555d67b54b9297b688de5a76c611",
    "deepnote_cell_height": 100.984375,
    "deepnote_cell_type": "markdown"
   },
   "source": [
    "### Operadores de membresía ([source](https://www.programiz.com/python-programming/operators))\n",
    "\n"
   ]
  },
  {
   "cell_type": "code",
   "execution_count": null,
   "metadata": {
    "ExecuteTime": {
     "end_time": "2022-09-04T14:55:25.431659Z",
     "start_time": "2022-09-04T14:55:25.416653Z"
    },
    "cell_id": "e343780c8fdb4b1d896680ce46b79dda",
    "deepnote_cell_height": 325.0625,
    "deepnote_cell_type": "code"
   },
   "outputs": [
    {
     "name": "stdout",
     "output_type": "stream",
     "text": [
      "True\n",
      "True\n",
      "True\n",
      "False\n"
     ]
    }
   ],
   "source": [
    "x = 'Hello world'\n",
    "y = [1,2]\n",
    "\n",
    "print('H' in x)\n",
    "\n",
    "print('hello' not in x)\n",
    "\n",
    "print(1 in y)\n",
    "\n",
    "print('a' in y)"
   ]
  },
  {
   "cell_type": "markdown",
   "metadata": {
    "cell_id": "1dacf2d561844b229477f877c219dc50",
    "deepnote_cell_height": 121.875,
    "deepnote_cell_type": "markdown"
   },
   "source": [
    "### Operadores Lógicos ([source](https://www.programiz.com/python-programming/operators))\n",
    "\n"
   ]
  },
  {
   "cell_type": "code",
   "execution_count": null,
   "metadata": {
    "ExecuteTime": {
     "end_time": "2022-09-04T14:56:19.042236Z",
     "start_time": "2022-09-04T14:56:19.022230Z"
    },
    "cell_id": "740d7358833643bd9fb0735fb38a4919",
    "deepnote_cell_height": 269.921875,
    "deepnote_cell_type": "code"
   },
   "outputs": [
    {
     "name": "stdout",
     "output_type": "stream",
     "text": [
      "x and y is False\n",
      "x or y is True\n",
      "not x is False\n"
     ]
    }
   ],
   "source": [
    "x = True\n",
    "y = False\n",
    "\n",
    "print('x and y is',x and y)\n",
    "\n",
    "print('x or y is',x or y)\n",
    "\n",
    "print('not x is',not x)"
   ]
  },
  {
   "cell_type": "markdown",
   "metadata": {
    "cell_id": "594abaea99cb46399db367ef79c385e4",
    "deepnote_cell_height": 129.140625,
    "deepnote_cell_type": "markdown"
   },
   "source": [
    "## Transformación de tipos de datos\n",
    "\n",
    "Una utilidad muy importante en todos los lenguajes de programación es hacer transformaciones entre tipos de datos. A continuación, vamos a hacer un repaso de algunas de las transformaciones de tipos de datos permitidas en Python."
   ]
  },
  {
   "cell_type": "code",
   "execution_count": null,
   "metadata": {
    "ExecuteTime": {
     "end_time": "2022-09-04T14:57:57.446432Z",
     "start_time": "2022-09-04T14:57:57.423433Z"
    },
    "cell_id": "f1bca6045e164e729edf528f050d9d84",
    "deepnote_cell_height": 129.65625,
    "deepnote_cell_type": "code",
    "deepnote_output_heights": [
     20.109375
    ]
   },
   "outputs": [
    {
     "data": {
      "text/plain": [
       "'10'"
      ]
     },
     "execution_count": 38,
     "metadata": {},
     "output_type": "execute_result"
    }
   ],
   "source": [
    "x= 10\n",
    "str(x) # Devolverá ‘10’ cadena"
   ]
  },
  {
   "cell_type": "code",
   "execution_count": null,
   "metadata": {
    "ExecuteTime": {
     "end_time": "2022-09-04T15:02:08.459768Z",
     "start_time": "2022-09-04T15:02:08.437774Z"
    },
    "cell_id": "f425e406f3c64f85be855ce73aac1146",
    "deepnote_cell_height": 165.65625,
    "deepnote_cell_type": "code",
    "deepnote_output_heights": [
     20.109375
    ]
   },
   "outputs": [
    {
     "data": {
      "text/plain": [
       "10"
      ]
     },
     "execution_count": 41,
     "metadata": {},
     "output_type": "execute_result"
    }
   ],
   "source": [
    "x1 = 10.78\n",
    "x2 = \"Hola\"\n",
    "int(x1) # esto convierte en entero\n",
    "#int(x2) "
   ]
  },
  {
   "cell_type": "code",
   "execution_count": null,
   "metadata": {
    "ExecuteTime": {
     "end_time": "2022-09-04T15:02:45.805355Z",
     "start_time": "2022-09-04T15:02:45.790361Z"
    },
    "cell_id": "287ca5ee38ac498fb1d98a521ab42a7c",
    "deepnote_cell_height": 129.65625,
    "deepnote_cell_type": "code",
    "deepnote_output_heights": [
     20.109375
    ]
   },
   "outputs": [
    {
     "data": {
      "text/plain": [
       "30.0"
      ]
     },
     "execution_count": 42,
     "metadata": {},
     "output_type": "execute_result"
    }
   ],
   "source": [
    "valor1 = 30\n",
    "float(valor1) "
   ]
  },
  {
   "cell_type": "code",
   "execution_count": null,
   "metadata": {
    "ExecuteTime": {
     "end_time": "2022-09-04T15:03:06.786931Z",
     "start_time": "2022-09-04T15:03:06.765949Z"
    },
    "cell_id": "fbfb95bee8a945cf944ef358b9b3ee1f",
    "deepnote_cell_height": 129.65625,
    "deepnote_cell_type": "code",
    "deepnote_output_heights": [
     20.109375
    ]
   },
   "outputs": [
    {
     "data": {
      "text/plain": [
       "(10.78+0j)"
      ]
     },
     "execution_count": 43,
     "metadata": {},
     "output_type": "execute_result"
    }
   ],
   "source": [
    "valor1 = 10.78\n",
    "complex(valor1) "
   ]
  },
  {
   "cell_type": "markdown",
   "metadata": {
    "cell_id": "ef6305c72dcb4cc6a7ee32ed2b1b5585",
    "deepnote_cell_height": 230.09375,
    "deepnote_cell_type": "markdown"
   },
   "source": [
    "## Listas\n",
    "\n",
    "Las listas son las estructuras de datos más utilizadas en Python. Una lista es una estructura que nos permite tener un conjunto de objetos separados por comas. Esta estructura de datos es mutable, es decir, podemos cambiar el valor de una lista que hemos creado como, por ejemplo, cambiar el orden de los elementos, eliminar elementos, etc.\n",
    "\n",
    "En una lista pueden existir elementos de diferentes tipos, es decir, elementos con diferentes tipos de datos o, incluso, diferentes estructuras de datos. Sin embargo, lo normal es que todos los elementos de una lista sean del mismo tipo. Para declarar una lista, escribimos entre corchetes ([]) un conjunto de elementos separados por comas:"
   ]
  },
  {
   "cell_type": "code",
   "execution_count": null,
   "metadata": {
    "ExecuteTime": {
     "end_time": "2022-09-11T12:10:13.256039Z",
     "start_time": "2022-09-11T12:10:13.241034Z"
    },
    "cell_id": "25fc11e65fbf48c08d3074d3ca2b1d8d",
    "deepnote_cell_height": 60.6875,
    "deepnote_cell_type": "code"
   },
   "outputs": [],
   "source": [
    "lista = [3, 'Hello', True]"
   ]
  },
  {
   "cell_type": "code",
   "execution_count": null,
   "metadata": {
    "ExecuteTime": {
     "end_time": "2022-09-11T12:13:49.297424Z",
     "start_time": "2022-09-11T12:13:49.279423Z"
    },
    "cell_id": "13a9f269116640a3a17712d4671bebeb",
    "deepnote_cell_height": 141.65625,
    "deepnote_cell_type": "code"
   },
   "outputs": [
    {
     "name": "stdout",
     "output_type": "stream",
     "text": [
      "3 True Hello\n"
     ]
    }
   ],
   "source": [
    "#Llamar un elemento de la lista\n",
    "print(lista[0], lista[-1], lista[-2])\n"
   ]
  },
  {
   "cell_type": "code",
   "execution_count": null,
   "metadata": {
    "ExecuteTime": {
     "end_time": "2022-09-11T12:15:34.033599Z",
     "start_time": "2022-09-11T12:15:34.009630Z"
    },
    "cell_id": "199ad7a7cb984632986a62ed532dc644",
    "deepnote_cell_height": 129.65625,
    "deepnote_cell_type": "code",
    "deepnote_output_heights": [
     20.109375
    ]
   },
   "outputs": [
    {
     "data": {
      "text/plain": [
       "[3, 'Hello']"
      ]
     },
     "execution_count": 57,
     "metadata": {},
     "output_type": "execute_result"
    }
   ],
   "source": [
    "#llama elemento sin incluir el valor de la última posición\n",
    "lista[:2]"
   ]
  },
  {
   "cell_type": "code",
   "execution_count": null,
   "metadata": {
    "ExecuteTime": {
     "end_time": "2022-09-11T12:17:24.780565Z",
     "start_time": "2022-09-11T12:17:24.770569Z"
    },
    "cell_id": "eb0ec7ccc2c749e2b01ed87f78926258",
    "deepnote_cell_height": 111.640625,
    "deepnote_cell_type": "code",
    "deepnote_output_heights": [
     20.109375
    ]
   },
   "outputs": [
    {
     "data": {
      "text/plain": [
       "['Hello', True]"
      ]
     },
     "execution_count": 58,
     "metadata": {},
     "output_type": "execute_result"
    }
   ],
   "source": [
    "lista[1:]"
   ]
  },
  {
   "cell_type": "code",
   "execution_count": null,
   "metadata": {
    "ExecuteTime": {
     "end_time": "2022-09-11T12:18:58.349322Z",
     "start_time": "2022-09-11T12:18:58.330321Z"
    },
    "cell_id": "ddf3010cc1204645b0a2f1e4442586b5",
    "deepnote_cell_height": 129.65625,
    "deepnote_cell_type": "code",
    "deepnote_output_heights": [
     20.109375
    ]
   },
   "outputs": [
    {
     "data": {
      "text/plain": [
       "3"
      ]
     },
     "execution_count": 59,
     "metadata": {},
     "output_type": "execute_result"
    }
   ],
   "source": [
    "#Funciones\n",
    "len(lista)"
   ]
  },
  {
   "cell_type": "code",
   "execution_count": null,
   "metadata": {
    "ExecuteTime": {
     "end_time": "2022-09-11T12:20:08.742611Z",
     "start_time": "2022-09-11T12:20:08.727611Z"
    },
    "cell_id": "ab8edd3addc74ee69fa221a9bbca8ea8",
    "deepnote_cell_height": 111.640625,
    "deepnote_cell_type": "code",
    "deepnote_output_heights": [
     20.109375
    ]
   },
   "outputs": [
    {
     "data": {
      "text/plain": [
       "1"
      ]
     },
     "execution_count": 61,
     "metadata": {},
     "output_type": "execute_result"
    }
   ],
   "source": [
    "lista.index('Hello')"
   ]
  },
  {
   "cell_type": "code",
   "execution_count": null,
   "metadata": {
    "ExecuteTime": {
     "end_time": "2022-09-11T12:21:02.865660Z",
     "start_time": "2022-09-11T12:21:02.849663Z"
    },
    "cell_id": "3df764e699fa46f88b9cce771d148cc6",
    "deepnote_cell_height": 147.65625,
    "deepnote_cell_type": "code",
    "deepnote_output_heights": [
     20.109375
    ]
   },
   "outputs": [
    {
     "data": {
      "text/plain": [
       "[3, 'Adiós', 'Hola', True]"
      ]
     },
     "execution_count": 62,
     "metadata": {},
     "output_type": "execute_result"
    }
   ],
   "source": [
    "lista = [3, 'Hola', True]\n",
    "lista.insert(1, 'Adiós')\n",
    "lista "
   ]
  },
  {
   "cell_type": "code",
   "execution_count": null,
   "metadata": {
    "ExecuteTime": {
     "end_time": "2022-09-11T12:22:20.338625Z",
     "start_time": "2022-09-11T12:22:20.314629Z"
    },
    "cell_id": "98fd63554e134ad4aac572c9e261abc1",
    "deepnote_cell_height": 147.65625,
    "deepnote_cell_type": "code",
    "deepnote_output_heights": [
     20.109375
    ]
   },
   "outputs": [
    {
     "data": {
      "text/plain": [
       "[3, 'Hola', True, [3, 4]]"
      ]
     },
     "execution_count": 63,
     "metadata": {},
     "output_type": "execute_result"
    }
   ],
   "source": [
    "lista = [3, 'Hola', True]\n",
    "lista.append([3, 4])\n",
    "lista"
   ]
  },
  {
   "cell_type": "code",
   "execution_count": null,
   "metadata": {
    "ExecuteTime": {
     "end_time": "2022-09-11T12:22:57.976550Z",
     "start_time": "2022-09-11T12:22:57.952155Z"
    },
    "cell_id": "9c51ee7c6549422ba5c9e8ab34414b82",
    "deepnote_cell_height": 147.65625,
    "deepnote_cell_type": "code",
    "deepnote_output_heights": [
     20.109375
    ]
   },
   "outputs": [
    {
     "data": {
      "text/plain": [
       "[3, True, 'Hola']"
      ]
     },
     "execution_count": 64,
     "metadata": {},
     "output_type": "execute_result"
    }
   ],
   "source": [
    "lista = [3, 'Hola', True, 'Hola']\n",
    "lista.remove('Hola')\n",
    "lista"
   ]
  },
  {
   "cell_type": "code",
   "execution_count": null,
   "metadata": {
    "ExecuteTime": {
     "end_time": "2022-09-11T12:25:30.370853Z",
     "start_time": "2022-09-11T12:25:30.356860Z"
    },
    "cell_id": "e349a08b5fb64d0aa49de93b7848bb1f",
    "deepnote_cell_height": 183.65625,
    "deepnote_cell_type": "code",
    "deepnote_output_heights": [
     20.109375
    ]
   },
   "outputs": [
    {
     "data": {
      "text/plain": [
       "['Hola', 3, True, 'Hola']"
      ]
     },
     "execution_count": 68,
     "metadata": {},
     "output_type": "execute_result"
    }
   ],
   "source": [
    "lista = [3, 'Hola', True, 'Hola']\n",
    "lista.count('Hola')\n",
    "lista[0]=\"Hola\"\n",
    "lista[1]=3\n",
    "lista"
   ]
  },
  {
   "cell_type": "code",
   "execution_count": null,
   "metadata": {
    "ExecuteTime": {
     "end_time": "2022-09-11T12:24:02.583894Z",
     "start_time": "2022-09-11T12:24:02.567894Z"
    },
    "cell_id": "239b6e5016b4497eb9f872a897cbdc04",
    "deepnote_cell_height": 147.65625,
    "deepnote_cell_type": "code",
    "deepnote_output_heights": [
     20.109375
    ]
   },
   "outputs": [
    {
     "data": {
      "text/plain": [
       "[0, 1, 4, 5, 6, 7, 9]"
      ]
     },
     "execution_count": 66,
     "metadata": {},
     "output_type": "execute_result"
    }
   ],
   "source": [
    "lista = [6, 4, 1, 9, 7, 0, 5]\n",
    "lista.sort()\n",
    "lista"
   ]
  },
  {
   "cell_type": "code",
   "execution_count": null,
   "metadata": {
    "ExecuteTime": {
     "end_time": "2022-09-11T12:26:03.769581Z",
     "start_time": "2022-09-11T12:26:03.754578Z"
    },
    "cell_id": "a8a2fa4ddd8b4ca49d183631a6644feb",
    "deepnote_cell_height": 147.65625,
    "deepnote_cell_type": "code",
    "deepnote_output_heights": [
     20.109375
    ]
   },
   "outputs": [
    {
     "data": {
      "text/plain": [
       "[9, 7, 6, 5, 4, 1, 0]"
      ]
     },
     "execution_count": 69,
     "metadata": {},
     "output_type": "execute_result"
    }
   ],
   "source": [
    "lista = [6, 4, 1, 9, 7, 0, 5]\n",
    "lista.sort(reverse=True)\n",
    "lista"
   ]
  },
  {
   "cell_type": "code",
   "execution_count": null,
   "metadata": {
    "ExecuteTime": {
     "end_time": "2022-09-11T12:26:56.100988Z",
     "start_time": "2022-09-11T12:26:56.087986Z"
    },
    "cell_id": "95e17ac6e838489eb55c8acd7e6ab088",
    "deepnote_cell_height": 141.65625,
    "deepnote_cell_type": "code"
   },
   "outputs": [
    {
     "name": "stdout",
     "output_type": "stream",
     "text": [
      "[6, 1, 9, 7, 0, 5] 4\n"
     ]
    }
   ],
   "source": [
    "lista = [6, 4, 1, 9, 7, 0, 5]\n",
    "num=lista.pop(1) \n",
    "print(lista, num)"
   ]
  },
  {
   "cell_type": "markdown",
   "metadata": {
    "cell_id": "3cff5e3737294dadad90b7fbc59ba0a4",
    "deepnote_cell_height": 150.890625,
    "deepnote_cell_type": "markdown"
   },
   "source": [
    "## Conjuntos\n",
    "\n",
    "Los conjuntos son colecciones no ordenadas de elementos. Además, los conjuntos no contienen repetición de elementos, es decir, se eliminan todos los elementos duplicados. Para crear un conjunto podemos indicar un conjunto de objetos separados por comas y delimitados por llaves {}."
   ]
  },
  {
   "cell_type": "code",
   "execution_count": null,
   "metadata": {
    "ExecuteTime": {
     "end_time": "2022-09-11T12:30:49.366025Z",
     "start_time": "2022-09-11T12:30:49.341026Z"
    },
    "cell_id": "ed750b8842d4468ea7cda1fcb7a2d6f9",
    "deepnote_cell_height": 129.65625,
    "deepnote_cell_type": "code",
    "deepnote_output_heights": [
     20.109375
    ]
   },
   "outputs": [
    {
     "data": {
      "text/plain": [
       "{'audi', 'ferrari', 'mercedes', 'renault', 'seat'}"
      ]
     },
     "execution_count": 73,
     "metadata": {},
     "output_type": "execute_result"
    }
   ],
   "source": [
    "conjunto = {'audi', 'mercedes', 'seat', 'ferrari', 'ferrari', 'renault'}\n",
    "conjunto"
   ]
  },
  {
   "cell_type": "code",
   "execution_count": null,
   "metadata": {
    "ExecuteTime": {
     "end_time": "2022-09-11T12:31:17.287071Z",
     "start_time": "2022-09-11T12:31:17.276069Z"
    },
    "cell_id": "492933c401994f5fa11cba10fde3a932",
    "deepnote_cell_height": 129.65625,
    "deepnote_cell_type": "code",
    "deepnote_output_heights": [
     20.109375
    ]
   },
   "outputs": [
    {
     "data": {
      "text/plain": [
       "set()"
      ]
     },
     "execution_count": 74,
     "metadata": {},
     "output_type": "execute_result"
    }
   ],
   "source": [
    "vacio= set()\n",
    "vacio # Nos mostrará {}"
   ]
  },
  {
   "cell_type": "code",
   "execution_count": null,
   "metadata": {
    "ExecuteTime": {
     "end_time": "2022-09-11T12:32:04.944325Z",
     "start_time": "2022-09-11T12:32:04.917327Z"
    },
    "cell_id": "1599eb56b35d4176a170938e19c0202e",
    "deepnote_cell_height": 165.65625,
    "deepnote_cell_type": "code",
    "deepnote_output_heights": [
     20.109375
    ]
   },
   "outputs": [
    {
     "data": {
      "text/plain": [
       "{1, 2, 3, 4, 5}"
      ]
     },
     "execution_count": 75,
     "metadata": {},
     "output_type": "execute_result"
    }
   ],
   "source": [
    "#Unión\n",
    "conjunto1 = {1, 2, 3}\n",
    "conjunto2 = {3, 4, 5}\n",
    "conjunto1.union(conjunto2)"
   ]
  },
  {
   "cell_type": "code",
   "execution_count": null,
   "metadata": {
    "ExecuteTime": {
     "end_time": "2022-09-11T12:32:19.233076Z",
     "start_time": "2022-09-11T12:32:19.211076Z"
    },
    "cell_id": "bce46d736aa04866bd3cd22f1f419a2b",
    "deepnote_cell_height": 165.65625,
    "deepnote_cell_type": "code",
    "deepnote_output_heights": [
     20.109375
    ]
   },
   "outputs": [
    {
     "data": {
      "text/plain": [
       "{3}"
      ]
     },
     "execution_count": 76,
     "metadata": {},
     "output_type": "execute_result"
    }
   ],
   "source": [
    "#Intersección\n",
    "conjunto1 = {1, 2, 3}\n",
    "conjunto2 = {3, 4, 5}\n",
    "conjunto1.intersection(conjunto2)"
   ]
  },
  {
   "cell_type": "code",
   "execution_count": null,
   "metadata": {
    "ExecuteTime": {
     "end_time": "2022-09-11T12:32:41.005837Z",
     "start_time": "2022-09-11T12:32:40.994832Z"
    },
    "cell_id": "4a384e1cb79043d78e47095c79037285",
    "deepnote_cell_height": 165.65625,
    "deepnote_cell_type": "code",
    "deepnote_output_heights": [
     20.109375
    ]
   },
   "outputs": [
    {
     "data": {
      "text/plain": [
       "{1, 2}"
      ]
     },
     "execution_count": 77,
     "metadata": {},
     "output_type": "execute_result"
    }
   ],
   "source": [
    "#Diferencia\n",
    "conjunto1 = {1, 2, 3}\n",
    "conjunto2 = {3, 4, 5}\n",
    "conjunto1.difference(conjunto2)"
   ]
  },
  {
   "cell_type": "code",
   "execution_count": null,
   "metadata": {
    "ExecuteTime": {
     "end_time": "2022-09-11T12:33:13.916618Z",
     "start_time": "2022-09-11T12:33:13.895618Z"
    },
    "cell_id": "5ac794149d2b43d5855657a2a8287c76",
    "deepnote_cell_height": 165.65625,
    "deepnote_cell_type": "code",
    "deepnote_output_heights": [
     20.109375
    ]
   },
   "outputs": [
    {
     "data": {
      "text/plain": [
       "{1, 2, 4, 5}"
      ]
     },
     "execution_count": 78,
     "metadata": {},
     "output_type": "execute_result"
    }
   ],
   "source": [
    "#Diferencia simétrica\n",
    "conjunto1 = {1, 2, 3}\n",
    "conjunto2 = {3, 4, 5}\n",
    "conjunto1.symmetric_difference(conjunto2)"
   ]
  },
  {
   "cell_type": "code",
   "execution_count": null,
   "metadata": {
    "ExecuteTime": {
     "end_time": "2022-09-11T12:33:45.831376Z",
     "start_time": "2022-09-11T12:33:45.812418Z"
    },
    "cell_id": "0f6ab1a856a843bb8e8e5f2ca105c67b",
    "deepnote_cell_height": 129.65625,
    "deepnote_cell_type": "code",
    "deepnote_output_heights": [
     20.109375
    ]
   },
   "outputs": [
    {
     "data": {
      "text/plain": [
       "True"
      ]
     },
     "execution_count": 79,
     "metadata": {},
     "output_type": "execute_result"
    }
   ],
   "source": [
    "#Pertenencia\n",
    "1 in conjunto1"
   ]
  },
  {
   "cell_type": "code",
   "execution_count": null,
   "metadata": {
    "ExecuteTime": {
     "end_time": "2022-09-11T12:34:26.157450Z",
     "start_time": "2022-09-11T12:34:26.134431Z"
    },
    "cell_id": "2992d6a5a11042d99172b5783ceba519",
    "deepnote_cell_height": 147.65625,
    "deepnote_cell_type": "code",
    "deepnote_output_heights": [
     20.109375
    ]
   },
   "outputs": [
    {
     "data": {
      "text/plain": [
       "3"
      ]
     },
     "execution_count": 81,
     "metadata": {},
     "output_type": "execute_result"
    }
   ],
   "source": [
    "#cardinal de un conjunto\n",
    "conjunto1 = {1, 2, 3, 3, 3,3,3,3}\n",
    "len(conjunto1)"
   ]
  },
  {
   "cell_type": "code",
   "execution_count": null,
   "metadata": {
    "ExecuteTime": {
     "end_time": "2022-09-11T12:36:29.437448Z",
     "start_time": "2022-09-11T12:36:29.418450Z"
    },
    "cell_id": "ba5f991828794aafa6f0f79dccf90f3c",
    "deepnote_cell_height": 196.796875,
    "deepnote_cell_type": "code"
   },
   "outputs": [
    {
     "name": "stdout",
     "output_type": "stream",
     "text": [
      "A =  {'o', 'a', 'u', 'e', 'i'}\n",
      "B =  {'b', 'a', 'd', 'c', 'r'}\n"
     ]
    }
   ],
   "source": [
    "#Conjuntos por comprensión\n",
    "conj_a = {c for c in \"aeiou\"}\n",
    "conj_b = {c for c in \"abracadabra\"}\n",
    "print(\"A = \", conj_a)\n",
    "print(\"B = \", conj_b)"
   ]
  },
  {
   "cell_type": "code",
   "execution_count": null,
   "metadata": {
    "ExecuteTime": {
     "end_time": "2022-09-11T12:40:31.287626Z",
     "start_time": "2022-09-11T12:40:31.269622Z"
    },
    "cell_id": "ba1fa4d89e5d44d993a6d4cf6b7a32db",
    "deepnote_cell_height": 251.921875,
    "deepnote_cell_type": "code"
   },
   "outputs": [
    {
     "name": "stdout",
     "output_type": "stream",
     "text": [
      "[0, 1, 2, 3, 4, 5, 6, 7, 8, 9]\n",
      "[0, 1, 4, 9, 16, 25, 36, 49, 64, 81]\n",
      "C =  [0, 1, 4, 9, 16, 25, 36, 49, 64, 81]\n"
     ]
    }
   ],
   "source": [
    "#La notación por comprensión aplica a listas ([exprision for valor in coleccion if condicion])\n",
    "a = range(10)\n",
    "b = [i for i in a]\n",
    "print(b)\n",
    "c=[i**2 for i in b]\n",
    "print(c)\n",
    "print(\"C = \", c)"
   ]
  },
  {
   "cell_type": "markdown",
   "metadata": {
    "cell_id": "78c0574632ca437da3f8679547c3907d",
    "deepnote_cell_height": 323.140625,
    "deepnote_cell_type": "markdown"
   },
   "source": [
    "## Expresión if\n",
    "\n",
    "Las expresiones if nos permiten ejecutar un bloque de instrucciones únicamente si la expresión lógica que hemos puesto devuelve True. (Importante la sangría)\n",
    "\n",
    "    if (EXPRESION_LOGICA):\n",
    "        sentencia_1\n",
    "        sentencia_2\n",
    "        ...\n",
    "        else:\n",
    "        sentencia_1\n",
    "        sentencia_2\n",
    "        ..."
   ]
  },
  {
   "cell_type": "code",
   "execution_count": null,
   "metadata": {
    "ExecuteTime": {
     "end_time": "2022-09-11T12:44:03.203044Z",
     "start_time": "2022-09-11T12:44:03.181041Z"
    },
    "cell_id": "fcd9b6ce55994867bb7ed80ba5d5e2d3",
    "deepnote_cell_height": 114.6875,
    "deepnote_cell_type": "code"
   },
   "outputs": [
    {
     "name": "stdout",
     "output_type": "stream",
     "text": [
      "¡Soy mayor que 5!\n"
     ]
    }
   ],
   "source": [
    "#Ejemplo\n",
    "number=6   \n",
    "if (number > 5):\n",
    "    print(\"¡Soy mayor que 5!\")"
   ]
  },
  {
   "cell_type": "code",
   "execution_count": null,
   "metadata": {
    "ExecuteTime": {
     "end_time": "2022-09-11T12:45:02.396326Z",
     "start_time": "2022-09-11T12:45:02.381326Z"
    },
    "cell_id": "0084f94f2c434924ab790084cb3e615d",
    "deepnote_cell_height": 195.671875,
    "deepnote_cell_type": "code"
   },
   "outputs": [
    {
     "name": "stdout",
     "output_type": "stream",
     "text": [
      "Soy menor o igual que 5\n"
     ]
    }
   ],
   "source": [
    "#Ejemplo\n",
    "number=3 \n",
    "if (number > 5):\n",
    "    print(\"¡Soy mayor que 5!\")\n",
    "else:\n",
    "    print(\"Soy menor o igual que 5\")"
   ]
  },
  {
   "cell_type": "code",
   "execution_count": null,
   "metadata": {
    "ExecuteTime": {
     "end_time": "2022-09-11T12:45:52.858487Z",
     "start_time": "2022-09-11T12:45:52.842489Z"
    },
    "cell_id": "0bdde6e57adb4b46ad0e14978cea90c0",
    "deepnote_cell_height": 231.671875,
    "deepnote_cell_type": "code"
   },
   "outputs": [
    {
     "name": "stdout",
     "output_type": "stream",
     "text": [
      "Soy menor o igual que 5\n"
     ]
    }
   ],
   "source": [
    "#Ejemplo\n",
    "number=3\n",
    "if (number > 5):\n",
    "    print(\"¡Soy mayor que 5!\")\n",
    "elif (number == 5):\n",
    "    print(\"Soy el número 5\")\n",
    "else:\n",
    "    print(\"Soy menor o igual que 5\")"
   ]
  },
  {
   "cell_type": "markdown",
   "metadata": {
    "ExecuteTime": {
     "end_time": "2022-09-04T08:05:16.339072Z",
     "start_time": "2022-09-04T08:05:16.319325Z"
    },
    "cell_id": "e6de77b549e545d3bca4b15a50a6efcb",
    "deepnote_cell_height": 301.421875,
    "deepnote_cell_type": "markdown"
   },
   "source": [
    "## Expresión For\n",
    "\n",
    "Una forma de crear secuencias iterativas es con la instrucción for.\n",
    "\n",
    "    for VARIABLE in OBJETO:\n",
    "        sentencia_1\n",
    "        sentencia_2\n",
    "        ...\n",
    "    else:\n",
    "        sentencia_1\n",
    "        sentencia_2\n",
    "        ..."
   ]
  },
  {
   "cell_type": "code",
   "execution_count": null,
   "metadata": {
    "ExecuteTime": {
     "end_time": "2022-09-11T12:48:00.865047Z",
     "start_time": "2022-09-11T12:48:00.840046Z"
    },
    "cell_id": "785f2230272f464b8a16ee35878e256f",
    "deepnote_cell_height": 310.453125,
    "deepnote_cell_type": "code"
   },
   "outputs": [
    {
     "name": "stdout",
     "output_type": "stream",
     "text": [
      "5\n",
      "4\n",
      "3\n",
      "2\n",
      "1\n",
      "0\n",
      "Ya he acabado!\n"
     ]
    }
   ],
   "source": [
    "#Ejemplo\n",
    "numeros = [5, 4, 3, 2, 1, 0]\n",
    "for numero in numeros:\n",
    "    print(numero)\n",
    "else:\n",
    "    print(\"Ya he acabado!\")"
   ]
  },
  {
   "cell_type": "code",
   "execution_count": null,
   "metadata": {
    "ExecuteTime": {
     "end_time": "2022-09-11T12:49:11.634372Z",
     "start_time": "2022-09-11T12:49:11.621373Z"
    },
    "cell_id": "e3fcd5eff33040ec9c852139d95d38ed",
    "deepnote_cell_height": 96.6875,
    "deepnote_cell_type": "code"
   },
   "outputs": [
    {
     "name": "stdout",
     "output_type": "stream",
     "text": [
      "H\n",
      "o\n",
      "l\n",
      "a\n",
      " \n",
      "m\n",
      "u\n",
      "n\n",
      "d\n",
      "o\n"
     ]
    }
   ],
   "source": [
    "texto = 'Hola mundo'\n",
    "for caracter in texto:\n",
    "    print(caracter)"
   ]
  },
  {
   "cell_type": "code",
   "execution_count": null,
   "metadata": {
    "ExecuteTime": {
     "end_time": "2022-09-11T12:49:41.865980Z",
     "start_time": "2022-09-11T12:49:41.846975Z"
    },
    "cell_id": "5dc9697c760b4dfd912f91f46a70ae42",
    "deepnote_cell_height": 96.6875,
    "deepnote_cell_type": "code"
   },
   "outputs": [
    {
     "name": "stdout",
     "output_type": "stream",
     "text": [
      "texto\n",
      "5\n",
      "(23, 56)\n"
     ]
    }
   ],
   "source": [
    "lista = ['texto', 5, (23, 56)]\n",
    "for elemento in lista:\n",
    "    print(elemento)"
   ]
  },
  {
   "cell_type": "code",
   "execution_count": null,
   "metadata": {
    "ExecuteTime": {
     "end_time": "2022-09-11T12:49:55.952678Z",
     "start_time": "2022-09-11T12:49:55.945674Z"
    },
    "cell_id": "13523e7c5c1b4eb28e1a9019611489c8",
    "deepnote_cell_type": "code"
   },
   "outputs": [
    {
     "name": "stdout",
     "output_type": "stream",
     "text": [
      "H\n",
      "o\n",
      "l\n",
      "a\n",
      " \n",
      "m\n",
      "u\n",
      "n\n",
      "d\n",
      "o\n"
     ]
    }
   ],
   "source": [
    "cadena = 'Hola mundo'\n",
    "for i in range(0, len(cadena)):\n",
    "    print(cadena[i])"
   ]
  },
  {
   "cell_type": "code",
   "execution_count": null,
   "metadata": {
    "ExecuteTime": {
     "end_time": "2022-09-11T12:51:06.136119Z",
     "start_time": "2022-09-11T12:51:06.116079Z"
    },
    "cell_id": "585c34021bdc4fadbe0580b84ac8571b",
    "deepnote_cell_type": "code"
   },
   "outputs": [
    {
     "name": "stdout",
     "output_type": "stream",
     "text": [
      "0\n",
      "1\n",
      "2\n",
      "3\n",
      "4\n",
      "Rompemos el bucle!\n"
     ]
    }
   ],
   "source": [
    "numeros = list(range(10))\n",
    "for n in numeros:\n",
    "    if (n == 5):\n",
    "        print('Rompemos el bucle!')\n",
    "        break\n",
    "    print(n)"
   ]
  },
  {
   "cell_type": "markdown",
   "metadata": {
    "cell_id": "45a85081f9864c788c8ae028ed6ef11f",
    "deepnote_cell_type": "markdown"
   },
   "source": [
    "## Funciones\n",
    "\n",
    "Una función es un bloque de código organizado y reutilizable que se utiliza para realizar una tarea específica o un grupo de tareas relacionadas. A una función se le pide de entrada valores conocidos como parámetros o argumentos y devuelve,  en la mayoría de casos, objetos o valores como resultado.\n",
    "\n",
    "Las funciones se declaran con la palabra clave `def` y devuelven valores con la palabra clave `return` (veámoslo con un ejemplo):\n",
    "\n",
    "````python\n",
    "def mi_funcion(x, y, z): \n",
    "    # Multiplica/divide z por la suma de x e y en función del valor de z\n",
    "    if z > 1:\n",
    "        return z * (x + y) \n",
    "    else:\n",
    "        return z / (x + y)\n",
    "````"
   ]
  },
  {
   "cell_type": "code",
   "execution_count": null,
   "metadata": {
    "ExecuteTime": {
     "end_time": "2022-09-11T12:55:38.436658Z",
     "start_time": "2022-09-11T12:55:38.421619Z"
    },
    "cell_id": "34fdb715756e4bc6b194e3ef26c68fae",
    "deepnote_cell_type": "code"
   },
   "outputs": [],
   "source": [
    "def mi_funcion(x, y, z): \n",
    "    # Multiplica/divide z por la suma de x e y en función del valor de z\n",
    "    if z > 1:\n",
    "        return z * (x + y) \n",
    "    else:\n",
    "        return z / (x + y)"
   ]
  },
  {
   "cell_type": "code",
   "execution_count": null,
   "metadata": {
    "ExecuteTime": {
     "end_time": "2022-09-11T12:56:20.409554Z",
     "start_time": "2022-09-11T12:56:20.388548Z"
    },
    "cell_id": "4b16dca31e514222af20921b5d12f945",
    "deepnote_cell_type": "code"
   },
   "outputs": [
    {
     "data": {
      "text/plain": [
       "6"
      ]
     },
     "execution_count": 99,
     "metadata": {},
     "output_type": "execute_result"
    }
   ],
   "source": [
    "#Llamar la función\n",
    "mi_funcion(1, 2, 2)"
   ]
  },
  {
   "cell_type": "code",
   "execution_count": null,
   "metadata": {
    "ExecuteTime": {
     "end_time": "2022-09-11T12:57:46.990856Z",
     "start_time": "2022-09-11T12:57:46.974860Z"
    },
    "cell_id": "bb217b3fa5e1416e9ce9e8c42615fc77",
    "deepnote_cell_type": "code"
   },
   "outputs": [
    {
     "data": {
      "text/plain": [
       "(14.0, 4.5, -2.0)"
      ]
     },
     "execution_count": 100,
     "metadata": {},
     "output_type": "execute_result"
    }
   ],
   "source": [
    "def media(x, y):\n",
    "    return (x + y) / 2\n",
    "\n",
    "media(3,25), media(3.4,5.6), media(-1,-3)"
   ]
  },
  {
   "cell_type": "code",
   "execution_count": null,
   "metadata": {
    "ExecuteTime": {
     "end_time": "2022-09-11T12:59:29.015050Z",
     "start_time": "2022-09-11T12:59:28.992048Z"
    },
    "cell_id": "4d0e73046396465b9f08df8101ce2f87",
    "deepnote_cell_type": "code"
   },
   "outputs": [
    {
     "data": {
      "text/plain": [
       "5.075"
      ]
     },
     "execution_count": 101,
     "metadata": {},
     "output_type": "execute_result"
    }
   ],
   "source": [
    "def media_4(a1, a2, a3, a4):\n",
    "    s = 0.0\n",
    "    s = s + a1\n",
    "    s = s + a2\n",
    "    s = s + a3\n",
    "    s = s + a4\n",
    "    return s / 4\n",
    "\n",
    "media_4(1.5, 9.1, 3.0, 6.7)"
   ]
  },
  {
   "cell_type": "code",
   "execution_count": null,
   "metadata": {
    "ExecuteTime": {
     "end_time": "2022-09-11T13:02:06.286084Z",
     "start_time": "2022-09-11T13:02:06.255085Z"
    },
    "cell_id": "349391f864fd4e48a825e70f9a79b7cf",
    "deepnote_cell_type": "code"
   },
   "outputs": [
    {
     "data": {
      "text/plain": [
       "('Sobresaliente', 'Perdió', 'Perdió', 'Perdió', 'Notable', 'Aprobó')"
      ]
     },
     "execution_count": 102,
     "metadata": {},
     "output_type": "execute_result"
    }
   ],
   "source": [
    "def calificacion(num_nota):\n",
    "    \"\"\"\n",
    "    Converierte una calificación numérica en su denominación\n",
    "    \n",
    "    Parameters\n",
    "    ----------\n",
    "    num_nota : float\n",
    "        la nota numérica\n",
    "    \n",
    "    Returns\n",
    "    -------\n",
    "    str \n",
    "        la denominación de la calificación: Perdió, Aprobó, Notable, Sobresaliente\n",
    "        \n",
    "    Precondition\n",
    "    ------------\n",
    "    num_nota >= 0 and num_nota <= 10\n",
    "    \"\"\"\n",
    "    if num_nota < 5:\n",
    "        return \"Perdió\"\n",
    "    elif num_nota < 7:\n",
    "        return \"Aprobó\"\n",
    "    elif num_nota < 9:\n",
    "        return \"Notable\"\n",
    "    else:\n",
    "        return \"Sobresaliente\"\n",
    "    \n",
    "calificacion(10), calificacion(1.23), calificacion(3.45), calificacion(4.999), calificacion(7), calificacion(5)"
   ]
  },
  {
   "cell_type": "code",
   "execution_count": null,
   "metadata": {
    "ExecuteTime": {
     "end_time": "2022-09-11T13:02:49.314716Z",
     "start_time": "2022-09-11T13:02:49.292712Z"
    },
    "cell_id": "35037c51740840a08a75da5c6cc4bc5c",
    "deepnote_cell_type": "code"
   },
   "outputs": [
    {
     "name": "stdout",
     "output_type": "stream",
     "text": [
      "(1.0, 1.0)\n",
      "(1.0, 2.0)\n"
     ]
    }
   ],
   "source": [
    "def resuelve_sistema_lineal(a, b, c, d, e, f):\n",
    "    \"\"\"\n",
    "    Resuelve el sistema de ecuaciones lineales siguiente:\n",
    "         a*x + b*y = e\n",
    "         c*x + d*y = f\n",
    "    \n",
    "    Parameters\n",
    "    ----------\n",
    "    a, b, c, d, e, f : float\n",
    "        Coeficientes de las ecuaciones\n",
    "    \n",
    "    Returns\n",
    "    -------\n",
    "    (float, float)\n",
    "        Par de valores (x, y) que verifican ese sistema de ecuaciones\n",
    "    \n",
    "    Precondition\n",
    "    ------------\n",
    "      a*d - b*c != 0\n",
    "    \"\"\"\n",
    "    if a == 0:\n",
    "        y = e / b\n",
    "        x = (f - d*y) / c\n",
    "    else:\n",
    "        y = (a*f - c*e)/(a*d - c*b)\n",
    "        x = (e - b*y) / a \n",
    "    return x, y\n",
    "\n",
    "print(resuelve_sistema_lineal(1.0, 1.0, 0.0, 1.0, 2.0, 1.0))\n",
    "print(resuelve_sistema_lineal(7.0, 2.0, 5.0, -1.0, 11.0, 3.0))"
   ]
  },
  {
   "cell_type": "code",
   "execution_count": null,
   "metadata": {
    "ExecuteTime": {
     "end_time": "2022-09-04T08:51:33.456202Z",
     "start_time": "2022-09-04T08:51:33.443202Z"
    },
    "cell_id": "fec73a5f253d4a5781a20beb88a03bdc",
    "deepnote_cell_type": "code"
   },
   "outputs": [],
   "source": [
    "def max_min(x, y):\n",
    "    if x < y :\n",
    "        max = y\n",
    "        min = x\n",
    "    else:\n",
    "        max = x\n",
    "        min = y\n",
    "    return max, min\n",
    "\n",
    "print(max_min(2, 3), max_min(3, 2))"
   ]
  },
  {
   "cell_type": "markdown",
   "metadata": {
    "cell_id": "d232b2975ffc441fafddc181eb3d5064",
    "deepnote_cell_type": "markdown"
   },
   "source": [
    "### Documentación de funciones\n",
    "\n",
    "Una de la tareas más importantes en el trabajo con datos es la **documentación**, lo que debe hacerse también en el caso de las funciones. \n",
    "Debemos indicar lo que hace la función, los tipos y restricciones que deben tener los parámetros de entrada, y los valores devueltos.\n",
    "\n",
    "Para esto se sugiere seguir la suigiente esttructura:\n",
    "\n",
    ">```` \n",
    "def function(Parámetros)\n",
    "     '''\n",
    "     Descripción de lo que hace la función\n",
    "     Parameters\n",
    "     ----------\n",
    "     Parámetros 1: tipo\n",
    "                   Decripción\n",
    "     Parámetros 2: tipo\n",
    "                   Decripción\n",
    "     ...\n",
    "     Return\n",
    "     ------\n",
    "     Tipo\n",
    "         Desripción     \n",
    "     Precondiciones (o restricciones)\n",
    "     --------------\n",
    "     Desripción    \n",
    "     Example\n",
    "     -------\n",
    "     '>>>function(Parámetros)\n",
    "     Result\n",
    "     '''\n",
    "     Construcción de la función\n",
    "     return resultados(s))\n",
    "\n",
    "Ejemplo:            \n"
   ]
  },
  {
   "cell_type": "code",
   "execution_count": null,
   "metadata": {
    "ExecuteTime": {
     "end_time": "2022-09-11T13:06:29.941792Z",
     "start_time": "2022-09-11T13:06:29.912797Z"
    },
    "cell_id": "4209ecc67e14480ab068e091d2b9ddf2",
    "deepnote_cell_type": "code"
   },
   "outputs": [
    {
     "name": "stdout",
     "output_type": "stream",
     "text": [
      "6\n",
      "Help on function sum_n_naturales in module __main__:\n",
      "\n",
      "sum_n_naturales(n)\n",
      "    Esta función suma los primeros n números naturales\n",
      "    Parameters\n",
      "    ----------\n",
      "    n : int\n",
      "    Corresponde al número natural n al que le debemos calcular la suma\n",
      "    \n",
      "    Return\n",
      "    ------\n",
      "    int\n",
      "    devuelve la suma de los primeros n números naturales\n",
      "    \n",
      "    Precondition\n",
      "    ------------\n",
      "    n > 0\n",
      "    Example\n",
      "    -------\n",
      "    >>>sum_n_naturales(3)\n",
      "    6\n",
      "\n"
     ]
    }
   ],
   "source": [
    "def sum_n_naturales(n):\n",
    "    \"\"\"\n",
    "    Esta función suma los primeros n números naturales\n",
    "    Parameters\n",
    "    ----------\n",
    "    n : int\n",
    "    Corresponde al número natural n al que le debemos calcular la suma\n",
    "    \n",
    "    Return\n",
    "    ------\n",
    "    int\n",
    "    devuelve la suma de los primeros n números naturales\n",
    "    \n",
    "    Precondition\n",
    "    ------------\n",
    "    n > 0\n",
    "    Example\n",
    "    -------\n",
    "    >>>sum_n_naturales(3)\n",
    "    6\n",
    "    \"\"\"\n",
    "    ntriag = (n * (n +1)) // 2\n",
    "    return ntriag\n",
    "\n",
    "print(sum_n_naturales(3))\n",
    "help(sum_n_naturales)"
   ]
  },
  {
   "cell_type": "markdown",
   "metadata": {
    "cell_id": "7fef56a47ac94a82988ed2851753ee87",
    "deepnote_cell_type": "markdown"
   },
   "source": [
    "## Ejercicios\n",
    "\n",
    "\n",
    "1. Construir una función documentada que calcule el factorial de un número.\n",
    "2. Construya una función que calcule la función básica de probabilidad de una distribución uniforme discreta entre 0 y 9.\n",
    "3. Construya una función que calcule la función acumulada de probabilidad de una distribución uniforme discreta entre 0 y 9 para cualquier número.\n",
    "4. Construya una función que devuelva, la media, el máximo, el mínimo y la suma de una lista de números. (Puede usar las funciones min(), max(), sum(), import numpy as np y usar std() o mean()) \n",
    "5. Un país tiene monedas de 1 U, 5 U y 25 U. Si tenemos una cierta cantidad de dinero en una variable, diseña una función para dar el cambio óptimo en las monedas descritas. (Ejemplo: Dinero=537, 21 monedas de 25, 2 monedas de 5 y una moneda de 1) \n",
    "6. En un Jupyter notebook incluir la explicación de una temática (muy corta) que contenga: Encabezados a diferentes niveles, imágenes, refrencias, pies de página, tablas, latex, cuadros explicativos, celdas `code` y tabla de contenido.\n",
    "\n"
   ]
  },
  {
   "cell_type": "markdown",
   "metadata": {
    "cell_id": "57591939e08c4f10b6992743c298018e",
    "deepnote_cell_type": "markdown"
   },
   "source": [
    "# References\n",
    "\n",
    "<a name=\"cite-PER-GRA:2007\"/><sup>[^](#ref-2) </sup>P&eacute;rez, Fernando and Granger, Brian E.. 2007. _IPython: a System for Interactive Scientific Computing_. [URL](http://ipython.org)\n",
    "\n",
    "<a name=\"cite-calicoww2:2\"/><sup>[^](#ref-3) </sup>Kepps, Milo . 2002. _Rebuilding Calico After Japanese Occupation_.\n",
    "\n"
   ]
  }
 ],
 "metadata": {
  "deepnote_execution_queue": [],
  "deepnote_notebook_id": "c23baf2cbc5a40579db3846f717bee1d",
  "kernelspec": {
   "display_name": "Python 3 (ipykernel)",
   "language": "python",
   "name": "python3"
  },
  "language_info": {
   "codemirror_mode": {
    "name": "ipython",
    "version": 3
   },
   "file_extension": ".py",
   "mimetype": "text/x-python",
   "name": "python",
   "nbconvert_exporter": "python",
   "pygments_lexer": "ipython3",
   "version": "3.8.10"
  }
 },
 "nbformat": 4,
 "nbformat_minor": 4
}
